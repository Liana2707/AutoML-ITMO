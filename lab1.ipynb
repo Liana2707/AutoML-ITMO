{
  "cells": [
    {
      "cell_type": "markdown",
      "id": "2f18a5db-39f3-4e39-a407-3a8e62c725ce",
      "metadata": {
        "id": "2f18a5db-39f3-4e39-a407-3a8e62c725ce"
      },
      "source": [
        "# Классификация заемщиков \n",
        "\n",
        "## Студент: Нафикова Лиана"
      ]
    },
    {
      "cell_type": "markdown",
      "id": "a478d78f",
      "metadata": {},
      "source": [
        "1. Выбор данных и метрики\n",
        "\n",
        "    ○ Выберите набор данных для задачи классификации.\n",
        "    Эксперименты будем проводить на [датасете](https://www.kaggle.com/competitions/home-credit-default-risk/overview) по классификации заемщиков на плохих (target = 1: клиент с \"payment difficulties\") и хороших (target = 0: все остальные). Для экспериментов будем использовать лишь основной файл `application_train.csv`, а также перекодируем таргет в метки -1, 1.\n",
        "    \n",
        "    ○ Обоснуйте выбор целевой функции.\n",
        "    Так как в данных нет сильного дисбаланса(люди делают всё-таки заказы достаточно часто), была выбрана эта метрика + она не зависит от выбранного порога + довольно интерпретируемая.\n"
      ]
    },
    {
      "cell_type": "markdown",
      "id": "23772781",
      "metadata": {},
      "source": [
        "2. Алгоритмы и пространство гиперпараметров\n",
        "○ Выберите не менее двух алгоритмов обучения с учителем (например, KNN,\n",
        "Random Forest, XGBoost):\n",
        "\n",
        "Выбрала логистическую регрессию и LightGBM\n",
        "\n",
        "○ Опишите гиперпараметры и границы поиска.\n",
        "\n",
        "Для логистической регрессии перебираем солверы, коэффициент регуляризации и число итераций\n",
        "\n",
        "'solver': ['newton-cg', 'lbfgs', 'liblinear', 'sag', 'saga']\n",
        "\n",
        "'C' : 1e-4 - 1e2\n",
        "\n",
        "'max_iter': 50 - 1000\n",
        "\n",
        "Для бустинга максимальное число в листе, learning rate, глубину дерева\n",
        "\n",
        "'max_leaves': 16, 256\n",
        "\n",
        "'eta', 0.01, 0.1\n",
        "\n",
        "'max_depth': 4 - 8\n",
        "\n",
        "\"n_estimators\":  50, 1000"
      ]
    },
    {
      "cell_type": "markdown",
      "id": "aa2759aa",
      "metadata": {},
      "source": [
        "3. Оптимизация\n",
        "\n",
        "    ○ Запустите процесс настройки гиперпараметров с помощью одной из\n",
        "библиотек Optuna или Hyperopt.\n",
        "\n",
        "    ○ Визуализируйте зависимость целевой функции от числа итераций.\n",
        "\n",
        "\n",
        "    ○ Сравните результаты со случайным поиском.\n",
        "\n",
        "    ○ Сравните с одним из инструментов для выбора алгоритма и оптимизации\n",
        "гиперпараметров (например, auto-sklearn, AutoGluon, TPOT, LightAutoML,\n",
        "FEDOT или иным)."
      ]
    },
    {
      "cell_type": "code",
      "execution_count": null,
      "id": "d7047f2a",
      "metadata": {},
      "outputs": [],
      "source": [
        "!pip install optuna"
      ]
    },
    {
      "cell_type": "code",
      "execution_count": 3,
      "id": "678f7cc2",
      "metadata": {
        "id": "678f7cc2"
      },
      "outputs": [
        {
          "name": "stderr",
          "output_type": "stream",
          "text": [
            "c:\\Users\\Лиана\\OneDrive\\Desktop\\ITMO\\AutoML-ITMO\\.venv\\Lib\\site-packages\\tqdm\\auto.py:21: TqdmWarning: IProgress not found. Please update jupyter and ipywidgets. See https://ipywidgets.readthedocs.io/en/stable/user_install.html\n",
            "  from .autonotebook import tqdm as notebook_tqdm\n"
          ]
        }
      ],
      "source": [
        "import time\n",
        "from functools import partial\n",
        "\n",
        "import numpy as np\n",
        "np.random.seed(42)\n",
        "\n",
        "import pandas as pd\n",
        "pd.options.display.max_columns = 100\n",
        "pd.options.display.max_rows = 150\n",
        "\n",
        "from scipy.special import expit\n",
        "\n",
        "from sklearn.linear_model import LogisticRegression\n",
        "from sklearn.preprocessing import StandardScaler\n",
        "from sklearn.impute import SimpleImputer\n",
        "from sklearn.pipeline import make_pipeline\n",
        "from sklearn.metrics import roc_auc_score\n",
        "\n",
        "import optuna"
      ]
    },
    {
      "cell_type": "markdown",
      "id": "b9db50fc",
      "metadata": {},
      "source": [
        "### Подготовка данных"
      ]
    },
    {
      "cell_type": "code",
      "execution_count": 4,
      "id": "033d5b6c",
      "metadata": {
        "id": "033d5b6c",
        "outputId": "a29d0a67-b1be-45d1-f22d-9984361965be"
      },
      "outputs": [
        {
          "data": {
            "text/html": [
              "<div>\n",
              "<style scoped>\n",
              "    .dataframe tbody tr th:only-of-type {\n",
              "        vertical-align: middle;\n",
              "    }\n",
              "\n",
              "    .dataframe tbody tr th {\n",
              "        vertical-align: top;\n",
              "    }\n",
              "\n",
              "    .dataframe thead th {\n",
              "        text-align: right;\n",
              "    }\n",
              "</style>\n",
              "<table border=\"1\" class=\"dataframe\">\n",
              "  <thead>\n",
              "    <tr style=\"text-align: right;\">\n",
              "      <th></th>\n",
              "      <th>sk_id_curr</th>\n",
              "      <th>target</th>\n",
              "      <th>name_contract_type</th>\n",
              "      <th>code_gender</th>\n",
              "      <th>flag_own_car</th>\n",
              "      <th>flag_own_realty</th>\n",
              "      <th>cnt_children</th>\n",
              "      <th>amt_income_total</th>\n",
              "      <th>amt_credit</th>\n",
              "      <th>amt_annuity</th>\n",
              "      <th>amt_goods_price</th>\n",
              "      <th>name_type_suite</th>\n",
              "      <th>name_income_type</th>\n",
              "      <th>name_education_type</th>\n",
              "      <th>name_family_status</th>\n",
              "      <th>name_housing_type</th>\n",
              "      <th>region_population_relative</th>\n",
              "      <th>days_birth</th>\n",
              "      <th>days_employed</th>\n",
              "      <th>days_registration</th>\n",
              "      <th>days_id_publish</th>\n",
              "      <th>own_car_age</th>\n",
              "      <th>flag_mobil</th>\n",
              "      <th>flag_emp_phone</th>\n",
              "      <th>flag_work_phone</th>\n",
              "      <th>flag_cont_mobile</th>\n",
              "      <th>flag_phone</th>\n",
              "      <th>flag_email</th>\n",
              "      <th>occupation_type</th>\n",
              "      <th>cnt_fam_members</th>\n",
              "      <th>region_rating_client</th>\n",
              "      <th>region_rating_client_w_city</th>\n",
              "      <th>weekday_appr_process_start</th>\n",
              "      <th>hour_appr_process_start</th>\n",
              "      <th>reg_region_not_live_region</th>\n",
              "      <th>reg_region_not_work_region</th>\n",
              "      <th>live_region_not_work_region</th>\n",
              "      <th>reg_city_not_live_city</th>\n",
              "      <th>reg_city_not_work_city</th>\n",
              "      <th>live_city_not_work_city</th>\n",
              "      <th>organization_type</th>\n",
              "      <th>ext_source_1</th>\n",
              "      <th>ext_source_2</th>\n",
              "      <th>ext_source_3</th>\n",
              "      <th>apartments_avg</th>\n",
              "      <th>basementarea_avg</th>\n",
              "      <th>years_beginexpluatation_avg</th>\n",
              "      <th>years_build_avg</th>\n",
              "      <th>commonarea_avg</th>\n",
              "      <th>elevators_avg</th>\n",
              "      <th>...</th>\n",
              "      <th>apartments_medi</th>\n",
              "      <th>basementarea_medi</th>\n",
              "      <th>years_beginexpluatation_medi</th>\n",
              "      <th>years_build_medi</th>\n",
              "      <th>commonarea_medi</th>\n",
              "      <th>elevators_medi</th>\n",
              "      <th>entrances_medi</th>\n",
              "      <th>floorsmax_medi</th>\n",
              "      <th>floorsmin_medi</th>\n",
              "      <th>landarea_medi</th>\n",
              "      <th>livingapartments_medi</th>\n",
              "      <th>livingarea_medi</th>\n",
              "      <th>nonlivingapartments_medi</th>\n",
              "      <th>nonlivingarea_medi</th>\n",
              "      <th>fondkapremont_mode</th>\n",
              "      <th>housetype_mode</th>\n",
              "      <th>totalarea_mode</th>\n",
              "      <th>wallsmaterial_mode</th>\n",
              "      <th>emergencystate_mode</th>\n",
              "      <th>obs_30_cnt_social_circle</th>\n",
              "      <th>def_30_cnt_social_circle</th>\n",
              "      <th>obs_60_cnt_social_circle</th>\n",
              "      <th>def_60_cnt_social_circle</th>\n",
              "      <th>days_last_phone_change</th>\n",
              "      <th>flag_document_2</th>\n",
              "      <th>flag_document_3</th>\n",
              "      <th>flag_document_4</th>\n",
              "      <th>flag_document_5</th>\n",
              "      <th>flag_document_6</th>\n",
              "      <th>flag_document_7</th>\n",
              "      <th>flag_document_8</th>\n",
              "      <th>flag_document_9</th>\n",
              "      <th>flag_document_10</th>\n",
              "      <th>flag_document_11</th>\n",
              "      <th>flag_document_12</th>\n",
              "      <th>flag_document_13</th>\n",
              "      <th>flag_document_14</th>\n",
              "      <th>flag_document_15</th>\n",
              "      <th>flag_document_16</th>\n",
              "      <th>flag_document_17</th>\n",
              "      <th>flag_document_18</th>\n",
              "      <th>flag_document_19</th>\n",
              "      <th>flag_document_20</th>\n",
              "      <th>flag_document_21</th>\n",
              "      <th>amt_req_credit_bureau_hour</th>\n",
              "      <th>amt_req_credit_bureau_day</th>\n",
              "      <th>amt_req_credit_bureau_week</th>\n",
              "      <th>amt_req_credit_bureau_mon</th>\n",
              "      <th>amt_req_credit_bureau_qrt</th>\n",
              "      <th>amt_req_credit_bureau_year</th>\n",
              "    </tr>\n",
              "  </thead>\n",
              "  <tbody>\n",
              "    <tr>\n",
              "      <th>0</th>\n",
              "      <td>100002</td>\n",
              "      <td>1</td>\n",
              "      <td>Cash loans</td>\n",
              "      <td>M</td>\n",
              "      <td>N</td>\n",
              "      <td>Y</td>\n",
              "      <td>0</td>\n",
              "      <td>202500.0</td>\n",
              "      <td>406597.5</td>\n",
              "      <td>24700.5</td>\n",
              "      <td>351000.0</td>\n",
              "      <td>Unaccompanied</td>\n",
              "      <td>Working</td>\n",
              "      <td>Secondary / secondary special</td>\n",
              "      <td>Single / not married</td>\n",
              "      <td>House / apartment</td>\n",
              "      <td>0.018801</td>\n",
              "      <td>-9461</td>\n",
              "      <td>-637</td>\n",
              "      <td>-3648.0</td>\n",
              "      <td>-2120</td>\n",
              "      <td>NaN</td>\n",
              "      <td>1</td>\n",
              "      <td>1</td>\n",
              "      <td>0</td>\n",
              "      <td>1</td>\n",
              "      <td>1</td>\n",
              "      <td>0</td>\n",
              "      <td>Laborers</td>\n",
              "      <td>1.0</td>\n",
              "      <td>2</td>\n",
              "      <td>2</td>\n",
              "      <td>WEDNESDAY</td>\n",
              "      <td>10</td>\n",
              "      <td>0</td>\n",
              "      <td>0</td>\n",
              "      <td>0</td>\n",
              "      <td>0</td>\n",
              "      <td>0</td>\n",
              "      <td>0</td>\n",
              "      <td>Business Entity Type 3</td>\n",
              "      <td>0.083037</td>\n",
              "      <td>0.262949</td>\n",
              "      <td>0.139376</td>\n",
              "      <td>0.0247</td>\n",
              "      <td>0.0369</td>\n",
              "      <td>0.9722</td>\n",
              "      <td>0.6192</td>\n",
              "      <td>0.0143</td>\n",
              "      <td>0.00</td>\n",
              "      <td>...</td>\n",
              "      <td>0.0250</td>\n",
              "      <td>0.0369</td>\n",
              "      <td>0.9722</td>\n",
              "      <td>0.6243</td>\n",
              "      <td>0.0144</td>\n",
              "      <td>0.00</td>\n",
              "      <td>0.0690</td>\n",
              "      <td>0.0833</td>\n",
              "      <td>0.1250</td>\n",
              "      <td>0.0375</td>\n",
              "      <td>0.0205</td>\n",
              "      <td>0.0193</td>\n",
              "      <td>0.0000</td>\n",
              "      <td>0.00</td>\n",
              "      <td>reg oper account</td>\n",
              "      <td>block of flats</td>\n",
              "      <td>0.0149</td>\n",
              "      <td>Stone, brick</td>\n",
              "      <td>No</td>\n",
              "      <td>2.0</td>\n",
              "      <td>2.0</td>\n",
              "      <td>2.0</td>\n",
              "      <td>2.0</td>\n",
              "      <td>-1134.0</td>\n",
              "      <td>0</td>\n",
              "      <td>1</td>\n",
              "      <td>0</td>\n",
              "      <td>0</td>\n",
              "      <td>0</td>\n",
              "      <td>0</td>\n",
              "      <td>0</td>\n",
              "      <td>0</td>\n",
              "      <td>0</td>\n",
              "      <td>0</td>\n",
              "      <td>0</td>\n",
              "      <td>0</td>\n",
              "      <td>0</td>\n",
              "      <td>0</td>\n",
              "      <td>0</td>\n",
              "      <td>0</td>\n",
              "      <td>0</td>\n",
              "      <td>0</td>\n",
              "      <td>0</td>\n",
              "      <td>0</td>\n",
              "      <td>0.0</td>\n",
              "      <td>0.0</td>\n",
              "      <td>0.0</td>\n",
              "      <td>0.0</td>\n",
              "      <td>0.0</td>\n",
              "      <td>1.0</td>\n",
              "    </tr>\n",
              "    <tr>\n",
              "      <th>1</th>\n",
              "      <td>100003</td>\n",
              "      <td>-1</td>\n",
              "      <td>Cash loans</td>\n",
              "      <td>F</td>\n",
              "      <td>N</td>\n",
              "      <td>N</td>\n",
              "      <td>0</td>\n",
              "      <td>270000.0</td>\n",
              "      <td>1293502.5</td>\n",
              "      <td>35698.5</td>\n",
              "      <td>1129500.0</td>\n",
              "      <td>Family</td>\n",
              "      <td>State servant</td>\n",
              "      <td>Higher education</td>\n",
              "      <td>Married</td>\n",
              "      <td>House / apartment</td>\n",
              "      <td>0.003541</td>\n",
              "      <td>-16765</td>\n",
              "      <td>-1188</td>\n",
              "      <td>-1186.0</td>\n",
              "      <td>-291</td>\n",
              "      <td>NaN</td>\n",
              "      <td>1</td>\n",
              "      <td>1</td>\n",
              "      <td>0</td>\n",
              "      <td>1</td>\n",
              "      <td>1</td>\n",
              "      <td>0</td>\n",
              "      <td>Core staff</td>\n",
              "      <td>2.0</td>\n",
              "      <td>1</td>\n",
              "      <td>1</td>\n",
              "      <td>MONDAY</td>\n",
              "      <td>11</td>\n",
              "      <td>0</td>\n",
              "      <td>0</td>\n",
              "      <td>0</td>\n",
              "      <td>0</td>\n",
              "      <td>0</td>\n",
              "      <td>0</td>\n",
              "      <td>School</td>\n",
              "      <td>0.311267</td>\n",
              "      <td>0.622246</td>\n",
              "      <td>NaN</td>\n",
              "      <td>0.0959</td>\n",
              "      <td>0.0529</td>\n",
              "      <td>0.9851</td>\n",
              "      <td>0.7960</td>\n",
              "      <td>0.0605</td>\n",
              "      <td>0.08</td>\n",
              "      <td>...</td>\n",
              "      <td>0.0968</td>\n",
              "      <td>0.0529</td>\n",
              "      <td>0.9851</td>\n",
              "      <td>0.7987</td>\n",
              "      <td>0.0608</td>\n",
              "      <td>0.08</td>\n",
              "      <td>0.0345</td>\n",
              "      <td>0.2917</td>\n",
              "      <td>0.3333</td>\n",
              "      <td>0.0132</td>\n",
              "      <td>0.0787</td>\n",
              "      <td>0.0558</td>\n",
              "      <td>0.0039</td>\n",
              "      <td>0.01</td>\n",
              "      <td>reg oper account</td>\n",
              "      <td>block of flats</td>\n",
              "      <td>0.0714</td>\n",
              "      <td>Block</td>\n",
              "      <td>No</td>\n",
              "      <td>1.0</td>\n",
              "      <td>0.0</td>\n",
              "      <td>1.0</td>\n",
              "      <td>0.0</td>\n",
              "      <td>-828.0</td>\n",
              "      <td>0</td>\n",
              "      <td>1</td>\n",
              "      <td>0</td>\n",
              "      <td>0</td>\n",
              "      <td>0</td>\n",
              "      <td>0</td>\n",
              "      <td>0</td>\n",
              "      <td>0</td>\n",
              "      <td>0</td>\n",
              "      <td>0</td>\n",
              "      <td>0</td>\n",
              "      <td>0</td>\n",
              "      <td>0</td>\n",
              "      <td>0</td>\n",
              "      <td>0</td>\n",
              "      <td>0</td>\n",
              "      <td>0</td>\n",
              "      <td>0</td>\n",
              "      <td>0</td>\n",
              "      <td>0</td>\n",
              "      <td>0.0</td>\n",
              "      <td>0.0</td>\n",
              "      <td>0.0</td>\n",
              "      <td>0.0</td>\n",
              "      <td>0.0</td>\n",
              "      <td>0.0</td>\n",
              "    </tr>\n",
              "    <tr>\n",
              "      <th>2</th>\n",
              "      <td>100004</td>\n",
              "      <td>-1</td>\n",
              "      <td>Revolving loans</td>\n",
              "      <td>M</td>\n",
              "      <td>Y</td>\n",
              "      <td>Y</td>\n",
              "      <td>0</td>\n",
              "      <td>67500.0</td>\n",
              "      <td>135000.0</td>\n",
              "      <td>6750.0</td>\n",
              "      <td>135000.0</td>\n",
              "      <td>Unaccompanied</td>\n",
              "      <td>Working</td>\n",
              "      <td>Secondary / secondary special</td>\n",
              "      <td>Single / not married</td>\n",
              "      <td>House / apartment</td>\n",
              "      <td>0.010032</td>\n",
              "      <td>-19046</td>\n",
              "      <td>-225</td>\n",
              "      <td>-4260.0</td>\n",
              "      <td>-2531</td>\n",
              "      <td>26.0</td>\n",
              "      <td>1</td>\n",
              "      <td>1</td>\n",
              "      <td>1</td>\n",
              "      <td>1</td>\n",
              "      <td>1</td>\n",
              "      <td>0</td>\n",
              "      <td>Laborers</td>\n",
              "      <td>1.0</td>\n",
              "      <td>2</td>\n",
              "      <td>2</td>\n",
              "      <td>MONDAY</td>\n",
              "      <td>9</td>\n",
              "      <td>0</td>\n",
              "      <td>0</td>\n",
              "      <td>0</td>\n",
              "      <td>0</td>\n",
              "      <td>0</td>\n",
              "      <td>0</td>\n",
              "      <td>Government</td>\n",
              "      <td>NaN</td>\n",
              "      <td>0.555912</td>\n",
              "      <td>0.729567</td>\n",
              "      <td>NaN</td>\n",
              "      <td>NaN</td>\n",
              "      <td>NaN</td>\n",
              "      <td>NaN</td>\n",
              "      <td>NaN</td>\n",
              "      <td>NaN</td>\n",
              "      <td>...</td>\n",
              "      <td>NaN</td>\n",
              "      <td>NaN</td>\n",
              "      <td>NaN</td>\n",
              "      <td>NaN</td>\n",
              "      <td>NaN</td>\n",
              "      <td>NaN</td>\n",
              "      <td>NaN</td>\n",
              "      <td>NaN</td>\n",
              "      <td>NaN</td>\n",
              "      <td>NaN</td>\n",
              "      <td>NaN</td>\n",
              "      <td>NaN</td>\n",
              "      <td>NaN</td>\n",
              "      <td>NaN</td>\n",
              "      <td>NaN</td>\n",
              "      <td>NaN</td>\n",
              "      <td>NaN</td>\n",
              "      <td>NaN</td>\n",
              "      <td>NaN</td>\n",
              "      <td>0.0</td>\n",
              "      <td>0.0</td>\n",
              "      <td>0.0</td>\n",
              "      <td>0.0</td>\n",
              "      <td>-815.0</td>\n",
              "      <td>0</td>\n",
              "      <td>0</td>\n",
              "      <td>0</td>\n",
              "      <td>0</td>\n",
              "      <td>0</td>\n",
              "      <td>0</td>\n",
              "      <td>0</td>\n",
              "      <td>0</td>\n",
              "      <td>0</td>\n",
              "      <td>0</td>\n",
              "      <td>0</td>\n",
              "      <td>0</td>\n",
              "      <td>0</td>\n",
              "      <td>0</td>\n",
              "      <td>0</td>\n",
              "      <td>0</td>\n",
              "      <td>0</td>\n",
              "      <td>0</td>\n",
              "      <td>0</td>\n",
              "      <td>0</td>\n",
              "      <td>0.0</td>\n",
              "      <td>0.0</td>\n",
              "      <td>0.0</td>\n",
              "      <td>0.0</td>\n",
              "      <td>0.0</td>\n",
              "      <td>0.0</td>\n",
              "    </tr>\n",
              "  </tbody>\n",
              "</table>\n",
              "<p>3 rows × 122 columns</p>\n",
              "</div>"
            ],
            "text/plain": [
              "   sk_id_curr  target name_contract_type code_gender flag_own_car  \\\n",
              "0      100002       1         Cash loans           M            N   \n",
              "1      100003      -1         Cash loans           F            N   \n",
              "2      100004      -1    Revolving loans           M            Y   \n",
              "\n",
              "  flag_own_realty  cnt_children  amt_income_total  amt_credit  amt_annuity  \\\n",
              "0               Y             0          202500.0    406597.5      24700.5   \n",
              "1               N             0          270000.0   1293502.5      35698.5   \n",
              "2               Y             0           67500.0    135000.0       6750.0   \n",
              "\n",
              "   amt_goods_price name_type_suite name_income_type  \\\n",
              "0         351000.0   Unaccompanied          Working   \n",
              "1        1129500.0          Family    State servant   \n",
              "2         135000.0   Unaccompanied          Working   \n",
              "\n",
              "             name_education_type    name_family_status  name_housing_type  \\\n",
              "0  Secondary / secondary special  Single / not married  House / apartment   \n",
              "1               Higher education               Married  House / apartment   \n",
              "2  Secondary / secondary special  Single / not married  House / apartment   \n",
              "\n",
              "   region_population_relative  days_birth  days_employed  days_registration  \\\n",
              "0                    0.018801       -9461           -637            -3648.0   \n",
              "1                    0.003541      -16765          -1188            -1186.0   \n",
              "2                    0.010032      -19046           -225            -4260.0   \n",
              "\n",
              "   days_id_publish  own_car_age  flag_mobil  flag_emp_phone  flag_work_phone  \\\n",
              "0            -2120          NaN           1               1                0   \n",
              "1             -291          NaN           1               1                0   \n",
              "2            -2531         26.0           1               1                1   \n",
              "\n",
              "   flag_cont_mobile  flag_phone  flag_email occupation_type  cnt_fam_members  \\\n",
              "0                 1           1           0        Laborers              1.0   \n",
              "1                 1           1           0      Core staff              2.0   \n",
              "2                 1           1           0        Laborers              1.0   \n",
              "\n",
              "   region_rating_client  region_rating_client_w_city  \\\n",
              "0                     2                            2   \n",
              "1                     1                            1   \n",
              "2                     2                            2   \n",
              "\n",
              "  weekday_appr_process_start  hour_appr_process_start  \\\n",
              "0                  WEDNESDAY                       10   \n",
              "1                     MONDAY                       11   \n",
              "2                     MONDAY                        9   \n",
              "\n",
              "   reg_region_not_live_region  reg_region_not_work_region  \\\n",
              "0                           0                           0   \n",
              "1                           0                           0   \n",
              "2                           0                           0   \n",
              "\n",
              "   live_region_not_work_region  reg_city_not_live_city  \\\n",
              "0                            0                       0   \n",
              "1                            0                       0   \n",
              "2                            0                       0   \n",
              "\n",
              "   reg_city_not_work_city  live_city_not_work_city       organization_type  \\\n",
              "0                       0                        0  Business Entity Type 3   \n",
              "1                       0                        0                  School   \n",
              "2                       0                        0              Government   \n",
              "\n",
              "   ext_source_1  ext_source_2  ext_source_3  apartments_avg  basementarea_avg  \\\n",
              "0      0.083037      0.262949      0.139376          0.0247            0.0369   \n",
              "1      0.311267      0.622246           NaN          0.0959            0.0529   \n",
              "2           NaN      0.555912      0.729567             NaN               NaN   \n",
              "\n",
              "   years_beginexpluatation_avg  years_build_avg  commonarea_avg  \\\n",
              "0                       0.9722           0.6192          0.0143   \n",
              "1                       0.9851           0.7960          0.0605   \n",
              "2                          NaN              NaN             NaN   \n",
              "\n",
              "   elevators_avg  ...  apartments_medi  basementarea_medi  \\\n",
              "0           0.00  ...           0.0250             0.0369   \n",
              "1           0.08  ...           0.0968             0.0529   \n",
              "2            NaN  ...              NaN                NaN   \n",
              "\n",
              "   years_beginexpluatation_medi  years_build_medi  commonarea_medi  \\\n",
              "0                        0.9722            0.6243           0.0144   \n",
              "1                        0.9851            0.7987           0.0608   \n",
              "2                           NaN               NaN              NaN   \n",
              "\n",
              "   elevators_medi  entrances_medi  floorsmax_medi  floorsmin_medi  \\\n",
              "0            0.00          0.0690          0.0833          0.1250   \n",
              "1            0.08          0.0345          0.2917          0.3333   \n",
              "2             NaN             NaN             NaN             NaN   \n",
              "\n",
              "   landarea_medi  livingapartments_medi  livingarea_medi  \\\n",
              "0         0.0375                 0.0205           0.0193   \n",
              "1         0.0132                 0.0787           0.0558   \n",
              "2            NaN                    NaN              NaN   \n",
              "\n",
              "   nonlivingapartments_medi  nonlivingarea_medi  fondkapremont_mode  \\\n",
              "0                    0.0000                0.00    reg oper account   \n",
              "1                    0.0039                0.01    reg oper account   \n",
              "2                       NaN                 NaN                 NaN   \n",
              "\n",
              "   housetype_mode  totalarea_mode  wallsmaterial_mode  emergencystate_mode  \\\n",
              "0  block of flats          0.0149        Stone, brick                   No   \n",
              "1  block of flats          0.0714               Block                   No   \n",
              "2             NaN             NaN                 NaN                  NaN   \n",
              "\n",
              "   obs_30_cnt_social_circle  def_30_cnt_social_circle  \\\n",
              "0                       2.0                       2.0   \n",
              "1                       1.0                       0.0   \n",
              "2                       0.0                       0.0   \n",
              "\n",
              "   obs_60_cnt_social_circle  def_60_cnt_social_circle  days_last_phone_change  \\\n",
              "0                       2.0                       2.0                 -1134.0   \n",
              "1                       1.0                       0.0                  -828.0   \n",
              "2                       0.0                       0.0                  -815.0   \n",
              "\n",
              "   flag_document_2  flag_document_3  flag_document_4  flag_document_5  \\\n",
              "0                0                1                0                0   \n",
              "1                0                1                0                0   \n",
              "2                0                0                0                0   \n",
              "\n",
              "   flag_document_6  flag_document_7  flag_document_8  flag_document_9  \\\n",
              "0                0                0                0                0   \n",
              "1                0                0                0                0   \n",
              "2                0                0                0                0   \n",
              "\n",
              "   flag_document_10  flag_document_11  flag_document_12  flag_document_13  \\\n",
              "0                 0                 0                 0                 0   \n",
              "1                 0                 0                 0                 0   \n",
              "2                 0                 0                 0                 0   \n",
              "\n",
              "  flag_document_14 flag_document_15  flag_document_16 flag_document_17  \\\n",
              "0                0                0                 0                0   \n",
              "1                0                0                 0                0   \n",
              "2                0                0                 0                0   \n",
              "\n",
              "  flag_document_18  flag_document_19  flag_document_20  flag_document_21  \\\n",
              "0                0                 0                 0                 0   \n",
              "1                0                 0                 0                 0   \n",
              "2                0                 0                 0                 0   \n",
              "\n",
              "   amt_req_credit_bureau_hour  amt_req_credit_bureau_day  \\\n",
              "0                         0.0                        0.0   \n",
              "1                         0.0                        0.0   \n",
              "2                         0.0                        0.0   \n",
              "\n",
              "   amt_req_credit_bureau_week  amt_req_credit_bureau_mon  \\\n",
              "0                         0.0                        0.0   \n",
              "1                         0.0                        0.0   \n",
              "2                         0.0                        0.0   \n",
              "\n",
              "   amt_req_credit_bureau_qrt  amt_req_credit_bureau_year  \n",
              "0                        0.0                         1.0  \n",
              "1                        0.0                         0.0  \n",
              "2                        0.0                         0.0  \n",
              "\n",
              "[3 rows x 122 columns]"
            ]
          },
          "execution_count": 4,
          "metadata": {},
          "output_type": "execute_result"
        }
      ],
      "source": [
        "data = pd.read_csv('application_train.csv')\n",
        "data.columns = [\n",
        "    '_'.join([word.lower() for word in col_name.split(' ') if word != '-']) for col_name in data.columns\n",
        "]\n",
        "data.target = data.target.map({0: -1, 1: 1})\n",
        "data.head(3)"
      ]
    },
    {
      "cell_type": "code",
      "execution_count": 5,
      "id": "c9dc2bd6",
      "metadata": {
        "id": "c9dc2bd6",
        "outputId": "a6714284-c5ee-48f2-b7d8-430353073e93"
      },
      "outputs": [
        {
          "name": "stdout",
          "output_type": "stream",
          "text": [
            "tst shape: (92221, 122)\n",
            "tr shape: (215290, 122)\n"
          ]
        }
      ],
      "source": [
        "test_idx = data.sk_id_curr % 10 >= 7\n",
        "data_dict = dict()\n",
        "data_dict['tst'] = data.loc[test_idx].reset_index(drop=True)\n",
        "data_dict['tr'] = data.loc[~test_idx].reset_index(drop=True)\n",
        "\n",
        "for key, df in data_dict.items():\n",
        "    print(key, 'shape:', df.shape)"
      ]
    },
    {
      "cell_type": "code",
      "execution_count": 6,
      "id": "b528d58f",
      "metadata": {
        "id": "b528d58f"
      },
      "outputs": [],
      "source": [
        "features = data.select_dtypes(np.number).drop(columns=['target', 'sk_id_curr']).columns\n",
        "\n",
        "X_tr, X_tst = data_dict[\"tr\"][features].to_numpy(), data_dict[\"tst\"][features].to_numpy()\n",
        "y_tr, y_tst = data_dict[\"tr\"][\"target\"].to_numpy(), data_dict[\"tst\"][\"target\"].to_numpy()\n",
        "\n",
        "prep = make_pipeline(\n",
        "    SimpleImputer(strategy='median'),\n",
        "    StandardScaler()\n",
        ")\n",
        "\n",
        "prep.fit(X_tr)\n",
        "\n",
        "X_tr = prep.transform(X_tr)\n",
        "X_tst = prep.transform(X_tst)"
      ]
    },
    {
      "cell_type": "markdown",
      "id": "f2684f87",
      "metadata": {},
      "source": [
        "### Логистическая регрессия оптуна"
      ]
    },
    {
      "cell_type": "code",
      "execution_count": null,
      "id": "e203c227",
      "metadata": {
        "id": "e203c227"
      },
      "outputs": [],
      "source": [
        "def objective(\n",
        "    trial: optuna.trial.Trial,\n",
        "    X_tr, X_val, y_tr, y_val\n",
        "):\n",
        "    solver =  trial.suggest_categorical('solver', ['newton-cg', 'lbfgs', 'liblinear', 'sag', 'saga'])\n",
        "    C = trial.suggest_float('C', 1e-4, 1e2)\n",
        "    max_iter = trial.suggest_int('max_iter', 50, 1000, log=True)\n",
        "\n",
        "    start_time = time.time()\n",
        "    model = LogisticRegression(solver=solver, penalty='l2', C=C, max_iter=max_iter, random_state=42)\n",
        "    model.fit(X_tr, y_tr)\n",
        "    train_time = time.time() - start_time\n",
        "\n",
        "    y_pred_proba = model.predict_proba(X_val)[:, 1]\n",
        "    score = roc_auc_score(y_val, y_pred_proba)\n",
        "\n",
        "    trial.set_user_attr('train_time', train_time)\n",
        "    return score"
      ]
    },
    {
      "cell_type": "code",
      "execution_count": null,
      "id": "6f2a933b",
      "metadata": {
        "id": "6f2a933b",
        "outputId": "75f19cc5-0373-49a6-8f4d-77ef0993d21f"
      },
      "outputs": [
        {
          "name": "stderr",
          "output_type": "stream",
          "text": [
            "[I 2025-09-13 13:53:08,419] A new study created in memory with name: no-name-877e649f-c031-4b8a-b99c-ef52f2f41e41\n",
            "[I 2025-09-13 13:53:27,005] Trial 4 finished with value: 0.7352816312716332 and parameters: {'solver': 'lbfgs', 'C': 71.67820657786409, 'max_iter': 306}. Best is trial 4 with value: 0.7352816312716332.\n",
            "[I 2025-09-13 13:53:30,458] Trial 0 finished with value: 0.7352816517933147 and parameters: {'solver': 'lbfgs', 'C': 79.9656603379841, 'max_iter': 134}. Best is trial 0 with value: 0.7352816517933147.\n",
            "[I 2025-09-13 13:53:32,059] Trial 2 finished with value: 0.7352542379837859 and parameters: {'solver': 'lbfgs', 'C': 3.0718717060892113, 'max_iter': 762}. Best is trial 0 with value: 0.7352816517933147.\n",
            "[I 2025-09-13 13:53:38,956] Trial 12 finished with value: 0.7352817528231322 and parameters: {'solver': 'lbfgs', 'C': 47.690707711092585, 'max_iter': 231}. Best is trial 12 with value: 0.7352817528231322.\n",
            "[I 2025-09-13 13:54:00,613] Trial 9 finished with value: 0.7380056129956548 and parameters: {'solver': 'newton-cg', 'C': 41.18395187813812, 'max_iter': 402}. Best is trial 9 with value: 0.7380056129956548.\n",
            "c:\\Users\\Лиана\\OneDrive\\Desktop\\ITMO\\AutoML-ITMO\\.venv\\Lib\\site-packages\\sklearn\\linear_model\\_sag.py:348: ConvergenceWarning: The max_iter was reached which means the coef_ did not converge\n",
            "  warnings.warn(\n",
            "[I 2025-09-13 13:54:33,850] Trial 13 finished with value: 0.7334393620219604 and parameters: {'solver': 'sag', 'C': 63.82392767264749, 'max_iter': 58}. Best is trial 9 with value: 0.7380056129956548.\n",
            "c:\\Users\\Лиана\\OneDrive\\Desktop\\ITMO\\AutoML-ITMO\\.venv\\Lib\\site-packages\\sklearn\\linear_model\\_sag.py:348: ConvergenceWarning: The max_iter was reached which means the coef_ did not converge\n",
            "  warnings.warn(\n",
            "[I 2025-09-13 13:54:46,936] Trial 6 finished with value: 0.7330347312887056 and parameters: {'solver': 'saga', 'C': 84.2004775951373, 'max_iter': 72}. Best is trial 9 with value: 0.7380056129956548.\n",
            "c:\\Users\\Лиана\\OneDrive\\Desktop\\ITMO\\AutoML-ITMO\\.venv\\Lib\\site-packages\\sklearn\\linear_model\\_sag.py:348: ConvergenceWarning: The max_iter was reached which means the coef_ did not converge\n",
            "  warnings.warn(\n",
            "[I 2025-09-13 13:55:02,122] Trial 14 finished with value: 0.732941918036877 and parameters: {'solver': 'saga', 'C': 71.84570270123122, 'max_iter': 65}. Best is trial 9 with value: 0.7380056129956548.\n",
            "c:\\Users\\Лиана\\OneDrive\\Desktop\\ITMO\\AutoML-ITMO\\.venv\\Lib\\site-packages\\sklearn\\linear_model\\_sag.py:348: ConvergenceWarning: The max_iter was reached which means the coef_ did not converge\n",
            "  warnings.warn(\n",
            "[I 2025-09-13 13:55:13,965] Trial 1 finished with value: 0.7333396961070449 and parameters: {'solver': 'saga', 'C': 30.42546479006653, 'max_iter': 103}. Best is trial 9 with value: 0.7380056129956548.\n",
            "[I 2025-09-13 13:55:18,445] Trial 20 finished with value: 0.7352816249572696 and parameters: {'solver': 'lbfgs', 'C': 89.76756826611776, 'max_iter': 96}. Best is trial 9 with value: 0.7380056129956548.\n",
            "[I 2025-09-13 13:55:44,921] Trial 21 finished with value: 0.7379928753457015 and parameters: {'solver': 'newton-cg', 'C': 25.90589752312617, 'max_iter': 548}. Best is trial 9 with value: 0.7380056129956548.\n",
            "[I 2025-09-13 13:56:22,767] Trial 22 finished with value: 0.7380145588702719 and parameters: {'solver': 'newton-cg', 'C': 24.813762548871864, 'max_iter': 558}. Best is trial 22 with value: 0.7380145588702719.\n",
            "c:\\Users\\Лиана\\OneDrive\\Desktop\\ITMO\\AutoML-ITMO\\.venv\\Lib\\site-packages\\sklearn\\linear_model\\_sag.py:348: ConvergenceWarning: The max_iter was reached which means the coef_ did not converge\n",
            "  warnings.warn(\n",
            "[I 2025-09-13 13:56:25,713] Trial 3 finished with value: 0.7342916069400223 and parameters: {'solver': 'sag', 'C': 2.697916541406546, 'max_iter': 134}. Best is trial 22 with value: 0.7380145588702719.\n",
            "[I 2025-09-13 13:57:06,348] Trial 23 finished with value: 0.7379992275954738 and parameters: {'solver': 'newton-cg', 'C': 33.44732650040932, 'max_iter': 479}. Best is trial 22 with value: 0.7380145588702719.\n",
            "[I 2025-09-13 13:57:25,417] Trial 24 finished with value: 0.7380237731053417 and parameters: {'solver': 'newton-cg', 'C': 33.76778658042404, 'max_iter': 416}. Best is trial 24 with value: 0.7380237731053417.\n",
            "c:\\Users\\Лиана\\OneDrive\\Desktop\\ITMO\\AutoML-ITMO\\.venv\\Lib\\site-packages\\sklearn\\linear_model\\_sag.py:348: ConvergenceWarning: The max_iter was reached which means the coef_ did not converge\n",
            "  warnings.warn(\n",
            "[I 2025-09-13 13:58:04,114] Trial 18 finished with value: 0.7343745413700133 and parameters: {'solver': 'sag', 'C': 49.270539878820315, 'max_iter': 144}. Best is trial 24 with value: 0.7380237731053417.\n",
            "c:\\Users\\Лиана\\OneDrive\\Desktop\\ITMO\\AutoML-ITMO\\.venv\\Lib\\site-packages\\sklearn\\linear_model\\_sag.py:348: ConvergenceWarning: The max_iter was reached which means the coef_ did not converge\n",
            "  warnings.warn(\n",
            "[I 2025-09-13 13:58:14,758] Trial 5 finished with value: 0.7340726216535155 and parameters: {'solver': 'saga', 'C': 95.4799434145515, 'max_iter': 220}. Best is trial 24 with value: 0.7380237731053417.\n",
            "[I 2025-09-13 13:58:35,685] Trial 10 finished with value: 0.7378812326616456 and parameters: {'solver': 'liblinear', 'C': 5.06147640345639, 'max_iter': 239}. Best is trial 24 with value: 0.7380237731053417.\n",
            "c:\\Users\\Лиана\\OneDrive\\Desktop\\ITMO\\AutoML-ITMO\\.venv\\Lib\\site-packages\\sklearn\\linear_model\\_sag.py:348: ConvergenceWarning: The max_iter was reached which means the coef_ did not converge\n",
            "  warnings.warn(\n",
            "[I 2025-09-13 13:58:44,374] Trial 11 finished with value: 0.7350101515234152 and parameters: {'solver': 'sag', 'C': 22.759972109879506, 'max_iter': 266}. Best is trial 24 with value: 0.7380237731053417.\n",
            "[I 2025-09-13 13:59:18,810] Trial 29 finished with value: 0.7379792489490727 and parameters: {'solver': 'newton-cg', 'C': 17.394938821105008, 'max_iter': 816}. Best is trial 24 with value: 0.7380237731053417.\n",
            "[I 2025-09-13 13:59:33,420] Trial 30 finished with value: 0.7379799056428864 and parameters: {'solver': 'newton-cg', 'C': 17.657130784744385, 'max_iter': 912}. Best is trial 24 with value: 0.7380237731053417.\n",
            "[I 2025-09-13 14:00:09,460] Trial 31 finished with value: 0.7379699115839132 and parameters: {'solver': 'newton-cg', 'C': 14.387527194751584, 'max_iter': 937}. Best is trial 24 with value: 0.7380237731053417.\n",
            "[I 2025-09-13 14:00:23,729] Trial 32 finished with value: 0.7380034392759888 and parameters: {'solver': 'newton-cg', 'C': 39.84822482051964, 'max_iter': 412}. Best is trial 24 with value: 0.7380237731053417.\n",
            "[I 2025-09-13 14:01:00,260] Trial 33 finished with value: 0.7380016759899561 and parameters: {'solver': 'newton-cg', 'C': 37.80524590403786, 'max_iter': 360}. Best is trial 24 with value: 0.7380237731053417.\n",
            "[I 2025-09-13 14:01:10,988] Trial 34 finished with value: 0.738001953821954 and parameters: {'solver': 'newton-cg', 'C': 38.910172197410226, 'max_iter': 583}. Best is trial 24 with value: 0.7380237731053417.\n",
            "[I 2025-09-13 14:01:50,302] Trial 16 finished with value: 0.7380318839053739 and parameters: {'solver': 'liblinear', 'C': 52.593921445262644, 'max_iter': 116}. Best is trial 16 with value: 0.7380318839053739.\n",
            "c:\\Users\\Лиана\\OneDrive\\Desktop\\ITMO\\AutoML-ITMO\\.venv\\Lib\\site-packages\\sklearn\\linear_model\\_sag.py:348: ConvergenceWarning: The max_iter was reached which means the coef_ did not converge\n",
            "  warnings.warn(\n",
            "[I 2025-09-13 14:01:51,868] Trial 19 finished with value: 0.734092052528875 and parameters: {'solver': 'saga', 'C': 96.87311560897678, 'max_iter': 224}. Best is trial 16 with value: 0.7380318839053739.\n",
            "c:\\Users\\Лиана\\OneDrive\\Desktop\\ITMO\\AutoML-ITMO\\.venv\\Lib\\site-packages\\sklearn\\linear_model\\_sag.py:348: ConvergenceWarning: The max_iter was reached which means the coef_ did not converge\n",
            "  warnings.warn(\n",
            "[I 2025-09-13 14:02:05,553] Trial 7 finished with value: 0.7352547668117365 and parameters: {'solver': 'sag', 'C': 63.477355485086846, 'max_iter': 387}. Best is trial 16 with value: 0.7380318839053739.\n",
            "[I 2025-09-13 14:02:53,929] Trial 17 finished with value: 0.7380299564458878 and parameters: {'solver': 'liblinear', 'C': 48.680604825621, 'max_iter': 408}. Best is trial 16 with value: 0.7380318839053739.\n",
            "[I 2025-09-13 14:05:23,880] Trial 25 finished with value: 0.7380299232954791 and parameters: {'solver': 'liblinear', 'C': 47.16693806425598, 'max_iter': 910}. Best is trial 16 with value: 0.7380318839053739.\n",
            "[I 2025-09-13 14:05:31,659] Trial 26 finished with value: 0.7379951800884123 and parameters: {'solver': 'liblinear', 'C': 14.33081625205034, 'max_iter': 926}. Best is trial 16 with value: 0.7380318839053739.\n",
            "[I 2025-09-13 14:05:49,001] Trial 28 finished with value: 0.7379979836658463 and parameters: {'solver': 'liblinear', 'C': 15.851189536124757, 'max_iter': 947}. Best is trial 16 with value: 0.7380318839053739.\n",
            "[I 2025-09-13 14:06:33,769] Trial 27 finished with value: 0.7380061149875603 and parameters: {'solver': 'liblinear', 'C': 17.375258049768938, 'max_iter': 866}. Best is trial 16 with value: 0.7380318839053739.\n",
            "[I 2025-09-13 14:07:55,826] Trial 36 finished with value: 0.7380356030655288 and parameters: {'solver': 'liblinear', 'C': 53.69273858873357, 'max_iter': 693}. Best is trial 36 with value: 0.7380356030655288.\n",
            "[I 2025-09-13 14:08:09,715] Trial 35 finished with value: 0.7380300558971143 and parameters: {'solver': 'liblinear', 'C': 55.88561034123959, 'max_iter': 586}. Best is trial 36 with value: 0.7380356030655288.\n",
            "[I 2025-09-13 14:09:50,199] Trial 39 finished with value: 0.7380318428620105 and parameters: {'solver': 'liblinear', 'C': 55.24283681392945, 'max_iter': 681}. Best is trial 36 with value: 0.7380356030655288.\n",
            "[I 2025-09-13 14:09:54,767] Trial 38 finished with value: 0.7380327473945949 and parameters: {'solver': 'liblinear', 'C': 60.811466428326476, 'max_iter': 657}. Best is trial 36 with value: 0.7380356030655288.\n",
            "[I 2025-09-13 14:09:56,313] Trial 37 finished with value: 0.7380333030585908 and parameters: {'solver': 'liblinear', 'C': 57.507442420412985, 'max_iter': 175}. Best is trial 36 with value: 0.7380356030655288.\n",
            "[I 2025-09-13 14:10:13,055] Trial 40 finished with value: 0.7380319801994186 and parameters: {'solver': 'liblinear', 'C': 58.25893630468838, 'max_iter': 174}. Best is trial 36 with value: 0.7380356030655288.\n",
            "c:\\Users\\Лиана\\OneDrive\\Desktop\\ITMO\\AutoML-ITMO\\.venv\\Lib\\site-packages\\sklearn\\linear_model\\_sag.py:348: ConvergenceWarning: The max_iter was reached which means the coef_ did not converge\n",
            "  warnings.warn(\n",
            "[I 2025-09-13 14:10:18,956] Trial 15 finished with value: 0.7353503315474996 and parameters: {'solver': 'sag', 'C': 54.41885750154735, 'max_iter': 892}. Best is trial 36 with value: 0.7380356030655288.\n",
            "[I 2025-09-13 14:12:36,117] Trial 41 finished with value: 0.738033022069411 and parameters: {'solver': 'liblinear', 'C': 57.30953324924571, 'max_iter': 172}. Best is trial 36 with value: 0.7380356030655288.\n",
            "c:\\Users\\Лиана\\OneDrive\\Desktop\\ITMO\\AutoML-ITMO\\.venv\\Lib\\site-packages\\sklearn\\linear_model\\_sag.py:348: ConvergenceWarning: The max_iter was reached which means the coef_ did not converge\n",
            "  warnings.warn(\n",
            "[I 2025-09-13 14:12:44,263] Trial 8 finished with value: 0.7353437125158657 and parameters: {'solver': 'sag', 'C': 52.74667872155923, 'max_iter': 985}. Best is trial 36 with value: 0.7380356030655288.\n",
            "[I 2025-09-13 14:12:59,072] Trial 43 finished with value: 0.7380314734717405 and parameters: {'solver': 'liblinear', 'C': 57.671291064361256, 'max_iter': 703}. Best is trial 36 with value: 0.7380356030655288.\n",
            "[I 2025-09-13 14:13:09,235] Trial 42 finished with value: 0.7380282326246276 and parameters: {'solver': 'liblinear', 'C': 57.004509895903155, 'max_iter': 173}. Best is trial 36 with value: 0.7380356030655288.\n",
            "[I 2025-09-13 14:13:10,184] Trial 44 finished with value: 0.738033888715814 and parameters: {'solver': 'liblinear', 'C': 57.16057480576952, 'max_iter': 171}. Best is trial 36 with value: 0.7380356030655288.\n",
            "[I 2025-09-13 14:13:55,561] Trial 45 finished with value: 0.7380321712089173 and parameters: {'solver': 'liblinear', 'C': 58.67059261162291, 'max_iter': 704}. Best is trial 36 with value: 0.7380356030655288.\n",
            "[I 2025-09-13 14:14:09,158] Trial 46 finished with value: 0.7380317213105115 and parameters: {'solver': 'liblinear', 'C': 57.13615839150134, 'max_iter': 679}. Best is trial 36 with value: 0.7380356030655288.\n",
            "[I 2025-09-13 14:14:35,764] Trial 49 finished with value: 0.7380314561072406 and parameters: {'solver': 'liblinear', 'C': 69.04046411516066, 'max_iter': 166}. Best is trial 36 with value: 0.7380356030655288.\n",
            "[I 2025-09-13 14:14:36,058] Trial 48 finished with value: 0.7380331862428645 and parameters: {'solver': 'liblinear', 'C': 58.771676446839905, 'max_iter': 675}. Best is trial 36 with value: 0.7380356030655288.\n",
            "[I 2025-09-13 14:14:38,990] Trial 47 finished with value: 0.7380314592644225 and parameters: {'solver': 'liblinear', 'C': 55.320639128296335, 'max_iter': 168}. Best is trial 36 with value: 0.7380356030655288.\n"
          ]
        }
      ],
      "source": [
        "study = optuna.create_study(direction='maximize')\n",
        "obj_func = partial(objective, X_tr=X_tr, X_val=X_tst, y_tr=y_tr, y_val=y_tst)\n",
        "study.optimize(obj_func, n_trials=50, n_jobs=-1, gc_after_trial=True)"
      ]
    },
    {
      "cell_type": "code",
      "execution_count": null,
      "id": "020b7b79",
      "metadata": {},
      "outputs": [
        {
          "data": {
            "application/vnd.plotly.v1+json": {
              "config": {
                "plotlyServerURL": "https://plot.ly"
              },
              "data": [
                {
                  "mode": "markers",
                  "name": "Objective Value",
                  "type": "scatter",
                  "x": [
                    0,
                    1,
                    2,
                    3,
                    4,
                    5,
                    6,
                    7,
                    8,
                    9,
                    10,
                    11,
                    12,
                    13,
                    14,
                    15,
                    16,
                    17,
                    18,
                    19,
                    20,
                    21,
                    22,
                    23,
                    24,
                    25,
                    26,
                    27,
                    28,
                    29,
                    30,
                    31,
                    32,
                    33,
                    34,
                    35,
                    36,
                    37,
                    38,
                    39,
                    40,
                    41,
                    42,
                    43,
                    44,
                    45,
                    46,
                    47,
                    48,
                    49
                  ],
                  "y": [
                    0.7352816517933147,
                    0.7333396961070449,
                    0.7352542379837859,
                    0.7342916069400223,
                    0.7352816312716332,
                    0.7340726216535155,
                    0.7330347312887056,
                    0.7352547668117365,
                    0.7353437125158657,
                    0.7380056129956548,
                    0.7378812326616456,
                    0.7350101515234152,
                    0.7352817528231322,
                    0.7334393620219604,
                    0.732941918036877,
                    0.7353503315474996,
                    0.7380318839053739,
                    0.7380299564458878,
                    0.7343745413700133,
                    0.734092052528875,
                    0.7352816249572696,
                    0.7379928753457015,
                    0.7380145588702719,
                    0.7379992275954738,
                    0.7380237731053417,
                    0.7380299232954791,
                    0.7379951800884123,
                    0.7380061149875603,
                    0.7379979836658463,
                    0.7379792489490727,
                    0.7379799056428864,
                    0.7379699115839132,
                    0.7380034392759888,
                    0.7380016759899561,
                    0.738001953821954,
                    0.7380300558971143,
                    0.7380356030655288,
                    0.7380333030585908,
                    0.7380327473945949,
                    0.7380318428620105,
                    0.7380319801994186,
                    0.738033022069411,
                    0.7380282326246276,
                    0.7380314734717405,
                    0.738033888715814,
                    0.7380321712089173,
                    0.7380317213105115,
                    0.7380314592644225,
                    0.7380331862428645,
                    0.7380314561072406
                  ]
                },
                {
                  "mode": "lines",
                  "name": "Best Value",
                  "type": "scatter",
                  "x": [
                    0,
                    1,
                    2,
                    3,
                    4,
                    5,
                    6,
                    7,
                    8,
                    9,
                    10,
                    11,
                    12,
                    13,
                    14,
                    15,
                    16,
                    17,
                    18,
                    19,
                    20,
                    21,
                    22,
                    23,
                    24,
                    25,
                    26,
                    27,
                    28,
                    29,
                    30,
                    31,
                    32,
                    33,
                    34,
                    35,
                    36,
                    37,
                    38,
                    39,
                    40,
                    41,
                    42,
                    43,
                    44,
                    45,
                    46,
                    47,
                    48,
                    49
                  ],
                  "y": [
                    0.7352816517933147,
                    0.7352816517933147,
                    0.7352816517933147,
                    0.7352816517933147,
                    0.7352816517933147,
                    0.7352816517933147,
                    0.7352816517933147,
                    0.7352816517933147,
                    0.7353437125158657,
                    0.7380056129956548,
                    0.7380056129956548,
                    0.7380056129956548,
                    0.7380056129956548,
                    0.7380056129956548,
                    0.7380056129956548,
                    0.7380056129956548,
                    0.7380318839053739,
                    0.7380318839053739,
                    0.7380318839053739,
                    0.7380318839053739,
                    0.7380318839053739,
                    0.7380318839053739,
                    0.7380318839053739,
                    0.7380318839053739,
                    0.7380318839053739,
                    0.7380318839053739,
                    0.7380318839053739,
                    0.7380318839053739,
                    0.7380318839053739,
                    0.7380318839053739,
                    0.7380318839053739,
                    0.7380318839053739,
                    0.7380318839053739,
                    0.7380318839053739,
                    0.7380318839053739,
                    0.7380318839053739,
                    0.7380356030655288,
                    0.7380356030655288,
                    0.7380356030655288,
                    0.7380356030655288,
                    0.7380356030655288,
                    0.7380356030655288,
                    0.7380356030655288,
                    0.7380356030655288,
                    0.7380356030655288,
                    0.7380356030655288,
                    0.7380356030655288,
                    0.7380356030655288,
                    0.7380356030655288,
                    0.7380356030655288
                  ]
                },
                {
                  "marker": {
                    "color": "#cccccc"
                  },
                  "mode": "markers",
                  "name": "Infeasible Trial",
                  "showlegend": false,
                  "type": "scatter",
                  "x": [],
                  "y": []
                }
              ],
              "layout": {
                "template": {
                  "data": {
                    "bar": [
                      {
                        "error_x": {
                          "color": "#2a3f5f"
                        },
                        "error_y": {
                          "color": "#2a3f5f"
                        },
                        "marker": {
                          "line": {
                            "color": "#E5ECF6",
                            "width": 0.5
                          },
                          "pattern": {
                            "fillmode": "overlay",
                            "size": 10,
                            "solidity": 0.2
                          }
                        },
                        "type": "bar"
                      }
                    ],
                    "barpolar": [
                      {
                        "marker": {
                          "line": {
                            "color": "#E5ECF6",
                            "width": 0.5
                          },
                          "pattern": {
                            "fillmode": "overlay",
                            "size": 10,
                            "solidity": 0.2
                          }
                        },
                        "type": "barpolar"
                      }
                    ],
                    "carpet": [
                      {
                        "aaxis": {
                          "endlinecolor": "#2a3f5f",
                          "gridcolor": "white",
                          "linecolor": "white",
                          "minorgridcolor": "white",
                          "startlinecolor": "#2a3f5f"
                        },
                        "baxis": {
                          "endlinecolor": "#2a3f5f",
                          "gridcolor": "white",
                          "linecolor": "white",
                          "minorgridcolor": "white",
                          "startlinecolor": "#2a3f5f"
                        },
                        "type": "carpet"
                      }
                    ],
                    "choropleth": [
                      {
                        "colorbar": {
                          "outlinewidth": 0,
                          "ticks": ""
                        },
                        "type": "choropleth"
                      }
                    ],
                    "contour": [
                      {
                        "colorbar": {
                          "outlinewidth": 0,
                          "ticks": ""
                        },
                        "colorscale": [
                          [
                            0,
                            "#0d0887"
                          ],
                          [
                            0.1111111111111111,
                            "#46039f"
                          ],
                          [
                            0.2222222222222222,
                            "#7201a8"
                          ],
                          [
                            0.3333333333333333,
                            "#9c179e"
                          ],
                          [
                            0.4444444444444444,
                            "#bd3786"
                          ],
                          [
                            0.5555555555555556,
                            "#d8576b"
                          ],
                          [
                            0.6666666666666666,
                            "#ed7953"
                          ],
                          [
                            0.7777777777777778,
                            "#fb9f3a"
                          ],
                          [
                            0.8888888888888888,
                            "#fdca26"
                          ],
                          [
                            1,
                            "#f0f921"
                          ]
                        ],
                        "type": "contour"
                      }
                    ],
                    "contourcarpet": [
                      {
                        "colorbar": {
                          "outlinewidth": 0,
                          "ticks": ""
                        },
                        "type": "contourcarpet"
                      }
                    ],
                    "heatmap": [
                      {
                        "colorbar": {
                          "outlinewidth": 0,
                          "ticks": ""
                        },
                        "colorscale": [
                          [
                            0,
                            "#0d0887"
                          ],
                          [
                            0.1111111111111111,
                            "#46039f"
                          ],
                          [
                            0.2222222222222222,
                            "#7201a8"
                          ],
                          [
                            0.3333333333333333,
                            "#9c179e"
                          ],
                          [
                            0.4444444444444444,
                            "#bd3786"
                          ],
                          [
                            0.5555555555555556,
                            "#d8576b"
                          ],
                          [
                            0.6666666666666666,
                            "#ed7953"
                          ],
                          [
                            0.7777777777777778,
                            "#fb9f3a"
                          ],
                          [
                            0.8888888888888888,
                            "#fdca26"
                          ],
                          [
                            1,
                            "#f0f921"
                          ]
                        ],
                        "type": "heatmap"
                      }
                    ],
                    "histogram": [
                      {
                        "marker": {
                          "pattern": {
                            "fillmode": "overlay",
                            "size": 10,
                            "solidity": 0.2
                          }
                        },
                        "type": "histogram"
                      }
                    ],
                    "histogram2d": [
                      {
                        "colorbar": {
                          "outlinewidth": 0,
                          "ticks": ""
                        },
                        "colorscale": [
                          [
                            0,
                            "#0d0887"
                          ],
                          [
                            0.1111111111111111,
                            "#46039f"
                          ],
                          [
                            0.2222222222222222,
                            "#7201a8"
                          ],
                          [
                            0.3333333333333333,
                            "#9c179e"
                          ],
                          [
                            0.4444444444444444,
                            "#bd3786"
                          ],
                          [
                            0.5555555555555556,
                            "#d8576b"
                          ],
                          [
                            0.6666666666666666,
                            "#ed7953"
                          ],
                          [
                            0.7777777777777778,
                            "#fb9f3a"
                          ],
                          [
                            0.8888888888888888,
                            "#fdca26"
                          ],
                          [
                            1,
                            "#f0f921"
                          ]
                        ],
                        "type": "histogram2d"
                      }
                    ],
                    "histogram2dcontour": [
                      {
                        "colorbar": {
                          "outlinewidth": 0,
                          "ticks": ""
                        },
                        "colorscale": [
                          [
                            0,
                            "#0d0887"
                          ],
                          [
                            0.1111111111111111,
                            "#46039f"
                          ],
                          [
                            0.2222222222222222,
                            "#7201a8"
                          ],
                          [
                            0.3333333333333333,
                            "#9c179e"
                          ],
                          [
                            0.4444444444444444,
                            "#bd3786"
                          ],
                          [
                            0.5555555555555556,
                            "#d8576b"
                          ],
                          [
                            0.6666666666666666,
                            "#ed7953"
                          ],
                          [
                            0.7777777777777778,
                            "#fb9f3a"
                          ],
                          [
                            0.8888888888888888,
                            "#fdca26"
                          ],
                          [
                            1,
                            "#f0f921"
                          ]
                        ],
                        "type": "histogram2dcontour"
                      }
                    ],
                    "mesh3d": [
                      {
                        "colorbar": {
                          "outlinewidth": 0,
                          "ticks": ""
                        },
                        "type": "mesh3d"
                      }
                    ],
                    "parcoords": [
                      {
                        "line": {
                          "colorbar": {
                            "outlinewidth": 0,
                            "ticks": ""
                          }
                        },
                        "type": "parcoords"
                      }
                    ],
                    "pie": [
                      {
                        "automargin": true,
                        "type": "pie"
                      }
                    ],
                    "scatter": [
                      {
                        "fillpattern": {
                          "fillmode": "overlay",
                          "size": 10,
                          "solidity": 0.2
                        },
                        "type": "scatter"
                      }
                    ],
                    "scatter3d": [
                      {
                        "line": {
                          "colorbar": {
                            "outlinewidth": 0,
                            "ticks": ""
                          }
                        },
                        "marker": {
                          "colorbar": {
                            "outlinewidth": 0,
                            "ticks": ""
                          }
                        },
                        "type": "scatter3d"
                      }
                    ],
                    "scattercarpet": [
                      {
                        "marker": {
                          "colorbar": {
                            "outlinewidth": 0,
                            "ticks": ""
                          }
                        },
                        "type": "scattercarpet"
                      }
                    ],
                    "scattergeo": [
                      {
                        "marker": {
                          "colorbar": {
                            "outlinewidth": 0,
                            "ticks": ""
                          }
                        },
                        "type": "scattergeo"
                      }
                    ],
                    "scattergl": [
                      {
                        "marker": {
                          "colorbar": {
                            "outlinewidth": 0,
                            "ticks": ""
                          }
                        },
                        "type": "scattergl"
                      }
                    ],
                    "scattermap": [
                      {
                        "marker": {
                          "colorbar": {
                            "outlinewidth": 0,
                            "ticks": ""
                          }
                        },
                        "type": "scattermap"
                      }
                    ],
                    "scattermapbox": [
                      {
                        "marker": {
                          "colorbar": {
                            "outlinewidth": 0,
                            "ticks": ""
                          }
                        },
                        "type": "scattermapbox"
                      }
                    ],
                    "scatterpolar": [
                      {
                        "marker": {
                          "colorbar": {
                            "outlinewidth": 0,
                            "ticks": ""
                          }
                        },
                        "type": "scatterpolar"
                      }
                    ],
                    "scatterpolargl": [
                      {
                        "marker": {
                          "colorbar": {
                            "outlinewidth": 0,
                            "ticks": ""
                          }
                        },
                        "type": "scatterpolargl"
                      }
                    ],
                    "scatterternary": [
                      {
                        "marker": {
                          "colorbar": {
                            "outlinewidth": 0,
                            "ticks": ""
                          }
                        },
                        "type": "scatterternary"
                      }
                    ],
                    "surface": [
                      {
                        "colorbar": {
                          "outlinewidth": 0,
                          "ticks": ""
                        },
                        "colorscale": [
                          [
                            0,
                            "#0d0887"
                          ],
                          [
                            0.1111111111111111,
                            "#46039f"
                          ],
                          [
                            0.2222222222222222,
                            "#7201a8"
                          ],
                          [
                            0.3333333333333333,
                            "#9c179e"
                          ],
                          [
                            0.4444444444444444,
                            "#bd3786"
                          ],
                          [
                            0.5555555555555556,
                            "#d8576b"
                          ],
                          [
                            0.6666666666666666,
                            "#ed7953"
                          ],
                          [
                            0.7777777777777778,
                            "#fb9f3a"
                          ],
                          [
                            0.8888888888888888,
                            "#fdca26"
                          ],
                          [
                            1,
                            "#f0f921"
                          ]
                        ],
                        "type": "surface"
                      }
                    ],
                    "table": [
                      {
                        "cells": {
                          "fill": {
                            "color": "#EBF0F8"
                          },
                          "line": {
                            "color": "white"
                          }
                        },
                        "header": {
                          "fill": {
                            "color": "#C8D4E3"
                          },
                          "line": {
                            "color": "white"
                          }
                        },
                        "type": "table"
                      }
                    ]
                  },
                  "layout": {
                    "annotationdefaults": {
                      "arrowcolor": "#2a3f5f",
                      "arrowhead": 0,
                      "arrowwidth": 1
                    },
                    "autotypenumbers": "strict",
                    "coloraxis": {
                      "colorbar": {
                        "outlinewidth": 0,
                        "ticks": ""
                      }
                    },
                    "colorscale": {
                      "diverging": [
                        [
                          0,
                          "#8e0152"
                        ],
                        [
                          0.1,
                          "#c51b7d"
                        ],
                        [
                          0.2,
                          "#de77ae"
                        ],
                        [
                          0.3,
                          "#f1b6da"
                        ],
                        [
                          0.4,
                          "#fde0ef"
                        ],
                        [
                          0.5,
                          "#f7f7f7"
                        ],
                        [
                          0.6,
                          "#e6f5d0"
                        ],
                        [
                          0.7,
                          "#b8e186"
                        ],
                        [
                          0.8,
                          "#7fbc41"
                        ],
                        [
                          0.9,
                          "#4d9221"
                        ],
                        [
                          1,
                          "#276419"
                        ]
                      ],
                      "sequential": [
                        [
                          0,
                          "#0d0887"
                        ],
                        [
                          0.1111111111111111,
                          "#46039f"
                        ],
                        [
                          0.2222222222222222,
                          "#7201a8"
                        ],
                        [
                          0.3333333333333333,
                          "#9c179e"
                        ],
                        [
                          0.4444444444444444,
                          "#bd3786"
                        ],
                        [
                          0.5555555555555556,
                          "#d8576b"
                        ],
                        [
                          0.6666666666666666,
                          "#ed7953"
                        ],
                        [
                          0.7777777777777778,
                          "#fb9f3a"
                        ],
                        [
                          0.8888888888888888,
                          "#fdca26"
                        ],
                        [
                          1,
                          "#f0f921"
                        ]
                      ],
                      "sequentialminus": [
                        [
                          0,
                          "#0d0887"
                        ],
                        [
                          0.1111111111111111,
                          "#46039f"
                        ],
                        [
                          0.2222222222222222,
                          "#7201a8"
                        ],
                        [
                          0.3333333333333333,
                          "#9c179e"
                        ],
                        [
                          0.4444444444444444,
                          "#bd3786"
                        ],
                        [
                          0.5555555555555556,
                          "#d8576b"
                        ],
                        [
                          0.6666666666666666,
                          "#ed7953"
                        ],
                        [
                          0.7777777777777778,
                          "#fb9f3a"
                        ],
                        [
                          0.8888888888888888,
                          "#fdca26"
                        ],
                        [
                          1,
                          "#f0f921"
                        ]
                      ]
                    },
                    "colorway": [
                      "#636efa",
                      "#EF553B",
                      "#00cc96",
                      "#ab63fa",
                      "#FFA15A",
                      "#19d3f3",
                      "#FF6692",
                      "#B6E880",
                      "#FF97FF",
                      "#FECB52"
                    ],
                    "font": {
                      "color": "#2a3f5f"
                    },
                    "geo": {
                      "bgcolor": "white",
                      "lakecolor": "white",
                      "landcolor": "#E5ECF6",
                      "showlakes": true,
                      "showland": true,
                      "subunitcolor": "white"
                    },
                    "hoverlabel": {
                      "align": "left"
                    },
                    "hovermode": "closest",
                    "mapbox": {
                      "style": "light"
                    },
                    "paper_bgcolor": "white",
                    "plot_bgcolor": "#E5ECF6",
                    "polar": {
                      "angularaxis": {
                        "gridcolor": "white",
                        "linecolor": "white",
                        "ticks": ""
                      },
                      "bgcolor": "#E5ECF6",
                      "radialaxis": {
                        "gridcolor": "white",
                        "linecolor": "white",
                        "ticks": ""
                      }
                    },
                    "scene": {
                      "xaxis": {
                        "backgroundcolor": "#E5ECF6",
                        "gridcolor": "white",
                        "gridwidth": 2,
                        "linecolor": "white",
                        "showbackground": true,
                        "ticks": "",
                        "zerolinecolor": "white"
                      },
                      "yaxis": {
                        "backgroundcolor": "#E5ECF6",
                        "gridcolor": "white",
                        "gridwidth": 2,
                        "linecolor": "white",
                        "showbackground": true,
                        "ticks": "",
                        "zerolinecolor": "white"
                      },
                      "zaxis": {
                        "backgroundcolor": "#E5ECF6",
                        "gridcolor": "white",
                        "gridwidth": 2,
                        "linecolor": "white",
                        "showbackground": true,
                        "ticks": "",
                        "zerolinecolor": "white"
                      }
                    },
                    "shapedefaults": {
                      "line": {
                        "color": "#2a3f5f"
                      }
                    },
                    "ternary": {
                      "aaxis": {
                        "gridcolor": "white",
                        "linecolor": "white",
                        "ticks": ""
                      },
                      "baxis": {
                        "gridcolor": "white",
                        "linecolor": "white",
                        "ticks": ""
                      },
                      "bgcolor": "#E5ECF6",
                      "caxis": {
                        "gridcolor": "white",
                        "linecolor": "white",
                        "ticks": ""
                      }
                    },
                    "title": {
                      "x": 0.05
                    },
                    "xaxis": {
                      "automargin": true,
                      "gridcolor": "white",
                      "linecolor": "white",
                      "ticks": "",
                      "title": {
                        "standoff": 15
                      },
                      "zerolinecolor": "white",
                      "zerolinewidth": 2
                    },
                    "yaxis": {
                      "automargin": true,
                      "gridcolor": "white",
                      "linecolor": "white",
                      "ticks": "",
                      "title": {
                        "standoff": 15
                      },
                      "zerolinecolor": "white",
                      "zerolinewidth": 2
                    }
                  }
                },
                "title": {
                  "text": "Optimization History Plot"
                },
                "xaxis": {
                  "title": {
                    "text": "Trial"
                  }
                },
                "yaxis": {
                  "title": {
                    "text": "Objective Value"
                  }
                }
              }
            }
          },
          "metadata": {},
          "output_type": "display_data"
        },
        {
          "data": {
            "application/vnd.plotly.v1+json": {
              "config": {
                "plotlyServerURL": "https://plot.ly"
              },
              "data": [
                {
                  "cliponaxis": false,
                  "hovertemplate": [
                    "max_iter (IntDistribution): 0.08496816960523912<extra></extra>",
                    "C (FloatDistribution): 0.14034350151633324<extra></extra>",
                    "solver (CategoricalDistribution): 0.7746883288784276<extra></extra>"
                  ],
                  "name": "Objective Value",
                  "orientation": "h",
                  "text": [
                    "0.08",
                    "0.14",
                    "0.77"
                  ],
                  "textposition": "outside",
                  "type": "bar",
                  "x": [
                    0.08496816960523912,
                    0.14034350151633324,
                    0.7746883288784276
                  ],
                  "y": [
                    "max_iter",
                    "C",
                    "solver"
                  ]
                }
              ],
              "layout": {
                "template": {
                  "data": {
                    "bar": [
                      {
                        "error_x": {
                          "color": "#2a3f5f"
                        },
                        "error_y": {
                          "color": "#2a3f5f"
                        },
                        "marker": {
                          "line": {
                            "color": "#E5ECF6",
                            "width": 0.5
                          },
                          "pattern": {
                            "fillmode": "overlay",
                            "size": 10,
                            "solidity": 0.2
                          }
                        },
                        "type": "bar"
                      }
                    ],
                    "barpolar": [
                      {
                        "marker": {
                          "line": {
                            "color": "#E5ECF6",
                            "width": 0.5
                          },
                          "pattern": {
                            "fillmode": "overlay",
                            "size": 10,
                            "solidity": 0.2
                          }
                        },
                        "type": "barpolar"
                      }
                    ],
                    "carpet": [
                      {
                        "aaxis": {
                          "endlinecolor": "#2a3f5f",
                          "gridcolor": "white",
                          "linecolor": "white",
                          "minorgridcolor": "white",
                          "startlinecolor": "#2a3f5f"
                        },
                        "baxis": {
                          "endlinecolor": "#2a3f5f",
                          "gridcolor": "white",
                          "linecolor": "white",
                          "minorgridcolor": "white",
                          "startlinecolor": "#2a3f5f"
                        },
                        "type": "carpet"
                      }
                    ],
                    "choropleth": [
                      {
                        "colorbar": {
                          "outlinewidth": 0,
                          "ticks": ""
                        },
                        "type": "choropleth"
                      }
                    ],
                    "contour": [
                      {
                        "colorbar": {
                          "outlinewidth": 0,
                          "ticks": ""
                        },
                        "colorscale": [
                          [
                            0,
                            "#0d0887"
                          ],
                          [
                            0.1111111111111111,
                            "#46039f"
                          ],
                          [
                            0.2222222222222222,
                            "#7201a8"
                          ],
                          [
                            0.3333333333333333,
                            "#9c179e"
                          ],
                          [
                            0.4444444444444444,
                            "#bd3786"
                          ],
                          [
                            0.5555555555555556,
                            "#d8576b"
                          ],
                          [
                            0.6666666666666666,
                            "#ed7953"
                          ],
                          [
                            0.7777777777777778,
                            "#fb9f3a"
                          ],
                          [
                            0.8888888888888888,
                            "#fdca26"
                          ],
                          [
                            1,
                            "#f0f921"
                          ]
                        ],
                        "type": "contour"
                      }
                    ],
                    "contourcarpet": [
                      {
                        "colorbar": {
                          "outlinewidth": 0,
                          "ticks": ""
                        },
                        "type": "contourcarpet"
                      }
                    ],
                    "heatmap": [
                      {
                        "colorbar": {
                          "outlinewidth": 0,
                          "ticks": ""
                        },
                        "colorscale": [
                          [
                            0,
                            "#0d0887"
                          ],
                          [
                            0.1111111111111111,
                            "#46039f"
                          ],
                          [
                            0.2222222222222222,
                            "#7201a8"
                          ],
                          [
                            0.3333333333333333,
                            "#9c179e"
                          ],
                          [
                            0.4444444444444444,
                            "#bd3786"
                          ],
                          [
                            0.5555555555555556,
                            "#d8576b"
                          ],
                          [
                            0.6666666666666666,
                            "#ed7953"
                          ],
                          [
                            0.7777777777777778,
                            "#fb9f3a"
                          ],
                          [
                            0.8888888888888888,
                            "#fdca26"
                          ],
                          [
                            1,
                            "#f0f921"
                          ]
                        ],
                        "type": "heatmap"
                      }
                    ],
                    "histogram": [
                      {
                        "marker": {
                          "pattern": {
                            "fillmode": "overlay",
                            "size": 10,
                            "solidity": 0.2
                          }
                        },
                        "type": "histogram"
                      }
                    ],
                    "histogram2d": [
                      {
                        "colorbar": {
                          "outlinewidth": 0,
                          "ticks": ""
                        },
                        "colorscale": [
                          [
                            0,
                            "#0d0887"
                          ],
                          [
                            0.1111111111111111,
                            "#46039f"
                          ],
                          [
                            0.2222222222222222,
                            "#7201a8"
                          ],
                          [
                            0.3333333333333333,
                            "#9c179e"
                          ],
                          [
                            0.4444444444444444,
                            "#bd3786"
                          ],
                          [
                            0.5555555555555556,
                            "#d8576b"
                          ],
                          [
                            0.6666666666666666,
                            "#ed7953"
                          ],
                          [
                            0.7777777777777778,
                            "#fb9f3a"
                          ],
                          [
                            0.8888888888888888,
                            "#fdca26"
                          ],
                          [
                            1,
                            "#f0f921"
                          ]
                        ],
                        "type": "histogram2d"
                      }
                    ],
                    "histogram2dcontour": [
                      {
                        "colorbar": {
                          "outlinewidth": 0,
                          "ticks": ""
                        },
                        "colorscale": [
                          [
                            0,
                            "#0d0887"
                          ],
                          [
                            0.1111111111111111,
                            "#46039f"
                          ],
                          [
                            0.2222222222222222,
                            "#7201a8"
                          ],
                          [
                            0.3333333333333333,
                            "#9c179e"
                          ],
                          [
                            0.4444444444444444,
                            "#bd3786"
                          ],
                          [
                            0.5555555555555556,
                            "#d8576b"
                          ],
                          [
                            0.6666666666666666,
                            "#ed7953"
                          ],
                          [
                            0.7777777777777778,
                            "#fb9f3a"
                          ],
                          [
                            0.8888888888888888,
                            "#fdca26"
                          ],
                          [
                            1,
                            "#f0f921"
                          ]
                        ],
                        "type": "histogram2dcontour"
                      }
                    ],
                    "mesh3d": [
                      {
                        "colorbar": {
                          "outlinewidth": 0,
                          "ticks": ""
                        },
                        "type": "mesh3d"
                      }
                    ],
                    "parcoords": [
                      {
                        "line": {
                          "colorbar": {
                            "outlinewidth": 0,
                            "ticks": ""
                          }
                        },
                        "type": "parcoords"
                      }
                    ],
                    "pie": [
                      {
                        "automargin": true,
                        "type": "pie"
                      }
                    ],
                    "scatter": [
                      {
                        "fillpattern": {
                          "fillmode": "overlay",
                          "size": 10,
                          "solidity": 0.2
                        },
                        "type": "scatter"
                      }
                    ],
                    "scatter3d": [
                      {
                        "line": {
                          "colorbar": {
                            "outlinewidth": 0,
                            "ticks": ""
                          }
                        },
                        "marker": {
                          "colorbar": {
                            "outlinewidth": 0,
                            "ticks": ""
                          }
                        },
                        "type": "scatter3d"
                      }
                    ],
                    "scattercarpet": [
                      {
                        "marker": {
                          "colorbar": {
                            "outlinewidth": 0,
                            "ticks": ""
                          }
                        },
                        "type": "scattercarpet"
                      }
                    ],
                    "scattergeo": [
                      {
                        "marker": {
                          "colorbar": {
                            "outlinewidth": 0,
                            "ticks": ""
                          }
                        },
                        "type": "scattergeo"
                      }
                    ],
                    "scattergl": [
                      {
                        "marker": {
                          "colorbar": {
                            "outlinewidth": 0,
                            "ticks": ""
                          }
                        },
                        "type": "scattergl"
                      }
                    ],
                    "scattermap": [
                      {
                        "marker": {
                          "colorbar": {
                            "outlinewidth": 0,
                            "ticks": ""
                          }
                        },
                        "type": "scattermap"
                      }
                    ],
                    "scattermapbox": [
                      {
                        "marker": {
                          "colorbar": {
                            "outlinewidth": 0,
                            "ticks": ""
                          }
                        },
                        "type": "scattermapbox"
                      }
                    ],
                    "scatterpolar": [
                      {
                        "marker": {
                          "colorbar": {
                            "outlinewidth": 0,
                            "ticks": ""
                          }
                        },
                        "type": "scatterpolar"
                      }
                    ],
                    "scatterpolargl": [
                      {
                        "marker": {
                          "colorbar": {
                            "outlinewidth": 0,
                            "ticks": ""
                          }
                        },
                        "type": "scatterpolargl"
                      }
                    ],
                    "scatterternary": [
                      {
                        "marker": {
                          "colorbar": {
                            "outlinewidth": 0,
                            "ticks": ""
                          }
                        },
                        "type": "scatterternary"
                      }
                    ],
                    "surface": [
                      {
                        "colorbar": {
                          "outlinewidth": 0,
                          "ticks": ""
                        },
                        "colorscale": [
                          [
                            0,
                            "#0d0887"
                          ],
                          [
                            0.1111111111111111,
                            "#46039f"
                          ],
                          [
                            0.2222222222222222,
                            "#7201a8"
                          ],
                          [
                            0.3333333333333333,
                            "#9c179e"
                          ],
                          [
                            0.4444444444444444,
                            "#bd3786"
                          ],
                          [
                            0.5555555555555556,
                            "#d8576b"
                          ],
                          [
                            0.6666666666666666,
                            "#ed7953"
                          ],
                          [
                            0.7777777777777778,
                            "#fb9f3a"
                          ],
                          [
                            0.8888888888888888,
                            "#fdca26"
                          ],
                          [
                            1,
                            "#f0f921"
                          ]
                        ],
                        "type": "surface"
                      }
                    ],
                    "table": [
                      {
                        "cells": {
                          "fill": {
                            "color": "#EBF0F8"
                          },
                          "line": {
                            "color": "white"
                          }
                        },
                        "header": {
                          "fill": {
                            "color": "#C8D4E3"
                          },
                          "line": {
                            "color": "white"
                          }
                        },
                        "type": "table"
                      }
                    ]
                  },
                  "layout": {
                    "annotationdefaults": {
                      "arrowcolor": "#2a3f5f",
                      "arrowhead": 0,
                      "arrowwidth": 1
                    },
                    "autotypenumbers": "strict",
                    "coloraxis": {
                      "colorbar": {
                        "outlinewidth": 0,
                        "ticks": ""
                      }
                    },
                    "colorscale": {
                      "diverging": [
                        [
                          0,
                          "#8e0152"
                        ],
                        [
                          0.1,
                          "#c51b7d"
                        ],
                        [
                          0.2,
                          "#de77ae"
                        ],
                        [
                          0.3,
                          "#f1b6da"
                        ],
                        [
                          0.4,
                          "#fde0ef"
                        ],
                        [
                          0.5,
                          "#f7f7f7"
                        ],
                        [
                          0.6,
                          "#e6f5d0"
                        ],
                        [
                          0.7,
                          "#b8e186"
                        ],
                        [
                          0.8,
                          "#7fbc41"
                        ],
                        [
                          0.9,
                          "#4d9221"
                        ],
                        [
                          1,
                          "#276419"
                        ]
                      ],
                      "sequential": [
                        [
                          0,
                          "#0d0887"
                        ],
                        [
                          0.1111111111111111,
                          "#46039f"
                        ],
                        [
                          0.2222222222222222,
                          "#7201a8"
                        ],
                        [
                          0.3333333333333333,
                          "#9c179e"
                        ],
                        [
                          0.4444444444444444,
                          "#bd3786"
                        ],
                        [
                          0.5555555555555556,
                          "#d8576b"
                        ],
                        [
                          0.6666666666666666,
                          "#ed7953"
                        ],
                        [
                          0.7777777777777778,
                          "#fb9f3a"
                        ],
                        [
                          0.8888888888888888,
                          "#fdca26"
                        ],
                        [
                          1,
                          "#f0f921"
                        ]
                      ],
                      "sequentialminus": [
                        [
                          0,
                          "#0d0887"
                        ],
                        [
                          0.1111111111111111,
                          "#46039f"
                        ],
                        [
                          0.2222222222222222,
                          "#7201a8"
                        ],
                        [
                          0.3333333333333333,
                          "#9c179e"
                        ],
                        [
                          0.4444444444444444,
                          "#bd3786"
                        ],
                        [
                          0.5555555555555556,
                          "#d8576b"
                        ],
                        [
                          0.6666666666666666,
                          "#ed7953"
                        ],
                        [
                          0.7777777777777778,
                          "#fb9f3a"
                        ],
                        [
                          0.8888888888888888,
                          "#fdca26"
                        ],
                        [
                          1,
                          "#f0f921"
                        ]
                      ]
                    },
                    "colorway": [
                      "#636efa",
                      "#EF553B",
                      "#00cc96",
                      "#ab63fa",
                      "#FFA15A",
                      "#19d3f3",
                      "#FF6692",
                      "#B6E880",
                      "#FF97FF",
                      "#FECB52"
                    ],
                    "font": {
                      "color": "#2a3f5f"
                    },
                    "geo": {
                      "bgcolor": "white",
                      "lakecolor": "white",
                      "landcolor": "#E5ECF6",
                      "showlakes": true,
                      "showland": true,
                      "subunitcolor": "white"
                    },
                    "hoverlabel": {
                      "align": "left"
                    },
                    "hovermode": "closest",
                    "mapbox": {
                      "style": "light"
                    },
                    "paper_bgcolor": "white",
                    "plot_bgcolor": "#E5ECF6",
                    "polar": {
                      "angularaxis": {
                        "gridcolor": "white",
                        "linecolor": "white",
                        "ticks": ""
                      },
                      "bgcolor": "#E5ECF6",
                      "radialaxis": {
                        "gridcolor": "white",
                        "linecolor": "white",
                        "ticks": ""
                      }
                    },
                    "scene": {
                      "xaxis": {
                        "backgroundcolor": "#E5ECF6",
                        "gridcolor": "white",
                        "gridwidth": 2,
                        "linecolor": "white",
                        "showbackground": true,
                        "ticks": "",
                        "zerolinecolor": "white"
                      },
                      "yaxis": {
                        "backgroundcolor": "#E5ECF6",
                        "gridcolor": "white",
                        "gridwidth": 2,
                        "linecolor": "white",
                        "showbackground": true,
                        "ticks": "",
                        "zerolinecolor": "white"
                      },
                      "zaxis": {
                        "backgroundcolor": "#E5ECF6",
                        "gridcolor": "white",
                        "gridwidth": 2,
                        "linecolor": "white",
                        "showbackground": true,
                        "ticks": "",
                        "zerolinecolor": "white"
                      }
                    },
                    "shapedefaults": {
                      "line": {
                        "color": "#2a3f5f"
                      }
                    },
                    "ternary": {
                      "aaxis": {
                        "gridcolor": "white",
                        "linecolor": "white",
                        "ticks": ""
                      },
                      "baxis": {
                        "gridcolor": "white",
                        "linecolor": "white",
                        "ticks": ""
                      },
                      "bgcolor": "#E5ECF6",
                      "caxis": {
                        "gridcolor": "white",
                        "linecolor": "white",
                        "ticks": ""
                      }
                    },
                    "title": {
                      "x": 0.05
                    },
                    "xaxis": {
                      "automargin": true,
                      "gridcolor": "white",
                      "linecolor": "white",
                      "ticks": "",
                      "title": {
                        "standoff": 15
                      },
                      "zerolinecolor": "white",
                      "zerolinewidth": 2
                    },
                    "yaxis": {
                      "automargin": true,
                      "gridcolor": "white",
                      "linecolor": "white",
                      "ticks": "",
                      "title": {
                        "standoff": 15
                      },
                      "zerolinecolor": "white",
                      "zerolinewidth": 2
                    }
                  }
                },
                "title": {
                  "text": "Hyperparameter Importances"
                },
                "xaxis": {
                  "title": {
                    "text": "Hyperparameter Importance"
                  }
                },
                "yaxis": {
                  "title": {
                    "text": "Hyperparameter"
                  }
                }
              }
            }
          },
          "metadata": {},
          "output_type": "display_data"
        }
      ],
      "source": [
        "from optuna.visualization import plot_optimization_history, plot_param_importances\n",
        "\n",
        "plot_optimization_history(study).show()\n",
        "\n",
        "plot_param_importances(study).show()"
      ]
    },
    {
      "cell_type": "markdown",
      "id": "518a395d",
      "metadata": {},
      "source": [
        "### Логистическая регрессия random search"
      ]
    },
    {
      "cell_type": "code",
      "execution_count": null,
      "id": "cdb83b60",
      "metadata": {},
      "outputs": [
        {
          "name": "stdout",
          "output_type": "stream",
          "text": [
            "Fitting 2 folds for each of 30 candidates, totalling 60 fits\n",
            "Лучшие параметры: {'solver': 'newton-cg', 'max_iter': np.int64(283), 'C': np.float64(32.3745754281764)}\n"
          ]
        }
      ],
      "source": [
        "import numpy as np\n",
        "from sklearn.model_selection import RandomizedSearchCV\n",
        "from sklearn.linear_model import LogisticRegression\n",
        "\n",
        "\n",
        "model = LogisticRegression()\n",
        "\n",
        "param_dist = {\n",
        "    \"solver\": ['newton-cg', 'lbfgs', 'liblinear', 'sag', 'saga'],\n",
        "    \"C\": np.logspace(-4, 2, 50),\n",
        "    \"max_iter\": np.logspace(np.log10(50), np.log10(1000), 20, dtype=int)\n",
        "}\n",
        "\n",
        "random_search = RandomizedSearchCV(\n",
        "    estimator=model,\n",
        "    param_distributions=param_dist,\n",
        "    n_iter=30,\n",
        "    scoring=\"roc_auc\",\n",
        "    cv=2,\n",
        "    random_state=42,\n",
        "    n_jobs=-1,\n",
        "    verbose=3\n",
        ")\n",
        "\n",
        "random_search.fit(X_tr, y_tr)\n",
        "\n",
        "print(f\"Лучшие параметры: {random_search.best_params_}\")"
      ]
    },
    {
      "cell_type": "code",
      "execution_count": null,
      "id": "4a2a2bf0",
      "metadata": {},
      "outputs": [
        {
          "data": {
            "image/png": "[encoded data removed]",
            "text/plain": [
              "<Figure size 1000x600 with 1 Axes>"
            ]
          },
          "metadata": {},
          "output_type": "display_data"
        }
      ],
      "source": [
        "import matplotlib.pyplot as plt\n",
        "import pandas as pd\n",
        "\n",
        "results = pd.DataFrame(random_search.cv_results_)\n",
        "mean_scores = results[\"mean_test_score\"]\n",
        "plt.figure(figsize=(10, 6))\n",
        "plt.plot(range(1, len(mean_scores) + 1), np.maximum.accumulate(mean_scores),\n",
        "         linestyle=\"--\", color=\"red\", label=\"Best so far\")\n",
        "plt.plot(range(1, len(results) + 1), results[\"mean_test_score\"], marker=\"o\")\n",
        "plt.xlabel(\"Итерация\")\n",
        "plt.ylabel(\"ROC-AUC (mean_test_score)\")\n",
        "plt.title(\"Зависимость ROC-AUC от числа итераций (RandomizedSearchCV)\")\n",
        "plt.grid(True)\n",
        "plt.show()"
      ]
    },
    {
      "cell_type": "markdown",
      "id": "77ba0ab0",
      "metadata": {},
      "source": [
        "# Градиентный бустинг оптуна"
      ]
    },
    {
      "cell_type": "code",
      "execution_count": null,
      "id": "fdae33f1",
      "metadata": {},
      "outputs": [],
      "source": [
        "!pip install lightgbm"
      ]
    },
    {
      "cell_type": "code",
      "execution_count": null,
      "id": "b1724e67",
      "metadata": {},
      "outputs": [],
      "source": [
        "import time\n",
        "import optuna\n",
        "import lightgbm as lgb\n",
        "from sklearn.metrics import roc_auc_score\n",
        "\n",
        "def boost_objective(\n",
        "    trial: optuna.trial.Trial,\n",
        "    X_tr, X_val, y_tr, y_val\n",
        "):\n",
        "    params = {\n",
        "        \"objective\": \"binary\",\n",
        "        \"metric\": \"auc\",\n",
        "        \"verbosity\": -1,\n",
        "        \"num_leaves\": trial.suggest_int(\"num_leaves\", 16, 256, log=True),\n",
        "        \"max_depth\": trial.suggest_int(\"max_depth\", 4, 8, log=True),\n",
        "        \"eta\": trial.suggest_float(\"eta\", 1e-3, 0.1, log=True),\n",
        "        \"n_estimators\": trial.suggest_int(\"n_estimators\", 50, 1000, log=True),\n",
        "        \"random_state\": 42,\n",
        "        \"n_jobs\": -1,\n",
        "    }\n",
        "\n",
        "    start_time = time.time()\n",
        "    \n",
        "    model = lgb.LGBMClassifier(**params)\n",
        "    model.fit(X_tr, y_tr, eval_set=[(X_val, y_val)], eval_metric=\"auc\")\n",
        "    train_time = time.time() - start_time\n",
        "\n",
        "    y_pred_proba = model.predict_proba(X_val)[:, 1]\n",
        "    score = roc_auc_score(y_val, y_pred_proba)\n",
        "\n",
        "    trial.set_user_attr(\"train_time\", train_time)\n",
        "    return score"
      ]
    },
    {
      "cell_type": "code",
      "execution_count": null,
      "id": "cbb94bf0",
      "metadata": {},
      "outputs": [
        {
          "name": "stderr",
          "output_type": "stream",
          "text": [
            "[I 2025-09-13 14:19:14,482] A new study created in memory with name: no-name-7d23c4ac-c5e0-4b92-a080-56fff27976c9\n",
            "c:\\Users\\Лиана\\OneDrive\\Desktop\\ITMO\\AutoML-ITMO\\.venv\\Lib\\site-packages\\sklearn\\utils\\validation.py:2749: UserWarning:\n",
            "\n",
            "X does not have valid feature names, but LGBMClassifier was fitted with feature names\n",
            "\n",
            "[I 2025-09-13 14:19:44,673] Trial 11 finished with value: 0.7517922239717396 and parameters: {'num_leaves': 17, 'max_depth': 7, 'eta': 0.025455180385235896, 'n_estimators': 129}. Best is trial 11 with value: 0.7517922239717396.\n",
            "c:\\Users\\Лиана\\OneDrive\\Desktop\\ITMO\\AutoML-ITMO\\.venv\\Lib\\site-packages\\sklearn\\utils\\validation.py:2749: UserWarning:\n",
            "\n",
            "X does not have valid feature names, but LGBMClassifier was fitted with feature names\n",
            "\n",
            "[I 2025-09-13 14:19:47,641] Trial 4 finished with value: 0.7499309974239765 and parameters: {'num_leaves': 37, 'max_depth': 6, 'eta': 0.0060298969988305355, 'n_estimators': 68}. Best is trial 11 with value: 0.7517922239717396.\n",
            "c:\\Users\\Лиана\\OneDrive\\Desktop\\ITMO\\AutoML-ITMO\\.venv\\Lib\\site-packages\\sklearn\\utils\\validation.py:2749: UserWarning:\n",
            "\n",
            "X does not have valid feature names, but LGBMClassifier was fitted with feature names\n",
            "\n",
            "[I 2025-09-13 14:19:59,532] Trial 6 finished with value: 0.7520174257492013 and parameters: {'num_leaves': 85, 'max_depth': 5, 'eta': 0.08674380717587728, 'n_estimators': 179}. Best is trial 6 with value: 0.7520174257492013.\n",
            "c:\\Users\\Лиана\\OneDrive\\Desktop\\ITMO\\AutoML-ITMO\\.venv\\Lib\\site-packages\\sklearn\\utils\\validation.py:2749: UserWarning:\n",
            "\n",
            "X does not have valid feature names, but LGBMClassifier was fitted with feature names\n",
            "\n",
            "[I 2025-09-13 14:20:11,162] Trial 9 finished with value: 0.7500400575333238 and parameters: {'num_leaves': 28, 'max_depth': 8, 'eta': 0.09870469297169983, 'n_estimators': 214}. Best is trial 6 with value: 0.7520174257492013.\n",
            "c:\\Users\\Лиана\\OneDrive\\Desktop\\ITMO\\AutoML-ITMO\\.venv\\Lib\\site-packages\\sklearn\\utils\\validation.py:2749: UserWarning:\n",
            "\n",
            "X does not have valid feature names, but LGBMClassifier was fitted with feature names\n",
            "\n",
            "[I 2025-09-13 14:20:16,107] Trial 2 finished with value: 0.752578834237458 and parameters: {'num_leaves': 101, 'max_depth': 5, 'eta': 0.0018053169567531996, 'n_estimators': 235}. Best is trial 2 with value: 0.752578834237458.\n",
            "c:\\Users\\Лиана\\OneDrive\\Desktop\\ITMO\\AutoML-ITMO\\.venv\\Lib\\site-packages\\sklearn\\utils\\validation.py:2749: UserWarning:\n",
            "\n",
            "X does not have valid feature names, but LGBMClassifier was fitted with feature names\n",
            "\n",
            "[I 2025-09-13 14:20:17,356] Trial 5 finished with value: 0.7514774513681529 and parameters: {'num_leaves': 85, 'max_depth': 6, 'eta': 0.0011580697801203783, 'n_estimators': 143}. Best is trial 2 with value: 0.752578834237458.\n",
            "c:\\Users\\Лиана\\OneDrive\\Desktop\\ITMO\\AutoML-ITMO\\.venv\\Lib\\site-packages\\sklearn\\utils\\validation.py:2749: UserWarning:\n",
            "\n",
            "X does not have valid feature names, but LGBMClassifier was fitted with feature names\n",
            "\n",
            "[I 2025-09-13 14:20:32,300] Trial 12 finished with value: 0.7526373825952618 and parameters: {'num_leaves': 21, 'max_depth': 5, 'eta': 0.07073621929125061, 'n_estimators': 298}. Best is trial 12 with value: 0.7526373825952618.\n",
            "c:\\Users\\Лиана\\OneDrive\\Desktop\\ITMO\\AutoML-ITMO\\.venv\\Lib\\site-packages\\sklearn\\utils\\validation.py:2749: UserWarning:\n",
            "\n",
            "X does not have valid feature names, but LGBMClassifier was fitted with feature names\n",
            "\n",
            "[I 2025-09-13 14:20:38,863] Trial 13 finished with value: 0.7524349062123629 and parameters: {'num_leaves': 59, 'max_depth': 5, 'eta': 0.02408407818537203, 'n_estimators': 231}. Best is trial 12 with value: 0.7526373825952618.\n",
            "c:\\Users\\Лиана\\OneDrive\\Desktop\\ITMO\\AutoML-ITMO\\.venv\\Lib\\site-packages\\sklearn\\utils\\validation.py:2749: UserWarning:\n",
            "\n",
            "X does not have valid feature names, but LGBMClassifier was fitted with feature names\n",
            "\n",
            "[I 2025-09-13 14:20:43,144] Trial 16 finished with value: 0.7525132927219776 and parameters: {'num_leaves': 22, 'max_depth': 7, 'eta': 0.0010598795700862782, 'n_estimators': 136}. Best is trial 12 with value: 0.7526373825952618.\n",
            "c:\\Users\\Лиана\\OneDrive\\Desktop\\ITMO\\AutoML-ITMO\\.venv\\Lib\\site-packages\\sklearn\\utils\\validation.py:2749: UserWarning:\n",
            "\n",
            "X does not have valid feature names, but LGBMClassifier was fitted with feature names\n",
            "\n",
            "[I 2025-09-13 14:20:47,243] Trial 0 finished with value: 0.7513829900674271 and parameters: {'num_leaves': 69, 'max_depth': 5, 'eta': 0.003945294833002159, 'n_estimators': 382}. Best is trial 12 with value: 0.7526373825952618.\n",
            "c:\\Users\\Лиана\\OneDrive\\Desktop\\ITMO\\AutoML-ITMO\\.venv\\Lib\\site-packages\\sklearn\\utils\\validation.py:2749: UserWarning:\n",
            "\n",
            "X does not have valid feature names, but LGBMClassifier was fitted with feature names\n",
            "\n",
            "[I 2025-09-13 14:20:57,953] Trial 20 finished with value: 0.7451929570851381 and parameters: {'num_leaves': 180, 'max_depth': 5, 'eta': 0.001325772194011324, 'n_estimators': 52}. Best is trial 12 with value: 0.7526373825952618.\n",
            "c:\\Users\\Лиана\\OneDrive\\Desktop\\ITMO\\AutoML-ITMO\\.venv\\Lib\\site-packages\\sklearn\\utils\\validation.py:2749: UserWarning:\n",
            "\n",
            "X does not have valid feature names, but LGBMClassifier was fitted with feature names\n",
            "\n",
            "[I 2025-09-13 14:21:02,831] Trial 19 finished with value: 0.7513743914828075 and parameters: {'num_leaves': 18, 'max_depth': 7, 'eta': 0.00395228547276305, 'n_estimators': 107}. Best is trial 12 with value: 0.7526373825952618.\n",
            "c:\\Users\\Лиана\\OneDrive\\Desktop\\ITMO\\AutoML-ITMO\\.venv\\Lib\\site-packages\\sklearn\\utils\\validation.py:2749: UserWarning:\n",
            "\n",
            "X does not have valid feature names, but LGBMClassifier was fitted with feature names\n",
            "\n",
            "[I 2025-09-13 14:21:03,815] Trial 14 finished with value: 0.7493089663094762 and parameters: {'num_leaves': 125, 'max_depth': 7, 'eta': 0.055931202746154846, 'n_estimators': 124}. Best is trial 12 with value: 0.7526373825952618.\n",
            "c:\\Users\\Лиана\\OneDrive\\Desktop\\ITMO\\AutoML-ITMO\\.venv\\Lib\\site-packages\\sklearn\\utils\\validation.py:2749: UserWarning:\n",
            "\n",
            "X does not have valid feature names, but LGBMClassifier was fitted with feature names\n",
            "\n",
            "[I 2025-09-13 14:21:06,082] Trial 15 finished with value: 0.7535802986173044 and parameters: {'num_leaves': 206, 'max_depth': 4, 'eta': 0.009280675170162192, 'n_estimators': 375}. Best is trial 15 with value: 0.7535802986173044.\n",
            "c:\\Users\\Лиана\\OneDrive\\Desktop\\ITMO\\AutoML-ITMO\\.venv\\Lib\\site-packages\\sklearn\\utils\\validation.py:2749: UserWarning:\n",
            "\n",
            "X does not have valid feature names, but LGBMClassifier was fitted with feature names\n",
            "\n",
            "[I 2025-09-13 14:21:07,781] Trial 10 finished with value: 0.7493862209694174 and parameters: {'num_leaves': 22, 'max_depth': 5, 'eta': 0.04360767221336747, 'n_estimators': 639}. Best is trial 15 with value: 0.7535802986173044.\n",
            "c:\\Users\\Лиана\\OneDrive\\Desktop\\ITMO\\AutoML-ITMO\\.venv\\Lib\\site-packages\\sklearn\\utils\\validation.py:2749: UserWarning:\n",
            "\n",
            "X does not have valid feature names, but LGBMClassifier was fitted with feature names\n",
            "\n",
            "[I 2025-09-13 14:21:08,947] Trial 17 finished with value: 0.7519017687084923 and parameters: {'num_leaves': 37, 'max_depth': 6, 'eta': 0.0022851310473838396, 'n_estimators': 152}. Best is trial 15 with value: 0.7535802986173044.\n",
            "c:\\Users\\Лиана\\OneDrive\\Desktop\\ITMO\\AutoML-ITMO\\.venv\\Lib\\site-packages\\sklearn\\utils\\validation.py:2749: UserWarning:\n",
            "\n",
            "X does not have valid feature names, but LGBMClassifier was fitted with feature names\n",
            "\n",
            "[I 2025-09-13 14:21:22,833] Trial 7 finished with value: 0.7505119536033192 and parameters: {'num_leaves': 199, 'max_depth': 4, 'eta': 0.00491873967658497, 'n_estimators': 970}. Best is trial 15 with value: 0.7535802986173044.\n",
            "c:\\Users\\Лиана\\OneDrive\\Desktop\\ITMO\\AutoML-ITMO\\.venv\\Lib\\site-packages\\sklearn\\utils\\validation.py:2749: UserWarning:\n",
            "\n",
            "X does not have valid feature names, but LGBMClassifier was fitted with feature names\n",
            "\n",
            "[I 2025-09-13 14:21:44,830] Trial 1 finished with value: 0.7494481143613333 and parameters: {'num_leaves': 189, 'max_depth': 6, 'eta': 0.018814428756803135, 'n_estimators': 366}. Best is trial 15 with value: 0.7535802986173044.\n",
            "c:\\Users\\Лиана\\OneDrive\\Desktop\\ITMO\\AutoML-ITMO\\.venv\\Lib\\site-packages\\sklearn\\utils\\validation.py:2749: UserWarning:\n",
            "\n",
            "X does not have valid feature names, but LGBMClassifier was fitted with feature names\n",
            "\n",
            "[I 2025-09-13 14:22:03,954] Trial 26 finished with value: 0.7534363390203911 and parameters: {'num_leaves': 243, 'max_depth': 4, 'eta': 0.01315755057562508, 'n_estimators': 415}. Best is trial 15 with value: 0.7535802986173044.\n",
            "c:\\Users\\Лиана\\OneDrive\\Desktop\\ITMO\\AutoML-ITMO\\.venv\\Lib\\site-packages\\sklearn\\utils\\validation.py:2749: UserWarning:\n",
            "\n",
            "X does not have valid feature names, but LGBMClassifier was fitted with feature names\n",
            "\n",
            "[I 2025-09-13 14:22:05,927] Trial 8 finished with value: 0.745807798507395 and parameters: {'num_leaves': 51, 'max_depth': 8, 'eta': 0.05002835986177573, 'n_estimators': 412}. Best is trial 15 with value: 0.7535802986173044.\n",
            "c:\\Users\\Лиана\\OneDrive\\Desktop\\ITMO\\AutoML-ITMO\\.venv\\Lib\\site-packages\\sklearn\\utils\\validation.py:2749: UserWarning:\n",
            "\n",
            "X does not have valid feature names, but LGBMClassifier was fitted with feature names\n",
            "\n",
            "[I 2025-09-13 14:22:09,329] Trial 27 finished with value: 0.7533654492389494 and parameters: {'num_leaves': 248, 'max_depth': 4, 'eta': 0.015285895327511078, 'n_estimators': 426}. Best is trial 15 with value: 0.7535802986173044.\n",
            "c:\\Users\\Лиана\\OneDrive\\Desktop\\ITMO\\AutoML-ITMO\\.venv\\Lib\\site-packages\\sklearn\\utils\\validation.py:2749: UserWarning:\n",
            "\n",
            "X does not have valid feature names, but LGBMClassifier was fitted with feature names\n",
            "\n",
            "[I 2025-09-13 14:22:20,046] Trial 18 finished with value: 0.7504014269830277 and parameters: {'num_leaves': 33, 'max_depth': 8, 'eta': 0.086315174621608, 'n_estimators': 287}. Best is trial 15 with value: 0.7535802986173044.\n",
            "c:\\Users\\Лиана\\OneDrive\\Desktop\\ITMO\\AutoML-ITMO\\.venv\\Lib\\site-packages\\sklearn\\utils\\validation.py:2749: UserWarning:\n",
            "\n",
            "X does not have valid feature names, but LGBMClassifier was fitted with feature names\n",
            "\n",
            "[I 2025-09-13 14:22:21,146] Trial 28 finished with value: 0.7535056407393899 and parameters: {'num_leaves': 44, 'max_depth': 4, 'eta': 0.014350895744284721, 'n_estimators': 404}. Best is trial 15 with value: 0.7535802986173044.\n",
            "c:\\Users\\Лиана\\OneDrive\\Desktop\\ITMO\\AutoML-ITMO\\.venv\\Lib\\site-packages\\sklearn\\utils\\validation.py:2749: UserWarning:\n",
            "\n",
            "X does not have valid feature names, but LGBMClassifier was fitted with feature names\n",
            "\n",
            "[I 2025-09-13 14:22:46,809] Trial 29 finished with value: 0.7537360913315864 and parameters: {'num_leaves': 50, 'max_depth': 4, 'eta': 0.01161601314432986, 'n_estimators': 344}. Best is trial 29 with value: 0.7537360913315864.\n",
            "c:\\Users\\Лиана\\OneDrive\\Desktop\\ITMO\\AutoML-ITMO\\.venv\\Lib\\site-packages\\sklearn\\utils\\validation.py:2749: UserWarning:\n",
            "\n",
            "X does not have valid feature names, but LGBMClassifier was fitted with feature names\n",
            "\n",
            "[I 2025-09-13 14:22:55,128] Trial 21 finished with value: 0.7511217837887713 and parameters: {'num_leaves': 204, 'max_depth': 4, 'eta': 0.028213919562858375, 'n_estimators': 886}. Best is trial 29 with value: 0.7537360913315864.\n",
            "c:\\Users\\Лиана\\OneDrive\\Desktop\\ITMO\\AutoML-ITMO\\.venv\\Lib\\site-packages\\sklearn\\utils\\validation.py:2749: UserWarning:\n",
            "\n",
            "X does not have valid feature names, but LGBMClassifier was fitted with feature names\n",
            "\n",
            "[I 2025-09-13 14:23:12,453] Trial 24 finished with value: 0.7513647794428316 and parameters: {'num_leaves': 248, 'max_depth': 4, 'eta': 0.014337566137401688, 'n_estimators': 859}. Best is trial 29 with value: 0.7537360913315864.\n",
            "c:\\Users\\Лиана\\OneDrive\\Desktop\\ITMO\\AutoML-ITMO\\.venv\\Lib\\site-packages\\sklearn\\utils\\validation.py:2749: UserWarning:\n",
            "\n",
            "X does not have valid feature names, but LGBMClassifier was fitted with feature names\n",
            "\n",
            "[I 2025-09-13 14:23:15,237] Trial 23 finished with value: 0.7510807293752956 and parameters: {'num_leaves': 150, 'max_depth': 4, 'eta': 0.016337596369006495, 'n_estimators': 883}. Best is trial 29 with value: 0.7537360913315864.\n",
            "c:\\Users\\Лиана\\OneDrive\\Desktop\\ITMO\\AutoML-ITMO\\.venv\\Lib\\site-packages\\sklearn\\utils\\validation.py:2749: UserWarning:\n",
            "\n",
            "X does not have valid feature names, but LGBMClassifier was fitted with feature names\n",
            "\n",
            "[I 2025-09-13 14:23:28,129] Trial 25 finished with value: 0.7505086038334344 and parameters: {'num_leaves': 252, 'max_depth': 4, 'eta': 0.01680989598939164, 'n_estimators': 955}. Best is trial 29 with value: 0.7537360913315864.\n",
            "c:\\Users\\Лиана\\OneDrive\\Desktop\\ITMO\\AutoML-ITMO\\.venv\\Lib\\site-packages\\sklearn\\utils\\validation.py:2749: UserWarning:\n",
            "\n",
            "X does not have valid feature names, but LGBMClassifier was fitted with feature names\n",
            "\n",
            "[I 2025-09-13 14:23:30,006] Trial 30 finished with value: 0.7530628854573655 and parameters: {'num_leaves': 235, 'max_depth': 4, 'eta': 0.010700333961601884, 'n_estimators': 528}. Best is trial 29 with value: 0.7537360913315864.\n",
            "c:\\Users\\Лиана\\OneDrive\\Desktop\\ITMO\\AutoML-ITMO\\.venv\\Lib\\site-packages\\sklearn\\utils\\validation.py:2749: UserWarning:\n",
            "\n",
            "X does not have valid feature names, but LGBMClassifier was fitted with feature names\n",
            "\n",
            "[I 2025-09-13 14:23:37,441] Trial 22 finished with value: 0.7510903698299076 and parameters: {'num_leaves': 249, 'max_depth': 4, 'eta': 0.01883124331488113, 'n_estimators': 880}. Best is trial 29 with value: 0.7537360913315864.\n",
            "c:\\Users\\Лиана\\OneDrive\\Desktop\\ITMO\\AutoML-ITMO\\.venv\\Lib\\site-packages\\sklearn\\utils\\validation.py:2749: UserWarning:\n",
            "\n",
            "X does not have valid feature names, but LGBMClassifier was fitted with feature names\n",
            "\n",
            "[I 2025-09-13 14:23:42,405] Trial 32 finished with value: 0.7528129629464462 and parameters: {'num_leaves': 247, 'max_depth': 4, 'eta': 0.010508650440264045, 'n_estimators': 565}. Best is trial 29 with value: 0.7537360913315864.\n",
            "c:\\Users\\Лиана\\OneDrive\\Desktop\\ITMO\\AutoML-ITMO\\.venv\\Lib\\site-packages\\sklearn\\utils\\validation.py:2749: UserWarning:\n",
            "\n",
            "X does not have valid feature names, but LGBMClassifier was fitted with feature names\n",
            "\n",
            "[I 2025-09-13 14:23:49,385] Trial 31 finished with value: 0.7522978513720362 and parameters: {'num_leaves': 239, 'max_depth': 4, 'eta': 0.009439323931592239, 'n_estimators': 614}. Best is trial 29 with value: 0.7537360913315864.\n",
            "c:\\Users\\Лиана\\OneDrive\\Desktop\\ITMO\\AutoML-ITMO\\.venv\\Lib\\site-packages\\sklearn\\utils\\validation.py:2749: UserWarning:\n",
            "\n",
            "X does not have valid feature names, but LGBMClassifier was fitted with feature names\n",
            "\n",
            "[I 2025-09-13 14:24:03,023] Trial 33 finished with value: 0.7522689852588815 and parameters: {'num_leaves': 227, 'max_depth': 4, 'eta': 0.010433761287147986, 'n_estimators': 611}. Best is trial 29 with value: 0.7537360913315864.\n",
            "c:\\Users\\Лиана\\OneDrive\\Desktop\\ITMO\\AutoML-ITMO\\.venv\\Lib\\site-packages\\sklearn\\utils\\validation.py:2749: UserWarning:\n",
            "\n",
            "X does not have valid feature names, but LGBMClassifier was fitted with feature names\n",
            "\n",
            "[I 2025-09-13 14:24:12,954] Trial 34 finished with value: 0.7527590556458815 and parameters: {'num_leaves': 130, 'max_depth': 4, 'eta': 0.009400518852399528, 'n_estimators': 568}. Best is trial 29 with value: 0.7537360913315864.\n",
            "c:\\Users\\Лиана\\OneDrive\\Desktop\\ITMO\\AutoML-ITMO\\.venv\\Lib\\site-packages\\sklearn\\utils\\validation.py:2749: UserWarning:\n",
            "\n",
            "X does not have valid feature names, but LGBMClassifier was fitted with feature names\n",
            "\n",
            "[I 2025-09-13 14:24:26,184] Trial 3 finished with value: 0.7418096618760904 and parameters: {'num_leaves': 76, 'max_depth': 8, 'eta': 0.003774564284402511, 'n_estimators': 414}. Best is trial 29 with value: 0.7537360913315864.\n",
            "c:\\Users\\Лиана\\OneDrive\\Desktop\\ITMO\\AutoML-ITMO\\.venv\\Lib\\site-packages\\sklearn\\utils\\validation.py:2749: UserWarning:\n",
            "\n",
            "X does not have valid feature names, but LGBMClassifier was fitted with feature names\n",
            "\n",
            "[I 2025-09-13 14:24:31,604] Trial 36 finished with value: 0.7526598822513264 and parameters: {'num_leaves': 46, 'max_depth': 4, 'eta': 0.00815180355182629, 'n_estimators': 578}. Best is trial 29 with value: 0.7537360913315864.\n",
            "c:\\Users\\Лиана\\OneDrive\\Desktop\\ITMO\\AutoML-ITMO\\.venv\\Lib\\site-packages\\sklearn\\utils\\validation.py:2749: UserWarning:\n",
            "\n",
            "X does not have valid feature names, but LGBMClassifier was fitted with feature names\n",
            "\n",
            "[I 2025-09-13 14:24:32,747] Trial 35 finished with value: 0.7522826258628281 and parameters: {'num_leaves': 48, 'max_depth': 4, 'eta': 0.008414764690728903, 'n_estimators': 615}. Best is trial 29 with value: 0.7537360913315864.\n",
            "c:\\Users\\Лиана\\OneDrive\\Desktop\\ITMO\\AutoML-ITMO\\.venv\\Lib\\site-packages\\sklearn\\utils\\validation.py:2749: UserWarning:\n",
            "\n",
            "X does not have valid feature names, but LGBMClassifier was fitted with feature names\n",
            "\n",
            "[I 2025-09-13 14:24:44,374] Trial 43 finished with value: 0.7537866820126751 and parameters: {'num_leaves': 51, 'max_depth': 4, 'eta': 0.006875698183375715, 'n_estimators': 333}. Best is trial 43 with value: 0.7537866820126751.\n",
            "c:\\Users\\Лиана\\OneDrive\\Desktop\\ITMO\\AutoML-ITMO\\.venv\\Lib\\site-packages\\sklearn\\utils\\validation.py:2749: UserWarning:\n",
            "\n",
            "X does not have valid feature names, but LGBMClassifier was fitted with feature names\n",
            "\n",
            "[I 2025-09-13 14:24:46,807] Trial 42 finished with value: 0.7538188252805333 and parameters: {'num_leaves': 47, 'max_depth': 4, 'eta': 0.007344245314973603, 'n_estimators': 332}. Best is trial 42 with value: 0.7538188252805333.\n",
            "c:\\Users\\Лиана\\OneDrive\\Desktop\\ITMO\\AutoML-ITMO\\.venv\\Lib\\site-packages\\sklearn\\utils\\validation.py:2749: UserWarning:\n",
            "\n",
            "X does not have valid feature names, but LGBMClassifier was fitted with feature names\n",
            "\n",
            "[I 2025-09-13 14:24:55,730] Trial 38 finished with value: 0.7524552842422609 and parameters: {'num_leaves': 48, 'max_depth': 4, 'eta': 0.007968452126386716, 'n_estimators': 603}. Best is trial 42 with value: 0.7538188252805333.\n",
            "c:\\Users\\Лиана\\OneDrive\\Desktop\\ITMO\\AutoML-ITMO\\.venv\\Lib\\site-packages\\sklearn\\utils\\validation.py:2749: UserWarning:\n",
            "\n",
            "X does not have valid feature names, but LGBMClassifier was fitted with feature names\n",
            "\n",
            "[I 2025-09-13 14:24:57,273] Trial 44 finished with value: 0.7537134653882501 and parameters: {'num_leaves': 49, 'max_depth': 4, 'eta': 0.00753898907098087, 'n_estimators': 322}. Best is trial 42 with value: 0.7538188252805333.\n",
            "c:\\Users\\Лиана\\OneDrive\\Desktop\\ITMO\\AutoML-ITMO\\.venv\\Lib\\site-packages\\sklearn\\utils\\validation.py:2749: UserWarning:\n",
            "\n",
            "X does not have valid feature names, but LGBMClassifier was fitted with feature names\n",
            "\n",
            "[I 2025-09-13 14:25:02,942] Trial 37 finished with value: 0.7528533622446993 and parameters: {'num_leaves': 46, 'max_depth': 4, 'eta': 0.007767514646705739, 'n_estimators': 559}. Best is trial 42 with value: 0.7538188252805333.\n",
            "c:\\Users\\Лиана\\OneDrive\\Desktop\\ITMO\\AutoML-ITMO\\.venv\\Lib\\site-packages\\sklearn\\utils\\validation.py:2749: UserWarning:\n",
            "\n",
            "X does not have valid feature names, but LGBMClassifier was fitted with feature names\n",
            "\n",
            "[I 2025-09-13 14:25:08,559] Trial 40 finished with value: 0.7524291269910865 and parameters: {'num_leaves': 50, 'max_depth': 4, 'eta': 0.007634638360404438, 'n_estimators': 598}. Best is trial 42 with value: 0.7538188252805333.\n",
            "c:\\Users\\Лиана\\OneDrive\\Desktop\\ITMO\\AutoML-ITMO\\.venv\\Lib\\site-packages\\sklearn\\utils\\validation.py:2749: UserWarning:\n",
            "\n",
            "X does not have valid feature names, but LGBMClassifier was fitted with feature names\n",
            "\n",
            "[I 2025-09-13 14:25:13,385] Trial 39 finished with value: 0.7528129629464462 and parameters: {'num_leaves': 48, 'max_depth': 4, 'eta': 0.008455372900136234, 'n_estimators': 565}. Best is trial 42 with value: 0.7538188252805333.\n",
            "c:\\Users\\Лиана\\OneDrive\\Desktop\\ITMO\\AutoML-ITMO\\.venv\\Lib\\site-packages\\sklearn\\utils\\validation.py:2749: UserWarning:\n",
            "\n",
            "X does not have valid feature names, but LGBMClassifier was fitted with feature names\n",
            "\n",
            "[I 2025-09-13 14:25:19,529] Trial 41 finished with value: 0.7527333467145222 and parameters: {'num_leaves': 46, 'max_depth': 4, 'eta': 0.007266108135914084, 'n_estimators': 567}. Best is trial 42 with value: 0.7538188252805333.\n",
            "c:\\Users\\Лиана\\OneDrive\\Desktop\\ITMO\\AutoML-ITMO\\.venv\\Lib\\site-packages\\sklearn\\utils\\validation.py:2749: UserWarning:\n",
            "\n",
            "X does not have valid feature names, but LGBMClassifier was fitted with feature names\n",
            "\n",
            "[I 2025-09-13 14:25:26,012] Trial 46 finished with value: 0.7518837790866226 and parameters: {'num_leaves': 48, 'max_depth': 5, 'eta': 0.00701433690618803, 'n_estimators': 316}. Best is trial 42 with value: 0.7538188252805333.\n",
            "c:\\Users\\Лиана\\OneDrive\\Desktop\\ITMO\\AutoML-ITMO\\.venv\\Lib\\site-packages\\sklearn\\utils\\validation.py:2749: UserWarning:\n",
            "\n",
            "X does not have valid feature names, but LGBMClassifier was fitted with feature names\n",
            "\n",
            "c:\\Users\\Лиана\\OneDrive\\Desktop\\ITMO\\AutoML-ITMO\\.venv\\Lib\\site-packages\\sklearn\\utils\\validation.py:2749: UserWarning:\n",
            "\n",
            "X does not have valid feature names, but LGBMClassifier was fitted with feature names\n",
            "\n",
            "[I 2025-09-13 14:25:29,435] Trial 45 finished with value: 0.7517754025071339 and parameters: {'num_leaves': 47, 'max_depth': 5, 'eta': 0.006809797863811176, 'n_estimators': 337}. Best is trial 42 with value: 0.7538188252805333.\n",
            "[I 2025-09-13 14:25:29,666] Trial 48 finished with value: 0.7519560864426904 and parameters: {'num_leaves': 64, 'max_depth': 5, 'eta': 0.006560910609697921, 'n_estimators': 323}. Best is trial 42 with value: 0.7538188252805333.\n",
            "c:\\Users\\Лиана\\OneDrive\\Desktop\\ITMO\\AutoML-ITMO\\.venv\\Lib\\site-packages\\sklearn\\utils\\validation.py:2749: UserWarning:\n",
            "\n",
            "X does not have valid feature names, but LGBMClassifier was fitted with feature names\n",
            "\n",
            "[I 2025-09-13 14:25:30,501] Trial 47 finished with value: 0.751736016664237 and parameters: {'num_leaves': 67, 'max_depth': 5, 'eta': 0.0067831015306856705, 'n_estimators': 333}. Best is trial 42 with value: 0.7538188252805333.\n",
            "c:\\Users\\Лиана\\OneDrive\\Desktop\\ITMO\\AutoML-ITMO\\.venv\\Lib\\site-packages\\sklearn\\utils\\validation.py:2749: UserWarning:\n",
            "\n",
            "X does not have valid feature names, but LGBMClassifier was fitted with feature names\n",
            "\n",
            "[I 2025-09-13 14:25:33,581] Trial 49 finished with value: 0.7518835470337607 and parameters: {'num_leaves': 70, 'max_depth': 5, 'eta': 0.006081361370991027, 'n_estimators': 313}. Best is trial 42 with value: 0.7538188252805333.\n"
          ]
        }
      ],
      "source": [
        "boost_study = optuna.create_study(direction='maximize')\n",
        "boost_obj_func = partial(boost_objective, X_tr=X_tr, X_val=X_tst, y_tr=y_tr, y_val=y_tst)\n",
        "boost_study.optimize(boost_obj_func, n_trials=50, n_jobs=-1, gc_after_trial=True)"
      ]
    },
    {
      "cell_type": "code",
      "execution_count": null,
      "id": "8c03d417",
      "metadata": {},
      "outputs": [
        {
          "data": {
            "application/vnd.plotly.v1+json": {
              "config": {
                "plotlyServerURL": "https://plot.ly"
              },
              "data": [
                {
                  "mode": "markers",
                  "name": "Objective Value",
                  "type": "scatter",
                  "x": [
                    0,
                    1,
                    2,
                    3,
                    4,
                    5,
                    6,
                    7,
                    8,
                    9,
                    10,
                    11,
                    12,
                    13,
                    14,
                    15,
                    16,
                    17,
                    18,
                    19,
                    20,
                    21,
                    22,
                    23,
                    24,
                    25,
                    26,
                    27,
                    28,
                    29,
                    30,
                    31,
                    32,
                    33,
                    34,
                    35,
                    36,
                    37,
                    38,
                    39,
                    40,
                    41,
                    42,
                    43,
                    44,
                    45,
                    46,
                    47,
                    48,
                    49
                  ],
                  "y": [
                    0.7513829900674271,
                    0.7494481143613333,
                    0.752578834237458,
                    0.7418096618760904,
                    0.7499309974239765,
                    0.7514774513681529,
                    0.7520174257492013,
                    0.7505119536033192,
                    0.745807798507395,
                    0.7500400575333238,
                    0.7493862209694174,
                    0.7517922239717396,
                    0.7526373825952618,
                    0.7524349062123629,
                    0.7493089663094762,
                    0.7535802986173044,
                    0.7525132927219776,
                    0.7519017687084923,
                    0.7504014269830277,
                    0.7513743914828075,
                    0.7451929570851381,
                    0.7511217837887713,
                    0.7510903698299076,
                    0.7510807293752956,
                    0.7513647794428316,
                    0.7505086038334344,
                    0.7534363390203911,
                    0.7533654492389494,
                    0.7535056407393899,
                    0.7537360913315864,
                    0.7530628854573655,
                    0.7522978513720362,
                    0.7528129629464462,
                    0.7522689852588815,
                    0.7527590556458815,
                    0.7522826258628281,
                    0.7526598822513264,
                    0.7528533622446993,
                    0.7524552842422609,
                    0.7528129629464462,
                    0.7524291269910865,
                    0.7527333467145222,
                    0.7538188252805333,
                    0.7537866820126751,
                    0.7537134653882501,
                    0.7517754025071339,
                    0.7518837790866226,
                    0.751736016664237,
                    0.7519560864426904,
                    0.7518835470337607
                  ]
                },
                {
                  "mode": "lines",
                  "name": "Best Value",
                  "type": "scatter",
                  "x": [
                    0,
                    1,
                    2,
                    3,
                    4,
                    5,
                    6,
                    7,
                    8,
                    9,
                    10,
                    11,
                    12,
                    13,
                    14,
                    15,
                    16,
                    17,
                    18,
                    19,
                    20,
                    21,
                    22,
                    23,
                    24,
                    25,
                    26,
                    27,
                    28,
                    29,
                    30,
                    31,
                    32,
                    33,
                    34,
                    35,
                    36,
                    37,
                    38,
                    39,
                    40,
                    41,
                    42,
                    43,
                    44,
                    45,
                    46,
                    47,
                    48,
                    49
                  ],
                  "y": [
                    0.7513829900674271,
                    0.7513829900674271,
                    0.752578834237458,
                    0.752578834237458,
                    0.752578834237458,
                    0.752578834237458,
                    0.752578834237458,
                    0.752578834237458,
                    0.752578834237458,
                    0.752578834237458,
                    0.752578834237458,
                    0.752578834237458,
                    0.7526373825952618,
                    0.7526373825952618,
                    0.7526373825952618,
                    0.7535802986173044,
                    0.7535802986173044,
                    0.7535802986173044,
                    0.7535802986173044,
                    0.7535802986173044,
                    0.7535802986173044,
                    0.7535802986173044,
                    0.7535802986173044,
                    0.7535802986173044,
                    0.7535802986173044,
                    0.7535802986173044,
                    0.7535802986173044,
                    0.7535802986173044,
                    0.7535802986173044,
                    0.7537360913315864,
                    0.7537360913315864,
                    0.7537360913315864,
                    0.7537360913315864,
                    0.7537360913315864,
                    0.7537360913315864,
                    0.7537360913315864,
                    0.7537360913315864,
                    0.7537360913315864,
                    0.7537360913315864,
                    0.7537360913315864,
                    0.7537360913315864,
                    0.7537360913315864,
                    0.7538188252805333,
                    0.7538188252805333,
                    0.7538188252805333,
                    0.7538188252805333,
                    0.7538188252805333,
                    0.7538188252805333,
                    0.7538188252805333,
                    0.7538188252805333
                  ]
                },
                {
                  "marker": {
                    "color": "#cccccc"
                  },
                  "mode": "markers",
                  "name": "Infeasible Trial",
                  "showlegend": false,
                  "type": "scatter",
                  "x": [],
                  "y": []
                }
              ],
              "layout": {
                "template": {
                  "data": {
                    "bar": [
                      {
                        "error_x": {
                          "color": "#2a3f5f"
                        },
                        "error_y": {
                          "color": "#2a3f5f"
                        },
                        "marker": {
                          "line": {
                            "color": "#E5ECF6",
                            "width": 0.5
                          },
                          "pattern": {
                            "fillmode": "overlay",
                            "size": 10,
                            "solidity": 0.2
                          }
                        },
                        "type": "bar"
                      }
                    ],
                    "barpolar": [
                      {
                        "marker": {
                          "line": {
                            "color": "#E5ECF6",
                            "width": 0.5
                          },
                          "pattern": {
                            "fillmode": "overlay",
                            "size": 10,
                            "solidity": 0.2
                          }
                        },
                        "type": "barpolar"
                      }
                    ],
                    "carpet": [
                      {
                        "aaxis": {
                          "endlinecolor": "#2a3f5f",
                          "gridcolor": "white",
                          "linecolor": "white",
                          "minorgridcolor": "white",
                          "startlinecolor": "#2a3f5f"
                        },
                        "baxis": {
                          "endlinecolor": "#2a3f5f",
                          "gridcolor": "white",
                          "linecolor": "white",
                          "minorgridcolor": "white",
                          "startlinecolor": "#2a3f5f"
                        },
                        "type": "carpet"
                      }
                    ],
                    "choropleth": [
                      {
                        "colorbar": {
                          "outlinewidth": 0,
                          "ticks": ""
                        },
                        "type": "choropleth"
                      }
                    ],
                    "contour": [
                      {
                        "colorbar": {
                          "outlinewidth": 0,
                          "ticks": ""
                        },
                        "colorscale": [
                          [
                            0,
                            "#0d0887"
                          ],
                          [
                            0.1111111111111111,
                            "#46039f"
                          ],
                          [
                            0.2222222222222222,
                            "#7201a8"
                          ],
                          [
                            0.3333333333333333,
                            "#9c179e"
                          ],
                          [
                            0.4444444444444444,
                            "#bd3786"
                          ],
                          [
                            0.5555555555555556,
                            "#d8576b"
                          ],
                          [
                            0.6666666666666666,
                            "#ed7953"
                          ],
                          [
                            0.7777777777777778,
                            "#fb9f3a"
                          ],
                          [
                            0.8888888888888888,
                            "#fdca26"
                          ],
                          [
                            1,
                            "#f0f921"
                          ]
                        ],
                        "type": "contour"
                      }
                    ],
                    "contourcarpet": [
                      {
                        "colorbar": {
                          "outlinewidth": 0,
                          "ticks": ""
                        },
                        "type": "contourcarpet"
                      }
                    ],
                    "heatmap": [
                      {
                        "colorbar": {
                          "outlinewidth": 0,
                          "ticks": ""
                        },
                        "colorscale": [
                          [
                            0,
                            "#0d0887"
                          ],
                          [
                            0.1111111111111111,
                            "#46039f"
                          ],
                          [
                            0.2222222222222222,
                            "#7201a8"
                          ],
                          [
                            0.3333333333333333,
                            "#9c179e"
                          ],
                          [
                            0.4444444444444444,
                            "#bd3786"
                          ],
                          [
                            0.5555555555555556,
                            "#d8576b"
                          ],
                          [
                            0.6666666666666666,
                            "#ed7953"
                          ],
                          [
                            0.7777777777777778,
                            "#fb9f3a"
                          ],
                          [
                            0.8888888888888888,
                            "#fdca26"
                          ],
                          [
                            1,
                            "#f0f921"
                          ]
                        ],
                        "type": "heatmap"
                      }
                    ],
                    "histogram": [
                      {
                        "marker": {
                          "pattern": {
                            "fillmode": "overlay",
                            "size": 10,
                            "solidity": 0.2
                          }
                        },
                        "type": "histogram"
                      }
                    ],
                    "histogram2d": [
                      {
                        "colorbar": {
                          "outlinewidth": 0,
                          "ticks": ""
                        },
                        "colorscale": [
                          [
                            0,
                            "#0d0887"
                          ],
                          [
                            0.1111111111111111,
                            "#46039f"
                          ],
                          [
                            0.2222222222222222,
                            "#7201a8"
                          ],
                          [
                            0.3333333333333333,
                            "#9c179e"
                          ],
                          [
                            0.4444444444444444,
                            "#bd3786"
                          ],
                          [
                            0.5555555555555556,
                            "#d8576b"
                          ],
                          [
                            0.6666666666666666,
                            "#ed7953"
                          ],
                          [
                            0.7777777777777778,
                            "#fb9f3a"
                          ],
                          [
                            0.8888888888888888,
                            "#fdca26"
                          ],
                          [
                            1,
                            "#f0f921"
                          ]
                        ],
                        "type": "histogram2d"
                      }
                    ],
                    "histogram2dcontour": [
                      {
                        "colorbar": {
                          "outlinewidth": 0,
                          "ticks": ""
                        },
                        "colorscale": [
                          [
                            0,
                            "#0d0887"
                          ],
                          [
                            0.1111111111111111,
                            "#46039f"
                          ],
                          [
                            0.2222222222222222,
                            "#7201a8"
                          ],
                          [
                            0.3333333333333333,
                            "#9c179e"
                          ],
                          [
                            0.4444444444444444,
                            "#bd3786"
                          ],
                          [
                            0.5555555555555556,
                            "#d8576b"
                          ],
                          [
                            0.6666666666666666,
                            "#ed7953"
                          ],
                          [
                            0.7777777777777778,
                            "#fb9f3a"
                          ],
                          [
                            0.8888888888888888,
                            "#fdca26"
                          ],
                          [
                            1,
                            "#f0f921"
                          ]
                        ],
                        "type": "histogram2dcontour"
                      }
                    ],
                    "mesh3d": [
                      {
                        "colorbar": {
                          "outlinewidth": 0,
                          "ticks": ""
                        },
                        "type": "mesh3d"
                      }
                    ],
                    "parcoords": [
                      {
                        "line": {
                          "colorbar": {
                            "outlinewidth": 0,
                            "ticks": ""
                          }
                        },
                        "type": "parcoords"
                      }
                    ],
                    "pie": [
                      {
                        "automargin": true,
                        "type": "pie"
                      }
                    ],
                    "scatter": [
                      {
                        "fillpattern": {
                          "fillmode": "overlay",
                          "size": 10,
                          "solidity": 0.2
                        },
                        "type": "scatter"
                      }
                    ],
                    "scatter3d": [
                      {
                        "line": {
                          "colorbar": {
                            "outlinewidth": 0,
                            "ticks": ""
                          }
                        },
                        "marker": {
                          "colorbar": {
                            "outlinewidth": 0,
                            "ticks": ""
                          }
                        },
                        "type": "scatter3d"
                      }
                    ],
                    "scattercarpet": [
                      {
                        "marker": {
                          "colorbar": {
                            "outlinewidth": 0,
                            "ticks": ""
                          }
                        },
                        "type": "scattercarpet"
                      }
                    ],
                    "scattergeo": [
                      {
                        "marker": {
                          "colorbar": {
                            "outlinewidth": 0,
                            "ticks": ""
                          }
                        },
                        "type": "scattergeo"
                      }
                    ],
                    "scattergl": [
                      {
                        "marker": {
                          "colorbar": {
                            "outlinewidth": 0,
                            "ticks": ""
                          }
                        },
                        "type": "scattergl"
                      }
                    ],
                    "scattermap": [
                      {
                        "marker": {
                          "colorbar": {
                            "outlinewidth": 0,
                            "ticks": ""
                          }
                        },
                        "type": "scattermap"
                      }
                    ],
                    "scattermapbox": [
                      {
                        "marker": {
                          "colorbar": {
                            "outlinewidth": 0,
                            "ticks": ""
                          }
                        },
                        "type": "scattermapbox"
                      }
                    ],
                    "scatterpolar": [
                      {
                        "marker": {
                          "colorbar": {
                            "outlinewidth": 0,
                            "ticks": ""
                          }
                        },
                        "type": "scatterpolar"
                      }
                    ],
                    "scatterpolargl": [
                      {
                        "marker": {
                          "colorbar": {
                            "outlinewidth": 0,
                            "ticks": ""
                          }
                        },
                        "type": "scatterpolargl"
                      }
                    ],
                    "scatterternary": [
                      {
                        "marker": {
                          "colorbar": {
                            "outlinewidth": 0,
                            "ticks": ""
                          }
                        },
                        "type": "scatterternary"
                      }
                    ],
                    "surface": [
                      {
                        "colorbar": {
                          "outlinewidth": 0,
                          "ticks": ""
                        },
                        "colorscale": [
                          [
                            0,
                            "#0d0887"
                          ],
                          [
                            0.1111111111111111,
                            "#46039f"
                          ],
                          [
                            0.2222222222222222,
                            "#7201a8"
                          ],
                          [
                            0.3333333333333333,
                            "#9c179e"
                          ],
                          [
                            0.4444444444444444,
                            "#bd3786"
                          ],
                          [
                            0.5555555555555556,
                            "#d8576b"
                          ],
                          [
                            0.6666666666666666,
                            "#ed7953"
                          ],
                          [
                            0.7777777777777778,
                            "#fb9f3a"
                          ],
                          [
                            0.8888888888888888,
                            "#fdca26"
                          ],
                          [
                            1,
                            "#f0f921"
                          ]
                        ],
                        "type": "surface"
                      }
                    ],
                    "table": [
                      {
                        "cells": {
                          "fill": {
                            "color": "#EBF0F8"
                          },
                          "line": {
                            "color": "white"
                          }
                        },
                        "header": {
                          "fill": {
                            "color": "#C8D4E3"
                          },
                          "line": {
                            "color": "white"
                          }
                        },
                        "type": "table"
                      }
                    ]
                  },
                  "layout": {
                    "annotationdefaults": {
                      "arrowcolor": "#2a3f5f",
                      "arrowhead": 0,
                      "arrowwidth": 1
                    },
                    "autotypenumbers": "strict",
                    "coloraxis": {
                      "colorbar": {
                        "outlinewidth": 0,
                        "ticks": ""
                      }
                    },
                    "colorscale": {
                      "diverging": [
                        [
                          0,
                          "#8e0152"
                        ],
                        [
                          0.1,
                          "#c51b7d"
                        ],
                        [
                          0.2,
                          "#de77ae"
                        ],
                        [
                          0.3,
                          "#f1b6da"
                        ],
                        [
                          0.4,
                          "#fde0ef"
                        ],
                        [
                          0.5,
                          "#f7f7f7"
                        ],
                        [
                          0.6,
                          "#e6f5d0"
                        ],
                        [
                          0.7,
                          "#b8e186"
                        ],
                        [
                          0.8,
                          "#7fbc41"
                        ],
                        [
                          0.9,
                          "#4d9221"
                        ],
                        [
                          1,
                          "#276419"
                        ]
                      ],
                      "sequential": [
                        [
                          0,
                          "#0d0887"
                        ],
                        [
                          0.1111111111111111,
                          "#46039f"
                        ],
                        [
                          0.2222222222222222,
                          "#7201a8"
                        ],
                        [
                          0.3333333333333333,
                          "#9c179e"
                        ],
                        [
                          0.4444444444444444,
                          "#bd3786"
                        ],
                        [
                          0.5555555555555556,
                          "#d8576b"
                        ],
                        [
                          0.6666666666666666,
                          "#ed7953"
                        ],
                        [
                          0.7777777777777778,
                          "#fb9f3a"
                        ],
                        [
                          0.8888888888888888,
                          "#fdca26"
                        ],
                        [
                          1,
                          "#f0f921"
                        ]
                      ],
                      "sequentialminus": [
                        [
                          0,
                          "#0d0887"
                        ],
                        [
                          0.1111111111111111,
                          "#46039f"
                        ],
                        [
                          0.2222222222222222,
                          "#7201a8"
                        ],
                        [
                          0.3333333333333333,
                          "#9c179e"
                        ],
                        [
                          0.4444444444444444,
                          "#bd3786"
                        ],
                        [
                          0.5555555555555556,
                          "#d8576b"
                        ],
                        [
                          0.6666666666666666,
                          "#ed7953"
                        ],
                        [
                          0.7777777777777778,
                          "#fb9f3a"
                        ],
                        [
                          0.8888888888888888,
                          "#fdca26"
                        ],
                        [
                          1,
                          "#f0f921"
                        ]
                      ]
                    },
                    "colorway": [
                      "#636efa",
                      "#EF553B",
                      "#00cc96",
                      "#ab63fa",
                      "#FFA15A",
                      "#19d3f3",
                      "#FF6692",
                      "#B6E880",
                      "#FF97FF",
                      "#FECB52"
                    ],
                    "font": {
                      "color": "#2a3f5f"
                    },
                    "geo": {
                      "bgcolor": "white",
                      "lakecolor": "white",
                      "landcolor": "#E5ECF6",
                      "showlakes": true,
                      "showland": true,
                      "subunitcolor": "white"
                    },
                    "hoverlabel": {
                      "align": "left"
                    },
                    "hovermode": "closest",
                    "mapbox": {
                      "style": "light"
                    },
                    "paper_bgcolor": "white",
                    "plot_bgcolor": "#E5ECF6",
                    "polar": {
                      "angularaxis": {
                        "gridcolor": "white",
                        "linecolor": "white",
                        "ticks": ""
                      },
                      "bgcolor": "#E5ECF6",
                      "radialaxis": {
                        "gridcolor": "white",
                        "linecolor": "white",
                        "ticks": ""
                      }
                    },
                    "scene": {
                      "xaxis": {
                        "backgroundcolor": "#E5ECF6",
                        "gridcolor": "white",
                        "gridwidth": 2,
                        "linecolor": "white",
                        "showbackground": true,
                        "ticks": "",
                        "zerolinecolor": "white"
                      },
                      "yaxis": {
                        "backgroundcolor": "#E5ECF6",
                        "gridcolor": "white",
                        "gridwidth": 2,
                        "linecolor": "white",
                        "showbackground": true,
                        "ticks": "",
                        "zerolinecolor": "white"
                      },
                      "zaxis": {
                        "backgroundcolor": "#E5ECF6",
                        "gridcolor": "white",
                        "gridwidth": 2,
                        "linecolor": "white",
                        "showbackground": true,
                        "ticks": "",
                        "zerolinecolor": "white"
                      }
                    },
                    "shapedefaults": {
                      "line": {
                        "color": "#2a3f5f"
                      }
                    },
                    "ternary": {
                      "aaxis": {
                        "gridcolor": "white",
                        "linecolor": "white",
                        "ticks": ""
                      },
                      "baxis": {
                        "gridcolor": "white",
                        "linecolor": "white",
                        "ticks": ""
                      },
                      "bgcolor": "#E5ECF6",
                      "caxis": {
                        "gridcolor": "white",
                        "linecolor": "white",
                        "ticks": ""
                      }
                    },
                    "title": {
                      "x": 0.05
                    },
                    "xaxis": {
                      "automargin": true,
                      "gridcolor": "white",
                      "linecolor": "white",
                      "ticks": "",
                      "title": {
                        "standoff": 15
                      },
                      "zerolinecolor": "white",
                      "zerolinewidth": 2
                    },
                    "yaxis": {
                      "automargin": true,
                      "gridcolor": "white",
                      "linecolor": "white",
                      "ticks": "",
                      "title": {
                        "standoff": 15
                      },
                      "zerolinecolor": "white",
                      "zerolinewidth": 2
                    }
                  }
                },
                "title": {
                  "text": "Optimization History Plot"
                },
                "xaxis": {
                  "title": {
                    "text": "Trial"
                  }
                },
                "yaxis": {
                  "title": {
                    "text": "Objective Value"
                  }
                }
              }
            }
          },
          "metadata": {},
          "output_type": "display_data"
        },
        {
          "data": {
            "application/vnd.plotly.v1+json": {
              "config": {
                "plotlyServerURL": "https://plot.ly"
              },
              "data": [
                {
                  "cliponaxis": false,
                  "hovertemplate": [
                    "num_leaves (IntDistribution): 0.0537747903220562<extra></extra>",
                    "eta (FloatDistribution): 0.11132811726494354<extra></extra>",
                    "n_estimators (IntDistribution): 0.19563495518456586<extra></extra>",
                    "max_depth (IntDistribution): 0.6392621372284343<extra></extra>"
                  ],
                  "name": "Objective Value",
                  "orientation": "h",
                  "text": [
                    "0.05",
                    "0.11",
                    "0.20",
                    "0.64"
                  ],
                  "textposition": "outside",
                  "type": "bar",
                  "x": [
                    0.0537747903220562,
                    0.11132811726494354,
                    0.19563495518456586,
                    0.6392621372284343
                  ],
                  "y": [
                    "num_leaves",
                    "eta",
                    "n_estimators",
                    "max_depth"
                  ]
                }
              ],
              "layout": {
                "template": {
                  "data": {
                    "bar": [
                      {
                        "error_x": {
                          "color": "#2a3f5f"
                        },
                        "error_y": {
                          "color": "#2a3f5f"
                        },
                        "marker": {
                          "line": {
                            "color": "#E5ECF6",
                            "width": 0.5
                          },
                          "pattern": {
                            "fillmode": "overlay",
                            "size": 10,
                            "solidity": 0.2
                          }
                        },
                        "type": "bar"
                      }
                    ],
                    "barpolar": [
                      {
                        "marker": {
                          "line": {
                            "color": "#E5ECF6",
                            "width": 0.5
                          },
                          "pattern": {
                            "fillmode": "overlay",
                            "size": 10,
                            "solidity": 0.2
                          }
                        },
                        "type": "barpolar"
                      }
                    ],
                    "carpet": [
                      {
                        "aaxis": {
                          "endlinecolor": "#2a3f5f",
                          "gridcolor": "white",
                          "linecolor": "white",
                          "minorgridcolor": "white",
                          "startlinecolor": "#2a3f5f"
                        },
                        "baxis": {
                          "endlinecolor": "#2a3f5f",
                          "gridcolor": "white",
                          "linecolor": "white",
                          "minorgridcolor": "white",
                          "startlinecolor": "#2a3f5f"
                        },
                        "type": "carpet"
                      }
                    ],
                    "choropleth": [
                      {
                        "colorbar": {
                          "outlinewidth": 0,
                          "ticks": ""
                        },
                        "type": "choropleth"
                      }
                    ],
                    "contour": [
                      {
                        "colorbar": {
                          "outlinewidth": 0,
                          "ticks": ""
                        },
                        "colorscale": [
                          [
                            0,
                            "#0d0887"
                          ],
                          [
                            0.1111111111111111,
                            "#46039f"
                          ],
                          [
                            0.2222222222222222,
                            "#7201a8"
                          ],
                          [
                            0.3333333333333333,
                            "#9c179e"
                          ],
                          [
                            0.4444444444444444,
                            "#bd3786"
                          ],
                          [
                            0.5555555555555556,
                            "#d8576b"
                          ],
                          [
                            0.6666666666666666,
                            "#ed7953"
                          ],
                          [
                            0.7777777777777778,
                            "#fb9f3a"
                          ],
                          [
                            0.8888888888888888,
                            "#fdca26"
                          ],
                          [
                            1,
                            "#f0f921"
                          ]
                        ],
                        "type": "contour"
                      }
                    ],
                    "contourcarpet": [
                      {
                        "colorbar": {
                          "outlinewidth": 0,
                          "ticks": ""
                        },
                        "type": "contourcarpet"
                      }
                    ],
                    "heatmap": [
                      {
                        "colorbar": {
                          "outlinewidth": 0,
                          "ticks": ""
                        },
                        "colorscale": [
                          [
                            0,
                            "#0d0887"
                          ],
                          [
                            0.1111111111111111,
                            "#46039f"
                          ],
                          [
                            0.2222222222222222,
                            "#7201a8"
                          ],
                          [
                            0.3333333333333333,
                            "#9c179e"
                          ],
                          [
                            0.4444444444444444,
                            "#bd3786"
                          ],
                          [
                            0.5555555555555556,
                            "#d8576b"
                          ],
                          [
                            0.6666666666666666,
                            "#ed7953"
                          ],
                          [
                            0.7777777777777778,
                            "#fb9f3a"
                          ],
                          [
                            0.8888888888888888,
                            "#fdca26"
                          ],
                          [
                            1,
                            "#f0f921"
                          ]
                        ],
                        "type": "heatmap"
                      }
                    ],
                    "histogram": [
                      {
                        "marker": {
                          "pattern": {
                            "fillmode": "overlay",
                            "size": 10,
                            "solidity": 0.2
                          }
                        },
                        "type": "histogram"
                      }
                    ],
                    "histogram2d": [
                      {
                        "colorbar": {
                          "outlinewidth": 0,
                          "ticks": ""
                        },
                        "colorscale": [
                          [
                            0,
                            "#0d0887"
                          ],
                          [
                            0.1111111111111111,
                            "#46039f"
                          ],
                          [
                            0.2222222222222222,
                            "#7201a8"
                          ],
                          [
                            0.3333333333333333,
                            "#9c179e"
                          ],
                          [
                            0.4444444444444444,
                            "#bd3786"
                          ],
                          [
                            0.5555555555555556,
                            "#d8576b"
                          ],
                          [
                            0.6666666666666666,
                            "#ed7953"
                          ],
                          [
                            0.7777777777777778,
                            "#fb9f3a"
                          ],
                          [
                            0.8888888888888888,
                            "#fdca26"
                          ],
                          [
                            1,
                            "#f0f921"
                          ]
                        ],
                        "type": "histogram2d"
                      }
                    ],
                    "histogram2dcontour": [
                      {
                        "colorbar": {
                          "outlinewidth": 0,
                          "ticks": ""
                        },
                        "colorscale": [
                          [
                            0,
                            "#0d0887"
                          ],
                          [
                            0.1111111111111111,
                            "#46039f"
                          ],
                          [
                            0.2222222222222222,
                            "#7201a8"
                          ],
                          [
                            0.3333333333333333,
                            "#9c179e"
                          ],
                          [
                            0.4444444444444444,
                            "#bd3786"
                          ],
                          [
                            0.5555555555555556,
                            "#d8576b"
                          ],
                          [
                            0.6666666666666666,
                            "#ed7953"
                          ],
                          [
                            0.7777777777777778,
                            "#fb9f3a"
                          ],
                          [
                            0.8888888888888888,
                            "#fdca26"
                          ],
                          [
                            1,
                            "#f0f921"
                          ]
                        ],
                        "type": "histogram2dcontour"
                      }
                    ],
                    "mesh3d": [
                      {
                        "colorbar": {
                          "outlinewidth": 0,
                          "ticks": ""
                        },
                        "type": "mesh3d"
                      }
                    ],
                    "parcoords": [
                      {
                        "line": {
                          "colorbar": {
                            "outlinewidth": 0,
                            "ticks": ""
                          }
                        },
                        "type": "parcoords"
                      }
                    ],
                    "pie": [
                      {
                        "automargin": true,
                        "type": "pie"
                      }
                    ],
                    "scatter": [
                      {
                        "fillpattern": {
                          "fillmode": "overlay",
                          "size": 10,
                          "solidity": 0.2
                        },
                        "type": "scatter"
                      }
                    ],
                    "scatter3d": [
                      {
                        "line": {
                          "colorbar": {
                            "outlinewidth": 0,
                            "ticks": ""
                          }
                        },
                        "marker": {
                          "colorbar": {
                            "outlinewidth": 0,
                            "ticks": ""
                          }
                        },
                        "type": "scatter3d"
                      }
                    ],
                    "scattercarpet": [
                      {
                        "marker": {
                          "colorbar": {
                            "outlinewidth": 0,
                            "ticks": ""
                          }
                        },
                        "type": "scattercarpet"
                      }
                    ],
                    "scattergeo": [
                      {
                        "marker": {
                          "colorbar": {
                            "outlinewidth": 0,
                            "ticks": ""
                          }
                        },
                        "type": "scattergeo"
                      }
                    ],
                    "scattergl": [
                      {
                        "marker": {
                          "colorbar": {
                            "outlinewidth": 0,
                            "ticks": ""
                          }
                        },
                        "type": "scattergl"
                      }
                    ],
                    "scattermap": [
                      {
                        "marker": {
                          "colorbar": {
                            "outlinewidth": 0,
                            "ticks": ""
                          }
                        },
                        "type": "scattermap"
                      }
                    ],
                    "scattermapbox": [
                      {
                        "marker": {
                          "colorbar": {
                            "outlinewidth": 0,
                            "ticks": ""
                          }
                        },
                        "type": "scattermapbox"
                      }
                    ],
                    "scatterpolar": [
                      {
                        "marker": {
                          "colorbar": {
                            "outlinewidth": 0,
                            "ticks": ""
                          }
                        },
                        "type": "scatterpolar"
                      }
                    ],
                    "scatterpolargl": [
                      {
                        "marker": {
                          "colorbar": {
                            "outlinewidth": 0,
                            "ticks": ""
                          }
                        },
                        "type": "scatterpolargl"
                      }
                    ],
                    "scatterternary": [
                      {
                        "marker": {
                          "colorbar": {
                            "outlinewidth": 0,
                            "ticks": ""
                          }
                        },
                        "type": "scatterternary"
                      }
                    ],
                    "surface": [
                      {
                        "colorbar": {
                          "outlinewidth": 0,
                          "ticks": ""
                        },
                        "colorscale": [
                          [
                            0,
                            "#0d0887"
                          ],
                          [
                            0.1111111111111111,
                            "#46039f"
                          ],
                          [
                            0.2222222222222222,
                            "#7201a8"
                          ],
                          [
                            0.3333333333333333,
                            "#9c179e"
                          ],
                          [
                            0.4444444444444444,
                            "#bd3786"
                          ],
                          [
                            0.5555555555555556,
                            "#d8576b"
                          ],
                          [
                            0.6666666666666666,
                            "#ed7953"
                          ],
                          [
                            0.7777777777777778,
                            "#fb9f3a"
                          ],
                          [
                            0.8888888888888888,
                            "#fdca26"
                          ],
                          [
                            1,
                            "#f0f921"
                          ]
                        ],
                        "type": "surface"
                      }
                    ],
                    "table": [
                      {
                        "cells": {
                          "fill": {
                            "color": "#EBF0F8"
                          },
                          "line": {
                            "color": "white"
                          }
                        },
                        "header": {
                          "fill": {
                            "color": "#C8D4E3"
                          },
                          "line": {
                            "color": "white"
                          }
                        },
                        "type": "table"
                      }
                    ]
                  },
                  "layout": {
                    "annotationdefaults": {
                      "arrowcolor": "#2a3f5f",
                      "arrowhead": 0,
                      "arrowwidth": 1
                    },
                    "autotypenumbers": "strict",
                    "coloraxis": {
                      "colorbar": {
                        "outlinewidth": 0,
                        "ticks": ""
                      }
                    },
                    "colorscale": {
                      "diverging": [
                        [
                          0,
                          "#8e0152"
                        ],
                        [
                          0.1,
                          "#c51b7d"
                        ],
                        [
                          0.2,
                          "#de77ae"
                        ],
                        [
                          0.3,
                          "#f1b6da"
                        ],
                        [
                          0.4,
                          "#fde0ef"
                        ],
                        [
                          0.5,
                          "#f7f7f7"
                        ],
                        [
                          0.6,
                          "#e6f5d0"
                        ],
                        [
                          0.7,
                          "#b8e186"
                        ],
                        [
                          0.8,
                          "#7fbc41"
                        ],
                        [
                          0.9,
                          "#4d9221"
                        ],
                        [
                          1,
                          "#276419"
                        ]
                      ],
                      "sequential": [
                        [
                          0,
                          "#0d0887"
                        ],
                        [
                          0.1111111111111111,
                          "#46039f"
                        ],
                        [
                          0.2222222222222222,
                          "#7201a8"
                        ],
                        [
                          0.3333333333333333,
                          "#9c179e"
                        ],
                        [
                          0.4444444444444444,
                          "#bd3786"
                        ],
                        [
                          0.5555555555555556,
                          "#d8576b"
                        ],
                        [
                          0.6666666666666666,
                          "#ed7953"
                        ],
                        [
                          0.7777777777777778,
                          "#fb9f3a"
                        ],
                        [
                          0.8888888888888888,
                          "#fdca26"
                        ],
                        [
                          1,
                          "#f0f921"
                        ]
                      ],
                      "sequentialminus": [
                        [
                          0,
                          "#0d0887"
                        ],
                        [
                          0.1111111111111111,
                          "#46039f"
                        ],
                        [
                          0.2222222222222222,
                          "#7201a8"
                        ],
                        [
                          0.3333333333333333,
                          "#9c179e"
                        ],
                        [
                          0.4444444444444444,
                          "#bd3786"
                        ],
                        [
                          0.5555555555555556,
                          "#d8576b"
                        ],
                        [
                          0.6666666666666666,
                          "#ed7953"
                        ],
                        [
                          0.7777777777777778,
                          "#fb9f3a"
                        ],
                        [
                          0.8888888888888888,
                          "#fdca26"
                        ],
                        [
                          1,
                          "#f0f921"
                        ]
                      ]
                    },
                    "colorway": [
                      "#636efa",
                      "#EF553B",
                      "#00cc96",
                      "#ab63fa",
                      "#FFA15A",
                      "#19d3f3",
                      "#FF6692",
                      "#B6E880",
                      "#FF97FF",
                      "#FECB52"
                    ],
                    "font": {
                      "color": "#2a3f5f"
                    },
                    "geo": {
                      "bgcolor": "white",
                      "lakecolor": "white",
                      "landcolor": "#E5ECF6",
                      "showlakes": true,
                      "showland": true,
                      "subunitcolor": "white"
                    },
                    "hoverlabel": {
                      "align": "left"
                    },
                    "hovermode": "closest",
                    "mapbox": {
                      "style": "light"
                    },
                    "paper_bgcolor": "white",
                    "plot_bgcolor": "#E5ECF6",
                    "polar": {
                      "angularaxis": {
                        "gridcolor": "white",
                        "linecolor": "white",
                        "ticks": ""
                      },
                      "bgcolor": "#E5ECF6",
                      "radialaxis": {
                        "gridcolor": "white",
                        "linecolor": "white",
                        "ticks": ""
                      }
                    },
                    "scene": {
                      "xaxis": {
                        "backgroundcolor": "#E5ECF6",
                        "gridcolor": "white",
                        "gridwidth": 2,
                        "linecolor": "white",
                        "showbackground": true,
                        "ticks": "",
                        "zerolinecolor": "white"
                      },
                      "yaxis": {
                        "backgroundcolor": "#E5ECF6",
                        "gridcolor": "white",
                        "gridwidth": 2,
                        "linecolor": "white",
                        "showbackground": true,
                        "ticks": "",
                        "zerolinecolor": "white"
                      },
                      "zaxis": {
                        "backgroundcolor": "#E5ECF6",
                        "gridcolor": "white",
                        "gridwidth": 2,
                        "linecolor": "white",
                        "showbackground": true,
                        "ticks": "",
                        "zerolinecolor": "white"
                      }
                    },
                    "shapedefaults": {
                      "line": {
                        "color": "#2a3f5f"
                      }
                    },
                    "ternary": {
                      "aaxis": {
                        "gridcolor": "white",
                        "linecolor": "white",
                        "ticks": ""
                      },
                      "baxis": {
                        "gridcolor": "white",
                        "linecolor": "white",
                        "ticks": ""
                      },
                      "bgcolor": "#E5ECF6",
                      "caxis": {
                        "gridcolor": "white",
                        "linecolor": "white",
                        "ticks": ""
                      }
                    },
                    "title": {
                      "x": 0.05
                    },
                    "xaxis": {
                      "automargin": true,
                      "gridcolor": "white",
                      "linecolor": "white",
                      "ticks": "",
                      "title": {
                        "standoff": 15
                      },
                      "zerolinecolor": "white",
                      "zerolinewidth": 2
                    },
                    "yaxis": {
                      "automargin": true,
                      "gridcolor": "white",
                      "linecolor": "white",
                      "ticks": "",
                      "title": {
                        "standoff": 15
                      },
                      "zerolinecolor": "white",
                      "zerolinewidth": 2
                    }
                  }
                },
                "title": {
                  "text": "Hyperparameter Importances"
                },
                "xaxis": {
                  "title": {
                    "text": "Hyperparameter Importance"
                  }
                },
                "yaxis": {
                  "title": {
                    "text": "Hyperparameter"
                  }
                }
              }
            }
          },
          "metadata": {},
          "output_type": "display_data"
        }
      ],
      "source": [
        "from optuna.visualization import plot_optimization_history, plot_param_importances\n",
        "\n",
        "plot_optimization_history(boost_study).show()\n",
        "\n",
        "plot_param_importances(boost_study).show()"
      ]
    },
    {
      "cell_type": "markdown",
      "id": "d3dc99b5",
      "metadata": {},
      "source": [
        "### Градиентный бустинг random search"
      ]
    },
    {
      "cell_type": "code",
      "execution_count": null,
      "id": "22767fed",
      "metadata": {},
      "outputs": [
        {
          "name": "stdout",
          "output_type": "stream",
          "text": [
            "Fitting 2 folds for each of 50 candidates, totalling 100 fits\n",
            "RandomSearchCV best ROC-AUC: 0.745935607069822\n",
            "Best params: {'num_leaves': np.int64(176), 'n_estimators': np.int64(200), 'max_depth': np.int64(4), 'eta': np.float64(0.004498432668969444)}\n"
          ]
        }
      ],
      "source": [
        "lgbm = lgb.LGBMClassifier(\n",
        "    objective=\"binary\",\n",
        "    metric=\"auc\",\n",
        "    verbosity=-1,\n",
        "    random_state=42,\n",
        "    n_jobs=-1\n",
        ")\n",
        "\n",
        "param_dist = {\n",
        "    \"num_leaves\": np.arange(16, 257, 16),\n",
        "    \"max_depth\": np.arange(4, 9, 1),\n",
        "    \"eta\": np.logspace(-3, -1, 50), \n",
        "    \"n_estimators\": np.arange(50, 1001, 50),\n",
        "}\n",
        "\n",
        "boost_random_search = RandomizedSearchCV(\n",
        "    estimator=lgbm,\n",
        "    param_distributions=param_dist,\n",
        "    n_iter=50,          \n",
        "    scoring=\"roc_auc\",  \n",
        "    random_state=42,\n",
        "    cv=2,\n",
        "    n_jobs=-1,\n",
        "    verbose=3\n",
        ")\n",
        "\n",
        "boost_random_search.fit(X_tr, y_tr)\n",
        "\n",
        "print(\"RandomSearchCV best ROC-AUC:\", boost_random_search.best_score_)\n",
        "print(\"Best params:\", boost_random_search.best_params_)"
      ]
    },
    {
      "cell_type": "code",
      "execution_count": null,
      "id": "2bf16372",
      "metadata": {},
      "outputs": [
        {
          "data": {
            "image/png": "[encoded data removed]",
            "text/plain": [
              "<Figure size 1000x600 with 1 Axes>"
            ]
          },
          "metadata": {},
          "output_type": "display_data"
        }
      ],
      "source": [
        "import matplotlib.pyplot as plt\n",
        "import pandas as pd\n",
        "\n",
        "results = pd.DataFrame(boost_random_search.cv_results_)\n",
        "mean_scores = results[\"mean_test_score\"]\n",
        "\n",
        "plt.figure(figsize=(10, 6))\n",
        "plt.plot(range(1, len(mean_scores) + 1), mean_scores, marker=\"o\", label=\"ROC-AUC per iteration\")\n",
        "plt.plot(range(1, len(mean_scores) + 1), np.maximum.accumulate(mean_scores),\n",
        "         linestyle=\"--\", color=\"red\", label=\"Best so far\")\n",
        "plt.xlabel(\"Iteration\")\n",
        "plt.ylabel(\"ROC-AUC (mean_test_score)\")\n",
        "plt.title(\"RandomizedSearchCV: LightGBM ROC-AUC over iterations\")\n",
        "plt.legend()\n",
        "plt.grid(True)\n",
        "plt.show()"
      ]
    },
    {
      "cell_type": "markdown",
      "id": "6471c84e",
      "metadata": {},
      "source": [
        "### lightautoml"
      ]
    },
    {
      "cell_type": "code",
      "execution_count": null,
      "id": "958047e9",
      "metadata": {},
      "outputs": [],
      "source": [
        "!pip install -U lightautoml"
      ]
    },
    {
      "cell_type": "code",
      "execution_count": null,
      "id": "751a90d9",
      "metadata": {},
      "outputs": [],
      "source": [
        "import numpy as np\n",
        "from sklearn.metrics import roc_auc_score\n",
        "from lightautoml.automl.presets.tabular_presets import TabularAutoML\n",
        "from lightautoml.tasks import Task"
      ]
    },
    {
      "cell_type": "code",
      "execution_count": null,
      "id": "77d4919c",
      "metadata": {},
      "outputs": [],
      "source": [
        "task = Task('binary')"
      ]
    },
    {
      "cell_type": "code",
      "execution_count": null,
      "id": "1d6460bb",
      "metadata": {},
      "outputs": [],
      "source": [
        "roles = {\n",
        "    'target': 'target'\n",
        "}"
      ]
    },
    {
      "cell_type": "code",
      "execution_count": null,
      "id": "110d6ff2",
      "metadata": {},
      "outputs": [],
      "source": [
        "automl = TabularAutoML(\n",
        "    task = task,\n",
        "    timeout = 600,\n",
        "    cpu_limit = -1,\n",
        "    reader_params = {'cv': 2, 'random_state': 42},\n",
        ")"
      ]
    },
    {
      "cell_type": "code",
      "execution_count": null,
      "id": "cbdbbe41",
      "metadata": {},
      "outputs": [
        {
          "data": {
            "text/html": [
              "<div>\n",
              "<style scoped>\n",
              "    .dataframe tbody tr th:only-of-type {\n",
              "        vertical-align: middle;\n",
              "    }\n",
              "\n",
              "    .dataframe tbody tr th {\n",
              "        vertical-align: top;\n",
              "    }\n",
              "\n",
              "    .dataframe thead th {\n",
              "        text-align: right;\n",
              "    }\n",
              "</style>\n",
              "<table border=\"1\" class=\"dataframe\">\n",
              "  <thead>\n",
              "    <tr style=\"text-align: right;\">\n",
              "      <th></th>\n",
              "      <th>f0</th>\n",
              "      <th>f1</th>\n",
              "      <th>f2</th>\n",
              "      <th>f3</th>\n",
              "      <th>f4</th>\n",
              "      <th>f5</th>\n",
              "      <th>f6</th>\n",
              "      <th>f7</th>\n",
              "      <th>f8</th>\n",
              "      <th>f9</th>\n",
              "      <th>f10</th>\n",
              "      <th>f11</th>\n",
              "      <th>f12</th>\n",
              "      <th>f13</th>\n",
              "      <th>f14</th>\n",
              "      <th>f15</th>\n",
              "      <th>f16</th>\n",
              "      <th>f17</th>\n",
              "      <th>f18</th>\n",
              "      <th>f19</th>\n",
              "      <th>f20</th>\n",
              "      <th>f21</th>\n",
              "      <th>f22</th>\n",
              "      <th>f23</th>\n",
              "      <th>f24</th>\n",
              "      <th>f25</th>\n",
              "      <th>f26</th>\n",
              "      <th>f27</th>\n",
              "      <th>f28</th>\n",
              "      <th>f29</th>\n",
              "      <th>f30</th>\n",
              "      <th>f31</th>\n",
              "      <th>f32</th>\n",
              "      <th>f33</th>\n",
              "      <th>f34</th>\n",
              "      <th>f35</th>\n",
              "      <th>f36</th>\n",
              "      <th>f37</th>\n",
              "      <th>f38</th>\n",
              "      <th>f39</th>\n",
              "      <th>f40</th>\n",
              "      <th>f41</th>\n",
              "      <th>f42</th>\n",
              "      <th>f43</th>\n",
              "      <th>f44</th>\n",
              "      <th>f45</th>\n",
              "      <th>f46</th>\n",
              "      <th>f47</th>\n",
              "      <th>f48</th>\n",
              "      <th>f49</th>\n",
              "      <th>...</th>\n",
              "      <th>f55</th>\n",
              "      <th>f56</th>\n",
              "      <th>f57</th>\n",
              "      <th>f58</th>\n",
              "      <th>f59</th>\n",
              "      <th>f60</th>\n",
              "      <th>f61</th>\n",
              "      <th>f62</th>\n",
              "      <th>f63</th>\n",
              "      <th>f64</th>\n",
              "      <th>f65</th>\n",
              "      <th>f66</th>\n",
              "      <th>f67</th>\n",
              "      <th>f68</th>\n",
              "      <th>f69</th>\n",
              "      <th>f70</th>\n",
              "      <th>f71</th>\n",
              "      <th>f72</th>\n",
              "      <th>f73</th>\n",
              "      <th>f74</th>\n",
              "      <th>f75</th>\n",
              "      <th>f76</th>\n",
              "      <th>f77</th>\n",
              "      <th>f78</th>\n",
              "      <th>f79</th>\n",
              "      <th>f80</th>\n",
              "      <th>f81</th>\n",
              "      <th>f82</th>\n",
              "      <th>f83</th>\n",
              "      <th>f84</th>\n",
              "      <th>f85</th>\n",
              "      <th>f86</th>\n",
              "      <th>f87</th>\n",
              "      <th>f88</th>\n",
              "      <th>f89</th>\n",
              "      <th>f90</th>\n",
              "      <th>f91</th>\n",
              "      <th>f92</th>\n",
              "      <th>f93</th>\n",
              "      <th>f94</th>\n",
              "      <th>f95</th>\n",
              "      <th>f96</th>\n",
              "      <th>f97</th>\n",
              "      <th>f98</th>\n",
              "      <th>f99</th>\n",
              "      <th>f100</th>\n",
              "      <th>f101</th>\n",
              "      <th>f102</th>\n",
              "      <th>f103</th>\n",
              "      <th>target</th>\n",
              "    </tr>\n",
              "  </thead>\n",
              "  <tbody>\n",
              "    <tr>\n",
              "      <th>0</th>\n",
              "      <td>-0.578022</td>\n",
              "      <td>0.319572</td>\n",
              "      <td>-0.478530</td>\n",
              "      <td>-0.166611</td>\n",
              "      <td>-0.507693</td>\n",
              "      <td>-0.148956</td>\n",
              "      <td>1.507080</td>\n",
              "      <td>-0.456725</td>\n",
              "      <td>0.378344</td>\n",
              "      <td>0.579037</td>\n",
              "      <td>-0.146714</td>\n",
              "      <td>0.002155</td>\n",
              "      <td>0.469198</td>\n",
              "      <td>-0.499427</td>\n",
              "      <td>0.042491</td>\n",
              "      <td>1.596250</td>\n",
              "      <td>-0.24635</td>\n",
              "      <td>-1.268051</td>\n",
              "      <td>-0.103730</td>\n",
              "      <td>-0.062977</td>\n",
              "      <td>-0.631105</td>\n",
              "      <td>-0.125246</td>\n",
              "      <td>-0.231333</td>\n",
              "      <td>-0.20509</td>\n",
              "      <td>-0.292269</td>\n",
              "      <td>-0.547097</td>\n",
              "      <td>-0.466809</td>\n",
              "      <td>-3.019282</td>\n",
              "      <td>-1.317838</td>\n",
              "      <td>-2.151710</td>\n",
              "      <td>-1.001929</td>\n",
              "      <td>-0.840529</td>\n",
              "      <td>-0.173447</td>\n",
              "      <td>-2.063457</td>\n",
              "      <td>-0.321108</td>\n",
              "      <td>-0.368122</td>\n",
              "      <td>-1.062255</td>\n",
              "      <td>-1.060530</td>\n",
              "      <td>-0.984358</td>\n",
              "      <td>-0.354417</td>\n",
              "      <td>-1.185346</td>\n",
              "      <td>-0.901696</td>\n",
              "      <td>-0.100543</td>\n",
              "      <td>-0.307868</td>\n",
              "      <td>-0.955134</td>\n",
              "      <td>-0.770708</td>\n",
              "      <td>-0.151662</td>\n",
              "      <td>-2.027627</td>\n",
              "      <td>-0.277881</td>\n",
              "      <td>-0.355786</td>\n",
              "      <td>...</td>\n",
              "      <td>-0.864580</td>\n",
              "      <td>-0.09533</td>\n",
              "      <td>-0.262327</td>\n",
              "      <td>-0.984777</td>\n",
              "      <td>-0.834923</td>\n",
              "      <td>-0.171482</td>\n",
              "      <td>-2.058413</td>\n",
              "      <td>-0.313138</td>\n",
              "      <td>-0.364988</td>\n",
              "      <td>-1.055607</td>\n",
              "      <td>-1.056321</td>\n",
              "      <td>-0.980393</td>\n",
              "      <td>-0.352276</td>\n",
              "      <td>-1.178089</td>\n",
              "      <td>-0.894608</td>\n",
              "      <td>-0.099534</td>\n",
              "      <td>-0.297948</td>\n",
              "      <td>-0.900454</td>\n",
              "      <td>0.240361</td>\n",
              "      <td>4.122506</td>\n",
              "      <td>0.249629</td>\n",
              "      <td>5.229995</td>\n",
              "      <td>-0.207918</td>\n",
              "      <td>-0.006816</td>\n",
              "      <td>0.638452</td>\n",
              "      <td>-0.009395</td>\n",
              "      <td>-0.124305</td>\n",
              "      <td>-0.310248</td>\n",
              "      <td>-0.013111</td>\n",
              "      <td>-0.297036</td>\n",
              "      <td>-0.06206</td>\n",
              "      <td>-0.004819</td>\n",
              "      <td>-0.063033</td>\n",
              "      <td>-0.003048</td>\n",
              "      <td>-0.058209</td>\n",
              "      <td>-0.05469</td>\n",
              "      <td>-0.034839</td>\n",
              "      <td>-0.100506</td>\n",
              "      <td>-0.016416</td>\n",
              "      <td>-0.090632</td>\n",
              "      <td>-0.023909</td>\n",
              "      <td>-0.023118</td>\n",
              "      <td>-0.018915</td>\n",
              "      <td>-0.071300</td>\n",
              "      <td>-0.059013</td>\n",
              "      <td>-0.157032</td>\n",
              "      <td>-0.270450</td>\n",
              "      <td>-0.285845</td>\n",
              "      <td>-0.440061</td>\n",
              "      <td>1</td>\n",
              "    </tr>\n",
              "    <tr>\n",
              "      <th>1</th>\n",
              "      <td>-0.578022</td>\n",
              "      <td>0.954819</td>\n",
              "      <td>1.722912</td>\n",
              "      <td>0.590166</td>\n",
              "      <td>1.597702</td>\n",
              "      <td>-1.252328</td>\n",
              "      <td>-0.165117</td>\n",
              "      <td>-0.460622</td>\n",
              "      <td>1.076840</td>\n",
              "      <td>1.790664</td>\n",
              "      <td>-0.146714</td>\n",
              "      <td>0.002155</td>\n",
              "      <td>0.469198</td>\n",
              "      <td>-0.499427</td>\n",
              "      <td>0.042491</td>\n",
              "      <td>1.596250</td>\n",
              "      <td>-0.24635</td>\n",
              "      <td>-0.167174</td>\n",
              "      <td>-2.065944</td>\n",
              "      <td>-2.050710</td>\n",
              "      <td>-0.325269</td>\n",
              "      <td>-0.125246</td>\n",
              "      <td>-0.231333</td>\n",
              "      <td>-0.20509</td>\n",
              "      <td>-0.292269</td>\n",
              "      <td>-0.547097</td>\n",
              "      <td>-0.466809</td>\n",
              "      <td>-1.383890</td>\n",
              "      <td>0.564738</td>\n",
              "      <td>0.112206</td>\n",
              "      <td>-0.080506</td>\n",
              "      <td>-0.538185</td>\n",
              "      <td>0.129147</td>\n",
              "      <td>0.637912</td>\n",
              "      <td>0.746047</td>\n",
              "      <td>0.431974</td>\n",
              "      <td>-1.553364</td>\n",
              "      <td>0.890144</td>\n",
              "      <td>1.271189</td>\n",
              "      <td>-0.811252</td>\n",
              "      <td>-0.116553</td>\n",
              "      <td>-0.450692</td>\n",
              "      <td>0.046638</td>\n",
              "      <td>-0.101032</td>\n",
              "      <td>-0.083506</td>\n",
              "      <td>-0.484326</td>\n",
              "      <td>0.125819</td>\n",
              "      <td>0.643956</td>\n",
              "      <td>0.555349</td>\n",
              "      <td>0.469789</td>\n",
              "      <td>...</td>\n",
              "      <td>-0.422156</td>\n",
              "      <td>-0.09533</td>\n",
              "      <td>-0.262327</td>\n",
              "      <td>-0.064388</td>\n",
              "      <td>-0.531609</td>\n",
              "      <td>0.127440</td>\n",
              "      <td>0.635809</td>\n",
              "      <td>0.756303</td>\n",
              "      <td>0.437123</td>\n",
              "      <td>-1.545333</td>\n",
              "      <td>0.889906</td>\n",
              "      <td>1.268098</td>\n",
              "      <td>-0.811606</td>\n",
              "      <td>-0.102462</td>\n",
              "      <td>-0.443130</td>\n",
              "      <td>0.049085</td>\n",
              "      <td>-0.088993</td>\n",
              "      <td>-0.186267</td>\n",
              "      <td>-0.171460</td>\n",
              "      <td>-0.319130</td>\n",
              "      <td>-0.165885</td>\n",
              "      <td>-0.274455</td>\n",
              "      <td>0.162697</td>\n",
              "      <td>-0.006816</td>\n",
              "      <td>0.638452</td>\n",
              "      <td>-0.009395</td>\n",
              "      <td>-0.124305</td>\n",
              "      <td>-0.310248</td>\n",
              "      <td>-0.013111</td>\n",
              "      <td>-0.297036</td>\n",
              "      <td>-0.06206</td>\n",
              "      <td>-0.004819</td>\n",
              "      <td>-0.063033</td>\n",
              "      <td>-0.003048</td>\n",
              "      <td>-0.058209</td>\n",
              "      <td>-0.05469</td>\n",
              "      <td>-0.034839</td>\n",
              "      <td>-0.100506</td>\n",
              "      <td>-0.016416</td>\n",
              "      <td>-0.090632</td>\n",
              "      <td>-0.023909</td>\n",
              "      <td>-0.023118</td>\n",
              "      <td>-0.018915</td>\n",
              "      <td>-0.071300</td>\n",
              "      <td>-0.059013</td>\n",
              "      <td>-0.157032</td>\n",
              "      <td>-0.270450</td>\n",
              "      <td>-0.285845</td>\n",
              "      <td>-1.005020</td>\n",
              "      <td>-1</td>\n",
              "    </tr>\n",
              "    <tr>\n",
              "      <th>2</th>\n",
              "      <td>-0.578022</td>\n",
              "      <td>-0.950920</td>\n",
              "      <td>-1.152679</td>\n",
              "      <td>-1.401792</td>\n",
              "      <td>-1.091849</td>\n",
              "      <td>-0.782998</td>\n",
              "      <td>-0.687335</td>\n",
              "      <td>-0.453810</td>\n",
              "      <td>0.204713</td>\n",
              "      <td>0.306768</td>\n",
              "      <td>2.246771</td>\n",
              "      <td>0.002155</td>\n",
              "      <td>0.469198</td>\n",
              "      <td>2.002296</td>\n",
              "      <td>0.042491</td>\n",
              "      <td>1.596250</td>\n",
              "      <td>-0.24635</td>\n",
              "      <td>-1.268051</td>\n",
              "      <td>-0.103730</td>\n",
              "      <td>-0.062977</td>\n",
              "      <td>-0.936940</td>\n",
              "      <td>-0.125246</td>\n",
              "      <td>-0.231333</td>\n",
              "      <td>-0.20509</td>\n",
              "      <td>-0.292269</td>\n",
              "      <td>-0.547097</td>\n",
              "      <td>-0.466809</td>\n",
              "      <td>0.010857</td>\n",
              "      <td>0.217176</td>\n",
              "      <td>1.223236</td>\n",
              "      <td>-0.190507</td>\n",
              "      <td>-0.094117</td>\n",
              "      <td>0.047047</td>\n",
              "      <td>0.014520</td>\n",
              "      <td>-0.164038</td>\n",
              "      <td>-0.368122</td>\n",
              "      <td>-0.081460</td>\n",
              "      <td>-0.279886</td>\n",
              "      <td>-0.082356</td>\n",
              "      <td>-0.140335</td>\n",
              "      <td>-0.148373</td>\n",
              "      <td>-0.205717</td>\n",
              "      <td>-0.100543</td>\n",
              "      <td>-0.231887</td>\n",
              "      <td>-0.192460</td>\n",
              "      <td>-0.098173</td>\n",
              "      <td>0.050533</td>\n",
              "      <td>0.027557</td>\n",
              "      <td>-0.166941</td>\n",
              "      <td>-0.355786</td>\n",
              "      <td>...</td>\n",
              "      <td>-0.203429</td>\n",
              "      <td>-0.09533</td>\n",
              "      <td>-0.239441</td>\n",
              "      <td>-0.197704</td>\n",
              "      <td>-0.093698</td>\n",
              "      <td>0.046337</td>\n",
              "      <td>0.014779</td>\n",
              "      <td>-0.165629</td>\n",
              "      <td>-0.364988</td>\n",
              "      <td>-0.077576</td>\n",
              "      <td>-0.277457</td>\n",
              "      <td>-0.081212</td>\n",
              "      <td>-0.140569</td>\n",
              "      <td>-0.150514</td>\n",
              "      <td>-0.206877</td>\n",
              "      <td>-0.099534</td>\n",
              "      <td>-0.233172</td>\n",
              "      <td>-0.220397</td>\n",
              "      <td>-0.583281</td>\n",
              "      <td>-0.319130</td>\n",
              "      <td>-0.581400</td>\n",
              "      <td>-0.274455</td>\n",
              "      <td>0.178442</td>\n",
              "      <td>-0.006816</td>\n",
              "      <td>-1.566288</td>\n",
              "      <td>-0.009395</td>\n",
              "      <td>-0.124305</td>\n",
              "      <td>-0.310248</td>\n",
              "      <td>-0.013111</td>\n",
              "      <td>-0.297036</td>\n",
              "      <td>-0.06206</td>\n",
              "      <td>-0.004819</td>\n",
              "      <td>-0.063033</td>\n",
              "      <td>-0.003048</td>\n",
              "      <td>-0.058209</td>\n",
              "      <td>-0.05469</td>\n",
              "      <td>-0.034839</td>\n",
              "      <td>-0.100506</td>\n",
              "      <td>-0.016416</td>\n",
              "      <td>-0.090632</td>\n",
              "      <td>-0.023909</td>\n",
              "      <td>-0.023118</td>\n",
              "      <td>-0.018915</td>\n",
              "      <td>-0.071300</td>\n",
              "      <td>-0.059013</td>\n",
              "      <td>-0.157032</td>\n",
              "      <td>-0.270450</td>\n",
              "      <td>-0.285845</td>\n",
              "      <td>-1.005020</td>\n",
              "      <td>-1</td>\n",
              "    </tr>\n",
              "    <tr>\n",
              "      <th>3</th>\n",
              "      <td>-0.578022</td>\n",
              "      <td>-0.315674</td>\n",
              "      <td>-0.711642</td>\n",
              "      <td>0.176478</td>\n",
              "      <td>-0.653732</td>\n",
              "      <td>-0.928547</td>\n",
              "      <td>-0.677949</td>\n",
              "      <td>-0.473715</td>\n",
              "      <td>-1.376408</td>\n",
              "      <td>0.369039</td>\n",
              "      <td>-0.146714</td>\n",
              "      <td>0.002155</td>\n",
              "      <td>0.469198</td>\n",
              "      <td>-0.499427</td>\n",
              "      <td>0.042491</td>\n",
              "      <td>-0.626468</td>\n",
              "      <td>-0.24635</td>\n",
              "      <td>-0.167174</td>\n",
              "      <td>-0.103730</td>\n",
              "      <td>-0.062977</td>\n",
              "      <td>1.509745</td>\n",
              "      <td>-0.125246</td>\n",
              "      <td>-0.231333</td>\n",
              "      <td>-0.20509</td>\n",
              "      <td>-0.292269</td>\n",
              "      <td>-0.547097</td>\n",
              "      <td>-0.466809</td>\n",
              "      <td>0.010857</td>\n",
              "      <td>0.712474</td>\n",
              "      <td>0.112206</td>\n",
              "      <td>-0.190507</td>\n",
              "      <td>-0.094117</td>\n",
              "      <td>0.047047</td>\n",
              "      <td>0.014520</td>\n",
              "      <td>-0.164038</td>\n",
              "      <td>-0.368122</td>\n",
              "      <td>-0.081460</td>\n",
              "      <td>-0.279886</td>\n",
              "      <td>-0.082356</td>\n",
              "      <td>-0.140335</td>\n",
              "      <td>-0.148373</td>\n",
              "      <td>-0.205717</td>\n",
              "      <td>-0.100543</td>\n",
              "      <td>-0.231887</td>\n",
              "      <td>-0.192460</td>\n",
              "      <td>-0.098173</td>\n",
              "      <td>0.050533</td>\n",
              "      <td>0.027557</td>\n",
              "      <td>-0.166941</td>\n",
              "      <td>-0.355786</td>\n",
              "      <td>...</td>\n",
              "      <td>-0.203429</td>\n",
              "      <td>-0.09533</td>\n",
              "      <td>-0.239441</td>\n",
              "      <td>-0.197704</td>\n",
              "      <td>-0.093698</td>\n",
              "      <td>0.046337</td>\n",
              "      <td>0.014779</td>\n",
              "      <td>-0.165629</td>\n",
              "      <td>-0.364988</td>\n",
              "      <td>-0.077576</td>\n",
              "      <td>-0.277457</td>\n",
              "      <td>-0.081212</td>\n",
              "      <td>-0.140569</td>\n",
              "      <td>-0.150514</td>\n",
              "      <td>-0.206877</td>\n",
              "      <td>-0.099534</td>\n",
              "      <td>-0.233172</td>\n",
              "      <td>-0.220397</td>\n",
              "      <td>0.240361</td>\n",
              "      <td>-0.319130</td>\n",
              "      <td>0.249629</td>\n",
              "      <td>-0.274455</td>\n",
              "      <td>0.418252</td>\n",
              "      <td>-0.006816</td>\n",
              "      <td>0.638452</td>\n",
              "      <td>-0.009395</td>\n",
              "      <td>-0.124305</td>\n",
              "      <td>-0.310248</td>\n",
              "      <td>-0.013111</td>\n",
              "      <td>-0.297036</td>\n",
              "      <td>-0.06206</td>\n",
              "      <td>-0.004819</td>\n",
              "      <td>-0.063033</td>\n",
              "      <td>-0.003048</td>\n",
              "      <td>-0.058209</td>\n",
              "      <td>-0.05469</td>\n",
              "      <td>-0.034839</td>\n",
              "      <td>-0.100506</td>\n",
              "      <td>-0.016416</td>\n",
              "      <td>-0.090632</td>\n",
              "      <td>-0.023909</td>\n",
              "      <td>-0.023118</td>\n",
              "      <td>-0.018915</td>\n",
              "      <td>-0.071300</td>\n",
              "      <td>-0.059013</td>\n",
              "      <td>-0.157032</td>\n",
              "      <td>-0.270450</td>\n",
              "      <td>-0.285845</td>\n",
              "      <td>-0.440061</td>\n",
              "      <td>-1</td>\n",
              "    </tr>\n",
              "    <tr>\n",
              "      <th>4</th>\n",
              "      <td>-0.578022</td>\n",
              "      <td>1.801814</td>\n",
              "      <td>2.309937</td>\n",
              "      <td>1.028935</td>\n",
              "      <td>2.680824</td>\n",
              "      <td>-1.282624</td>\n",
              "      <td>-0.642462</td>\n",
              "      <td>-0.455395</td>\n",
              "      <td>0.109102</td>\n",
              "      <td>0.407461</td>\n",
              "      <td>-0.287508</td>\n",
              "      <td>0.002155</td>\n",
              "      <td>0.469198</td>\n",
              "      <td>2.002296</td>\n",
              "      <td>0.042491</td>\n",
              "      <td>-0.626468</td>\n",
              "      <td>-0.24635</td>\n",
              "      <td>-0.167174</td>\n",
              "      <td>1.858484</td>\n",
              "      <td>1.924755</td>\n",
              "      <td>1.203909</td>\n",
              "      <td>-0.125246</td>\n",
              "      <td>-0.231333</td>\n",
              "      <td>-0.20509</td>\n",
              "      <td>-0.292269</td>\n",
              "      <td>1.827830</td>\n",
              "      <td>2.142206</td>\n",
              "      <td>0.010857</td>\n",
              "      <td>1.046958</td>\n",
              "      <td>0.142961</td>\n",
              "      <td>-0.190507</td>\n",
              "      <td>-0.094117</td>\n",
              "      <td>0.047047</td>\n",
              "      <td>0.014520</td>\n",
              "      <td>-0.164038</td>\n",
              "      <td>-0.368122</td>\n",
              "      <td>-0.081460</td>\n",
              "      <td>-0.279886</td>\n",
              "      <td>-0.082356</td>\n",
              "      <td>-0.140335</td>\n",
              "      <td>-0.148373</td>\n",
              "      <td>-0.205717</td>\n",
              "      <td>-0.100543</td>\n",
              "      <td>-0.231887</td>\n",
              "      <td>-0.192460</td>\n",
              "      <td>-0.098173</td>\n",
              "      <td>0.050533</td>\n",
              "      <td>0.027557</td>\n",
              "      <td>-0.166941</td>\n",
              "      <td>-0.355786</td>\n",
              "      <td>...</td>\n",
              "      <td>-0.203429</td>\n",
              "      <td>-0.09533</td>\n",
              "      <td>-0.239441</td>\n",
              "      <td>-0.197704</td>\n",
              "      <td>-0.093698</td>\n",
              "      <td>0.046337</td>\n",
              "      <td>0.014779</td>\n",
              "      <td>-0.165629</td>\n",
              "      <td>-0.364988</td>\n",
              "      <td>-0.077576</td>\n",
              "      <td>-0.277457</td>\n",
              "      <td>-0.081212</td>\n",
              "      <td>-0.140569</td>\n",
              "      <td>-0.150514</td>\n",
              "      <td>-0.206877</td>\n",
              "      <td>-0.099534</td>\n",
              "      <td>-0.233172</td>\n",
              "      <td>-0.220397</td>\n",
              "      <td>0.240361</td>\n",
              "      <td>-0.319130</td>\n",
              "      <td>0.249629</td>\n",
              "      <td>-0.274455</td>\n",
              "      <td>-0.130404</td>\n",
              "      <td>-0.006816</td>\n",
              "      <td>0.638452</td>\n",
              "      <td>-0.009395</td>\n",
              "      <td>-0.124305</td>\n",
              "      <td>-0.310248</td>\n",
              "      <td>-0.013111</td>\n",
              "      <td>-0.297036</td>\n",
              "      <td>-0.06206</td>\n",
              "      <td>-0.004819</td>\n",
              "      <td>-0.063033</td>\n",
              "      <td>-0.003048</td>\n",
              "      <td>-0.058209</td>\n",
              "      <td>-0.05469</td>\n",
              "      <td>-0.034839</td>\n",
              "      <td>-0.100506</td>\n",
              "      <td>-0.016416</td>\n",
              "      <td>-0.090632</td>\n",
              "      <td>-0.023909</td>\n",
              "      <td>-0.023118</td>\n",
              "      <td>-0.018915</td>\n",
              "      <td>-0.071300</td>\n",
              "      <td>-0.059013</td>\n",
              "      <td>-0.157032</td>\n",
              "      <td>-0.270450</td>\n",
              "      <td>-0.285845</td>\n",
              "      <td>-1.005020</td>\n",
              "      <td>-1</td>\n",
              "    </tr>\n",
              "    <tr>\n",
              "      <th>...</th>\n",
              "      <td>...</td>\n",
              "      <td>...</td>\n",
              "      <td>...</td>\n",
              "      <td>...</td>\n",
              "      <td>...</td>\n",
              "      <td>...</td>\n",
              "      <td>...</td>\n",
              "      <td>...</td>\n",
              "      <td>...</td>\n",
              "      <td>...</td>\n",
              "      <td>...</td>\n",
              "      <td>...</td>\n",
              "      <td>...</td>\n",
              "      <td>...</td>\n",
              "      <td>...</td>\n",
              "      <td>...</td>\n",
              "      <td>...</td>\n",
              "      <td>...</td>\n",
              "      <td>...</td>\n",
              "      <td>...</td>\n",
              "      <td>...</td>\n",
              "      <td>...</td>\n",
              "      <td>...</td>\n",
              "      <td>...</td>\n",
              "      <td>...</td>\n",
              "      <td>...</td>\n",
              "      <td>...</td>\n",
              "      <td>...</td>\n",
              "      <td>...</td>\n",
              "      <td>...</td>\n",
              "      <td>...</td>\n",
              "      <td>...</td>\n",
              "      <td>...</td>\n",
              "      <td>...</td>\n",
              "      <td>...</td>\n",
              "      <td>...</td>\n",
              "      <td>...</td>\n",
              "      <td>...</td>\n",
              "      <td>...</td>\n",
              "      <td>...</td>\n",
              "      <td>...</td>\n",
              "      <td>...</td>\n",
              "      <td>...</td>\n",
              "      <td>...</td>\n",
              "      <td>...</td>\n",
              "      <td>...</td>\n",
              "      <td>...</td>\n",
              "      <td>...</td>\n",
              "      <td>...</td>\n",
              "      <td>...</td>\n",
              "      <td>...</td>\n",
              "      <td>...</td>\n",
              "      <td>...</td>\n",
              "      <td>...</td>\n",
              "      <td>...</td>\n",
              "      <td>...</td>\n",
              "      <td>...</td>\n",
              "      <td>...</td>\n",
              "      <td>...</td>\n",
              "      <td>...</td>\n",
              "      <td>...</td>\n",
              "      <td>...</td>\n",
              "      <td>...</td>\n",
              "      <td>...</td>\n",
              "      <td>...</td>\n",
              "      <td>...</td>\n",
              "      <td>...</td>\n",
              "      <td>...</td>\n",
              "      <td>...</td>\n",
              "      <td>...</td>\n",
              "      <td>...</td>\n",
              "      <td>...</td>\n",
              "      <td>...</td>\n",
              "      <td>...</td>\n",
              "      <td>...</td>\n",
              "      <td>...</td>\n",
              "      <td>...</td>\n",
              "      <td>...</td>\n",
              "      <td>...</td>\n",
              "      <td>...</td>\n",
              "      <td>...</td>\n",
              "      <td>...</td>\n",
              "      <td>...</td>\n",
              "      <td>...</td>\n",
              "      <td>...</td>\n",
              "      <td>...</td>\n",
              "      <td>...</td>\n",
              "      <td>...</td>\n",
              "      <td>...</td>\n",
              "      <td>...</td>\n",
              "      <td>...</td>\n",
              "      <td>...</td>\n",
              "      <td>...</td>\n",
              "      <td>...</td>\n",
              "      <td>...</td>\n",
              "      <td>...</td>\n",
              "      <td>...</td>\n",
              "      <td>...</td>\n",
              "      <td>...</td>\n",
              "      <td>...</td>\n",
              "      <td>...</td>\n",
              "    </tr>\n",
              "    <tr>\n",
              "      <th>215285</th>\n",
              "      <td>-0.578022</td>\n",
              "      <td>-0.103925</td>\n",
              "      <td>-0.855564</td>\n",
              "      <td>0.030015</td>\n",
              "      <td>-0.848451</td>\n",
              "      <td>0.845958</td>\n",
              "      <td>1.537758</td>\n",
              "      <td>-0.453888</td>\n",
              "      <td>-0.985738</td>\n",
              "      <td>0.670455</td>\n",
              "      <td>-0.146714</td>\n",
              "      <td>0.002155</td>\n",
              "      <td>0.469198</td>\n",
              "      <td>-0.499427</td>\n",
              "      <td>0.042491</td>\n",
              "      <td>-0.626468</td>\n",
              "      <td>-0.24635</td>\n",
              "      <td>-1.268051</td>\n",
              "      <td>-2.065944</td>\n",
              "      <td>-2.050710</td>\n",
              "      <td>0.898073</td>\n",
              "      <td>-0.125246</td>\n",
              "      <td>-0.231333</td>\n",
              "      <td>-0.20509</td>\n",
              "      <td>-0.292269</td>\n",
              "      <td>-0.547097</td>\n",
              "      <td>-0.466809</td>\n",
              "      <td>-2.571196</td>\n",
              "      <td>0.875901</td>\n",
              "      <td>0.112206</td>\n",
              "      <td>1.293864</td>\n",
              "      <td>0.138310</td>\n",
              "      <td>0.187789</td>\n",
              "      <td>1.157407</td>\n",
              "      <td>-0.184827</td>\n",
              "      <td>1.832141</td>\n",
              "      <td>-0.572570</td>\n",
              "      <td>3.815220</td>\n",
              "      <td>0.594417</td>\n",
              "      <td>0.075658</td>\n",
              "      <td>1.214291</td>\n",
              "      <td>1.328201</td>\n",
              "      <td>2.741188</td>\n",
              "      <td>2.003205</td>\n",
              "      <td>0.025447</td>\n",
              "      <td>-1.160557</td>\n",
              "      <td>-0.022601</td>\n",
              "      <td>-0.794831</td>\n",
              "      <td>-0.211789</td>\n",
              "      <td>0.469789</td>\n",
              "      <td>...</td>\n",
              "      <td>-0.050569</td>\n",
              "      <td>-0.09533</td>\n",
              "      <td>-0.002258</td>\n",
              "      <td>1.309785</td>\n",
              "      <td>0.147057</td>\n",
              "      <td>0.185370</td>\n",
              "      <td>1.154880</td>\n",
              "      <td>-0.177153</td>\n",
              "      <td>1.840817</td>\n",
              "      <td>-0.567301</td>\n",
              "      <td>3.808313</td>\n",
              "      <td>0.593443</td>\n",
              "      <td>0.082480</td>\n",
              "      <td>1.231908</td>\n",
              "      <td>1.341755</td>\n",
              "      <td>2.785205</td>\n",
              "      <td>2.038169</td>\n",
              "      <td>2.574413</td>\n",
              "      <td>-0.583281</td>\n",
              "      <td>-0.319130</td>\n",
              "      <td>-0.581400</td>\n",
              "      <td>-0.274455</td>\n",
              "      <td>0.834891</td>\n",
              "      <td>-0.006816</td>\n",
              "      <td>-1.566288</td>\n",
              "      <td>-0.009395</td>\n",
              "      <td>-0.124305</td>\n",
              "      <td>-0.310248</td>\n",
              "      <td>-0.013111</td>\n",
              "      <td>3.366601</td>\n",
              "      <td>-0.06206</td>\n",
              "      <td>-0.004819</td>\n",
              "      <td>-0.063033</td>\n",
              "      <td>-0.003048</td>\n",
              "      <td>-0.058209</td>\n",
              "      <td>-0.05469</td>\n",
              "      <td>-0.034839</td>\n",
              "      <td>-0.100506</td>\n",
              "      <td>-0.016416</td>\n",
              "      <td>-0.090632</td>\n",
              "      <td>-0.023909</td>\n",
              "      <td>-0.023118</td>\n",
              "      <td>-0.018915</td>\n",
              "      <td>-0.071300</td>\n",
              "      <td>-0.059013</td>\n",
              "      <td>-0.157032</td>\n",
              "      <td>-0.270450</td>\n",
              "      <td>-0.285845</td>\n",
              "      <td>-0.440061</td>\n",
              "      <td>-1</td>\n",
              "    </tr>\n",
              "    <tr>\n",
              "      <th>215286</th>\n",
              "      <td>-0.578022</td>\n",
              "      <td>-0.908571</td>\n",
              "      <td>-0.818704</td>\n",
              "      <td>-1.040434</td>\n",
              "      <td>-0.848451</td>\n",
              "      <td>0.311119</td>\n",
              "      <td>-1.083177</td>\n",
              "      <td>2.131292</td>\n",
              "      <td>0.168398</td>\n",
              "      <td>-0.725996</td>\n",
              "      <td>-0.146714</td>\n",
              "      <td>0.002155</td>\n",
              "      <td>-2.131297</td>\n",
              "      <td>-0.499427</td>\n",
              "      <td>0.042491</td>\n",
              "      <td>1.596250</td>\n",
              "      <td>-0.24635</td>\n",
              "      <td>-1.268051</td>\n",
              "      <td>-0.103730</td>\n",
              "      <td>-0.062977</td>\n",
              "      <td>-1.242776</td>\n",
              "      <td>-0.125246</td>\n",
              "      <td>-0.231333</td>\n",
              "      <td>-0.20509</td>\n",
              "      <td>-0.292269</td>\n",
              "      <td>-0.547097</td>\n",
              "      <td>-0.466809</td>\n",
              "      <td>0.010857</td>\n",
              "      <td>-2.087833</td>\n",
              "      <td>0.112206</td>\n",
              "      <td>-1.001929</td>\n",
              "      <td>-0.715812</td>\n",
              "      <td>-0.161719</td>\n",
              "      <td>-1.959558</td>\n",
              "      <td>-0.600601</td>\n",
              "      <td>-0.368122</td>\n",
              "      <td>-0.572570</td>\n",
              "      <td>-1.060530</td>\n",
              "      <td>-0.984358</td>\n",
              "      <td>0.046986</td>\n",
              "      <td>-1.185346</td>\n",
              "      <td>-0.817525</td>\n",
              "      <td>-0.100543</td>\n",
              "      <td>-0.307868</td>\n",
              "      <td>-0.955134</td>\n",
              "      <td>-0.645070</td>\n",
              "      <td>-0.140907</td>\n",
              "      <td>-1.925418</td>\n",
              "      <td>-0.565853</td>\n",
              "      <td>-0.355786</td>\n",
              "      <td>...</td>\n",
              "      <td>-0.778830</td>\n",
              "      <td>-0.09533</td>\n",
              "      <td>-0.262327</td>\n",
              "      <td>-0.984777</td>\n",
              "      <td>-0.709806</td>\n",
              "      <td>-0.159896</td>\n",
              "      <td>-1.954908</td>\n",
              "      <td>-0.594327</td>\n",
              "      <td>-0.364988</td>\n",
              "      <td>-0.567301</td>\n",
              "      <td>-1.056321</td>\n",
              "      <td>-0.980393</td>\n",
              "      <td>0.052236</td>\n",
              "      <td>-1.178089</td>\n",
              "      <td>-0.810497</td>\n",
              "      <td>-0.099534</td>\n",
              "      <td>-0.297948</td>\n",
              "      <td>-0.818291</td>\n",
              "      <td>-0.583281</td>\n",
              "      <td>-0.319130</td>\n",
              "      <td>-0.581400</td>\n",
              "      <td>-0.274455</td>\n",
              "      <td>1.165538</td>\n",
              "      <td>-0.006816</td>\n",
              "      <td>0.638452</td>\n",
              "      <td>-0.009395</td>\n",
              "      <td>-0.124305</td>\n",
              "      <td>-0.310248</td>\n",
              "      <td>-0.013111</td>\n",
              "      <td>-0.297036</td>\n",
              "      <td>-0.06206</td>\n",
              "      <td>-0.004819</td>\n",
              "      <td>-0.063033</td>\n",
              "      <td>-0.003048</td>\n",
              "      <td>-0.058209</td>\n",
              "      <td>-0.05469</td>\n",
              "      <td>-0.034839</td>\n",
              "      <td>-0.100506</td>\n",
              "      <td>-0.016416</td>\n",
              "      <td>-0.090632</td>\n",
              "      <td>-0.023909</td>\n",
              "      <td>-0.023118</td>\n",
              "      <td>-0.018915</td>\n",
              "      <td>-0.071300</td>\n",
              "      <td>-0.059013</td>\n",
              "      <td>-0.157032</td>\n",
              "      <td>-0.270450</td>\n",
              "      <td>-0.285845</td>\n",
              "      <td>-0.440061</td>\n",
              "      <td>-1</td>\n",
              "    </tr>\n",
              "    <tr>\n",
              "      <th>215287</th>\n",
              "      <td>-0.578022</td>\n",
              "      <td>-0.146275</td>\n",
              "      <td>0.194301</td>\n",
              "      <td>0.196605</td>\n",
              "      <td>0.125142</td>\n",
              "      <td>-1.146691</td>\n",
              "      <td>0.246751</td>\n",
              "      <td>-0.508247</td>\n",
              "      <td>-0.498039</td>\n",
              "      <td>-1.428197</td>\n",
              "      <td>-0.146714</td>\n",
              "      <td>0.002155</td>\n",
              "      <td>0.469198</td>\n",
              "      <td>-0.499427</td>\n",
              "      <td>0.042491</td>\n",
              "      <td>-0.626468</td>\n",
              "      <td>4.05927</td>\n",
              "      <td>-1.268051</td>\n",
              "      <td>1.858484</td>\n",
              "      <td>1.924755</td>\n",
              "      <td>-0.936940</td>\n",
              "      <td>-0.125246</td>\n",
              "      <td>-0.231333</td>\n",
              "      <td>-0.20509</td>\n",
              "      <td>-0.292269</td>\n",
              "      <td>1.827830</td>\n",
              "      <td>2.142206</td>\n",
              "      <td>1.717060</td>\n",
              "      <td>0.111386</td>\n",
              "      <td>-1.697193</td>\n",
              "      <td>0.012672</td>\n",
              "      <td>0.091069</td>\n",
              "      <td>0.047047</td>\n",
              "      <td>-0.089379</td>\n",
              "      <td>-0.367306</td>\n",
              "      <td>-0.368122</td>\n",
              "      <td>0.900758</td>\n",
              "      <td>-0.279886</td>\n",
              "      <td>-0.082356</td>\n",
              "      <td>-0.140335</td>\n",
              "      <td>0.010729</td>\n",
              "      <td>10.516633</td>\n",
              "      <td>-0.100543</td>\n",
              "      <td>-0.307868</td>\n",
              "      <td>0.079924</td>\n",
              "      <td>0.173428</td>\n",
              "      <td>0.050533</td>\n",
              "      <td>-0.074651</td>\n",
              "      <td>-0.325090</td>\n",
              "      <td>-0.355786</td>\n",
              "      <td>...</td>\n",
              "      <td>10.903164</td>\n",
              "      <td>-0.09533</td>\n",
              "      <td>-0.262327</td>\n",
              "      <td>0.029189</td>\n",
              "      <td>0.099665</td>\n",
              "      <td>0.046337</td>\n",
              "      <td>-0.088726</td>\n",
              "      <td>-0.359235</td>\n",
              "      <td>-0.364988</td>\n",
              "      <td>0.901875</td>\n",
              "      <td>-0.277457</td>\n",
              "      <td>-0.081212</td>\n",
              "      <td>-0.140569</td>\n",
              "      <td>0.023213</td>\n",
              "      <td>10.549439</td>\n",
              "      <td>-0.099534</td>\n",
              "      <td>-0.297948</td>\n",
              "      <td>8.985662</td>\n",
              "      <td>1.887646</td>\n",
              "      <td>-0.319130</td>\n",
              "      <td>1.911686</td>\n",
              "      <td>-0.274455</td>\n",
              "      <td>-1.146568</td>\n",
              "      <td>-0.006816</td>\n",
              "      <td>0.638452</td>\n",
              "      <td>-0.009395</td>\n",
              "      <td>-0.124305</td>\n",
              "      <td>-0.310248</td>\n",
              "      <td>-0.013111</td>\n",
              "      <td>-0.297036</td>\n",
              "      <td>-0.06206</td>\n",
              "      <td>-0.004819</td>\n",
              "      <td>-0.063033</td>\n",
              "      <td>-0.003048</td>\n",
              "      <td>-0.058209</td>\n",
              "      <td>-0.05469</td>\n",
              "      <td>-0.034839</td>\n",
              "      <td>-0.100506</td>\n",
              "      <td>-0.016416</td>\n",
              "      <td>-0.090632</td>\n",
              "      <td>-0.023909</td>\n",
              "      <td>-0.023118</td>\n",
              "      <td>-0.018915</td>\n",
              "      <td>12.688696</td>\n",
              "      <td>-0.059013</td>\n",
              "      <td>-0.157032</td>\n",
              "      <td>0.895196</td>\n",
              "      <td>-0.285845</td>\n",
              "      <td>-0.440061</td>\n",
              "      <td>-1</td>\n",
              "    </tr>\n",
              "    <tr>\n",
              "      <th>215288</th>\n",
              "      <td>-0.578022</td>\n",
              "      <td>0.023124</td>\n",
              "      <td>-0.569105</td>\n",
              "      <td>-0.475948</td>\n",
              "      <td>-0.592883</td>\n",
              "      <td>-1.124204</td>\n",
              "      <td>0.934723</td>\n",
              "      <td>-0.486072</td>\n",
              "      <td>0.686454</td>\n",
              "      <td>1.366694</td>\n",
              "      <td>-0.146714</td>\n",
              "      <td>0.002155</td>\n",
              "      <td>0.469198</td>\n",
              "      <td>-0.499427</td>\n",
              "      <td>0.042491</td>\n",
              "      <td>-0.626468</td>\n",
              "      <td>-0.24635</td>\n",
              "      <td>-0.167174</td>\n",
              "      <td>-0.103730</td>\n",
              "      <td>-0.062977</td>\n",
              "      <td>-0.936940</td>\n",
              "      <td>-0.125246</td>\n",
              "      <td>-0.231333</td>\n",
              "      <td>-0.20509</td>\n",
              "      <td>3.421509</td>\n",
              "      <td>1.827830</td>\n",
              "      <td>-0.466809</td>\n",
              "      <td>0.010857</td>\n",
              "      <td>-0.001574</td>\n",
              "      <td>0.831279</td>\n",
              "      <td>-1.161107</td>\n",
              "      <td>-0.094117</td>\n",
              "      <td>-0.058508</td>\n",
              "      <td>0.014520</td>\n",
              "      <td>-0.164038</td>\n",
              "      <td>-0.368122</td>\n",
              "      <td>-1.062255</td>\n",
              "      <td>-1.449916</td>\n",
              "      <td>-0.082356</td>\n",
              "      <td>-0.140335</td>\n",
              "      <td>-0.148373</td>\n",
              "      <td>-1.063756</td>\n",
              "      <td>-0.100543</td>\n",
              "      <td>-0.231887</td>\n",
              "      <td>-1.118564</td>\n",
              "      <td>-0.098173</td>\n",
              "      <td>-0.044111</td>\n",
              "      <td>0.027557</td>\n",
              "      <td>-0.166941</td>\n",
              "      <td>-0.355786</td>\n",
              "      <td>...</td>\n",
              "      <td>-1.032354</td>\n",
              "      <td>-0.09533</td>\n",
              "      <td>-0.239441</td>\n",
              "      <td>-1.145012</td>\n",
              "      <td>-0.093698</td>\n",
              "      <td>-0.057938</td>\n",
              "      <td>0.014779</td>\n",
              "      <td>-0.165629</td>\n",
              "      <td>-0.364988</td>\n",
              "      <td>-1.055607</td>\n",
              "      <td>-1.444820</td>\n",
              "      <td>-0.081212</td>\n",
              "      <td>-0.140569</td>\n",
              "      <td>-0.150514</td>\n",
              "      <td>-1.056646</td>\n",
              "      <td>-0.099534</td>\n",
              "      <td>-0.233172</td>\n",
              "      <td>-0.980089</td>\n",
              "      <td>-0.583281</td>\n",
              "      <td>-0.319130</td>\n",
              "      <td>-0.581400</td>\n",
              "      <td>-0.274455</td>\n",
              "      <td>0.775544</td>\n",
              "      <td>-0.006816</td>\n",
              "      <td>0.638452</td>\n",
              "      <td>-0.009395</td>\n",
              "      <td>-0.124305</td>\n",
              "      <td>-0.310248</td>\n",
              "      <td>-0.013111</td>\n",
              "      <td>-0.297036</td>\n",
              "      <td>-0.06206</td>\n",
              "      <td>-0.004819</td>\n",
              "      <td>-0.063033</td>\n",
              "      <td>-0.003048</td>\n",
              "      <td>-0.058209</td>\n",
              "      <td>-0.05469</td>\n",
              "      <td>-0.034839</td>\n",
              "      <td>-0.100506</td>\n",
              "      <td>-0.016416</td>\n",
              "      <td>-0.090632</td>\n",
              "      <td>-0.023909</td>\n",
              "      <td>-0.023118</td>\n",
              "      <td>-0.018915</td>\n",
              "      <td>-0.071300</td>\n",
              "      <td>-0.059013</td>\n",
              "      <td>-0.157032</td>\n",
              "      <td>-0.270450</td>\n",
              "      <td>-0.285845</td>\n",
              "      <td>-1.005020</td>\n",
              "      <td>1</td>\n",
              "    </tr>\n",
              "    <tr>\n",
              "      <th>215289</th>\n",
              "      <td>-0.578022</td>\n",
              "      <td>-0.103925</td>\n",
              "      <td>0.187689</td>\n",
              "      <td>1.513533</td>\n",
              "      <td>0.368541</td>\n",
              "      <td>1.833570</td>\n",
              "      <td>-0.185951</td>\n",
              "      <td>-0.461145</td>\n",
              "      <td>-0.041548</td>\n",
              "      <td>1.711832</td>\n",
              "      <td>-0.146714</td>\n",
              "      <td>0.002155</td>\n",
              "      <td>0.469198</td>\n",
              "      <td>2.002296</td>\n",
              "      <td>0.042491</td>\n",
              "      <td>1.596250</td>\n",
              "      <td>-0.24635</td>\n",
              "      <td>-0.167174</td>\n",
              "      <td>-2.065944</td>\n",
              "      <td>-2.050710</td>\n",
              "      <td>2.427251</td>\n",
              "      <td>-0.125246</td>\n",
              "      <td>-0.231333</td>\n",
              "      <td>-0.20509</td>\n",
              "      <td>-0.292269</td>\n",
              "      <td>1.827830</td>\n",
              "      <td>2.142206</td>\n",
              "      <td>1.648509</td>\n",
              "      <td>1.017038</td>\n",
              "      <td>-2.297263</td>\n",
              "      <td>-0.361333</td>\n",
              "      <td>-0.543854</td>\n",
              "      <td>0.199517</td>\n",
              "      <td>0.014520</td>\n",
              "      <td>-0.244883</td>\n",
              "      <td>0.431974</td>\n",
              "      <td>-1.062255</td>\n",
              "      <td>1.669852</td>\n",
              "      <td>-0.082356</td>\n",
              "      <td>-0.140335</td>\n",
              "      <td>-0.148373</td>\n",
              "      <td>-0.146672</td>\n",
              "      <td>-0.100543</td>\n",
              "      <td>-0.307868</td>\n",
              "      <td>-0.301413</td>\n",
              "      <td>-0.469545</td>\n",
              "      <td>0.190349</td>\n",
              "      <td>0.027557</td>\n",
              "      <td>-0.197627</td>\n",
              "      <td>0.469789</td>\n",
              "      <td>...</td>\n",
              "      <td>-0.086609</td>\n",
              "      <td>-0.09533</td>\n",
              "      <td>-0.262327</td>\n",
              "      <td>-0.345120</td>\n",
              "      <td>-0.537296</td>\n",
              "      <td>0.196956</td>\n",
              "      <td>0.014779</td>\n",
              "      <td>-0.237079</td>\n",
              "      <td>0.437123</td>\n",
              "      <td>-1.055607</td>\n",
              "      <td>1.667837</td>\n",
              "      <td>-0.081212</td>\n",
              "      <td>-0.140569</td>\n",
              "      <td>-0.150514</td>\n",
              "      <td>-0.137609</td>\n",
              "      <td>-0.099534</td>\n",
              "      <td>-0.297948</td>\n",
              "      <td>-0.181211</td>\n",
              "      <td>-0.583281</td>\n",
              "      <td>-0.319130</td>\n",
              "      <td>-0.581400</td>\n",
              "      <td>-0.274455</td>\n",
              "      <td>0.212354</td>\n",
              "      <td>-0.006816</td>\n",
              "      <td>0.638452</td>\n",
              "      <td>-0.009395</td>\n",
              "      <td>-0.124305</td>\n",
              "      <td>-0.310248</td>\n",
              "      <td>-0.013111</td>\n",
              "      <td>-0.297036</td>\n",
              "      <td>-0.06206</td>\n",
              "      <td>-0.004819</td>\n",
              "      <td>-0.063033</td>\n",
              "      <td>-0.003048</td>\n",
              "      <td>-0.058209</td>\n",
              "      <td>-0.05469</td>\n",
              "      <td>-0.034839</td>\n",
              "      <td>-0.100506</td>\n",
              "      <td>-0.016416</td>\n",
              "      <td>-0.090632</td>\n",
              "      <td>-0.023909</td>\n",
              "      <td>-0.023118</td>\n",
              "      <td>-0.018915</td>\n",
              "      <td>-0.071300</td>\n",
              "      <td>-0.059013</td>\n",
              "      <td>-0.157032</td>\n",
              "      <td>2.060841</td>\n",
              "      <td>-0.285845</td>\n",
              "      <td>-0.440061</td>\n",
              "      <td>-1</td>\n",
              "    </tr>\n",
              "  </tbody>\n",
              "</table>\n",
              "<p>215290 rows × 105 columns</p>\n",
              "</div>"
            ],
            "text/plain": [
              "              f0        f1        f2        f3        f4        f5        f6  \\\n",
              "0      -0.578022  0.319572 -0.478530 -0.166611 -0.507693 -0.148956  1.507080   \n",
              "1      -0.578022  0.954819  1.722912  0.590166  1.597702 -1.252328 -0.165117   \n",
              "2      -0.578022 -0.950920 -1.152679 -1.401792 -1.091849 -0.782998 -0.687335   \n",
              "3      -0.578022 -0.315674 -0.711642  0.176478 -0.653732 -0.928547 -0.677949   \n",
              "4      -0.578022  1.801814  2.309937  1.028935  2.680824 -1.282624 -0.642462   \n",
              "...          ...       ...       ...       ...       ...       ...       ...   \n",
              "215285 -0.578022 -0.103925 -0.855564  0.030015 -0.848451  0.845958  1.537758   \n",
              "215286 -0.578022 -0.908571 -0.818704 -1.040434 -0.848451  0.311119 -1.083177   \n",
              "215287 -0.578022 -0.146275  0.194301  0.196605  0.125142 -1.146691  0.246751   \n",
              "215288 -0.578022  0.023124 -0.569105 -0.475948 -0.592883 -1.124204  0.934723   \n",
              "215289 -0.578022 -0.103925  0.187689  1.513533  0.368541  1.833570 -0.185951   \n",
              "\n",
              "              f7        f8        f9       f10       f11       f12       f13  \\\n",
              "0      -0.456725  0.378344  0.579037 -0.146714  0.002155  0.469198 -0.499427   \n",
              "1      -0.460622  1.076840  1.790664 -0.146714  0.002155  0.469198 -0.499427   \n",
              "2      -0.453810  0.204713  0.306768  2.246771  0.002155  0.469198  2.002296   \n",
              "3      -0.473715 -1.376408  0.369039 -0.146714  0.002155  0.469198 -0.499427   \n",
              "4      -0.455395  0.109102  0.407461 -0.287508  0.002155  0.469198  2.002296   \n",
              "...          ...       ...       ...       ...       ...       ...       ...   \n",
              "215285 -0.453888 -0.985738  0.670455 -0.146714  0.002155  0.469198 -0.499427   \n",
              "215286  2.131292  0.168398 -0.725996 -0.146714  0.002155 -2.131297 -0.499427   \n",
              "215287 -0.508247 -0.498039 -1.428197 -0.146714  0.002155  0.469198 -0.499427   \n",
              "215288 -0.486072  0.686454  1.366694 -0.146714  0.002155  0.469198 -0.499427   \n",
              "215289 -0.461145 -0.041548  1.711832 -0.146714  0.002155  0.469198  2.002296   \n",
              "\n",
              "             f14       f15      f16       f17       f18       f19       f20  \\\n",
              "0       0.042491  1.596250 -0.24635 -1.268051 -0.103730 -0.062977 -0.631105   \n",
              "1       0.042491  1.596250 -0.24635 -0.167174 -2.065944 -2.050710 -0.325269   \n",
              "2       0.042491  1.596250 -0.24635 -1.268051 -0.103730 -0.062977 -0.936940   \n",
              "3       0.042491 -0.626468 -0.24635 -0.167174 -0.103730 -0.062977  1.509745   \n",
              "4       0.042491 -0.626468 -0.24635 -0.167174  1.858484  1.924755  1.203909   \n",
              "...          ...       ...      ...       ...       ...       ...       ...   \n",
              "215285  0.042491 -0.626468 -0.24635 -1.268051 -2.065944 -2.050710  0.898073   \n",
              "215286  0.042491  1.596250 -0.24635 -1.268051 -0.103730 -0.062977 -1.242776   \n",
              "215287  0.042491 -0.626468  4.05927 -1.268051  1.858484  1.924755 -0.936940   \n",
              "215288  0.042491 -0.626468 -0.24635 -0.167174 -0.103730 -0.062977 -0.936940   \n",
              "215289  0.042491  1.596250 -0.24635 -0.167174 -2.065944 -2.050710  2.427251   \n",
              "\n",
              "             f21       f22      f23       f24       f25       f26       f27  \\\n",
              "0      -0.125246 -0.231333 -0.20509 -0.292269 -0.547097 -0.466809 -3.019282   \n",
              "1      -0.125246 -0.231333 -0.20509 -0.292269 -0.547097 -0.466809 -1.383890   \n",
              "2      -0.125246 -0.231333 -0.20509 -0.292269 -0.547097 -0.466809  0.010857   \n",
              "3      -0.125246 -0.231333 -0.20509 -0.292269 -0.547097 -0.466809  0.010857   \n",
              "4      -0.125246 -0.231333 -0.20509 -0.292269  1.827830  2.142206  0.010857   \n",
              "...          ...       ...      ...       ...       ...       ...       ...   \n",
              "215285 -0.125246 -0.231333 -0.20509 -0.292269 -0.547097 -0.466809 -2.571196   \n",
              "215286 -0.125246 -0.231333 -0.20509 -0.292269 -0.547097 -0.466809  0.010857   \n",
              "215287 -0.125246 -0.231333 -0.20509 -0.292269  1.827830  2.142206  1.717060   \n",
              "215288 -0.125246 -0.231333 -0.20509  3.421509  1.827830 -0.466809  0.010857   \n",
              "215289 -0.125246 -0.231333 -0.20509 -0.292269  1.827830  2.142206  1.648509   \n",
              "\n",
              "             f28       f29       f30       f31       f32       f33       f34  \\\n",
              "0      -1.317838 -2.151710 -1.001929 -0.840529 -0.173447 -2.063457 -0.321108   \n",
              "1       0.564738  0.112206 -0.080506 -0.538185  0.129147  0.637912  0.746047   \n",
              "2       0.217176  1.223236 -0.190507 -0.094117  0.047047  0.014520 -0.164038   \n",
              "3       0.712474  0.112206 -0.190507 -0.094117  0.047047  0.014520 -0.164038   \n",
              "4       1.046958  0.142961 -0.190507 -0.094117  0.047047  0.014520 -0.164038   \n",
              "...          ...       ...       ...       ...       ...       ...       ...   \n",
              "215285  0.875901  0.112206  1.293864  0.138310  0.187789  1.157407 -0.184827   \n",
              "215286 -2.087833  0.112206 -1.001929 -0.715812 -0.161719 -1.959558 -0.600601   \n",
              "215287  0.111386 -1.697193  0.012672  0.091069  0.047047 -0.089379 -0.367306   \n",
              "215288 -0.001574  0.831279 -1.161107 -0.094117 -0.058508  0.014520 -0.164038   \n",
              "215289  1.017038 -2.297263 -0.361333 -0.543854  0.199517  0.014520 -0.244883   \n",
              "\n",
              "             f35       f36       f37       f38       f39       f40        f41  \\\n",
              "0      -0.368122 -1.062255 -1.060530 -0.984358 -0.354417 -1.185346  -0.901696   \n",
              "1       0.431974 -1.553364  0.890144  1.271189 -0.811252 -0.116553  -0.450692   \n",
              "2      -0.368122 -0.081460 -0.279886 -0.082356 -0.140335 -0.148373  -0.205717   \n",
              "3      -0.368122 -0.081460 -0.279886 -0.082356 -0.140335 -0.148373  -0.205717   \n",
              "4      -0.368122 -0.081460 -0.279886 -0.082356 -0.140335 -0.148373  -0.205717   \n",
              "...          ...       ...       ...       ...       ...       ...        ...   \n",
              "215285  1.832141 -0.572570  3.815220  0.594417  0.075658  1.214291   1.328201   \n",
              "215286 -0.368122 -0.572570 -1.060530 -0.984358  0.046986 -1.185346  -0.817525   \n",
              "215287 -0.368122  0.900758 -0.279886 -0.082356 -0.140335  0.010729  10.516633   \n",
              "215288 -0.368122 -1.062255 -1.449916 -0.082356 -0.140335 -0.148373  -1.063756   \n",
              "215289  0.431974 -1.062255  1.669852 -0.082356 -0.140335 -0.148373  -0.146672   \n",
              "\n",
              "             f42       f43       f44       f45       f46       f47       f48  \\\n",
              "0      -0.100543 -0.307868 -0.955134 -0.770708 -0.151662 -2.027627 -0.277881   \n",
              "1       0.046638 -0.101032 -0.083506 -0.484326  0.125819  0.643956  0.555349   \n",
              "2      -0.100543 -0.231887 -0.192460 -0.098173  0.050533  0.027557 -0.166941   \n",
              "3      -0.100543 -0.231887 -0.192460 -0.098173  0.050533  0.027557 -0.166941   \n",
              "4      -0.100543 -0.231887 -0.192460 -0.098173  0.050533  0.027557 -0.166941   \n",
              "...          ...       ...       ...       ...       ...       ...       ...   \n",
              "215285  2.741188  2.003205  0.025447 -1.160557 -0.022601 -0.794831 -0.211789   \n",
              "215286 -0.100543 -0.307868 -0.955134 -0.645070 -0.140907 -1.925418 -0.565853   \n",
              "215287 -0.100543 -0.307868  0.079924  0.173428  0.050533 -0.074651 -0.325090   \n",
              "215288 -0.100543 -0.231887 -1.118564 -0.098173 -0.044111  0.027557 -0.166941   \n",
              "215289 -0.100543 -0.307868 -0.301413 -0.469545  0.190349  0.027557 -0.197627   \n",
              "\n",
              "             f49  ...        f55      f56       f57       f58       f59  \\\n",
              "0      -0.355786  ...  -0.864580 -0.09533 -0.262327 -0.984777 -0.834923   \n",
              "1       0.469789  ...  -0.422156 -0.09533 -0.262327 -0.064388 -0.531609   \n",
              "2      -0.355786  ...  -0.203429 -0.09533 -0.239441 -0.197704 -0.093698   \n",
              "3      -0.355786  ...  -0.203429 -0.09533 -0.239441 -0.197704 -0.093698   \n",
              "4      -0.355786  ...  -0.203429 -0.09533 -0.239441 -0.197704 -0.093698   \n",
              "...          ...  ...        ...      ...       ...       ...       ...   \n",
              "215285  0.469789  ...  -0.050569 -0.09533 -0.002258  1.309785  0.147057   \n",
              "215286 -0.355786  ...  -0.778830 -0.09533 -0.262327 -0.984777 -0.709806   \n",
              "215287 -0.355786  ...  10.903164 -0.09533 -0.262327  0.029189  0.099665   \n",
              "215288 -0.355786  ...  -1.032354 -0.09533 -0.239441 -1.145012 -0.093698   \n",
              "215289  0.469789  ...  -0.086609 -0.09533 -0.262327 -0.345120 -0.537296   \n",
              "\n",
              "             f60       f61       f62       f63       f64       f65       f66  \\\n",
              "0      -0.171482 -2.058413 -0.313138 -0.364988 -1.055607 -1.056321 -0.980393   \n",
              "1       0.127440  0.635809  0.756303  0.437123 -1.545333  0.889906  1.268098   \n",
              "2       0.046337  0.014779 -0.165629 -0.364988 -0.077576 -0.277457 -0.081212   \n",
              "3       0.046337  0.014779 -0.165629 -0.364988 -0.077576 -0.277457 -0.081212   \n",
              "4       0.046337  0.014779 -0.165629 -0.364988 -0.077576 -0.277457 -0.081212   \n",
              "...          ...       ...       ...       ...       ...       ...       ...   \n",
              "215285  0.185370  1.154880 -0.177153  1.840817 -0.567301  3.808313  0.593443   \n",
              "215286 -0.159896 -1.954908 -0.594327 -0.364988 -0.567301 -1.056321 -0.980393   \n",
              "215287  0.046337 -0.088726 -0.359235 -0.364988  0.901875 -0.277457 -0.081212   \n",
              "215288 -0.057938  0.014779 -0.165629 -0.364988 -1.055607 -1.444820 -0.081212   \n",
              "215289  0.196956  0.014779 -0.237079  0.437123 -1.055607  1.667837 -0.081212   \n",
              "\n",
              "             f67       f68        f69       f70       f71       f72       f73  \\\n",
              "0      -0.352276 -1.178089  -0.894608 -0.099534 -0.297948 -0.900454  0.240361   \n",
              "1      -0.811606 -0.102462  -0.443130  0.049085 -0.088993 -0.186267 -0.171460   \n",
              "2      -0.140569 -0.150514  -0.206877 -0.099534 -0.233172 -0.220397 -0.583281   \n",
              "3      -0.140569 -0.150514  -0.206877 -0.099534 -0.233172 -0.220397  0.240361   \n",
              "4      -0.140569 -0.150514  -0.206877 -0.099534 -0.233172 -0.220397  0.240361   \n",
              "...          ...       ...        ...       ...       ...       ...       ...   \n",
              "215285  0.082480  1.231908   1.341755  2.785205  2.038169  2.574413 -0.583281   \n",
              "215286  0.052236 -1.178089  -0.810497 -0.099534 -0.297948 -0.818291 -0.583281   \n",
              "215287 -0.140569  0.023213  10.549439 -0.099534 -0.297948  8.985662  1.887646   \n",
              "215288 -0.140569 -0.150514  -1.056646 -0.099534 -0.233172 -0.980089 -0.583281   \n",
              "215289 -0.140569 -0.150514  -0.137609 -0.099534 -0.297948 -0.181211 -0.583281   \n",
              "\n",
              "             f74       f75       f76       f77       f78       f79       f80  \\\n",
              "0       4.122506  0.249629  5.229995 -0.207918 -0.006816  0.638452 -0.009395   \n",
              "1      -0.319130 -0.165885 -0.274455  0.162697 -0.006816  0.638452 -0.009395   \n",
              "2      -0.319130 -0.581400 -0.274455  0.178442 -0.006816 -1.566288 -0.009395   \n",
              "3      -0.319130  0.249629 -0.274455  0.418252 -0.006816  0.638452 -0.009395   \n",
              "4      -0.319130  0.249629 -0.274455 -0.130404 -0.006816  0.638452 -0.009395   \n",
              "...          ...       ...       ...       ...       ...       ...       ...   \n",
              "215285 -0.319130 -0.581400 -0.274455  0.834891 -0.006816 -1.566288 -0.009395   \n",
              "215286 -0.319130 -0.581400 -0.274455  1.165538 -0.006816  0.638452 -0.009395   \n",
              "215287 -0.319130  1.911686 -0.274455 -1.146568 -0.006816  0.638452 -0.009395   \n",
              "215288 -0.319130 -0.581400 -0.274455  0.775544 -0.006816  0.638452 -0.009395   \n",
              "215289 -0.319130 -0.581400 -0.274455  0.212354 -0.006816  0.638452 -0.009395   \n",
              "\n",
              "             f81       f82       f83       f84      f85       f86       f87  \\\n",
              "0      -0.124305 -0.310248 -0.013111 -0.297036 -0.06206 -0.004819 -0.063033   \n",
              "1      -0.124305 -0.310248 -0.013111 -0.297036 -0.06206 -0.004819 -0.063033   \n",
              "2      -0.124305 -0.310248 -0.013111 -0.297036 -0.06206 -0.004819 -0.063033   \n",
              "3      -0.124305 -0.310248 -0.013111 -0.297036 -0.06206 -0.004819 -0.063033   \n",
              "4      -0.124305 -0.310248 -0.013111 -0.297036 -0.06206 -0.004819 -0.063033   \n",
              "...          ...       ...       ...       ...      ...       ...       ...   \n",
              "215285 -0.124305 -0.310248 -0.013111  3.366601 -0.06206 -0.004819 -0.063033   \n",
              "215286 -0.124305 -0.310248 -0.013111 -0.297036 -0.06206 -0.004819 -0.063033   \n",
              "215287 -0.124305 -0.310248 -0.013111 -0.297036 -0.06206 -0.004819 -0.063033   \n",
              "215288 -0.124305 -0.310248 -0.013111 -0.297036 -0.06206 -0.004819 -0.063033   \n",
              "215289 -0.124305 -0.310248 -0.013111 -0.297036 -0.06206 -0.004819 -0.063033   \n",
              "\n",
              "             f88       f89      f90       f91       f92       f93       f94  \\\n",
              "0      -0.003048 -0.058209 -0.05469 -0.034839 -0.100506 -0.016416 -0.090632   \n",
              "1      -0.003048 -0.058209 -0.05469 -0.034839 -0.100506 -0.016416 -0.090632   \n",
              "2      -0.003048 -0.058209 -0.05469 -0.034839 -0.100506 -0.016416 -0.090632   \n",
              "3      -0.003048 -0.058209 -0.05469 -0.034839 -0.100506 -0.016416 -0.090632   \n",
              "4      -0.003048 -0.058209 -0.05469 -0.034839 -0.100506 -0.016416 -0.090632   \n",
              "...          ...       ...      ...       ...       ...       ...       ...   \n",
              "215285 -0.003048 -0.058209 -0.05469 -0.034839 -0.100506 -0.016416 -0.090632   \n",
              "215286 -0.003048 -0.058209 -0.05469 -0.034839 -0.100506 -0.016416 -0.090632   \n",
              "215287 -0.003048 -0.058209 -0.05469 -0.034839 -0.100506 -0.016416 -0.090632   \n",
              "215288 -0.003048 -0.058209 -0.05469 -0.034839 -0.100506 -0.016416 -0.090632   \n",
              "215289 -0.003048 -0.058209 -0.05469 -0.034839 -0.100506 -0.016416 -0.090632   \n",
              "\n",
              "             f95       f96       f97        f98       f99      f100      f101  \\\n",
              "0      -0.023909 -0.023118 -0.018915  -0.071300 -0.059013 -0.157032 -0.270450   \n",
              "1      -0.023909 -0.023118 -0.018915  -0.071300 -0.059013 -0.157032 -0.270450   \n",
              "2      -0.023909 -0.023118 -0.018915  -0.071300 -0.059013 -0.157032 -0.270450   \n",
              "3      -0.023909 -0.023118 -0.018915  -0.071300 -0.059013 -0.157032 -0.270450   \n",
              "4      -0.023909 -0.023118 -0.018915  -0.071300 -0.059013 -0.157032 -0.270450   \n",
              "...          ...       ...       ...        ...       ...       ...       ...   \n",
              "215285 -0.023909 -0.023118 -0.018915  -0.071300 -0.059013 -0.157032 -0.270450   \n",
              "215286 -0.023909 -0.023118 -0.018915  -0.071300 -0.059013 -0.157032 -0.270450   \n",
              "215287 -0.023909 -0.023118 -0.018915  12.688696 -0.059013 -0.157032  0.895196   \n",
              "215288 -0.023909 -0.023118 -0.018915  -0.071300 -0.059013 -0.157032 -0.270450   \n",
              "215289 -0.023909 -0.023118 -0.018915  -0.071300 -0.059013 -0.157032  2.060841   \n",
              "\n",
              "            f102      f103  target  \n",
              "0      -0.285845 -0.440061       1  \n",
              "1      -0.285845 -1.005020      -1  \n",
              "2      -0.285845 -1.005020      -1  \n",
              "3      -0.285845 -0.440061      -1  \n",
              "4      -0.285845 -1.005020      -1  \n",
              "...          ...       ...     ...  \n",
              "215285 -0.285845 -0.440061      -1  \n",
              "215286 -0.285845 -0.440061      -1  \n",
              "215287 -0.285845 -0.440061      -1  \n",
              "215288 -0.285845 -1.005020       1  \n",
              "215289 -0.285845 -0.440061      -1  \n",
              "\n",
              "[215290 rows x 105 columns]"
            ]
          },
          "execution_count": 13,
          "metadata": {},
          "output_type": "execute_result"
        }
      ],
      "source": [
        "import pandas as pd\n",
        "\n",
        "feature_names = [f\"f{i}\" for i in range(X_tr.shape[1])]\n",
        "\n",
        "train_data = pd.DataFrame(X_tr, columns=feature_names)\n",
        "train_data[\"target\"] = y_tr  \n",
        "\n",
        "test_data = pd.DataFrame(X_tst, columns=feature_names)\n",
        "test_data[\"target\"] = y_tst\n",
        "train_data"
      ]
    },
    {
      "cell_type": "code",
      "execution_count": null,
      "id": "3bd89fe7",
      "metadata": {},
      "outputs": [
        {
          "name": "stdout",
          "output_type": "stream",
          "text": [
            "[17:28:59] Stdout logging level is INFO.\n",
            "[17:28:59] Task: binary\n",
            "\n",
            "[17:28:59] Start automl preset with listed constraints:\n",
            "[17:28:59] - time: 600.00 seconds\n",
            "[17:28:59] - CPU: 12 cores\n",
            "[17:28:59] - memory: 16 GB\n",
            "\n",
            "[17:28:59] \u001b[1mTrain data shape: (215290, 105)\u001b[0m\n",
            "\n",
            "[17:29:22] Layer \u001b[1m1\u001b[0m train process start. Time left 577.41 secs\n",
            "[17:29:41] Start fitting \u001b[1mLvl_0_Pipe_0_Mod_0_LinearL2\u001b[0m ...\n",
            "[17:30:06] Fitting \u001b[1mLvl_0_Pipe_0_Mod_0_LinearL2\u001b[0m finished. score = \u001b[1m0.7420675451385583\u001b[0m\n",
            "[17:30:06] \u001b[1mLvl_0_Pipe_0_Mod_0_LinearL2\u001b[0m fitting and predicting completed\n",
            "[17:30:06] Time left 533.06 secs\n",
            "\n",
            "[17:30:17] \u001b[1mSelector_LightGBM\u001b[0m fitting and predicting completed\n",
            "[17:30:34] Start fitting \u001b[1mLvl_0_Pipe_1_Mod_0_LightGBM\u001b[0m ...\n",
            "[17:30:55] Fitting \u001b[1mLvl_0_Pipe_1_Mod_0_LightGBM\u001b[0m finished. score = \u001b[1m0.7463272736564132\u001b[0m\n",
            "[17:30:55] \u001b[1mLvl_0_Pipe_1_Mod_0_LightGBM\u001b[0m fitting and predicting completed\n",
            "[17:30:55] Start hyperparameters optimization for \u001b[1mLvl_0_Pipe_1_Mod_1_Tuned_LightGBM\u001b[0m ... Time budget is 40.83 secs\n"
          ]
        },
        {
          "name": "stderr",
          "output_type": "stream",
          "text": [
            "Optimization Progress:   4%|▍         | 4/101 [00:42<17:03, 10.55s/it, best_trial=3, best_value=0.747]"
          ]
        },
        {
          "name": "stdout",
          "output_type": "stream",
          "text": [
            "[17:31:37] Hyperparameters optimization for \u001b[1mLvl_0_Pipe_1_Mod_1_Tuned_LightGBM\u001b[0m completed\n",
            "[17:31:37] Start fitting \u001b[1mLvl_0_Pipe_1_Mod_1_Tuned_LightGBM\u001b[0m ...\n"
          ]
        },
        {
          "name": "stderr",
          "output_type": "stream",
          "text": [
            "\n"
          ]
        },
        {
          "name": "stdout",
          "output_type": "stream",
          "text": [
            "[17:31:51] Fitting \u001b[1mLvl_0_Pipe_1_Mod_1_Tuned_LightGBM\u001b[0m finished. score = \u001b[1m0.7462353028702844\u001b[0m\n",
            "[17:31:51] \u001b[1mLvl_0_Pipe_1_Mod_1_Tuned_LightGBM\u001b[0m fitting and predicting completed\n",
            "[17:31:51] Start fitting \u001b[1mLvl_0_Pipe_1_Mod_2_CatBoost\u001b[0m ...\n",
            "[17:32:31] Fitting \u001b[1mLvl_0_Pipe_1_Mod_2_CatBoost\u001b[0m finished. score = \u001b[1m0.7486201074234646\u001b[0m\n",
            "[17:32:31] \u001b[1mLvl_0_Pipe_1_Mod_2_CatBoost\u001b[0m fitting and predicting completed\n",
            "[17:32:31] Start hyperparameters optimization for \u001b[1mLvl_0_Pipe_1_Mod_3_Tuned_CatBoost\u001b[0m ... Time budget is 155.35 secs\n"
          ]
        },
        {
          "name": "stderr",
          "output_type": "stream",
          "text": [
            "Optimization Progress:   8%|▊         | 8/101 [02:38<30:45, 19.84s/it, best_trial=2, best_value=0.751]"
          ]
        },
        {
          "name": "stdout",
          "output_type": "stream",
          "text": [
            "[17:35:10] Hyperparameters optimization for \u001b[1mLvl_0_Pipe_1_Mod_3_Tuned_CatBoost\u001b[0m completed\n",
            "[17:35:10] Start fitting \u001b[1mLvl_0_Pipe_1_Mod_3_Tuned_CatBoost\u001b[0m ...\n"
          ]
        },
        {
          "name": "stderr",
          "output_type": "stream",
          "text": [
            "\n"
          ]
        },
        {
          "name": "stdout",
          "output_type": "stream",
          "text": [
            "[17:36:43] Fitting \u001b[1mLvl_0_Pipe_1_Mod_3_Tuned_CatBoost\u001b[0m finished. score = \u001b[1m0.7519813437192711\u001b[0m\n",
            "[17:36:43] \u001b[1mLvl_0_Pipe_1_Mod_3_Tuned_CatBoost\u001b[0m fitting and predicting completed\n",
            "[17:36:43] Time left 135.98 secs\n",
            "\n",
            "[17:36:43] \u001b[1mLayer 1 training completed.\u001b[0m\n",
            "\n",
            "[17:36:43] Blending: optimization starts with equal weights. Score = \u001b[1m0.7523758\u001b[0m\n",
            "[17:36:46] Blending: iteration \u001b[1m0\u001b[0m: score = \u001b[1m0.7528301\u001b[0m, weights = \u001b[1m[0.11165655 0.16543774 0.07877672 0.11570287 0.5284262 ]\u001b[0m\n",
            "[17:36:49] Blending: iteration \u001b[1m1\u001b[0m: score = \u001b[1m0.7528580\u001b[0m, weights = \u001b[1m[0.08358003 0.19752733 0.08302417 0.06603661 0.56983185]\u001b[0m\n",
            "[17:36:52] Blending: iteration \u001b[1m2\u001b[0m: score = \u001b[1m0.7528582\u001b[0m, weights = \u001b[1m[0.08523156 0.19600758 0.08578999 0.05796957 0.5750013 ]\u001b[0m\n",
            "[17:36:55] Blending: iteration \u001b[1m3\u001b[0m: score = \u001b[1m0.7528586\u001b[0m, weights = \u001b[1m[0.08862109 0.19383161 0.08159935 0.07377811 0.56216985]\u001b[0m\n",
            "[17:36:57] Blending: no improvements for score. Terminated.\n",
            "\n",
            "[17:36:57] Blending: best score = \u001b[1m0.7528586\u001b[0m, best weights = \u001b[1m[0.08862109 0.19383161 0.08159935 0.07377811 0.56216985]\u001b[0m\n",
            "[17:36:57] \u001b[1mAutoml preset training completed in 478.31 seconds\u001b[0m\n",
            "\n",
            "[17:36:57] Model description:\n",
            "Final prediction for new objects (level 0) = \n",
            "\t 0.08862 * (2 averaged models Lvl_0_Pipe_0_Mod_0_LinearL2) +\n",
            "\t 0.19383 * (2 averaged models Lvl_0_Pipe_1_Mod_0_LightGBM) +\n",
            "\t 0.08160 * (2 averaged models Lvl_0_Pipe_1_Mod_1_Tuned_LightGBM) +\n",
            "\t 0.07378 * (2 averaged models Lvl_0_Pipe_1_Mod_2_CatBoost) +\n",
            "\t 0.56217 * (2 averaged models Lvl_0_Pipe_1_Mod_3_Tuned_CatBoost) \n",
            "\n"
          ]
        }
      ],
      "source": [
        "out_of_fold_predictions = automl.fit_predict(train_data, roles = roles, verbose = 1)"
      ]
    },
    {
      "cell_type": "code",
      "execution_count": null,
      "id": "1251c4c8",
      "metadata": {},
      "outputs": [
        {
          "name": "stdout",
          "output_type": "stream",
          "text": [
            "Prediction for test_data:\n",
            "array([[0.105547  ],\n",
            "       [0.0492829 ],\n",
            "       [0.01797524],\n",
            "       ...,\n",
            "       [0.11997726],\n",
            "       [0.06642464],\n",
            "       [0.02882528]], dtype=float32)\n",
            "Shape = (92221, 1)\n",
            "CPU times: total: 21.4 s\n",
            "Wall time: 9.03 s\n"
          ]
        }
      ],
      "source": [
        "%%time\n",
        "test_predictions = automl.predict(test_data)\n",
        "print(f'Prediction for test_data:\\n{test_predictions}\\nShape = {test_predictions.shape}')"
      ]
    },
    {
      "cell_type": "code",
      "execution_count": null,
      "id": "20afab96",
      "metadata": {},
      "outputs": [
        {
          "name": "stdout",
          "output_type": "stream",
          "text": [
            "OOF score: 0.7528586140416317\n"
          ]
        }
      ],
      "source": [
        "print(f'OOF score: {roc_auc_score(train_data['target'].values, out_of_fold_predictions.data[:, 0])}')"
      ]
    },
    {
      "cell_type": "markdown",
      "id": "02854762",
      "metadata": {},
      "source": [
        "## 4. Анализ поведения оптимизаторов\n",
        "\n",
        "### 4.1. Скорость сходимости\n",
        "\n",
        "•   **Random Search:** Сходимость происходит довольно быстро на первых итерациях, затем наблюдается стабилизация с небольшими колебаниями.\n",
        "•   **Optuna:** Скорость сходимости хорошая, но требует больше итераций, чем Random Search, для достижения лучших результатов. На графике истории оптимизации видно, как постепенно улучшается значение целевой функции. Параметры подбираются в окрестности лучших\n",
        "•   **AutoML:**  LightAutoML показывает очень быструю сходимость на этапе обучения\n",
        "\n",
        "### 4.2. Переобучение\n",
        "\n",
        "•   **Random Search:** Небольшое переобучение возможно, но сложно оценить точно\n",
        "•   **Optuna:** Также сложно оценить переобучение без отдельной тестовой выборки, но Optuna предоставляет возможность мониторинга OOF-score, что помогает выявлять эту проблему.\n",
        "•   **AutoML:** LightAutoML может показывать некоторое переобучение, т.к. OOF score на обучающей выборке может несколько отличаться от результатов на тестовой выборке. Это связано со спецификой работы алгоритма и необходимостью валидации.\n",
        "\n",
        "### 4.3. Разброс результатов\n",
        "\n",
        "•   **Random Search:** сильный разброс потому что выбирается рандомно\n",
        "•   **Optuna:** Более стабильные результаты, чем Random Search, благодаря использованию TPE sampler, который учитывает прошлые результаты для выбора новых гиперпараметров.\n",
        "•   **AutoML:** Результаты примерно такие же хорошие как и с оптуной\n",
        "\n",
        "### 4.4. Объяснение различий в поведении\n",
        "\n",
        "•   **Random Search:** Просто случайный поиск в заданном пространстве. Не использует информацию о предыдущих итерациях.\n",
        "•   **Optuna:** Использует TPE sampler (Tree-structured Parzen Estimator), который строит вероятностные модели для оценки перспективных гиперпараметров на основе прошлых результатов. Это позволяет более эффективно исследовать пространство поиска и находить лучшие решения.\n",
        "•   **AutoML:** Автоматически подбирает наиболее подходящий алгоритм и настраивает его гиперпараметры. Использует сложную стратегию, включающую различные методы оптимизации и оценки качества моделей."
      ]
    },
    {
      "cell_type": "markdown",
      "id": "50a5842b",
      "metadata": {},
      "source": [
        "### Градиентный бустинг с другой метрикой"
      ]
    },
    {
      "cell_type": "code",
      "execution_count": 16,
      "id": "45cd9c5f",
      "metadata": {},
      "outputs": [],
      "source": [
        "from sklearn.metrics import f1_score\n",
        "\n",
        "def boost_objective_f1(\n",
        "    trial: optuna.trial.Trial,\n",
        "    X_tr, X_val, y_tr, y_val\n",
        "):\n",
        "    params = {\n",
        "        \"objective\": \"binary\",\n",
        "        \"metric\": \"auc\",\n",
        "        \"verbosity\": -1,\n",
        "        \"num_leaves\": trial.suggest_int(\"num_leaves\", 16, 256, log=True),\n",
        "        \"max_depth\": trial.suggest_int(\"max_depth\", 4, 8, log=True),\n",
        "        \"eta\": trial.suggest_float(\"eta\", 1e-3, 0.1, log=True),\n",
        "        \"n_estimators\": trial.suggest_int(\"n_estimators\", 50, 1000, log=True),\n",
        "        \"random_state\": 42,\n",
        "        \"n_jobs\": -1,\n",
        "    }\n",
        "    \n",
        "    model = lgb.LGBMClassifier(**params)\n",
        "    model.fit(X_tr, y_tr, eval_set=[(X_val, y_val)], eval_metric=\"auc\")\n",
        "\n",
        "    y_pred_proba = model.predict(X_val)\n",
        "    score = f1_score(y_val, y_pred_proba)\n",
        "    return score"
      ]
    },
    {
      "cell_type": "code",
      "execution_count": 17,
      "id": "f1db12a4",
      "metadata": {},
      "outputs": [
        {
          "name": "stderr",
          "output_type": "stream",
          "text": [
            "[I 2025-09-13 18:35:52,727] A new study created in memory with name: no-name-d28d6e70-cf62-4cc9-8e7b-64fff1d244c1\n",
            "c:\\Users\\Лиана\\OneDrive\\Desktop\\ITMO\\AutoML-ITMO\\.venv\\Lib\\site-packages\\sklearn\\utils\\validation.py:2749: UserWarning: X does not have valid feature names, but LGBMClassifier was fitted with feature names\n",
            "  warnings.warn(\n",
            "[I 2025-09-13 18:36:30,924] Trial 6 finished with value: 0.022084921782568687 and parameters: {'num_leaves': 234, 'max_depth': 5, 'eta': 0.001171932250687387, 'n_estimators': 72}. Best is trial 6 with value: 0.022084921782568687.\n",
            "c:\\Users\\Лиана\\OneDrive\\Desktop\\ITMO\\AutoML-ITMO\\.venv\\Lib\\site-packages\\sklearn\\utils\\validation.py:2749: UserWarning: X does not have valid feature names, but LGBMClassifier was fitted with feature names\n",
            "  warnings.warn(\n",
            "[I 2025-09-13 18:36:36,612] Trial 1 finished with value: 0.031237797735259663 and parameters: {'num_leaves': 140, 'max_depth': 4, 'eta': 0.0024327870438355524, 'n_estimators': 149}. Best is trial 1 with value: 0.031237797735259663.\n",
            "c:\\Users\\Лиана\\OneDrive\\Desktop\\ITMO\\AutoML-ITMO\\.venv\\Lib\\site-packages\\sklearn\\utils\\validation.py:2749: UserWarning: X does not have valid feature names, but LGBMClassifier was fitted with feature names\n",
            "  warnings.warn(\n",
            "[I 2025-09-13 18:36:45,199] Trial 5 finished with value: 0.0274581589958159 and parameters: {'num_leaves': 115, 'max_depth': 6, 'eta': 0.0014542470034419129, 'n_estimators': 70}. Best is trial 1 with value: 0.031237797735259663.\n",
            "c:\\Users\\Лиана\\OneDrive\\Desktop\\ITMO\\AutoML-ITMO\\.venv\\Lib\\site-packages\\sklearn\\utils\\validation.py:2749: UserWarning: X does not have valid feature names, but LGBMClassifier was fitted with feature names\n",
            "  warnings.warn(\n",
            "[I 2025-09-13 18:36:55,615] Trial 13 finished with value: 0.01455026455026455 and parameters: {'num_leaves': 22, 'max_depth': 6, 'eta': 0.005521658080852398, 'n_estimators': 51}. Best is trial 1 with value: 0.031237797735259663.\n",
            "c:\\Users\\Лиана\\OneDrive\\Desktop\\ITMO\\AutoML-ITMO\\.venv\\Lib\\site-packages\\sklearn\\utils\\validation.py:2749: UserWarning: X does not have valid feature names, but LGBMClassifier was fitted with feature names\n",
            "  warnings.warn(\n",
            "[I 2025-09-13 18:37:11,838] Trial 4 finished with value: 0.041833440929632024 and parameters: {'num_leaves': 34, 'max_depth': 6, 'eta': 0.0068267703516404, 'n_estimators': 145}. Best is trial 4 with value: 0.041833440929632024.\n",
            "c:\\Users\\Лиана\\OneDrive\\Desktop\\ITMO\\AutoML-ITMO\\.venv\\Lib\\site-packages\\sklearn\\utils\\validation.py:2749: UserWarning: X does not have valid feature names, but LGBMClassifier was fitted with feature names\n",
            "  warnings.warn(\n",
            "[I 2025-09-13 18:37:19,854] Trial 3 finished with value: 0.04098466297203248 and parameters: {'num_leaves': 79, 'max_depth': 5, 'eta': 0.08732101324480673, 'n_estimators': 212}. Best is trial 4 with value: 0.041833440929632024.\n",
            "c:\\Users\\Лиана\\OneDrive\\Desktop\\ITMO\\AutoML-ITMO\\.venv\\Lib\\site-packages\\sklearn\\utils\\validation.py:2749: UserWarning: X does not have valid feature names, but LGBMClassifier was fitted with feature names\n",
            "  warnings.warn(\n",
            "[I 2025-09-13 18:37:34,994] Trial 15 finished with value: 0.03930695629687096 and parameters: {'num_leaves': 199, 'max_depth': 4, 'eta': 0.0045278813154968145, 'n_estimators': 219}. Best is trial 4 with value: 0.041833440929632024.\n",
            "c:\\Users\\Лиана\\OneDrive\\Desktop\\ITMO\\AutoML-ITMO\\.venv\\Lib\\site-packages\\sklearn\\utils\\validation.py:2749: UserWarning: X does not have valid feature names, but LGBMClassifier was fitted with feature names\n",
            "  warnings.warn(\n",
            "[I 2025-09-13 18:37:44,423] Trial 2 finished with value: 0.050600562228469204 and parameters: {'num_leaves': 92, 'max_depth': 4, 'eta': 0.05755497953930673, 'n_estimators': 556}. Best is trial 2 with value: 0.050600562228469204.\n",
            "c:\\Users\\Лиана\\OneDrive\\Desktop\\ITMO\\AutoML-ITMO\\.venv\\Lib\\site-packages\\sklearn\\utils\\validation.py:2749: UserWarning: X does not have valid feature names, but LGBMClassifier was fitted with feature names\n",
            "  warnings.warn(\n",
            "[I 2025-09-13 18:37:58,632] Trial 11 finished with value: 0.04579176259913021 and parameters: {'num_leaves': 87, 'max_depth': 6, 'eta': 0.005123873022292118, 'n_estimators': 213}. Best is trial 2 with value: 0.050600562228469204.\n",
            "c:\\Users\\Лиана\\OneDrive\\Desktop\\ITMO\\AutoML-ITMO\\.venv\\Lib\\site-packages\\sklearn\\utils\\validation.py:2749: UserWarning: X does not have valid feature names, but LGBMClassifier was fitted with feature names\n",
            "  warnings.warn(\n",
            "[I 2025-09-13 18:38:04,968] Trial 18 finished with value: 0.03351084556435901 and parameters: {'num_leaves': 21, 'max_depth': 4, 'eta': 0.012727332206223168, 'n_estimators': 164}. Best is trial 2 with value: 0.050600562228469204.\n",
            "c:\\Users\\Лиана\\OneDrive\\Desktop\\ITMO\\AutoML-ITMO\\.venv\\Lib\\site-packages\\sklearn\\utils\\validation.py:2749: UserWarning: X does not have valid feature names, but LGBMClassifier was fitted with feature names\n",
            "  warnings.warn(\n",
            "[I 2025-09-13 18:38:32,079] Trial 16 finished with value: 0.04630932582832289 and parameters: {'num_leaves': 62, 'max_depth': 5, 'eta': 0.08451330938313667, 'n_estimators': 318}. Best is trial 2 with value: 0.050600562228469204.\n",
            "c:\\Users\\Лиана\\OneDrive\\Desktop\\ITMO\\AutoML-ITMO\\.venv\\Lib\\site-packages\\sklearn\\utils\\validation.py:2749: UserWarning: X does not have valid feature names, but LGBMClassifier was fitted with feature names\n",
            "  warnings.warn(\n",
            "[I 2025-09-13 18:38:36,192] Trial 20 finished with value: 0.03473302229134267 and parameters: {'num_leaves': 116, 'max_depth': 5, 'eta': 0.07707181966208108, 'n_estimators': 151}. Best is trial 2 with value: 0.050600562228469204.\n",
            "c:\\Users\\Лиана\\OneDrive\\Desktop\\ITMO\\AutoML-ITMO\\.venv\\Lib\\site-packages\\sklearn\\utils\\validation.py:2749: UserWarning: X does not have valid feature names, but LGBMClassifier was fitted with feature names\n",
            "  warnings.warn(\n",
            "[I 2025-09-13 18:38:43,018] Trial 19 finished with value: 0.03915003219575016 and parameters: {'num_leaves': 18, 'max_depth': 6, 'eta': 0.021637204476777454, 'n_estimators': 298}. Best is trial 2 with value: 0.050600562228469204.\n",
            "c:\\Users\\Лиана\\OneDrive\\Desktop\\ITMO\\AutoML-ITMO\\.venv\\Lib\\site-packages\\sklearn\\utils\\validation.py:2749: UserWarning: X does not have valid feature names, but LGBMClassifier was fitted with feature names\n",
            "  warnings.warn(\n",
            "[I 2025-09-13 18:38:59,215] Trial 12 finished with value: 0.0525981450895693 and parameters: {'num_leaves': 175, 'max_depth': 4, 'eta': 0.0899932959404118, 'n_estimators': 971}. Best is trial 12 with value: 0.0525981450895693.\n",
            "c:\\Users\\Лиана\\OneDrive\\Desktop\\ITMO\\AutoML-ITMO\\.venv\\Lib\\site-packages\\sklearn\\utils\\validation.py:2749: UserWarning: X does not have valid feature names, but LGBMClassifier was fitted with feature names\n",
            "  warnings.warn(\n",
            "[I 2025-09-13 18:39:26,093] Trial 7 finished with value: 0.049746192893401014 and parameters: {'num_leaves': 19, 'max_depth': 6, 'eta': 0.005771838916347471, 'n_estimators': 987}. Best is trial 12 with value: 0.0525981450895693.\n",
            "c:\\Users\\Лиана\\OneDrive\\Desktop\\ITMO\\AutoML-ITMO\\.venv\\Lib\\site-packages\\sklearn\\utils\\validation.py:2749: UserWarning: X does not have valid feature names, but LGBMClassifier was fitted with feature names\n",
            "  warnings.warn(\n",
            "[I 2025-09-13 18:39:31,865] Trial 17 finished with value: 0.051432208784213874 and parameters: {'num_leaves': 43, 'max_depth': 7, 'eta': 0.0016251796351027454, 'n_estimators': 354}. Best is trial 12 with value: 0.0525981450895693.\n",
            "c:\\Users\\Лиана\\OneDrive\\Desktop\\ITMO\\AutoML-ITMO\\.venv\\Lib\\site-packages\\sklearn\\utils\\validation.py:2749: UserWarning: X does not have valid feature names, but LGBMClassifier was fitted with feature names\n",
            "  warnings.warn(\n",
            "[I 2025-09-13 18:39:41,718] Trial 9 finished with value: 0.05652283623517537 and parameters: {'num_leaves': 145, 'max_depth': 5, 'eta': 0.004092608039393673, 'n_estimators': 885}. Best is trial 9 with value: 0.05652283623517537.\n",
            "c:\\Users\\Лиана\\OneDrive\\Desktop\\ITMO\\AutoML-ITMO\\.venv\\Lib\\site-packages\\sklearn\\utils\\validation.py:2749: UserWarning: X does not have valid feature names, but LGBMClassifier was fitted with feature names\n",
            "  warnings.warn(\n",
            "[I 2025-09-13 18:40:01,019] Trial 14 finished with value: 0.05489501644320769 and parameters: {'num_leaves': 26, 'max_depth': 7, 'eta': 0.002619324556466676, 'n_estimators': 820}. Best is trial 9 with value: 0.05652283623517537.\n",
            "c:\\Users\\Лиана\\OneDrive\\Desktop\\ITMO\\AutoML-ITMO\\.venv\\Lib\\site-packages\\sklearn\\utils\\validation.py:2749: UserWarning: X does not have valid feature names, but LGBMClassifier was fitted with feature names\n",
            "  warnings.warn(\n",
            "[I 2025-09-13 18:40:17,797] Trial 8 finished with value: 0.062005773816995104 and parameters: {'num_leaves': 82, 'max_depth': 6, 'eta': 0.09583691400527082, 'n_estimators': 682}. Best is trial 8 with value: 0.062005773816995104.\n",
            "c:\\Users\\Лиана\\OneDrive\\Desktop\\ITMO\\AutoML-ITMO\\.venv\\Lib\\site-packages\\sklearn\\utils\\validation.py:2749: UserWarning: X does not have valid feature names, but LGBMClassifier was fitted with feature names\n",
            "  warnings.warn(\n",
            "[I 2025-09-13 18:40:46,755] Trial 22 finished with value: 0.0539650367367621 and parameters: {'num_leaves': 47, 'max_depth': 5, 'eta': 0.09598926972378653, 'n_estimators': 658}. Best is trial 8 with value: 0.062005773816995104.\n",
            "c:\\Users\\Лиана\\OneDrive\\Desktop\\ITMO\\AutoML-ITMO\\.venv\\Lib\\site-packages\\sklearn\\utils\\validation.py:2749: UserWarning: X does not have valid feature names, but LGBMClassifier was fitted with feature names\n",
            "  warnings.warn(\n",
            "[I 2025-09-13 18:41:35,279] Trial 23 finished with value: 0.05625630676084763 and parameters: {'num_leaves': 47, 'max_depth': 8, 'eta': 0.032362541870275846, 'n_estimators': 661}. Best is trial 8 with value: 0.062005773816995104.\n",
            "c:\\Users\\Лиана\\OneDrive\\Desktop\\ITMO\\AutoML-ITMO\\.venv\\Lib\\site-packages\\sklearn\\utils\\validation.py:2749: UserWarning: X does not have valid feature names, but LGBMClassifier was fitted with feature names\n",
            "  warnings.warn(\n",
            "[I 2025-09-13 18:41:44,173] Trial 0 finished with value: 0.058507313414176775 and parameters: {'num_leaves': 207, 'max_depth': 7, 'eta': 0.007451083769277302, 'n_estimators': 703}. Best is trial 8 with value: 0.062005773816995104.\n",
            "c:\\Users\\Лиана\\OneDrive\\Desktop\\ITMO\\AutoML-ITMO\\.venv\\Lib\\site-packages\\sklearn\\utils\\validation.py:2749: UserWarning: X does not have valid feature names, but LGBMClassifier was fitted with feature names\n",
            "  warnings.warn(\n",
            "[I 2025-09-13 18:42:15,144] Trial 29 finished with value: 0.05244489485685331 and parameters: {'num_leaves': 35, 'max_depth': 8, 'eta': 0.0031741588831139733, 'n_estimators': 637}. Best is trial 8 with value: 0.062005773816995104.\n",
            "c:\\Users\\Лиана\\OneDrive\\Desktop\\ITMO\\AutoML-ITMO\\.venv\\Lib\\site-packages\\sklearn\\utils\\validation.py:2749: UserWarning: X does not have valid feature names, but LGBMClassifier was fitted with feature names\n",
            "  warnings.warn(\n",
            "[I 2025-09-13 18:42:35,736] Trial 24 finished with value: 0.05894206549118388 and parameters: {'num_leaves': 47, 'max_depth': 8, 'eta': 0.03700870473081153, 'n_estimators': 761}. Best is trial 8 with value: 0.062005773816995104.\n",
            "c:\\Users\\Лиана\\OneDrive\\Desktop\\ITMO\\AutoML-ITMO\\.venv\\Lib\\site-packages\\sklearn\\utils\\validation.py:2749: UserWarning: X does not have valid feature names, but LGBMClassifier was fitted with feature names\n",
            "  warnings.warn(\n",
            "[I 2025-09-13 18:42:38,407] Trial 10 finished with value: 0.06632716432741274 and parameters: {'num_leaves': 65, 'max_depth': 8, 'eta': 0.0012677925107369057, 'n_estimators': 969}. Best is trial 10 with value: 0.06632716432741274.\n",
            "c:\\Users\\Лиана\\OneDrive\\Desktop\\ITMO\\AutoML-ITMO\\.venv\\Lib\\site-packages\\sklearn\\utils\\validation.py:2749: UserWarning: X does not have valid feature names, but LGBMClassifier was fitted with feature names\n",
            "  warnings.warn(\n",
            "[I 2025-09-13 18:42:54,521] Trial 30 finished with value: 0.05985915492957746 and parameters: {'num_leaves': 57, 'max_depth': 8, 'eta': 0.031873975638479754, 'n_estimators': 592}. Best is trial 10 with value: 0.06632716432741274.\n",
            "c:\\Users\\Лиана\\OneDrive\\Desktop\\ITMO\\AutoML-ITMO\\.venv\\Lib\\site-packages\\sklearn\\utils\\validation.py:2749: UserWarning: X does not have valid feature names, but LGBMClassifier was fitted with feature names\n",
            "  warnings.warn(\n",
            "[I 2025-09-13 18:43:02,746] Trial 31 finished with value: 0.057085376587451275 and parameters: {'num_leaves': 61, 'max_depth': 8, 'eta': 0.028343320509749564, 'n_estimators': 489}. Best is trial 10 with value: 0.06632716432741274.\n",
            "c:\\Users\\Лиана\\OneDrive\\Desktop\\ITMO\\AutoML-ITMO\\.venv\\Lib\\site-packages\\sklearn\\utils\\validation.py:2749: UserWarning: X does not have valid feature names, but LGBMClassifier was fitted with feature names\n",
            "  warnings.warn(\n",
            "[I 2025-09-13 18:43:09,484] Trial 25 finished with value: 0.05829372029021766 and parameters: {'num_leaves': 48, 'max_depth': 8, 'eta': 0.03423258567066473, 'n_estimators': 990}. Best is trial 10 with value: 0.06632716432741274.\n",
            "c:\\Users\\Лиана\\OneDrive\\Desktop\\ITMO\\AutoML-ITMO\\.venv\\Lib\\site-packages\\sklearn\\utils\\validation.py:2749: UserWarning: X does not have valid feature names, but LGBMClassifier was fitted with feature names\n",
            "  warnings.warn(\n",
            "[I 2025-09-13 18:43:37,205] Trial 27 finished with value: 0.05612886987163353 and parameters: {'num_leaves': 46, 'max_depth': 8, 'eta': 0.030437193905532994, 'n_estimators': 879}. Best is trial 10 with value: 0.06632716432741274.\n",
            "c:\\Users\\Лиана\\OneDrive\\Desktop\\ITMO\\AutoML-ITMO\\.venv\\Lib\\site-packages\\sklearn\\utils\\validation.py:2749: UserWarning: X does not have valid feature names, but LGBMClassifier was fitted with feature names\n",
            "  warnings.warn(\n",
            "[I 2025-09-13 18:44:00,068] Trial 21 finished with value: 0.06020484636522608 and parameters: {'num_leaves': 60, 'max_depth': 8, 'eta': 0.09230663641571636, 'n_estimators': 901}. Best is trial 10 with value: 0.06632716432741274.\n",
            "c:\\Users\\Лиана\\OneDrive\\Desktop\\ITMO\\AutoML-ITMO\\.venv\\Lib\\site-packages\\sklearn\\utils\\validation.py:2749: UserWarning: X does not have valid feature names, but LGBMClassifier was fitted with feature names\n",
            "  warnings.warn(\n",
            "[I 2025-09-13 18:44:10,729] Trial 32 finished with value: 0.0591567023285085 and parameters: {'num_leaves': 60, 'max_depth': 8, 'eta': 0.04283654795969098, 'n_estimators': 502}. Best is trial 10 with value: 0.06632716432741274.\n",
            "c:\\Users\\Лиана\\OneDrive\\Desktop\\ITMO\\AutoML-ITMO\\.venv\\Lib\\site-packages\\sklearn\\utils\\validation.py:2749: UserWarning: X does not have valid feature names, but LGBMClassifier was fitted with feature names\n",
            "  warnings.warn(\n",
            "c:\\Users\\Лиана\\OneDrive\\Desktop\\ITMO\\AutoML-ITMO\\.venv\\Lib\\site-packages\\sklearn\\utils\\validation.py:2749: UserWarning: X does not have valid feature names, but LGBMClassifier was fitted with feature names\n",
            "  warnings.warn(\n",
            "[I 2025-09-13 18:44:37,279] Trial 33 finished with value: 0.059356136820925554 and parameters: {'num_leaves': 156, 'max_depth': 7, 'eta': 0.01015160649901207, 'n_estimators': 466}. Best is trial 10 with value: 0.06632716432741274.\n",
            "[I 2025-09-13 18:44:37,616] Trial 26 finished with value: 0.0599250936329588 and parameters: {'num_leaves': 50, 'max_depth': 8, 'eta': 0.033931062382330436, 'n_estimators': 983}. Best is trial 10 with value: 0.06632716432741274.\n",
            "c:\\Users\\Лиана\\OneDrive\\Desktop\\ITMO\\AutoML-ITMO\\.venv\\Lib\\site-packages\\sklearn\\utils\\validation.py:2749: UserWarning: X does not have valid feature names, but LGBMClassifier was fitted with feature names\n",
            "  warnings.warn(\n",
            "[I 2025-09-13 18:45:18,305] Trial 35 finished with value: 0.05788347804202844 and parameters: {'num_leaves': 62, 'max_depth': 7, 'eta': 0.0460306728807972, 'n_estimators': 493}. Best is trial 10 with value: 0.06632716432741274.\n",
            "c:\\Users\\Лиана\\OneDrive\\Desktop\\ITMO\\AutoML-ITMO\\.venv\\Lib\\site-packages\\sklearn\\utils\\validation.py:2749: UserWarning: X does not have valid feature names, but LGBMClassifier was fitted with feature names\n",
            "  warnings.warn(\n",
            "[I 2025-09-13 18:45:29,916] Trial 36 finished with value: 0.06057559381676511 and parameters: {'num_leaves': 65, 'max_depth': 8, 'eta': 0.03232519086746602, 'n_estimators': 477}. Best is trial 10 with value: 0.06632716432741274.\n",
            "c:\\Users\\Лиана\\OneDrive\\Desktop\\ITMO\\AutoML-ITMO\\.venv\\Lib\\site-packages\\sklearn\\utils\\validation.py:2749: UserWarning: X does not have valid feature names, but LGBMClassifier was fitted with feature names\n",
            "  warnings.warn(\n",
            "[I 2025-09-13 18:45:31,338] Trial 37 finished with value: 0.05646584320645324 and parameters: {'num_leaves': 66, 'max_depth': 7, 'eta': 0.01807333907193608, 'n_estimators': 451}. Best is trial 10 with value: 0.06632716432741274.\n",
            "c:\\Users\\Лиана\\OneDrive\\Desktop\\ITMO\\AutoML-ITMO\\.venv\\Lib\\site-packages\\sklearn\\utils\\validation.py:2749: UserWarning: X does not have valid feature names, but LGBMClassifier was fitted with feature names\n",
            "  warnings.warn(\n",
            "[I 2025-09-13 18:45:43,341] Trial 39 finished with value: 0.06041535556954059 and parameters: {'num_leaves': 69, 'max_depth': 7, 'eta': 0.013499808991534568, 'n_estimators': 439}. Best is trial 10 with value: 0.06632716432741274.\n",
            "c:\\Users\\Лиана\\OneDrive\\Desktop\\ITMO\\AutoML-ITMO\\.venv\\Lib\\site-packages\\sklearn\\utils\\validation.py:2749: UserWarning: X does not have valid feature names, but LGBMClassifier was fitted with feature names\n",
            "  warnings.warn(\n",
            "[I 2025-09-13 18:45:48,624] Trial 34 finished with value: 0.05936360206263363 and parameters: {'num_leaves': 161, 'max_depth': 7, 'eta': 0.011081742130346094, 'n_estimators': 455}. Best is trial 10 with value: 0.06632716432741274.\n",
            "c:\\Users\\Лиана\\OneDrive\\Desktop\\ITMO\\AutoML-ITMO\\.venv\\Lib\\site-packages\\sklearn\\utils\\validation.py:2749: UserWarning: X does not have valid feature names, but LGBMClassifier was fitted with feature names\n",
            "  warnings.warn(\n",
            "[I 2025-09-13 18:46:13,982] Trial 40 finished with value: 0.05697718391529056 and parameters: {'num_leaves': 73, 'max_depth': 7, 'eta': 0.010923302488950893, 'n_estimators': 431}. Best is trial 10 with value: 0.06632716432741274.\n",
            "c:\\Users\\Лиана\\OneDrive\\Desktop\\ITMO\\AutoML-ITMO\\.venv\\Lib\\site-packages\\sklearn\\utils\\validation.py:2749: UserWarning: X does not have valid feature names, but LGBMClassifier was fitted with feature names\n",
            "  warnings.warn(\n",
            "[I 2025-09-13 18:46:27,824] Trial 38 finished with value: 0.05763181074619353 and parameters: {'num_leaves': 73, 'max_depth': 7, 'eta': 0.053177736792786395, 'n_estimators': 487}. Best is trial 10 with value: 0.06632716432741274.\n",
            "c:\\Users\\Лиана\\OneDrive\\Desktop\\ITMO\\AutoML-ITMO\\.venv\\Lib\\site-packages\\sklearn\\utils\\validation.py:2749: UserWarning: X does not have valid feature names, but LGBMClassifier was fitted with feature names\n",
            "  warnings.warn(\n",
            "[I 2025-09-13 18:46:35,044] Trial 42 finished with value: 0.058007566204287514 and parameters: {'num_leaves': 77, 'max_depth': 7, 'eta': 0.012582448864451356, 'n_estimators': 404}. Best is trial 10 with value: 0.06632716432741274.\n",
            "c:\\Users\\Лиана\\OneDrive\\Desktop\\ITMO\\AutoML-ITMO\\.venv\\Lib\\site-packages\\sklearn\\utils\\validation.py:2749: UserWarning: X does not have valid feature names, but LGBMClassifier was fitted with feature names\n",
            "  warnings.warn(\n",
            "[I 2025-09-13 18:46:39,506] Trial 41 finished with value: 0.057041898031297326 and parameters: {'num_leaves': 70, 'max_depth': 7, 'eta': 0.011165745373604867, 'n_estimators': 389}. Best is trial 10 with value: 0.06632716432741274.\n",
            "c:\\Users\\Лиана\\OneDrive\\Desktop\\ITMO\\AutoML-ITMO\\.venv\\Lib\\site-packages\\sklearn\\utils\\validation.py:2749: UserWarning: X does not have valid feature names, but LGBMClassifier was fitted with feature names\n",
            "  warnings.warn(\n",
            "[I 2025-09-13 18:46:49,955] Trial 44 finished with value: 0.05738119312436805 and parameters: {'num_leaves': 76, 'max_depth': 7, 'eta': 0.05779831306451718, 'n_estimators': 408}. Best is trial 10 with value: 0.06632716432741274.\n",
            "c:\\Users\\Лиана\\OneDrive\\Desktop\\ITMO\\AutoML-ITMO\\.venv\\Lib\\site-packages\\sklearn\\utils\\validation.py:2749: UserWarning: X does not have valid feature names, but LGBMClassifier was fitted with feature names\n",
            "  warnings.warn(\n",
            "[I 2025-09-13 18:46:54,111] Trial 43 finished with value: 0.052371916508538896 and parameters: {'num_leaves': 73, 'max_depth': 7, 'eta': 0.01691505292848665, 'n_estimators': 373}. Best is trial 10 with value: 0.06632716432741274.\n",
            "c:\\Users\\Лиана\\OneDrive\\Desktop\\ITMO\\AutoML-ITMO\\.venv\\Lib\\site-packages\\sklearn\\utils\\validation.py:2749: UserWarning: X does not have valid feature names, but LGBMClassifier was fitted with feature names\n",
            "  warnings.warn(\n",
            "[I 2025-09-13 18:47:09,641] Trial 47 finished with value: 0.05538694992412747 and parameters: {'num_leaves': 76, 'max_depth': 7, 'eta': 0.06831790484770878, 'n_estimators': 387}. Best is trial 10 with value: 0.06632716432741274.\n",
            "c:\\Users\\Лиана\\OneDrive\\Desktop\\ITMO\\AutoML-ITMO\\.venv\\Lib\\site-packages\\sklearn\\utils\\validation.py:2749: UserWarning: X does not have valid feature names, but LGBMClassifier was fitted with feature names\n",
            "  warnings.warn(\n",
            "[I 2025-09-13 18:47:16,930] Trial 45 finished with value: 0.05684689236988378 and parameters: {'num_leaves': 76, 'max_depth': 7, 'eta': 0.05808780446486656, 'n_estimators': 399}. Best is trial 10 with value: 0.06632716432741274.\n",
            "c:\\Users\\Лиана\\OneDrive\\Desktop\\ITMO\\AutoML-ITMO\\.venv\\Lib\\site-packages\\sklearn\\utils\\validation.py:2749: UserWarning: X does not have valid feature names, but LGBMClassifier was fitted with feature names\n",
            "  warnings.warn(\n",
            "[I 2025-09-13 18:47:21,430] Trial 28 finished with value: 0.07304133251079581 and parameters: {'num_leaves': 168, 'max_depth': 8, 'eta': 0.036262094263259076, 'n_estimators': 898}. Best is trial 28 with value: 0.07304133251079581.\n",
            "c:\\Users\\Лиана\\OneDrive\\Desktop\\ITMO\\AutoML-ITMO\\.venv\\Lib\\site-packages\\sklearn\\utils\\validation.py:2749: UserWarning: X does not have valid feature names, but LGBMClassifier was fitted with feature names\n",
            "  warnings.warn(\n",
            "c:\\Users\\Лиана\\OneDrive\\Desktop\\ITMO\\AutoML-ITMO\\.venv\\Lib\\site-packages\\sklearn\\utils\\validation.py:2749: UserWarning: X does not have valid feature names, but LGBMClassifier was fitted with feature names\n",
            "  warnings.warn(\n",
            "[I 2025-09-13 18:47:22,895] Trial 46 finished with value: 0.05490890688259109 and parameters: {'num_leaves': 85, 'max_depth': 7, 'eta': 0.06460054844117417, 'n_estimators': 401}. Best is trial 28 with value: 0.07304133251079581.\n",
            "[I 2025-09-13 18:47:23,076] Trial 49 finished with value: 0.05658709106984969 and parameters: {'num_leaves': 74, 'max_depth': 7, 'eta': 0.016759944298949375, 'n_estimators': 373}. Best is trial 28 with value: 0.07304133251079581.\n",
            "c:\\Users\\Лиана\\OneDrive\\Desktop\\ITMO\\AutoML-ITMO\\.venv\\Lib\\site-packages\\sklearn\\utils\\validation.py:2749: UserWarning: X does not have valid feature names, but LGBMClassifier was fitted with feature names\n",
            "  warnings.warn(\n",
            "[I 2025-09-13 18:47:24,286] Trial 48 finished with value: 0.055871571229933005 and parameters: {'num_leaves': 76, 'max_depth': 7, 'eta': 0.058850033572860797, 'n_estimators': 383}. Best is trial 28 with value: 0.07304133251079581.\n"
          ]
        },
        {
          "name": "stdout",
          "output_type": "stream",
          "text": [
            "Best F1-score: 0.07304133251079581\n",
            "Best parameters: {'num_leaves': 168, 'max_depth': 8, 'eta': 0.036262094263259076, 'n_estimators': 898}\n"
          ]
        }
      ],
      "source": [
        "from functools import partial\n",
        "\n",
        "study_f1 = optuna.create_study(direction='maximize')\n",
        "obj_func_f1 = partial(boost_objective_f1, X_tr=X_tr, X_val=X_tst, y_tr=y_tr, y_val=y_tst)\n",
        "study_f1.optimize(obj_func_f1, n_trials=50, n_jobs=-1, gc_after_trial=True)\n",
        "\n",
        "print(\"Best F1-score:\", study_f1.best_value)\n",
        "print(\"Best parameters:\", study_f1.best_params)"
      ]
    },
    {
      "cell_type": "code",
      "execution_count": 18,
      "id": "e11a00ab",
      "metadata": {},
      "outputs": [
        {
          "data": {
            "application/vnd.plotly.v1+json": {
              "config": {
                "plotlyServerURL": "https://plot.ly"
              },
              "data": [
                {
                  "mode": "markers",
                  "name": "Objective Value",
                  "type": "scatter",
                  "x": [
                    0,
                    1,
                    2,
                    3,
                    4,
                    5,
                    6,
                    7,
                    8,
                    9,
                    10,
                    11,
                    12,
                    13,
                    14,
                    15,
                    16,
                    17,
                    18,
                    19,
                    20,
                    21,
                    22,
                    23,
                    24,
                    25,
                    26,
                    27,
                    28,
                    29,
                    30,
                    31,
                    32,
                    33,
                    34,
                    35,
                    36,
                    37,
                    38,
                    39,
                    40,
                    41,
                    42,
                    43,
                    44,
                    45,
                    46,
                    47,
                    48,
                    49
                  ],
                  "y": [
                    0.058507313414176775,
                    0.031237797735259663,
                    0.050600562228469204,
                    0.04098466297203248,
                    0.041833440929632024,
                    0.0274581589958159,
                    0.022084921782568687,
                    0.049746192893401014,
                    0.062005773816995104,
                    0.05652283623517537,
                    0.06632716432741274,
                    0.04579176259913021,
                    0.0525981450895693,
                    0.01455026455026455,
                    0.05489501644320769,
                    0.03930695629687096,
                    0.04630932582832289,
                    0.051432208784213874,
                    0.03351084556435901,
                    0.03915003219575016,
                    0.03473302229134267,
                    0.06020484636522608,
                    0.0539650367367621,
                    0.05625630676084763,
                    0.05894206549118388,
                    0.05829372029021766,
                    0.0599250936329588,
                    0.05612886987163353,
                    0.07304133251079581,
                    0.05244489485685331,
                    0.05985915492957746,
                    0.057085376587451275,
                    0.0591567023285085,
                    0.059356136820925554,
                    0.05936360206263363,
                    0.05788347804202844,
                    0.06057559381676511,
                    0.05646584320645324,
                    0.05763181074619353,
                    0.06041535556954059,
                    0.05697718391529056,
                    0.057041898031297326,
                    0.058007566204287514,
                    0.052371916508538896,
                    0.05738119312436805,
                    0.05684689236988378,
                    0.05490890688259109,
                    0.05538694992412747,
                    0.055871571229933005,
                    0.05658709106984969
                  ]
                },
                {
                  "mode": "lines",
                  "name": "Best Value",
                  "type": "scatter",
                  "x": [
                    0,
                    1,
                    2,
                    3,
                    4,
                    5,
                    6,
                    7,
                    8,
                    9,
                    10,
                    11,
                    12,
                    13,
                    14,
                    15,
                    16,
                    17,
                    18,
                    19,
                    20,
                    21,
                    22,
                    23,
                    24,
                    25,
                    26,
                    27,
                    28,
                    29,
                    30,
                    31,
                    32,
                    33,
                    34,
                    35,
                    36,
                    37,
                    38,
                    39,
                    40,
                    41,
                    42,
                    43,
                    44,
                    45,
                    46,
                    47,
                    48,
                    49
                  ],
                  "y": [
                    0.058507313414176775,
                    0.058507313414176775,
                    0.058507313414176775,
                    0.058507313414176775,
                    0.058507313414176775,
                    0.058507313414176775,
                    0.058507313414176775,
                    0.058507313414176775,
                    0.062005773816995104,
                    0.062005773816995104,
                    0.06632716432741274,
                    0.06632716432741274,
                    0.06632716432741274,
                    0.06632716432741274,
                    0.06632716432741274,
                    0.06632716432741274,
                    0.06632716432741274,
                    0.06632716432741274,
                    0.06632716432741274,
                    0.06632716432741274,
                    0.06632716432741274,
                    0.06632716432741274,
                    0.06632716432741274,
                    0.06632716432741274,
                    0.06632716432741274,
                    0.06632716432741274,
                    0.06632716432741274,
                    0.06632716432741274,
                    0.07304133251079581,
                    0.07304133251079581,
                    0.07304133251079581,
                    0.07304133251079581,
                    0.07304133251079581,
                    0.07304133251079581,
                    0.07304133251079581,
                    0.07304133251079581,
                    0.07304133251079581,
                    0.07304133251079581,
                    0.07304133251079581,
                    0.07304133251079581,
                    0.07304133251079581,
                    0.07304133251079581,
                    0.07304133251079581,
                    0.07304133251079581,
                    0.07304133251079581,
                    0.07304133251079581,
                    0.07304133251079581,
                    0.07304133251079581,
                    0.07304133251079581,
                    0.07304133251079581
                  ]
                },
                {
                  "marker": {
                    "color": "#cccccc"
                  },
                  "mode": "markers",
                  "name": "Infeasible Trial",
                  "showlegend": false,
                  "type": "scatter",
                  "x": [],
                  "y": []
                }
              ],
              "layout": {
                "template": {
                  "data": {
                    "bar": [
                      {
                        "error_x": {
                          "color": "#2a3f5f"
                        },
                        "error_y": {
                          "color": "#2a3f5f"
                        },
                        "marker": {
                          "line": {
                            "color": "#E5ECF6",
                            "width": 0.5
                          },
                          "pattern": {
                            "fillmode": "overlay",
                            "size": 10,
                            "solidity": 0.2
                          }
                        },
                        "type": "bar"
                      }
                    ],
                    "barpolar": [
                      {
                        "marker": {
                          "line": {
                            "color": "#E5ECF6",
                            "width": 0.5
                          },
                          "pattern": {
                            "fillmode": "overlay",
                            "size": 10,
                            "solidity": 0.2
                          }
                        },
                        "type": "barpolar"
                      }
                    ],
                    "carpet": [
                      {
                        "aaxis": {
                          "endlinecolor": "#2a3f5f",
                          "gridcolor": "white",
                          "linecolor": "white",
                          "minorgridcolor": "white",
                          "startlinecolor": "#2a3f5f"
                        },
                        "baxis": {
                          "endlinecolor": "#2a3f5f",
                          "gridcolor": "white",
                          "linecolor": "white",
                          "minorgridcolor": "white",
                          "startlinecolor": "#2a3f5f"
                        },
                        "type": "carpet"
                      }
                    ],
                    "choropleth": [
                      {
                        "colorbar": {
                          "outlinewidth": 0,
                          "ticks": ""
                        },
                        "type": "choropleth"
                      }
                    ],
                    "contour": [
                      {
                        "colorbar": {
                          "outlinewidth": 0,
                          "ticks": ""
                        },
                        "colorscale": [
                          [
                            0,
                            "#0d0887"
                          ],
                          [
                            0.1111111111111111,
                            "#46039f"
                          ],
                          [
                            0.2222222222222222,
                            "#7201a8"
                          ],
                          [
                            0.3333333333333333,
                            "#9c179e"
                          ],
                          [
                            0.4444444444444444,
                            "#bd3786"
                          ],
                          [
                            0.5555555555555556,
                            "#d8576b"
                          ],
                          [
                            0.6666666666666666,
                            "#ed7953"
                          ],
                          [
                            0.7777777777777778,
                            "#fb9f3a"
                          ],
                          [
                            0.8888888888888888,
                            "#fdca26"
                          ],
                          [
                            1,
                            "#f0f921"
                          ]
                        ],
                        "type": "contour"
                      }
                    ],
                    "contourcarpet": [
                      {
                        "colorbar": {
                          "outlinewidth": 0,
                          "ticks": ""
                        },
                        "type": "contourcarpet"
                      }
                    ],
                    "heatmap": [
                      {
                        "colorbar": {
                          "outlinewidth": 0,
                          "ticks": ""
                        },
                        "colorscale": [
                          [
                            0,
                            "#0d0887"
                          ],
                          [
                            0.1111111111111111,
                            "#46039f"
                          ],
                          [
                            0.2222222222222222,
                            "#7201a8"
                          ],
                          [
                            0.3333333333333333,
                            "#9c179e"
                          ],
                          [
                            0.4444444444444444,
                            "#bd3786"
                          ],
                          [
                            0.5555555555555556,
                            "#d8576b"
                          ],
                          [
                            0.6666666666666666,
                            "#ed7953"
                          ],
                          [
                            0.7777777777777778,
                            "#fb9f3a"
                          ],
                          [
                            0.8888888888888888,
                            "#fdca26"
                          ],
                          [
                            1,
                            "#f0f921"
                          ]
                        ],
                        "type": "heatmap"
                      }
                    ],
                    "histogram": [
                      {
                        "marker": {
                          "pattern": {
                            "fillmode": "overlay",
                            "size": 10,
                            "solidity": 0.2
                          }
                        },
                        "type": "histogram"
                      }
                    ],
                    "histogram2d": [
                      {
                        "colorbar": {
                          "outlinewidth": 0,
                          "ticks": ""
                        },
                        "colorscale": [
                          [
                            0,
                            "#0d0887"
                          ],
                          [
                            0.1111111111111111,
                            "#46039f"
                          ],
                          [
                            0.2222222222222222,
                            "#7201a8"
                          ],
                          [
                            0.3333333333333333,
                            "#9c179e"
                          ],
                          [
                            0.4444444444444444,
                            "#bd3786"
                          ],
                          [
                            0.5555555555555556,
                            "#d8576b"
                          ],
                          [
                            0.6666666666666666,
                            "#ed7953"
                          ],
                          [
                            0.7777777777777778,
                            "#fb9f3a"
                          ],
                          [
                            0.8888888888888888,
                            "#fdca26"
                          ],
                          [
                            1,
                            "#f0f921"
                          ]
                        ],
                        "type": "histogram2d"
                      }
                    ],
                    "histogram2dcontour": [
                      {
                        "colorbar": {
                          "outlinewidth": 0,
                          "ticks": ""
                        },
                        "colorscale": [
                          [
                            0,
                            "#0d0887"
                          ],
                          [
                            0.1111111111111111,
                            "#46039f"
                          ],
                          [
                            0.2222222222222222,
                            "#7201a8"
                          ],
                          [
                            0.3333333333333333,
                            "#9c179e"
                          ],
                          [
                            0.4444444444444444,
                            "#bd3786"
                          ],
                          [
                            0.5555555555555556,
                            "#d8576b"
                          ],
                          [
                            0.6666666666666666,
                            "#ed7953"
                          ],
                          [
                            0.7777777777777778,
                            "#fb9f3a"
                          ],
                          [
                            0.8888888888888888,
                            "#fdca26"
                          ],
                          [
                            1,
                            "#f0f921"
                          ]
                        ],
                        "type": "histogram2dcontour"
                      }
                    ],
                    "mesh3d": [
                      {
                        "colorbar": {
                          "outlinewidth": 0,
                          "ticks": ""
                        },
                        "type": "mesh3d"
                      }
                    ],
                    "parcoords": [
                      {
                        "line": {
                          "colorbar": {
                            "outlinewidth": 0,
                            "ticks": ""
                          }
                        },
                        "type": "parcoords"
                      }
                    ],
                    "pie": [
                      {
                        "automargin": true,
                        "type": "pie"
                      }
                    ],
                    "scatter": [
                      {
                        "fillpattern": {
                          "fillmode": "overlay",
                          "size": 10,
                          "solidity": 0.2
                        },
                        "type": "scatter"
                      }
                    ],
                    "scatter3d": [
                      {
                        "line": {
                          "colorbar": {
                            "outlinewidth": 0,
                            "ticks": ""
                          }
                        },
                        "marker": {
                          "colorbar": {
                            "outlinewidth": 0,
                            "ticks": ""
                          }
                        },
                        "type": "scatter3d"
                      }
                    ],
                    "scattercarpet": [
                      {
                        "marker": {
                          "colorbar": {
                            "outlinewidth": 0,
                            "ticks": ""
                          }
                        },
                        "type": "scattercarpet"
                      }
                    ],
                    "scattergeo": [
                      {
                        "marker": {
                          "colorbar": {
                            "outlinewidth": 0,
                            "ticks": ""
                          }
                        },
                        "type": "scattergeo"
                      }
                    ],
                    "scattergl": [
                      {
                        "marker": {
                          "colorbar": {
                            "outlinewidth": 0,
                            "ticks": ""
                          }
                        },
                        "type": "scattergl"
                      }
                    ],
                    "scattermap": [
                      {
                        "marker": {
                          "colorbar": {
                            "outlinewidth": 0,
                            "ticks": ""
                          }
                        },
                        "type": "scattermap"
                      }
                    ],
                    "scattermapbox": [
                      {
                        "marker": {
                          "colorbar": {
                            "outlinewidth": 0,
                            "ticks": ""
                          }
                        },
                        "type": "scattermapbox"
                      }
                    ],
                    "scatterpolar": [
                      {
                        "marker": {
                          "colorbar": {
                            "outlinewidth": 0,
                            "ticks": ""
                          }
                        },
                        "type": "scatterpolar"
                      }
                    ],
                    "scatterpolargl": [
                      {
                        "marker": {
                          "colorbar": {
                            "outlinewidth": 0,
                            "ticks": ""
                          }
                        },
                        "type": "scatterpolargl"
                      }
                    ],
                    "scatterternary": [
                      {
                        "marker": {
                          "colorbar": {
                            "outlinewidth": 0,
                            "ticks": ""
                          }
                        },
                        "type": "scatterternary"
                      }
                    ],
                    "surface": [
                      {
                        "colorbar": {
                          "outlinewidth": 0,
                          "ticks": ""
                        },
                        "colorscale": [
                          [
                            0,
                            "#0d0887"
                          ],
                          [
                            0.1111111111111111,
                            "#46039f"
                          ],
                          [
                            0.2222222222222222,
                            "#7201a8"
                          ],
                          [
                            0.3333333333333333,
                            "#9c179e"
                          ],
                          [
                            0.4444444444444444,
                            "#bd3786"
                          ],
                          [
                            0.5555555555555556,
                            "#d8576b"
                          ],
                          [
                            0.6666666666666666,
                            "#ed7953"
                          ],
                          [
                            0.7777777777777778,
                            "#fb9f3a"
                          ],
                          [
                            0.8888888888888888,
                            "#fdca26"
                          ],
                          [
                            1,
                            "#f0f921"
                          ]
                        ],
                        "type": "surface"
                      }
                    ],
                    "table": [
                      {
                        "cells": {
                          "fill": {
                            "color": "#EBF0F8"
                          },
                          "line": {
                            "color": "white"
                          }
                        },
                        "header": {
                          "fill": {
                            "color": "#C8D4E3"
                          },
                          "line": {
                            "color": "white"
                          }
                        },
                        "type": "table"
                      }
                    ]
                  },
                  "layout": {
                    "annotationdefaults": {
                      "arrowcolor": "#2a3f5f",
                      "arrowhead": 0,
                      "arrowwidth": 1
                    },
                    "autotypenumbers": "strict",
                    "coloraxis": {
                      "colorbar": {
                        "outlinewidth": 0,
                        "ticks": ""
                      }
                    },
                    "colorscale": {
                      "diverging": [
                        [
                          0,
                          "#8e0152"
                        ],
                        [
                          0.1,
                          "#c51b7d"
                        ],
                        [
                          0.2,
                          "#de77ae"
                        ],
                        [
                          0.3,
                          "#f1b6da"
                        ],
                        [
                          0.4,
                          "#fde0ef"
                        ],
                        [
                          0.5,
                          "#f7f7f7"
                        ],
                        [
                          0.6,
                          "#e6f5d0"
                        ],
                        [
                          0.7,
                          "#b8e186"
                        ],
                        [
                          0.8,
                          "#7fbc41"
                        ],
                        [
                          0.9,
                          "#4d9221"
                        ],
                        [
                          1,
                          "#276419"
                        ]
                      ],
                      "sequential": [
                        [
                          0,
                          "#0d0887"
                        ],
                        [
                          0.1111111111111111,
                          "#46039f"
                        ],
                        [
                          0.2222222222222222,
                          "#7201a8"
                        ],
                        [
                          0.3333333333333333,
                          "#9c179e"
                        ],
                        [
                          0.4444444444444444,
                          "#bd3786"
                        ],
                        [
                          0.5555555555555556,
                          "#d8576b"
                        ],
                        [
                          0.6666666666666666,
                          "#ed7953"
                        ],
                        [
                          0.7777777777777778,
                          "#fb9f3a"
                        ],
                        [
                          0.8888888888888888,
                          "#fdca26"
                        ],
                        [
                          1,
                          "#f0f921"
                        ]
                      ],
                      "sequentialminus": [
                        [
                          0,
                          "#0d0887"
                        ],
                        [
                          0.1111111111111111,
                          "#46039f"
                        ],
                        [
                          0.2222222222222222,
                          "#7201a8"
                        ],
                        [
                          0.3333333333333333,
                          "#9c179e"
                        ],
                        [
                          0.4444444444444444,
                          "#bd3786"
                        ],
                        [
                          0.5555555555555556,
                          "#d8576b"
                        ],
                        [
                          0.6666666666666666,
                          "#ed7953"
                        ],
                        [
                          0.7777777777777778,
                          "#fb9f3a"
                        ],
                        [
                          0.8888888888888888,
                          "#fdca26"
                        ],
                        [
                          1,
                          "#f0f921"
                        ]
                      ]
                    },
                    "colorway": [
                      "#636efa",
                      "#EF553B",
                      "#00cc96",
                      "#ab63fa",
                      "#FFA15A",
                      "#19d3f3",
                      "#FF6692",
                      "#B6E880",
                      "#FF97FF",
                      "#FECB52"
                    ],
                    "font": {
                      "color": "#2a3f5f"
                    },
                    "geo": {
                      "bgcolor": "white",
                      "lakecolor": "white",
                      "landcolor": "#E5ECF6",
                      "showlakes": true,
                      "showland": true,
                      "subunitcolor": "white"
                    },
                    "hoverlabel": {
                      "align": "left"
                    },
                    "hovermode": "closest",
                    "mapbox": {
                      "style": "light"
                    },
                    "paper_bgcolor": "white",
                    "plot_bgcolor": "#E5ECF6",
                    "polar": {
                      "angularaxis": {
                        "gridcolor": "white",
                        "linecolor": "white",
                        "ticks": ""
                      },
                      "bgcolor": "#E5ECF6",
                      "radialaxis": {
                        "gridcolor": "white",
                        "linecolor": "white",
                        "ticks": ""
                      }
                    },
                    "scene": {
                      "xaxis": {
                        "backgroundcolor": "#E5ECF6",
                        "gridcolor": "white",
                        "gridwidth": 2,
                        "linecolor": "white",
                        "showbackground": true,
                        "ticks": "",
                        "zerolinecolor": "white"
                      },
                      "yaxis": {
                        "backgroundcolor": "#E5ECF6",
                        "gridcolor": "white",
                        "gridwidth": 2,
                        "linecolor": "white",
                        "showbackground": true,
                        "ticks": "",
                        "zerolinecolor": "white"
                      },
                      "zaxis": {
                        "backgroundcolor": "#E5ECF6",
                        "gridcolor": "white",
                        "gridwidth": 2,
                        "linecolor": "white",
                        "showbackground": true,
                        "ticks": "",
                        "zerolinecolor": "white"
                      }
                    },
                    "shapedefaults": {
                      "line": {
                        "color": "#2a3f5f"
                      }
                    },
                    "ternary": {
                      "aaxis": {
                        "gridcolor": "white",
                        "linecolor": "white",
                        "ticks": ""
                      },
                      "baxis": {
                        "gridcolor": "white",
                        "linecolor": "white",
                        "ticks": ""
                      },
                      "bgcolor": "#E5ECF6",
                      "caxis": {
                        "gridcolor": "white",
                        "linecolor": "white",
                        "ticks": ""
                      }
                    },
                    "title": {
                      "x": 0.05
                    },
                    "xaxis": {
                      "automargin": true,
                      "gridcolor": "white",
                      "linecolor": "white",
                      "ticks": "",
                      "title": {
                        "standoff": 15
                      },
                      "zerolinecolor": "white",
                      "zerolinewidth": 2
                    },
                    "yaxis": {
                      "automargin": true,
                      "gridcolor": "white",
                      "linecolor": "white",
                      "ticks": "",
                      "title": {
                        "standoff": 15
                      },
                      "zerolinecolor": "white",
                      "zerolinewidth": 2
                    }
                  }
                },
                "title": {
                  "text": "Optimization History Plot"
                },
                "xaxis": {
                  "title": {
                    "text": "Trial"
                  }
                },
                "yaxis": {
                  "title": {
                    "text": "Objective Value"
                  }
                }
              }
            }
          },
          "metadata": {},
          "output_type": "display_data"
        },
        {
          "data": {
            "application/vnd.plotly.v1+json": {
              "config": {
                "plotlyServerURL": "https://plot.ly"
              },
              "data": [
                {
                  "cliponaxis": false,
                  "hovertemplate": [
                    "eta (FloatDistribution): 0.010670486685374679<extra></extra>",
                    "num_leaves (IntDistribution): 0.03227404478149239<extra></extra>",
                    "max_depth (IntDistribution): 0.053715362336167846<extra></extra>",
                    "n_estimators (IntDistribution): 0.903340106196965<extra></extra>"
                  ],
                  "name": "Objective Value",
                  "orientation": "h",
                  "text": [
                    "0.01",
                    "0.03",
                    "0.05",
                    "0.90"
                  ],
                  "textposition": "outside",
                  "type": "bar",
                  "x": [
                    0.010670486685374679,
                    0.03227404478149239,
                    0.053715362336167846,
                    0.903340106196965
                  ],
                  "y": [
                    "eta",
                    "num_leaves",
                    "max_depth",
                    "n_estimators"
                  ]
                }
              ],
              "layout": {
                "template": {
                  "data": {
                    "bar": [
                      {
                        "error_x": {
                          "color": "#2a3f5f"
                        },
                        "error_y": {
                          "color": "#2a3f5f"
                        },
                        "marker": {
                          "line": {
                            "color": "#E5ECF6",
                            "width": 0.5
                          },
                          "pattern": {
                            "fillmode": "overlay",
                            "size": 10,
                            "solidity": 0.2
                          }
                        },
                        "type": "bar"
                      }
                    ],
                    "barpolar": [
                      {
                        "marker": {
                          "line": {
                            "color": "#E5ECF6",
                            "width": 0.5
                          },
                          "pattern": {
                            "fillmode": "overlay",
                            "size": 10,
                            "solidity": 0.2
                          }
                        },
                        "type": "barpolar"
                      }
                    ],
                    "carpet": [
                      {
                        "aaxis": {
                          "endlinecolor": "#2a3f5f",
                          "gridcolor": "white",
                          "linecolor": "white",
                          "minorgridcolor": "white",
                          "startlinecolor": "#2a3f5f"
                        },
                        "baxis": {
                          "endlinecolor": "#2a3f5f",
                          "gridcolor": "white",
                          "linecolor": "white",
                          "minorgridcolor": "white",
                          "startlinecolor": "#2a3f5f"
                        },
                        "type": "carpet"
                      }
                    ],
                    "choropleth": [
                      {
                        "colorbar": {
                          "outlinewidth": 0,
                          "ticks": ""
                        },
                        "type": "choropleth"
                      }
                    ],
                    "contour": [
                      {
                        "colorbar": {
                          "outlinewidth": 0,
                          "ticks": ""
                        },
                        "colorscale": [
                          [
                            0,
                            "#0d0887"
                          ],
                          [
                            0.1111111111111111,
                            "#46039f"
                          ],
                          [
                            0.2222222222222222,
                            "#7201a8"
                          ],
                          [
                            0.3333333333333333,
                            "#9c179e"
                          ],
                          [
                            0.4444444444444444,
                            "#bd3786"
                          ],
                          [
                            0.5555555555555556,
                            "#d8576b"
                          ],
                          [
                            0.6666666666666666,
                            "#ed7953"
                          ],
                          [
                            0.7777777777777778,
                            "#fb9f3a"
                          ],
                          [
                            0.8888888888888888,
                            "#fdca26"
                          ],
                          [
                            1,
                            "#f0f921"
                          ]
                        ],
                        "type": "contour"
                      }
                    ],
                    "contourcarpet": [
                      {
                        "colorbar": {
                          "outlinewidth": 0,
                          "ticks": ""
                        },
                        "type": "contourcarpet"
                      }
                    ],
                    "heatmap": [
                      {
                        "colorbar": {
                          "outlinewidth": 0,
                          "ticks": ""
                        },
                        "colorscale": [
                          [
                            0,
                            "#0d0887"
                          ],
                          [
                            0.1111111111111111,
                            "#46039f"
                          ],
                          [
                            0.2222222222222222,
                            "#7201a8"
                          ],
                          [
                            0.3333333333333333,
                            "#9c179e"
                          ],
                          [
                            0.4444444444444444,
                            "#bd3786"
                          ],
                          [
                            0.5555555555555556,
                            "#d8576b"
                          ],
                          [
                            0.6666666666666666,
                            "#ed7953"
                          ],
                          [
                            0.7777777777777778,
                            "#fb9f3a"
                          ],
                          [
                            0.8888888888888888,
                            "#fdca26"
                          ],
                          [
                            1,
                            "#f0f921"
                          ]
                        ],
                        "type": "heatmap"
                      }
                    ],
                    "histogram": [
                      {
                        "marker": {
                          "pattern": {
                            "fillmode": "overlay",
                            "size": 10,
                            "solidity": 0.2
                          }
                        },
                        "type": "histogram"
                      }
                    ],
                    "histogram2d": [
                      {
                        "colorbar": {
                          "outlinewidth": 0,
                          "ticks": ""
                        },
                        "colorscale": [
                          [
                            0,
                            "#0d0887"
                          ],
                          [
                            0.1111111111111111,
                            "#46039f"
                          ],
                          [
                            0.2222222222222222,
                            "#7201a8"
                          ],
                          [
                            0.3333333333333333,
                            "#9c179e"
                          ],
                          [
                            0.4444444444444444,
                            "#bd3786"
                          ],
                          [
                            0.5555555555555556,
                            "#d8576b"
                          ],
                          [
                            0.6666666666666666,
                            "#ed7953"
                          ],
                          [
                            0.7777777777777778,
                            "#fb9f3a"
                          ],
                          [
                            0.8888888888888888,
                            "#fdca26"
                          ],
                          [
                            1,
                            "#f0f921"
                          ]
                        ],
                        "type": "histogram2d"
                      }
                    ],
                    "histogram2dcontour": [
                      {
                        "colorbar": {
                          "outlinewidth": 0,
                          "ticks": ""
                        },
                        "colorscale": [
                          [
                            0,
                            "#0d0887"
                          ],
                          [
                            0.1111111111111111,
                            "#46039f"
                          ],
                          [
                            0.2222222222222222,
                            "#7201a8"
                          ],
                          [
                            0.3333333333333333,
                            "#9c179e"
                          ],
                          [
                            0.4444444444444444,
                            "#bd3786"
                          ],
                          [
                            0.5555555555555556,
                            "#d8576b"
                          ],
                          [
                            0.6666666666666666,
                            "#ed7953"
                          ],
                          [
                            0.7777777777777778,
                            "#fb9f3a"
                          ],
                          [
                            0.8888888888888888,
                            "#fdca26"
                          ],
                          [
                            1,
                            "#f0f921"
                          ]
                        ],
                        "type": "histogram2dcontour"
                      }
                    ],
                    "mesh3d": [
                      {
                        "colorbar": {
                          "outlinewidth": 0,
                          "ticks": ""
                        },
                        "type": "mesh3d"
                      }
                    ],
                    "parcoords": [
                      {
                        "line": {
                          "colorbar": {
                            "outlinewidth": 0,
                            "ticks": ""
                          }
                        },
                        "type": "parcoords"
                      }
                    ],
                    "pie": [
                      {
                        "automargin": true,
                        "type": "pie"
                      }
                    ],
                    "scatter": [
                      {
                        "fillpattern": {
                          "fillmode": "overlay",
                          "size": 10,
                          "solidity": 0.2
                        },
                        "type": "scatter"
                      }
                    ],
                    "scatter3d": [
                      {
                        "line": {
                          "colorbar": {
                            "outlinewidth": 0,
                            "ticks": ""
                          }
                        },
                        "marker": {
                          "colorbar": {
                            "outlinewidth": 0,
                            "ticks": ""
                          }
                        },
                        "type": "scatter3d"
                      }
                    ],
                    "scattercarpet": [
                      {
                        "marker": {
                          "colorbar": {
                            "outlinewidth": 0,
                            "ticks": ""
                          }
                        },
                        "type": "scattercarpet"
                      }
                    ],
                    "scattergeo": [
                      {
                        "marker": {
                          "colorbar": {
                            "outlinewidth": 0,
                            "ticks": ""
                          }
                        },
                        "type": "scattergeo"
                      }
                    ],
                    "scattergl": [
                      {
                        "marker": {
                          "colorbar": {
                            "outlinewidth": 0,
                            "ticks": ""
                          }
                        },
                        "type": "scattergl"
                      }
                    ],
                    "scattermap": [
                      {
                        "marker": {
                          "colorbar": {
                            "outlinewidth": 0,
                            "ticks": ""
                          }
                        },
                        "type": "scattermap"
                      }
                    ],
                    "scattermapbox": [
                      {
                        "marker": {
                          "colorbar": {
                            "outlinewidth": 0,
                            "ticks": ""
                          }
                        },
                        "type": "scattermapbox"
                      }
                    ],
                    "scatterpolar": [
                      {
                        "marker": {
                          "colorbar": {
                            "outlinewidth": 0,
                            "ticks": ""
                          }
                        },
                        "type": "scatterpolar"
                      }
                    ],
                    "scatterpolargl": [
                      {
                        "marker": {
                          "colorbar": {
                            "outlinewidth": 0,
                            "ticks": ""
                          }
                        },
                        "type": "scatterpolargl"
                      }
                    ],
                    "scatterternary": [
                      {
                        "marker": {
                          "colorbar": {
                            "outlinewidth": 0,
                            "ticks": ""
                          }
                        },
                        "type": "scatterternary"
                      }
                    ],
                    "surface": [
                      {
                        "colorbar": {
                          "outlinewidth": 0,
                          "ticks": ""
                        },
                        "colorscale": [
                          [
                            0,
                            "#0d0887"
                          ],
                          [
                            0.1111111111111111,
                            "#46039f"
                          ],
                          [
                            0.2222222222222222,
                            "#7201a8"
                          ],
                          [
                            0.3333333333333333,
                            "#9c179e"
                          ],
                          [
                            0.4444444444444444,
                            "#bd3786"
                          ],
                          [
                            0.5555555555555556,
                            "#d8576b"
                          ],
                          [
                            0.6666666666666666,
                            "#ed7953"
                          ],
                          [
                            0.7777777777777778,
                            "#fb9f3a"
                          ],
                          [
                            0.8888888888888888,
                            "#fdca26"
                          ],
                          [
                            1,
                            "#f0f921"
                          ]
                        ],
                        "type": "surface"
                      }
                    ],
                    "table": [
                      {
                        "cells": {
                          "fill": {
                            "color": "#EBF0F8"
                          },
                          "line": {
                            "color": "white"
                          }
                        },
                        "header": {
                          "fill": {
                            "color": "#C8D4E3"
                          },
                          "line": {
                            "color": "white"
                          }
                        },
                        "type": "table"
                      }
                    ]
                  },
                  "layout": {
                    "annotationdefaults": {
                      "arrowcolor": "#2a3f5f",
                      "arrowhead": 0,
                      "arrowwidth": 1
                    },
                    "autotypenumbers": "strict",
                    "coloraxis": {
                      "colorbar": {
                        "outlinewidth": 0,
                        "ticks": ""
                      }
                    },
                    "colorscale": {
                      "diverging": [
                        [
                          0,
                          "#8e0152"
                        ],
                        [
                          0.1,
                          "#c51b7d"
                        ],
                        [
                          0.2,
                          "#de77ae"
                        ],
                        [
                          0.3,
                          "#f1b6da"
                        ],
                        [
                          0.4,
                          "#fde0ef"
                        ],
                        [
                          0.5,
                          "#f7f7f7"
                        ],
                        [
                          0.6,
                          "#e6f5d0"
                        ],
                        [
                          0.7,
                          "#b8e186"
                        ],
                        [
                          0.8,
                          "#7fbc41"
                        ],
                        [
                          0.9,
                          "#4d9221"
                        ],
                        [
                          1,
                          "#276419"
                        ]
                      ],
                      "sequential": [
                        [
                          0,
                          "#0d0887"
                        ],
                        [
                          0.1111111111111111,
                          "#46039f"
                        ],
                        [
                          0.2222222222222222,
                          "#7201a8"
                        ],
                        [
                          0.3333333333333333,
                          "#9c179e"
                        ],
                        [
                          0.4444444444444444,
                          "#bd3786"
                        ],
                        [
                          0.5555555555555556,
                          "#d8576b"
                        ],
                        [
                          0.6666666666666666,
                          "#ed7953"
                        ],
                        [
                          0.7777777777777778,
                          "#fb9f3a"
                        ],
                        [
                          0.8888888888888888,
                          "#fdca26"
                        ],
                        [
                          1,
                          "#f0f921"
                        ]
                      ],
                      "sequentialminus": [
                        [
                          0,
                          "#0d0887"
                        ],
                        [
                          0.1111111111111111,
                          "#46039f"
                        ],
                        [
                          0.2222222222222222,
                          "#7201a8"
                        ],
                        [
                          0.3333333333333333,
                          "#9c179e"
                        ],
                        [
                          0.4444444444444444,
                          "#bd3786"
                        ],
                        [
                          0.5555555555555556,
                          "#d8576b"
                        ],
                        [
                          0.6666666666666666,
                          "#ed7953"
                        ],
                        [
                          0.7777777777777778,
                          "#fb9f3a"
                        ],
                        [
                          0.8888888888888888,
                          "#fdca26"
                        ],
                        [
                          1,
                          "#f0f921"
                        ]
                      ]
                    },
                    "colorway": [
                      "#636efa",
                      "#EF553B",
                      "#00cc96",
                      "#ab63fa",
                      "#FFA15A",
                      "#19d3f3",
                      "#FF6692",
                      "#B6E880",
                      "#FF97FF",
                      "#FECB52"
                    ],
                    "font": {
                      "color": "#2a3f5f"
                    },
                    "geo": {
                      "bgcolor": "white",
                      "lakecolor": "white",
                      "landcolor": "#E5ECF6",
                      "showlakes": true,
                      "showland": true,
                      "subunitcolor": "white"
                    },
                    "hoverlabel": {
                      "align": "left"
                    },
                    "hovermode": "closest",
                    "mapbox": {
                      "style": "light"
                    },
                    "paper_bgcolor": "white",
                    "plot_bgcolor": "#E5ECF6",
                    "polar": {
                      "angularaxis": {
                        "gridcolor": "white",
                        "linecolor": "white",
                        "ticks": ""
                      },
                      "bgcolor": "#E5ECF6",
                      "radialaxis": {
                        "gridcolor": "white",
                        "linecolor": "white",
                        "ticks": ""
                      }
                    },
                    "scene": {
                      "xaxis": {
                        "backgroundcolor": "#E5ECF6",
                        "gridcolor": "white",
                        "gridwidth": 2,
                        "linecolor": "white",
                        "showbackground": true,
                        "ticks": "",
                        "zerolinecolor": "white"
                      },
                      "yaxis": {
                        "backgroundcolor": "#E5ECF6",
                        "gridcolor": "white",
                        "gridwidth": 2,
                        "linecolor": "white",
                        "showbackground": true,
                        "ticks": "",
                        "zerolinecolor": "white"
                      },
                      "zaxis": {
                        "backgroundcolor": "#E5ECF6",
                        "gridcolor": "white",
                        "gridwidth": 2,
                        "linecolor": "white",
                        "showbackground": true,
                        "ticks": "",
                        "zerolinecolor": "white"
                      }
                    },
                    "shapedefaults": {
                      "line": {
                        "color": "#2a3f5f"
                      }
                    },
                    "ternary": {
                      "aaxis": {
                        "gridcolor": "white",
                        "linecolor": "white",
                        "ticks": ""
                      },
                      "baxis": {
                        "gridcolor": "white",
                        "linecolor": "white",
                        "ticks": ""
                      },
                      "bgcolor": "#E5ECF6",
                      "caxis": {
                        "gridcolor": "white",
                        "linecolor": "white",
                        "ticks": ""
                      }
                    },
                    "title": {
                      "x": 0.05
                    },
                    "xaxis": {
                      "automargin": true,
                      "gridcolor": "white",
                      "linecolor": "white",
                      "ticks": "",
                      "title": {
                        "standoff": 15
                      },
                      "zerolinecolor": "white",
                      "zerolinewidth": 2
                    },
                    "yaxis": {
                      "automargin": true,
                      "gridcolor": "white",
                      "linecolor": "white",
                      "ticks": "",
                      "title": {
                        "standoff": 15
                      },
                      "zerolinecolor": "white",
                      "zerolinewidth": 2
                    }
                  }
                },
                "title": {
                  "text": "Hyperparameter Importances"
                },
                "xaxis": {
                  "title": {
                    "text": "Hyperparameter Importance"
                  }
                },
                "yaxis": {
                  "title": {
                    "text": "Hyperparameter"
                  }
                }
              }
            }
          },
          "metadata": {},
          "output_type": "display_data"
        }
      ],
      "source": [
        "from optuna.visualization import plot_optimization_history, plot_param_importances\n",
        "\n",
        "plot_optimization_history(study_f1).show()\n",
        "\n",
        "plot_param_importances(study_f1).show()"
      ]
    },
    {
      "cell_type": "code",
      "execution_count": 20,
      "id": "b59fc086",
      "metadata": {},
      "outputs": [
        {
          "data": {
            "text/plain": [
              "{'num_leaves': 168,\n",
              " 'max_depth': 8,\n",
              " 'eta': 0.036262094263259076,\n",
              " 'n_estimators': 898}"
            ]
          },
          "execution_count": 20,
          "metadata": {},
          "output_type": "execute_result"
        }
      ],
      "source": [
        "study_f1.best_params"
      ]
    },
    {
      "cell_type": "markdown",
      "id": "39d2a8e6",
      "metadata": {},
      "source": [
        "### 5.1. Сравнение результатов с ROC-AUC\n",
        "\n",
        "Сравним результаты, полученные с использованием F1-меры, с результатами, полученными с ROC-AUC.\n",
        "\n",
        "•   **Изменился ли выбор гиперпараметров?**  \n",
        "•   **С чем это связано?**\n",
        "\n",
        "F1-мера более чувствительна к балансу классов. Если у нас классы сбалансированы, то выбор гиперпараметров может не сильно отличаться. Однако, если есть заметный дисбаланс, то F1-мера может привести к выбору других гиперпараметров, которые лучше оптимизируют точность и полноту для миноритарного класса.  Solver может быть более склонным к liblinear, так как он хорошо работает с L1 регуляризацией, которая может помочь в отборе признаков и борьбе с переобучением.  C и max_iter могут измениться в зависимости от того, насколько сильно модель штрафуется за ошибки в миноритарном классе."
      ]
    },
    {
      "cell_type": "markdown",
      "id": "8b390079",
      "metadata": {},
      "source": [
        "### Фиктивные переменные "
      ]
    },
    {
      "cell_type": "code",
      "execution_count": 30,
      "id": "5ce8b063",
      "metadata": {},
      "outputs": [],
      "source": [
        "X_tr_fake = X_tr.copy()\n",
        "X_val_fake = X_tst.copy()\n",
        "\n",
        "# добавляем фиктивные признаки\n",
        "for i in range(5):\n",
        "    X_tr_fake = np.hstack([X_tr_fake, np.random.rand(X_tr.shape[0], 1)])\n",
        "    X_val_fake = np.hstack([X_val_fake, np.random.rand(X_tst.shape[0], 1)])"
      ]
    },
    {
      "cell_type": "code",
      "execution_count": 33,
      "id": "c004345e",
      "metadata": {},
      "outputs": [],
      "source": [
        "import lightgbm as lgb\n",
        "from sklearn.metrics import f1_score\n",
        "import numpy as np\n",
        "\n",
        "def boost_objective_f1(trial, X_tr, X_val, y_tr, y_val, n_fake_features=0):\n",
        "    X_tr_mod = X_tr.copy()\n",
        "    X_val_mod = X_val.copy()\n",
        "    \n",
        "    for i in range(n_fake_features):\n",
        "        X_tr_mod = np.hstack([X_tr_mod, np.random.rand(X_tr.shape[0], 1)])\n",
        "        X_val_mod = np.hstack([X_val_mod, np.random.rand(X_val.shape[0], 1)])\n",
        "    \n",
        "    params = {\n",
        "        \"objective\": \"binary\",\n",
        "        \"metric\": \"auc\",\n",
        "        \"verbosity\": -1,\n",
        "        \"num_leaves\": trial.suggest_int(\"num_leaves\", 16, 256, log=True),\n",
        "        \"max_depth\": trial.suggest_int(\"max_depth\", 4, 8, log=True),\n",
        "        \"learning_rate\": trial.suggest_float(\"learning_rate\", 1e-3, 0.1, log=True),\n",
        "        \"n_estimators\": trial.suggest_int(\"n_estimators\", 50, 1000, log=True),\n",
        "        \"random_state\": 42,\n",
        "        \"n_jobs\": -1,\n",
        "    }\n",
        "    \n",
        "    model = lgb.LGBMClassifier(**params)\n",
        "    model.fit(X_tr_mod, y_tr, eval_set=[(X_val_mod, y_val)], eval_metric=\"auc\")\n",
        "    \n",
        "    y_pred_proba = model.predict_proba(X_val_mod)[:, 1]\n",
        "    score = roc_auc_score(y_val, y_pred_proba)\n",
        "\n",
        "    return score\n"
      ]
    },
    {
      "cell_type": "code",
      "execution_count": 35,
      "id": "e1201dea",
      "metadata": {},
      "outputs": [
        {
          "name": "stderr",
          "output_type": "stream",
          "text": [
            "[I 2025-09-13 19:50:37,970] A new study created in memory with name: no-name-82684e6b-9676-4457-bea0-988fd2eeeca5\n",
            "c:\\Users\\Лиана\\OneDrive\\Desktop\\ITMO\\AutoML-ITMO\\.venv\\Lib\\site-packages\\sklearn\\utils\\validation.py:2749: UserWarning:\n",
            "\n",
            "X does not have valid feature names, but LGBMClassifier was fitted with feature names\n",
            "\n",
            "[I 2025-09-13 19:51:14,648] Trial 0 finished with value: 0.7487543031401251 and parameters: {'num_leaves': 122, 'max_depth': 6, 'learning_rate': 0.05247969511760212, 'n_estimators': 750}. Best is trial 0 with value: 0.7487543031401251.\n",
            "c:\\Users\\Лиана\\OneDrive\\Desktop\\ITMO\\AutoML-ITMO\\.venv\\Lib\\site-packages\\sklearn\\utils\\validation.py:2749: UserWarning:\n",
            "\n",
            "X does not have valid feature names, but LGBMClassifier was fitted with feature names\n",
            "\n",
            "[I 2025-09-13 19:51:27,347] Trial 1 finished with value: 0.72525166014485 and parameters: {'num_leaves': 100, 'max_depth': 5, 'learning_rate': 0.0036933197426018555, 'n_estimators': 265}. Best is trial 0 with value: 0.7487543031401251.\n",
            "c:\\Users\\Лиана\\OneDrive\\Desktop\\ITMO\\AutoML-ITMO\\.venv\\Lib\\site-packages\\sklearn\\utils\\validation.py:2749: UserWarning:\n",
            "\n",
            "X does not have valid feature names, but LGBMClassifier was fitted with feature names\n",
            "\n",
            "[I 2025-09-13 19:51:35,047] Trial 2 finished with value: 0.7515372641772657 and parameters: {'num_leaves': 58, 'max_depth': 4, 'learning_rate': 0.08981937000717319, 'n_estimators': 163}. Best is trial 2 with value: 0.7515372641772657.\n",
            "c:\\Users\\Лиана\\OneDrive\\Desktop\\ITMO\\AutoML-ITMO\\.venv\\Lib\\site-packages\\sklearn\\utils\\validation.py:2749: UserWarning:\n",
            "\n",
            "X does not have valid feature names, but LGBMClassifier was fitted with feature names\n",
            "\n",
            "[I 2025-09-13 19:52:04,303] Trial 3 finished with value: 0.7216825742586916 and parameters: {'num_leaves': 21, 'max_depth': 4, 'learning_rate': 0.0011608905298462306, 'n_estimators': 900}. Best is trial 2 with value: 0.7515372641772657.\n",
            "c:\\Users\\Лиана\\OneDrive\\Desktop\\ITMO\\AutoML-ITMO\\.venv\\Lib\\site-packages\\sklearn\\utils\\validation.py:2749: UserWarning:\n",
            "\n",
            "X does not have valid feature names, but LGBMClassifier was fitted with feature names\n",
            "\n",
            "[I 2025-09-13 19:52:31,415] Trial 4 finished with value: 0.7293274050404566 and parameters: {'num_leaves': 198, 'max_depth': 4, 'learning_rate': 0.002039165942794633, 'n_estimators': 883}. Best is trial 2 with value: 0.7515372641772657.\n",
            "c:\\Users\\Лиана\\OneDrive\\Desktop\\ITMO\\AutoML-ITMO\\.venv\\Lib\\site-packages\\sklearn\\utils\\validation.py:2749: UserWarning:\n",
            "\n",
            "X does not have valid feature names, but LGBMClassifier was fitted with feature names\n",
            "\n",
            "[I 2025-09-13 19:53:04,100] Trial 5 finished with value: 0.7520091491971248 and parameters: {'num_leaves': 129, 'max_depth': 8, 'learning_rate': 0.021772670541879775, 'n_estimators': 493}. Best is trial 5 with value: 0.7520091491971248.\n",
            "c:\\Users\\Лиана\\OneDrive\\Desktop\\ITMO\\AutoML-ITMO\\.venv\\Lib\\site-packages\\sklearn\\utils\\validation.py:2749: UserWarning:\n",
            "\n",
            "X does not have valid feature names, but LGBMClassifier was fitted with feature names\n",
            "\n",
            "[I 2025-09-13 19:53:13,337] Trial 6 finished with value: 0.7221329707099562 and parameters: {'num_leaves': 102, 'max_depth': 5, 'learning_rate': 0.003905142912660906, 'n_estimators': 170}. Best is trial 5 with value: 0.7520091491971248.\n",
            "c:\\Users\\Лиана\\OneDrive\\Desktop\\ITMO\\AutoML-ITMO\\.venv\\Lib\\site-packages\\sklearn\\utils\\validation.py:2749: UserWarning:\n",
            "\n",
            "X does not have valid feature names, but LGBMClassifier was fitted with feature names\n",
            "\n",
            "[I 2025-09-13 19:53:32,304] Trial 7 finished with value: 0.7221752714209456 and parameters: {'num_leaves': 35, 'max_depth': 7, 'learning_rate': 0.0011620262925982772, 'n_estimators': 364}. Best is trial 5 with value: 0.7520091491971248.\n",
            "c:\\Users\\Лиана\\OneDrive\\Desktop\\ITMO\\AutoML-ITMO\\.venv\\Lib\\site-packages\\sklearn\\utils\\validation.py:2749: UserWarning:\n",
            "\n",
            "X does not have valid feature names, but LGBMClassifier was fitted with feature names\n",
            "\n",
            "[I 2025-09-13 19:53:49,448] Trial 8 finished with value: 0.7511447759651959 and parameters: {'num_leaves': 20, 'max_depth': 4, 'learning_rate': 0.02379023000004894, 'n_estimators': 527}. Best is trial 5 with value: 0.7520091491971248.\n",
            "c:\\Users\\Лиана\\OneDrive\\Desktop\\ITMO\\AutoML-ITMO\\.venv\\Lib\\site-packages\\sklearn\\utils\\validation.py:2749: UserWarning:\n",
            "\n",
            "X does not have valid feature names, but LGBMClassifier was fitted with feature names\n",
            "\n",
            "[I 2025-09-13 19:54:01,216] Trial 9 finished with value: 0.7344184301434457 and parameters: {'num_leaves': 169, 'max_depth': 6, 'learning_rate': 0.008653912785657776, 'n_estimators': 181}. Best is trial 5 with value: 0.7520091491971248.\n",
            "c:\\Users\\Лиана\\OneDrive\\Desktop\\ITMO\\AutoML-ITMO\\.venv\\Lib\\site-packages\\sklearn\\utils\\validation.py:2749: UserWarning:\n",
            "\n",
            "X does not have valid feature names, but LGBMClassifier was fitted with feature names\n",
            "\n",
            "[I 2025-09-13 19:54:07,498] Trial 10 finished with value: 0.7326234065407493 and parameters: {'num_leaves': 57, 'max_depth': 8, 'learning_rate': 0.018136971782011107, 'n_estimators': 62}. Best is trial 5 with value: 0.7520091491971248.\n",
            "c:\\Users\\Лиана\\OneDrive\\Desktop\\ITMO\\AutoML-ITMO\\.venv\\Lib\\site-packages\\sklearn\\utils\\validation.py:2749: UserWarning:\n",
            "\n",
            "X does not have valid feature names, but LGBMClassifier was fitted with feature names\n",
            "\n",
            "[I 2025-09-13 19:54:15,325] Trial 11 finished with value: 0.7500743113772125 and parameters: {'num_leaves': 54, 'max_depth': 8, 'learning_rate': 0.09590362920710861, 'n_estimators': 123}. Best is trial 5 with value: 0.7520091491971248.\n",
            "c:\\Users\\Лиана\\OneDrive\\Desktop\\ITMO\\AutoML-ITMO\\.venv\\Lib\\site-packages\\sklearn\\utils\\validation.py:2749: UserWarning:\n",
            "\n",
            "X does not have valid feature names, but LGBMClassifier was fitted with feature names\n",
            "\n",
            "[I 2025-09-13 19:54:21,123] Trial 12 finished with value: 0.7418771497941478 and parameters: {'num_leaves': 36, 'max_depth': 5, 'learning_rate': 0.038284420779656214, 'n_estimators': 91}. Best is trial 5 with value: 0.7520091491971248.\n",
            "c:\\Users\\Лиана\\OneDrive\\Desktop\\ITMO\\AutoML-ITMO\\.venv\\Lib\\site-packages\\sklearn\\utils\\validation.py:2749: UserWarning:\n",
            "\n",
            "X does not have valid feature names, but LGBMClassifier was fitted with feature names\n",
            "\n",
            "[I 2025-09-13 19:54:37,623] Trial 13 finished with value: 0.7441257893842446 and parameters: {'num_leaves': 76, 'max_depth': 7, 'learning_rate': 0.09714467065196698, 'n_estimators': 357}. Best is trial 5 with value: 0.7520091491971248.\n",
            "c:\\Users\\Лиана\\OneDrive\\Desktop\\ITMO\\AutoML-ITMO\\.venv\\Lib\\site-packages\\sklearn\\utils\\validation.py:2749: UserWarning:\n",
            "\n",
            "X does not have valid feature names, but LGBMClassifier was fitted with feature names\n",
            "\n",
            "[I 2025-09-13 19:54:52,545] Trial 14 finished with value: 0.7430413747884984 and parameters: {'num_leaves': 232, 'max_depth': 6, 'learning_rate': 0.010787701470031967, 'n_estimators': 276}. Best is trial 5 with value: 0.7520091491971248.\n",
            "c:\\Users\\Лиана\\OneDrive\\Desktop\\ITMO\\AutoML-ITMO\\.venv\\Lib\\site-packages\\sklearn\\utils\\validation.py:2749: UserWarning:\n",
            "\n",
            "X does not have valid feature names, but LGBMClassifier was fitted with feature names\n",
            "\n",
            "[I 2025-09-13 19:55:16,840] Trial 15 finished with value: 0.7499312515771108 and parameters: {'num_leaves': 138, 'max_depth': 7, 'learning_rate': 0.03883750107656657, 'n_estimators': 466}. Best is trial 5 with value: 0.7520091491971248.\n",
            "c:\\Users\\Лиана\\OneDrive\\Desktop\\ITMO\\AutoML-ITMO\\.venv\\Lib\\site-packages\\sklearn\\utils\\validation.py:2749: UserWarning:\n",
            "\n",
            "X does not have valid feature names, but LGBMClassifier was fitted with feature names\n",
            "\n",
            "[I 2025-09-13 19:55:24,699] Trial 16 finished with value: 0.7343789219597543 and parameters: {'num_leaves': 37, 'max_depth': 5, 'learning_rate': 0.016487745272209857, 'n_estimators': 122}. Best is trial 5 with value: 0.7520091491971248.\n",
            "c:\\Users\\Лиана\\OneDrive\\Desktop\\ITMO\\AutoML-ITMO\\.venv\\Lib\\site-packages\\sklearn\\utils\\validation.py:2749: UserWarning:\n",
            "\n",
            "X does not have valid feature names, but LGBMClassifier was fitted with feature names\n",
            "\n",
            "[I 2025-09-13 19:55:43,746] Trial 17 finished with value: 0.7534127233005621 and parameters: {'num_leaves': 72, 'max_depth': 4, 'learning_rate': 0.06347718810669867, 'n_estimators': 575}. Best is trial 17 with value: 0.7534127233005621.\n"
          ]
        },
        {
          "name": "stdout",
          "output_type": "stream",
          "text": [
            "Best roc_auc: 0.7534127233005621\n",
            "Best params: {'num_leaves': 72, 'max_depth': 4, 'learning_rate': 0.06347718810669867, 'n_estimators': 575}\n"
          ]
        }
      ],
      "source": [
        "import optuna\n",
        "\n",
        "fake_study = optuna.create_study(direction=\"maximize\")\n",
        "fake_study.optimize(lambda trial: boost_objective_f1(trial, X_tr, X_tst, y_tr, y_tst, n_fake_features=5), timeout=300)\n",
        "\n",
        "print(\"Best roc_auc:\", fake_study.best_value)\n",
        "print(\"Best params:\", fake_study.best_params)"
      ]
    },
    {
      "cell_type": "code",
      "execution_count": 36,
      "id": "e7bf3aa4",
      "metadata": {},
      "outputs": [
        {
          "data": {
            "application/vnd.plotly.v1+json": {
              "config": {
                "plotlyServerURL": "https://plot.ly"
              },
              "data": [
                {
                  "mode": "markers",
                  "name": "Objective Value",
                  "type": "scatter",
                  "x": [
                    0,
                    1,
                    2,
                    3,
                    4,
                    5,
                    6,
                    7,
                    8,
                    9,
                    10,
                    11,
                    12,
                    13,
                    14,
                    15,
                    16,
                    17
                  ],
                  "y": [
                    0.7487543031401251,
                    0.72525166014485,
                    0.7515372641772657,
                    0.7216825742586916,
                    0.7293274050404566,
                    0.7520091491971248,
                    0.7221329707099562,
                    0.7221752714209456,
                    0.7511447759651959,
                    0.7344184301434457,
                    0.7326234065407493,
                    0.7500743113772125,
                    0.7418771497941478,
                    0.7441257893842446,
                    0.7430413747884984,
                    0.7499312515771108,
                    0.7343789219597543,
                    0.7534127233005621
                  ]
                },
                {
                  "mode": "lines",
                  "name": "Best Value",
                  "type": "scatter",
                  "x": [
                    0,
                    1,
                    2,
                    3,
                    4,
                    5,
                    6,
                    7,
                    8,
                    9,
                    10,
                    11,
                    12,
                    13,
                    14,
                    15,
                    16,
                    17
                  ],
                  "y": [
                    0.7487543031401251,
                    0.7487543031401251,
                    0.7515372641772657,
                    0.7515372641772657,
                    0.7515372641772657,
                    0.7520091491971248,
                    0.7520091491971248,
                    0.7520091491971248,
                    0.7520091491971248,
                    0.7520091491971248,
                    0.7520091491971248,
                    0.7520091491971248,
                    0.7520091491971248,
                    0.7520091491971248,
                    0.7520091491971248,
                    0.7520091491971248,
                    0.7520091491971248,
                    0.7534127233005621
                  ]
                },
                {
                  "marker": {
                    "color": "#cccccc"
                  },
                  "mode": "markers",
                  "name": "Infeasible Trial",
                  "showlegend": false,
                  "type": "scatter",
                  "x": [],
                  "y": []
                }
              ],
              "layout": {
                "template": {
                  "data": {
                    "bar": [
                      {
                        "error_x": {
                          "color": "#2a3f5f"
                        },
                        "error_y": {
                          "color": "#2a3f5f"
                        },
                        "marker": {
                          "line": {
                            "color": "#E5ECF6",
                            "width": 0.5
                          },
                          "pattern": {
                            "fillmode": "overlay",
                            "size": 10,
                            "solidity": 0.2
                          }
                        },
                        "type": "bar"
                      }
                    ],
                    "barpolar": [
                      {
                        "marker": {
                          "line": {
                            "color": "#E5ECF6",
                            "width": 0.5
                          },
                          "pattern": {
                            "fillmode": "overlay",
                            "size": 10,
                            "solidity": 0.2
                          }
                        },
                        "type": "barpolar"
                      }
                    ],
                    "carpet": [
                      {
                        "aaxis": {
                          "endlinecolor": "#2a3f5f",
                          "gridcolor": "white",
                          "linecolor": "white",
                          "minorgridcolor": "white",
                          "startlinecolor": "#2a3f5f"
                        },
                        "baxis": {
                          "endlinecolor": "#2a3f5f",
                          "gridcolor": "white",
                          "linecolor": "white",
                          "minorgridcolor": "white",
                          "startlinecolor": "#2a3f5f"
                        },
                        "type": "carpet"
                      }
                    ],
                    "choropleth": [
                      {
                        "colorbar": {
                          "outlinewidth": 0,
                          "ticks": ""
                        },
                        "type": "choropleth"
                      }
                    ],
                    "contour": [
                      {
                        "colorbar": {
                          "outlinewidth": 0,
                          "ticks": ""
                        },
                        "colorscale": [
                          [
                            0,
                            "#0d0887"
                          ],
                          [
                            0.1111111111111111,
                            "#46039f"
                          ],
                          [
                            0.2222222222222222,
                            "#7201a8"
                          ],
                          [
                            0.3333333333333333,
                            "#9c179e"
                          ],
                          [
                            0.4444444444444444,
                            "#bd3786"
                          ],
                          [
                            0.5555555555555556,
                            "#d8576b"
                          ],
                          [
                            0.6666666666666666,
                            "#ed7953"
                          ],
                          [
                            0.7777777777777778,
                            "#fb9f3a"
                          ],
                          [
                            0.8888888888888888,
                            "#fdca26"
                          ],
                          [
                            1,
                            "#f0f921"
                          ]
                        ],
                        "type": "contour"
                      }
                    ],
                    "contourcarpet": [
                      {
                        "colorbar": {
                          "outlinewidth": 0,
                          "ticks": ""
                        },
                        "type": "contourcarpet"
                      }
                    ],
                    "heatmap": [
                      {
                        "colorbar": {
                          "outlinewidth": 0,
                          "ticks": ""
                        },
                        "colorscale": [
                          [
                            0,
                            "#0d0887"
                          ],
                          [
                            0.1111111111111111,
                            "#46039f"
                          ],
                          [
                            0.2222222222222222,
                            "#7201a8"
                          ],
                          [
                            0.3333333333333333,
                            "#9c179e"
                          ],
                          [
                            0.4444444444444444,
                            "#bd3786"
                          ],
                          [
                            0.5555555555555556,
                            "#d8576b"
                          ],
                          [
                            0.6666666666666666,
                            "#ed7953"
                          ],
                          [
                            0.7777777777777778,
                            "#fb9f3a"
                          ],
                          [
                            0.8888888888888888,
                            "#fdca26"
                          ],
                          [
                            1,
                            "#f0f921"
                          ]
                        ],
                        "type": "heatmap"
                      }
                    ],
                    "histogram": [
                      {
                        "marker": {
                          "pattern": {
                            "fillmode": "overlay",
                            "size": 10,
                            "solidity": 0.2
                          }
                        },
                        "type": "histogram"
                      }
                    ],
                    "histogram2d": [
                      {
                        "colorbar": {
                          "outlinewidth": 0,
                          "ticks": ""
                        },
                        "colorscale": [
                          [
                            0,
                            "#0d0887"
                          ],
                          [
                            0.1111111111111111,
                            "#46039f"
                          ],
                          [
                            0.2222222222222222,
                            "#7201a8"
                          ],
                          [
                            0.3333333333333333,
                            "#9c179e"
                          ],
                          [
                            0.4444444444444444,
                            "#bd3786"
                          ],
                          [
                            0.5555555555555556,
                            "#d8576b"
                          ],
                          [
                            0.6666666666666666,
                            "#ed7953"
                          ],
                          [
                            0.7777777777777778,
                            "#fb9f3a"
                          ],
                          [
                            0.8888888888888888,
                            "#fdca26"
                          ],
                          [
                            1,
                            "#f0f921"
                          ]
                        ],
                        "type": "histogram2d"
                      }
                    ],
                    "histogram2dcontour": [
                      {
                        "colorbar": {
                          "outlinewidth": 0,
                          "ticks": ""
                        },
                        "colorscale": [
                          [
                            0,
                            "#0d0887"
                          ],
                          [
                            0.1111111111111111,
                            "#46039f"
                          ],
                          [
                            0.2222222222222222,
                            "#7201a8"
                          ],
                          [
                            0.3333333333333333,
                            "#9c179e"
                          ],
                          [
                            0.4444444444444444,
                            "#bd3786"
                          ],
                          [
                            0.5555555555555556,
                            "#d8576b"
                          ],
                          [
                            0.6666666666666666,
                            "#ed7953"
                          ],
                          [
                            0.7777777777777778,
                            "#fb9f3a"
                          ],
                          [
                            0.8888888888888888,
                            "#fdca26"
                          ],
                          [
                            1,
                            "#f0f921"
                          ]
                        ],
                        "type": "histogram2dcontour"
                      }
                    ],
                    "mesh3d": [
                      {
                        "colorbar": {
                          "outlinewidth": 0,
                          "ticks": ""
                        },
                        "type": "mesh3d"
                      }
                    ],
                    "parcoords": [
                      {
                        "line": {
                          "colorbar": {
                            "outlinewidth": 0,
                            "ticks": ""
                          }
                        },
                        "type": "parcoords"
                      }
                    ],
                    "pie": [
                      {
                        "automargin": true,
                        "type": "pie"
                      }
                    ],
                    "scatter": [
                      {
                        "fillpattern": {
                          "fillmode": "overlay",
                          "size": 10,
                          "solidity": 0.2
                        },
                        "type": "scatter"
                      }
                    ],
                    "scatter3d": [
                      {
                        "line": {
                          "colorbar": {
                            "outlinewidth": 0,
                            "ticks": ""
                          }
                        },
                        "marker": {
                          "colorbar": {
                            "outlinewidth": 0,
                            "ticks": ""
                          }
                        },
                        "type": "scatter3d"
                      }
                    ],
                    "scattercarpet": [
                      {
                        "marker": {
                          "colorbar": {
                            "outlinewidth": 0,
                            "ticks": ""
                          }
                        },
                        "type": "scattercarpet"
                      }
                    ],
                    "scattergeo": [
                      {
                        "marker": {
                          "colorbar": {
                            "outlinewidth": 0,
                            "ticks": ""
                          }
                        },
                        "type": "scattergeo"
                      }
                    ],
                    "scattergl": [
                      {
                        "marker": {
                          "colorbar": {
                            "outlinewidth": 0,
                            "ticks": ""
                          }
                        },
                        "type": "scattergl"
                      }
                    ],
                    "scattermap": [
                      {
                        "marker": {
                          "colorbar": {
                            "outlinewidth": 0,
                            "ticks": ""
                          }
                        },
                        "type": "scattermap"
                      }
                    ],
                    "scattermapbox": [
                      {
                        "marker": {
                          "colorbar": {
                            "outlinewidth": 0,
                            "ticks": ""
                          }
                        },
                        "type": "scattermapbox"
                      }
                    ],
                    "scatterpolar": [
                      {
                        "marker": {
                          "colorbar": {
                            "outlinewidth": 0,
                            "ticks": ""
                          }
                        },
                        "type": "scatterpolar"
                      }
                    ],
                    "scatterpolargl": [
                      {
                        "marker": {
                          "colorbar": {
                            "outlinewidth": 0,
                            "ticks": ""
                          }
                        },
                        "type": "scatterpolargl"
                      }
                    ],
                    "scatterternary": [
                      {
                        "marker": {
                          "colorbar": {
                            "outlinewidth": 0,
                            "ticks": ""
                          }
                        },
                        "type": "scatterternary"
                      }
                    ],
                    "surface": [
                      {
                        "colorbar": {
                          "outlinewidth": 0,
                          "ticks": ""
                        },
                        "colorscale": [
                          [
                            0,
                            "#0d0887"
                          ],
                          [
                            0.1111111111111111,
                            "#46039f"
                          ],
                          [
                            0.2222222222222222,
                            "#7201a8"
                          ],
                          [
                            0.3333333333333333,
                            "#9c179e"
                          ],
                          [
                            0.4444444444444444,
                            "#bd3786"
                          ],
                          [
                            0.5555555555555556,
                            "#d8576b"
                          ],
                          [
                            0.6666666666666666,
                            "#ed7953"
                          ],
                          [
                            0.7777777777777778,
                            "#fb9f3a"
                          ],
                          [
                            0.8888888888888888,
                            "#fdca26"
                          ],
                          [
                            1,
                            "#f0f921"
                          ]
                        ],
                        "type": "surface"
                      }
                    ],
                    "table": [
                      {
                        "cells": {
                          "fill": {
                            "color": "#EBF0F8"
                          },
                          "line": {
                            "color": "white"
                          }
                        },
                        "header": {
                          "fill": {
                            "color": "#C8D4E3"
                          },
                          "line": {
                            "color": "white"
                          }
                        },
                        "type": "table"
                      }
                    ]
                  },
                  "layout": {
                    "annotationdefaults": {
                      "arrowcolor": "#2a3f5f",
                      "arrowhead": 0,
                      "arrowwidth": 1
                    },
                    "autotypenumbers": "strict",
                    "coloraxis": {
                      "colorbar": {
                        "outlinewidth": 0,
                        "ticks": ""
                      }
                    },
                    "colorscale": {
                      "diverging": [
                        [
                          0,
                          "#8e0152"
                        ],
                        [
                          0.1,
                          "#c51b7d"
                        ],
                        [
                          0.2,
                          "#de77ae"
                        ],
                        [
                          0.3,
                          "#f1b6da"
                        ],
                        [
                          0.4,
                          "#fde0ef"
                        ],
                        [
                          0.5,
                          "#f7f7f7"
                        ],
                        [
                          0.6,
                          "#e6f5d0"
                        ],
                        [
                          0.7,
                          "#b8e186"
                        ],
                        [
                          0.8,
                          "#7fbc41"
                        ],
                        [
                          0.9,
                          "#4d9221"
                        ],
                        [
                          1,
                          "#276419"
                        ]
                      ],
                      "sequential": [
                        [
                          0,
                          "#0d0887"
                        ],
                        [
                          0.1111111111111111,
                          "#46039f"
                        ],
                        [
                          0.2222222222222222,
                          "#7201a8"
                        ],
                        [
                          0.3333333333333333,
                          "#9c179e"
                        ],
                        [
                          0.4444444444444444,
                          "#bd3786"
                        ],
                        [
                          0.5555555555555556,
                          "#d8576b"
                        ],
                        [
                          0.6666666666666666,
                          "#ed7953"
                        ],
                        [
                          0.7777777777777778,
                          "#fb9f3a"
                        ],
                        [
                          0.8888888888888888,
                          "#fdca26"
                        ],
                        [
                          1,
                          "#f0f921"
                        ]
                      ],
                      "sequentialminus": [
                        [
                          0,
                          "#0d0887"
                        ],
                        [
                          0.1111111111111111,
                          "#46039f"
                        ],
                        [
                          0.2222222222222222,
                          "#7201a8"
                        ],
                        [
                          0.3333333333333333,
                          "#9c179e"
                        ],
                        [
                          0.4444444444444444,
                          "#bd3786"
                        ],
                        [
                          0.5555555555555556,
                          "#d8576b"
                        ],
                        [
                          0.6666666666666666,
                          "#ed7953"
                        ],
                        [
                          0.7777777777777778,
                          "#fb9f3a"
                        ],
                        [
                          0.8888888888888888,
                          "#fdca26"
                        ],
                        [
                          1,
                          "#f0f921"
                        ]
                      ]
                    },
                    "colorway": [
                      "#636efa",
                      "#EF553B",
                      "#00cc96",
                      "#ab63fa",
                      "#FFA15A",
                      "#19d3f3",
                      "#FF6692",
                      "#B6E880",
                      "#FF97FF",
                      "#FECB52"
                    ],
                    "font": {
                      "color": "#2a3f5f"
                    },
                    "geo": {
                      "bgcolor": "white",
                      "lakecolor": "white",
                      "landcolor": "#E5ECF6",
                      "showlakes": true,
                      "showland": true,
                      "subunitcolor": "white"
                    },
                    "hoverlabel": {
                      "align": "left"
                    },
                    "hovermode": "closest",
                    "mapbox": {
                      "style": "light"
                    },
                    "paper_bgcolor": "white",
                    "plot_bgcolor": "#E5ECF6",
                    "polar": {
                      "angularaxis": {
                        "gridcolor": "white",
                        "linecolor": "white",
                        "ticks": ""
                      },
                      "bgcolor": "#E5ECF6",
                      "radialaxis": {
                        "gridcolor": "white",
                        "linecolor": "white",
                        "ticks": ""
                      }
                    },
                    "scene": {
                      "xaxis": {
                        "backgroundcolor": "#E5ECF6",
                        "gridcolor": "white",
                        "gridwidth": 2,
                        "linecolor": "white",
                        "showbackground": true,
                        "ticks": "",
                        "zerolinecolor": "white"
                      },
                      "yaxis": {
                        "backgroundcolor": "#E5ECF6",
                        "gridcolor": "white",
                        "gridwidth": 2,
                        "linecolor": "white",
                        "showbackground": true,
                        "ticks": "",
                        "zerolinecolor": "white"
                      },
                      "zaxis": {
                        "backgroundcolor": "#E5ECF6",
                        "gridcolor": "white",
                        "gridwidth": 2,
                        "linecolor": "white",
                        "showbackground": true,
                        "ticks": "",
                        "zerolinecolor": "white"
                      }
                    },
                    "shapedefaults": {
                      "line": {
                        "color": "#2a3f5f"
                      }
                    },
                    "ternary": {
                      "aaxis": {
                        "gridcolor": "white",
                        "linecolor": "white",
                        "ticks": ""
                      },
                      "baxis": {
                        "gridcolor": "white",
                        "linecolor": "white",
                        "ticks": ""
                      },
                      "bgcolor": "#E5ECF6",
                      "caxis": {
                        "gridcolor": "white",
                        "linecolor": "white",
                        "ticks": ""
                      }
                    },
                    "title": {
                      "x": 0.05
                    },
                    "xaxis": {
                      "automargin": true,
                      "gridcolor": "white",
                      "linecolor": "white",
                      "ticks": "",
                      "title": {
                        "standoff": 15
                      },
                      "zerolinecolor": "white",
                      "zerolinewidth": 2
                    },
                    "yaxis": {
                      "automargin": true,
                      "gridcolor": "white",
                      "linecolor": "white",
                      "ticks": "",
                      "title": {
                        "standoff": 15
                      },
                      "zerolinecolor": "white",
                      "zerolinewidth": 2
                    }
                  }
                },
                "title": {
                  "text": "Optimization History Plot"
                },
                "xaxis": {
                  "title": {
                    "text": "Trial"
                  }
                },
                "yaxis": {
                  "title": {
                    "text": "Objective Value"
                  }
                }
              }
            }
          },
          "metadata": {},
          "output_type": "display_data"
        },
        {
          "data": {
            "application/vnd.plotly.v1+json": {
              "config": {
                "plotlyServerURL": "https://plot.ly"
              },
              "data": [
                {
                  "cliponaxis": false,
                  "hovertemplate": [
                    "max_depth (IntDistribution): 0.018634914195281148<extra></extra>",
                    "num_leaves (IntDistribution): 0.025116974586490745<extra></extra>",
                    "n_estimators (IntDistribution): 0.0837568299453925<extra></extra>",
                    "learning_rate (FloatDistribution): 0.8724912812728357<extra></extra>"
                  ],
                  "name": "Objective Value",
                  "orientation": "h",
                  "text": [
                    "0.02",
                    "0.03",
                    "0.08",
                    "0.87"
                  ],
                  "textposition": "outside",
                  "type": "bar",
                  "x": [
                    0.018634914195281148,
                    0.025116974586490745,
                    0.0837568299453925,
                    0.8724912812728357
                  ],
                  "y": [
                    "max_depth",
                    "num_leaves",
                    "n_estimators",
                    "learning_rate"
                  ]
                }
              ],
              "layout": {
                "template": {
                  "data": {
                    "bar": [
                      {
                        "error_x": {
                          "color": "#2a3f5f"
                        },
                        "error_y": {
                          "color": "#2a3f5f"
                        },
                        "marker": {
                          "line": {
                            "color": "#E5ECF6",
                            "width": 0.5
                          },
                          "pattern": {
                            "fillmode": "overlay",
                            "size": 10,
                            "solidity": 0.2
                          }
                        },
                        "type": "bar"
                      }
                    ],
                    "barpolar": [
                      {
                        "marker": {
                          "line": {
                            "color": "#E5ECF6",
                            "width": 0.5
                          },
                          "pattern": {
                            "fillmode": "overlay",
                            "size": 10,
                            "solidity": 0.2
                          }
                        },
                        "type": "barpolar"
                      }
                    ],
                    "carpet": [
                      {
                        "aaxis": {
                          "endlinecolor": "#2a3f5f",
                          "gridcolor": "white",
                          "linecolor": "white",
                          "minorgridcolor": "white",
                          "startlinecolor": "#2a3f5f"
                        },
                        "baxis": {
                          "endlinecolor": "#2a3f5f",
                          "gridcolor": "white",
                          "linecolor": "white",
                          "minorgridcolor": "white",
                          "startlinecolor": "#2a3f5f"
                        },
                        "type": "carpet"
                      }
                    ],
                    "choropleth": [
                      {
                        "colorbar": {
                          "outlinewidth": 0,
                          "ticks": ""
                        },
                        "type": "choropleth"
                      }
                    ],
                    "contour": [
                      {
                        "colorbar": {
                          "outlinewidth": 0,
                          "ticks": ""
                        },
                        "colorscale": [
                          [
                            0,
                            "#0d0887"
                          ],
                          [
                            0.1111111111111111,
                            "#46039f"
                          ],
                          [
                            0.2222222222222222,
                            "#7201a8"
                          ],
                          [
                            0.3333333333333333,
                            "#9c179e"
                          ],
                          [
                            0.4444444444444444,
                            "#bd3786"
                          ],
                          [
                            0.5555555555555556,
                            "#d8576b"
                          ],
                          [
                            0.6666666666666666,
                            "#ed7953"
                          ],
                          [
                            0.7777777777777778,
                            "#fb9f3a"
                          ],
                          [
                            0.8888888888888888,
                            "#fdca26"
                          ],
                          [
                            1,
                            "#f0f921"
                          ]
                        ],
                        "type": "contour"
                      }
                    ],
                    "contourcarpet": [
                      {
                        "colorbar": {
                          "outlinewidth": 0,
                          "ticks": ""
                        },
                        "type": "contourcarpet"
                      }
                    ],
                    "heatmap": [
                      {
                        "colorbar": {
                          "outlinewidth": 0,
                          "ticks": ""
                        },
                        "colorscale": [
                          [
                            0,
                            "#0d0887"
                          ],
                          [
                            0.1111111111111111,
                            "#46039f"
                          ],
                          [
                            0.2222222222222222,
                            "#7201a8"
                          ],
                          [
                            0.3333333333333333,
                            "#9c179e"
                          ],
                          [
                            0.4444444444444444,
                            "#bd3786"
                          ],
                          [
                            0.5555555555555556,
                            "#d8576b"
                          ],
                          [
                            0.6666666666666666,
                            "#ed7953"
                          ],
                          [
                            0.7777777777777778,
                            "#fb9f3a"
                          ],
                          [
                            0.8888888888888888,
                            "#fdca26"
                          ],
                          [
                            1,
                            "#f0f921"
                          ]
                        ],
                        "type": "heatmap"
                      }
                    ],
                    "histogram": [
                      {
                        "marker": {
                          "pattern": {
                            "fillmode": "overlay",
                            "size": 10,
                            "solidity": 0.2
                          }
                        },
                        "type": "histogram"
                      }
                    ],
                    "histogram2d": [
                      {
                        "colorbar": {
                          "outlinewidth": 0,
                          "ticks": ""
                        },
                        "colorscale": [
                          [
                            0,
                            "#0d0887"
                          ],
                          [
                            0.1111111111111111,
                            "#46039f"
                          ],
                          [
                            0.2222222222222222,
                            "#7201a8"
                          ],
                          [
                            0.3333333333333333,
                            "#9c179e"
                          ],
                          [
                            0.4444444444444444,
                            "#bd3786"
                          ],
                          [
                            0.5555555555555556,
                            "#d8576b"
                          ],
                          [
                            0.6666666666666666,
                            "#ed7953"
                          ],
                          [
                            0.7777777777777778,
                            "#fb9f3a"
                          ],
                          [
                            0.8888888888888888,
                            "#fdca26"
                          ],
                          [
                            1,
                            "#f0f921"
                          ]
                        ],
                        "type": "histogram2d"
                      }
                    ],
                    "histogram2dcontour": [
                      {
                        "colorbar": {
                          "outlinewidth": 0,
                          "ticks": ""
                        },
                        "colorscale": [
                          [
                            0,
                            "#0d0887"
                          ],
                          [
                            0.1111111111111111,
                            "#46039f"
                          ],
                          [
                            0.2222222222222222,
                            "#7201a8"
                          ],
                          [
                            0.3333333333333333,
                            "#9c179e"
                          ],
                          [
                            0.4444444444444444,
                            "#bd3786"
                          ],
                          [
                            0.5555555555555556,
                            "#d8576b"
                          ],
                          [
                            0.6666666666666666,
                            "#ed7953"
                          ],
                          [
                            0.7777777777777778,
                            "#fb9f3a"
                          ],
                          [
                            0.8888888888888888,
                            "#fdca26"
                          ],
                          [
                            1,
                            "#f0f921"
                          ]
                        ],
                        "type": "histogram2dcontour"
                      }
                    ],
                    "mesh3d": [
                      {
                        "colorbar": {
                          "outlinewidth": 0,
                          "ticks": ""
                        },
                        "type": "mesh3d"
                      }
                    ],
                    "parcoords": [
                      {
                        "line": {
                          "colorbar": {
                            "outlinewidth": 0,
                            "ticks": ""
                          }
                        },
                        "type": "parcoords"
                      }
                    ],
                    "pie": [
                      {
                        "automargin": true,
                        "type": "pie"
                      }
                    ],
                    "scatter": [
                      {
                        "fillpattern": {
                          "fillmode": "overlay",
                          "size": 10,
                          "solidity": 0.2
                        },
                        "type": "scatter"
                      }
                    ],
                    "scatter3d": [
                      {
                        "line": {
                          "colorbar": {
                            "outlinewidth": 0,
                            "ticks": ""
                          }
                        },
                        "marker": {
                          "colorbar": {
                            "outlinewidth": 0,
                            "ticks": ""
                          }
                        },
                        "type": "scatter3d"
                      }
                    ],
                    "scattercarpet": [
                      {
                        "marker": {
                          "colorbar": {
                            "outlinewidth": 0,
                            "ticks": ""
                          }
                        },
                        "type": "scattercarpet"
                      }
                    ],
                    "scattergeo": [
                      {
                        "marker": {
                          "colorbar": {
                            "outlinewidth": 0,
                            "ticks": ""
                          }
                        },
                        "type": "scattergeo"
                      }
                    ],
                    "scattergl": [
                      {
                        "marker": {
                          "colorbar": {
                            "outlinewidth": 0,
                            "ticks": ""
                          }
                        },
                        "type": "scattergl"
                      }
                    ],
                    "scattermap": [
                      {
                        "marker": {
                          "colorbar": {
                            "outlinewidth": 0,
                            "ticks": ""
                          }
                        },
                        "type": "scattermap"
                      }
                    ],
                    "scattermapbox": [
                      {
                        "marker": {
                          "colorbar": {
                            "outlinewidth": 0,
                            "ticks": ""
                          }
                        },
                        "type": "scattermapbox"
                      }
                    ],
                    "scatterpolar": [
                      {
                        "marker": {
                          "colorbar": {
                            "outlinewidth": 0,
                            "ticks": ""
                          }
                        },
                        "type": "scatterpolar"
                      }
                    ],
                    "scatterpolargl": [
                      {
                        "marker": {
                          "colorbar": {
                            "outlinewidth": 0,
                            "ticks": ""
                          }
                        },
                        "type": "scatterpolargl"
                      }
                    ],
                    "scatterternary": [
                      {
                        "marker": {
                          "colorbar": {
                            "outlinewidth": 0,
                            "ticks": ""
                          }
                        },
                        "type": "scatterternary"
                      }
                    ],
                    "surface": [
                      {
                        "colorbar": {
                          "outlinewidth": 0,
                          "ticks": ""
                        },
                        "colorscale": [
                          [
                            0,
                            "#0d0887"
                          ],
                          [
                            0.1111111111111111,
                            "#46039f"
                          ],
                          [
                            0.2222222222222222,
                            "#7201a8"
                          ],
                          [
                            0.3333333333333333,
                            "#9c179e"
                          ],
                          [
                            0.4444444444444444,
                            "#bd3786"
                          ],
                          [
                            0.5555555555555556,
                            "#d8576b"
                          ],
                          [
                            0.6666666666666666,
                            "#ed7953"
                          ],
                          [
                            0.7777777777777778,
                            "#fb9f3a"
                          ],
                          [
                            0.8888888888888888,
                            "#fdca26"
                          ],
                          [
                            1,
                            "#f0f921"
                          ]
                        ],
                        "type": "surface"
                      }
                    ],
                    "table": [
                      {
                        "cells": {
                          "fill": {
                            "color": "#EBF0F8"
                          },
                          "line": {
                            "color": "white"
                          }
                        },
                        "header": {
                          "fill": {
                            "color": "#C8D4E3"
                          },
                          "line": {
                            "color": "white"
                          }
                        },
                        "type": "table"
                      }
                    ]
                  },
                  "layout": {
                    "annotationdefaults": {
                      "arrowcolor": "#2a3f5f",
                      "arrowhead": 0,
                      "arrowwidth": 1
                    },
                    "autotypenumbers": "strict",
                    "coloraxis": {
                      "colorbar": {
                        "outlinewidth": 0,
                        "ticks": ""
                      }
                    },
                    "colorscale": {
                      "diverging": [
                        [
                          0,
                          "#8e0152"
                        ],
                        [
                          0.1,
                          "#c51b7d"
                        ],
                        [
                          0.2,
                          "#de77ae"
                        ],
                        [
                          0.3,
                          "#f1b6da"
                        ],
                        [
                          0.4,
                          "#fde0ef"
                        ],
                        [
                          0.5,
                          "#f7f7f7"
                        ],
                        [
                          0.6,
                          "#e6f5d0"
                        ],
                        [
                          0.7,
                          "#b8e186"
                        ],
                        [
                          0.8,
                          "#7fbc41"
                        ],
                        [
                          0.9,
                          "#4d9221"
                        ],
                        [
                          1,
                          "#276419"
                        ]
                      ],
                      "sequential": [
                        [
                          0,
                          "#0d0887"
                        ],
                        [
                          0.1111111111111111,
                          "#46039f"
                        ],
                        [
                          0.2222222222222222,
                          "#7201a8"
                        ],
                        [
                          0.3333333333333333,
                          "#9c179e"
                        ],
                        [
                          0.4444444444444444,
                          "#bd3786"
                        ],
                        [
                          0.5555555555555556,
                          "#d8576b"
                        ],
                        [
                          0.6666666666666666,
                          "#ed7953"
                        ],
                        [
                          0.7777777777777778,
                          "#fb9f3a"
                        ],
                        [
                          0.8888888888888888,
                          "#fdca26"
                        ],
                        [
                          1,
                          "#f0f921"
                        ]
                      ],
                      "sequentialminus": [
                        [
                          0,
                          "#0d0887"
                        ],
                        [
                          0.1111111111111111,
                          "#46039f"
                        ],
                        [
                          0.2222222222222222,
                          "#7201a8"
                        ],
                        [
                          0.3333333333333333,
                          "#9c179e"
                        ],
                        [
                          0.4444444444444444,
                          "#bd3786"
                        ],
                        [
                          0.5555555555555556,
                          "#d8576b"
                        ],
                        [
                          0.6666666666666666,
                          "#ed7953"
                        ],
                        [
                          0.7777777777777778,
                          "#fb9f3a"
                        ],
                        [
                          0.8888888888888888,
                          "#fdca26"
                        ],
                        [
                          1,
                          "#f0f921"
                        ]
                      ]
                    },
                    "colorway": [
                      "#636efa",
                      "#EF553B",
                      "#00cc96",
                      "#ab63fa",
                      "#FFA15A",
                      "#19d3f3",
                      "#FF6692",
                      "#B6E880",
                      "#FF97FF",
                      "#FECB52"
                    ],
                    "font": {
                      "color": "#2a3f5f"
                    },
                    "geo": {
                      "bgcolor": "white",
                      "lakecolor": "white",
                      "landcolor": "#E5ECF6",
                      "showlakes": true,
                      "showland": true,
                      "subunitcolor": "white"
                    },
                    "hoverlabel": {
                      "align": "left"
                    },
                    "hovermode": "closest",
                    "mapbox": {
                      "style": "light"
                    },
                    "paper_bgcolor": "white",
                    "plot_bgcolor": "#E5ECF6",
                    "polar": {
                      "angularaxis": {
                        "gridcolor": "white",
                        "linecolor": "white",
                        "ticks": ""
                      },
                      "bgcolor": "#E5ECF6",
                      "radialaxis": {
                        "gridcolor": "white",
                        "linecolor": "white",
                        "ticks": ""
                      }
                    },
                    "scene": {
                      "xaxis": {
                        "backgroundcolor": "#E5ECF6",
                        "gridcolor": "white",
                        "gridwidth": 2,
                        "linecolor": "white",
                        "showbackground": true,
                        "ticks": "",
                        "zerolinecolor": "white"
                      },
                      "yaxis": {
                        "backgroundcolor": "#E5ECF6",
                        "gridcolor": "white",
                        "gridwidth": 2,
                        "linecolor": "white",
                        "showbackground": true,
                        "ticks": "",
                        "zerolinecolor": "white"
                      },
                      "zaxis": {
                        "backgroundcolor": "#E5ECF6",
                        "gridcolor": "white",
                        "gridwidth": 2,
                        "linecolor": "white",
                        "showbackground": true,
                        "ticks": "",
                        "zerolinecolor": "white"
                      }
                    },
                    "shapedefaults": {
                      "line": {
                        "color": "#2a3f5f"
                      }
                    },
                    "ternary": {
                      "aaxis": {
                        "gridcolor": "white",
                        "linecolor": "white",
                        "ticks": ""
                      },
                      "baxis": {
                        "gridcolor": "white",
                        "linecolor": "white",
                        "ticks": ""
                      },
                      "bgcolor": "#E5ECF6",
                      "caxis": {
                        "gridcolor": "white",
                        "linecolor": "white",
                        "ticks": ""
                      }
                    },
                    "title": {
                      "x": 0.05
                    },
                    "xaxis": {
                      "automargin": true,
                      "gridcolor": "white",
                      "linecolor": "white",
                      "ticks": "",
                      "title": {
                        "standoff": 15
                      },
                      "zerolinecolor": "white",
                      "zerolinewidth": 2
                    },
                    "yaxis": {
                      "automargin": true,
                      "gridcolor": "white",
                      "linecolor": "white",
                      "ticks": "",
                      "title": {
                        "standoff": 15
                      },
                      "zerolinecolor": "white",
                      "zerolinewidth": 2
                    }
                  }
                },
                "title": {
                  "text": "Hyperparameter Importances"
                },
                "xaxis": {
                  "title": {
                    "text": "Hyperparameter Importance"
                  }
                },
                "yaxis": {
                  "title": {
                    "text": "Hyperparameter"
                  }
                }
              }
            }
          },
          "metadata": {},
          "output_type": "display_data"
        }
      ],
      "source": [
        "from optuna.visualization import plot_optimization_history, plot_param_importances\n",
        "\n",
        "plot_optimization_history(fake_study).show()\n",
        "\n",
        "plot_param_importances(fake_study).show()"
      ]
    },
    {
      "cell_type": "markdown",
      "id": "c6e80527",
      "metadata": {},
      "source": [
        "Включение фиктивных переменных, которые не влияют на целевую функцию, немного замедляет сходимость. Качество при этом пострадало несильно, я считаю, что это связано с выбором модели. Лог рег скорее всего повёл бы себя хуже"
      ]
    },
    {
      "cell_type": "markdown",
      "id": "a7765c85",
      "metadata": {},
      "source": [
        "широкие диапозоны"
      ]
    },
    {
      "cell_type": "code",
      "execution_count": 38,
      "id": "21799c3b",
      "metadata": {},
      "outputs": [
        {
          "name": "stderr",
          "output_type": "stream",
          "text": [
            "[I 2025-09-13 19:58:59,469] A new study created in memory with name: no-name-c842983c-c222-486b-8218-0f697b54e5ce\n",
            "c:\\Users\\Лиана\\OneDrive\\Desktop\\ITMO\\AutoML-ITMO\\.venv\\Lib\\site-packages\\sklearn\\utils\\validation.py:2749: UserWarning:\n",
            "\n",
            "X does not have valid feature names, but LGBMClassifier was fitted with feature names\n",
            "\n",
            "[I 2025-09-13 19:59:49,470] Trial 0 finished with value: 0.7083856532292011 and parameters: {'num_leaves': 380, 'max_depth': 10, 'learning_rate': 1.1140118016823712e-05, 'n_estimators': 344}. Best is trial 0 with value: 0.7083856532292011.\n",
            "c:\\Users\\Лиана\\OneDrive\\Desktop\\ITMO\\AutoML-ITMO\\.venv\\Lib\\site-packages\\sklearn\\utils\\validation.py:2749: UserWarning:\n",
            "\n",
            "X does not have valid feature names, but LGBMClassifier was fitted with feature names\n",
            "\n",
            "[I 2025-09-13 19:59:54,607] Trial 1 finished with value: 0.7292261044946666 and parameters: {'num_leaves': 38, 'max_depth': 17, 'learning_rate': 0.017438623636572243, 'n_estimators': 53}. Best is trial 1 with value: 0.7292261044946666.\n",
            "c:\\Users\\Лиана\\OneDrive\\Desktop\\ITMO\\AutoML-ITMO\\.venv\\Lib\\site-packages\\sklearn\\utils\\validation.py:2749: UserWarning:\n",
            "\n",
            "X does not have valid feature names, but LGBMClassifier was fitted with feature names\n",
            "\n",
            "[I 2025-09-13 20:00:15,260] Trial 2 finished with value: 0.7496983210186142 and parameters: {'num_leaves': 14, 'max_depth': 10, 'learning_rate': 0.09702394950681457, 'n_estimators': 618}. Best is trial 2 with value: 0.7496983210186142.\n",
            "c:\\Users\\Лиана\\OneDrive\\Desktop\\ITMO\\AutoML-ITMO\\.venv\\Lib\\site-packages\\sklearn\\utils\\validation.py:2749: UserWarning:\n",
            "\n",
            "X does not have valid feature names, but LGBMClassifier was fitted with feature names\n",
            "\n",
            "[I 2025-09-13 20:01:41,565] Trial 3 finished with value: 0.7345852374757165 and parameters: {'num_leaves': 189, 'max_depth': 10, 'learning_rate': 0.0007368736377771945, 'n_estimators': 980}. Best is trial 2 with value: 0.7496983210186142.\n",
            "c:\\Users\\Лиана\\OneDrive\\Desktop\\ITMO\\AutoML-ITMO\\.venv\\Lib\\site-packages\\sklearn\\utils\\validation.py:2749: UserWarning:\n",
            "\n",
            "X does not have valid feature names, but LGBMClassifier was fitted with feature names\n",
            "\n",
            "[I 2025-09-13 20:01:46,472] Trial 4 finished with value: 0.7153965992574152 and parameters: {'num_leaves': 269, 'max_depth': 13, 'learning_rate': 7.975770119070507e-05, 'n_estimators': 24}. Best is trial 2 with value: 0.7496983210186142.\n",
            "c:\\Users\\Лиана\\OneDrive\\Desktop\\ITMO\\AutoML-ITMO\\.venv\\Lib\\site-packages\\sklearn\\utils\\validation.py:2749: UserWarning:\n",
            "\n",
            "X does not have valid feature names, but LGBMClassifier was fitted with feature names\n",
            "\n",
            "[I 2025-09-13 20:01:49,537] Trial 5 finished with value: 0.7137335308571505 and parameters: {'num_leaves': 195, 'max_depth': 7, 'learning_rate': 6.577760095756975e-05, 'n_estimators': 14}. Best is trial 2 with value: 0.7496983210186142.\n",
            "c:\\Users\\Лиана\\OneDrive\\Desktop\\ITMO\\AutoML-ITMO\\.venv\\Lib\\site-packages\\sklearn\\utils\\validation.py:2749: UserWarning:\n",
            "\n",
            "X does not have valid feature names, but LGBMClassifier was fitted with feature names\n",
            "\n",
            "[I 2025-09-13 20:01:52,543] Trial 6 finished with value: 0.7205433146793877 and parameters: {'num_leaves': 87, 'max_depth': 10, 'learning_rate': 0.009408047184815445, 'n_estimators': 10}. Best is trial 2 with value: 0.7496983210186142.\n",
            "c:\\Users\\Лиана\\OneDrive\\Desktop\\ITMO\\AutoML-ITMO\\.venv\\Lib\\site-packages\\sklearn\\utils\\validation.py:2749: UserWarning:\n",
            "\n",
            "X does not have valid feature names, but LGBMClassifier was fitted with feature names\n",
            "\n",
            "[I 2025-09-13 20:01:56,361] Trial 7 finished with value: 0.6478129183512533 and parameters: {'num_leaves': 3, 'max_depth': 2, 'learning_rate': 2.874336028875987e-05, 'n_estimators': 124}. Best is trial 2 with value: 0.7496983210186142.\n",
            "c:\\Users\\Лиана\\OneDrive\\Desktop\\ITMO\\AutoML-ITMO\\.venv\\Lib\\site-packages\\sklearn\\utils\\validation.py:2749: UserWarning:\n",
            "\n",
            "X does not have valid feature names, but LGBMClassifier was fitted with feature names\n",
            "\n",
            "[I 2025-09-13 20:04:19,986] Trial 8 finished with value: 0.7358701607408075 and parameters: {'num_leaves': 901, 'max_depth': 20, 'learning_rate': 0.0022050219153426725, 'n_estimators': 585}. Best is trial 2 with value: 0.7496983210186142.\n"
          ]
        }
      ],
      "source": [
        "def boost_objective_wide(trial, X_tr, X_val, y_tr, y_val):\n",
        "    params = {\n",
        "        \"objective\": \"binary\",\n",
        "        \"metric\": \"auc\",\n",
        "        \"verbosity\": -1,\n",
        "        \"num_leaves\": trial.suggest_int(\"num_leaves\", 2, 1024, log=True),\n",
        "        \"max_depth\": trial.suggest_int(\"max_depth\", 1, 20),\n",
        "        \"learning_rate\": trial.suggest_float(\"learning_rate\", 1e-5, 0.5, log=True),\n",
        "        \"n_estimators\": trial.suggest_int(\"n_estimators\", 10, 5000, log=True),\n",
        "        \"random_state\": 42,\n",
        "        \"n_jobs\": -1\n",
        "    }\n",
        "    \n",
        "    model = lgb.LGBMClassifier(**params)\n",
        "    model.fit(X_tr, y_tr, eval_set=[(X_val, y_val)], eval_metric=\"auc\")\n",
        "    \n",
        "    y_pred_proba = model.predict_proba(X_val)[:, 1]\n",
        "    return roc_auc_score(y_val, y_pred_proba)\n",
        "\n",
        "study_wide = optuna.create_study(direction=\"maximize\")\n",
        "study_wide.optimize(lambda trial: boost_objective_wide(trial, X_tr, X_tst, y_tr, y_tst), timeout=300)\n"
      ]
    },
    {
      "cell_type": "code",
      "execution_count": 39,
      "id": "7da71052",
      "metadata": {},
      "outputs": [
        {
          "data": {
            "application/vnd.plotly.v1+json": {
              "config": {
                "plotlyServerURL": "https://plot.ly"
              },
              "data": [
                {
                  "mode": "markers",
                  "name": "Objective Value",
                  "type": "scatter",
                  "x": [
                    0,
                    1,
                    2,
                    3,
                    4,
                    5,
                    6,
                    7,
                    8
                  ],
                  "y": [
                    0.7083856532292011,
                    0.7292261044946666,
                    0.7496983210186142,
                    0.7345852374757165,
                    0.7153965992574152,
                    0.7137335308571505,
                    0.7205433146793877,
                    0.6478129183512533,
                    0.7358701607408075
                  ]
                },
                {
                  "mode": "lines",
                  "name": "Best Value",
                  "type": "scatter",
                  "x": [
                    0,
                    1,
                    2,
                    3,
                    4,
                    5,
                    6,
                    7,
                    8
                  ],
                  "y": [
                    0.7083856532292011,
                    0.7292261044946666,
                    0.7496983210186142,
                    0.7496983210186142,
                    0.7496983210186142,
                    0.7496983210186142,
                    0.7496983210186142,
                    0.7496983210186142,
                    0.7496983210186142
                  ]
                },
                {
                  "marker": {
                    "color": "#cccccc"
                  },
                  "mode": "markers",
                  "name": "Infeasible Trial",
                  "showlegend": false,
                  "type": "scatter",
                  "x": [],
                  "y": []
                }
              ],
              "layout": {
                "template": {
                  "data": {
                    "bar": [
                      {
                        "error_x": {
                          "color": "#2a3f5f"
                        },
                        "error_y": {
                          "color": "#2a3f5f"
                        },
                        "marker": {
                          "line": {
                            "color": "#E5ECF6",
                            "width": 0.5
                          },
                          "pattern": {
                            "fillmode": "overlay",
                            "size": 10,
                            "solidity": 0.2
                          }
                        },
                        "type": "bar"
                      }
                    ],
                    "barpolar": [
                      {
                        "marker": {
                          "line": {
                            "color": "#E5ECF6",
                            "width": 0.5
                          },
                          "pattern": {
                            "fillmode": "overlay",
                            "size": 10,
                            "solidity": 0.2
                          }
                        },
                        "type": "barpolar"
                      }
                    ],
                    "carpet": [
                      {
                        "aaxis": {
                          "endlinecolor": "#2a3f5f",
                          "gridcolor": "white",
                          "linecolor": "white",
                          "minorgridcolor": "white",
                          "startlinecolor": "#2a3f5f"
                        },
                        "baxis": {
                          "endlinecolor": "#2a3f5f",
                          "gridcolor": "white",
                          "linecolor": "white",
                          "minorgridcolor": "white",
                          "startlinecolor": "#2a3f5f"
                        },
                        "type": "carpet"
                      }
                    ],
                    "choropleth": [
                      {
                        "colorbar": {
                          "outlinewidth": 0,
                          "ticks": ""
                        },
                        "type": "choropleth"
                      }
                    ],
                    "contour": [
                      {
                        "colorbar": {
                          "outlinewidth": 0,
                          "ticks": ""
                        },
                        "colorscale": [
                          [
                            0,
                            "#0d0887"
                          ],
                          [
                            0.1111111111111111,
                            "#46039f"
                          ],
                          [
                            0.2222222222222222,
                            "#7201a8"
                          ],
                          [
                            0.3333333333333333,
                            "#9c179e"
                          ],
                          [
                            0.4444444444444444,
                            "#bd3786"
                          ],
                          [
                            0.5555555555555556,
                            "#d8576b"
                          ],
                          [
                            0.6666666666666666,
                            "#ed7953"
                          ],
                          [
                            0.7777777777777778,
                            "#fb9f3a"
                          ],
                          [
                            0.8888888888888888,
                            "#fdca26"
                          ],
                          [
                            1,
                            "#f0f921"
                          ]
                        ],
                        "type": "contour"
                      }
                    ],
                    "contourcarpet": [
                      {
                        "colorbar": {
                          "outlinewidth": 0,
                          "ticks": ""
                        },
                        "type": "contourcarpet"
                      }
                    ],
                    "heatmap": [
                      {
                        "colorbar": {
                          "outlinewidth": 0,
                          "ticks": ""
                        },
                        "colorscale": [
                          [
                            0,
                            "#0d0887"
                          ],
                          [
                            0.1111111111111111,
                            "#46039f"
                          ],
                          [
                            0.2222222222222222,
                            "#7201a8"
                          ],
                          [
                            0.3333333333333333,
                            "#9c179e"
                          ],
                          [
                            0.4444444444444444,
                            "#bd3786"
                          ],
                          [
                            0.5555555555555556,
                            "#d8576b"
                          ],
                          [
                            0.6666666666666666,
                            "#ed7953"
                          ],
                          [
                            0.7777777777777778,
                            "#fb9f3a"
                          ],
                          [
                            0.8888888888888888,
                            "#fdca26"
                          ],
                          [
                            1,
                            "#f0f921"
                          ]
                        ],
                        "type": "heatmap"
                      }
                    ],
                    "histogram": [
                      {
                        "marker": {
                          "pattern": {
                            "fillmode": "overlay",
                            "size": 10,
                            "solidity": 0.2
                          }
                        },
                        "type": "histogram"
                      }
                    ],
                    "histogram2d": [
                      {
                        "colorbar": {
                          "outlinewidth": 0,
                          "ticks": ""
                        },
                        "colorscale": [
                          [
                            0,
                            "#0d0887"
                          ],
                          [
                            0.1111111111111111,
                            "#46039f"
                          ],
                          [
                            0.2222222222222222,
                            "#7201a8"
                          ],
                          [
                            0.3333333333333333,
                            "#9c179e"
                          ],
                          [
                            0.4444444444444444,
                            "#bd3786"
                          ],
                          [
                            0.5555555555555556,
                            "#d8576b"
                          ],
                          [
                            0.6666666666666666,
                            "#ed7953"
                          ],
                          [
                            0.7777777777777778,
                            "#fb9f3a"
                          ],
                          [
                            0.8888888888888888,
                            "#fdca26"
                          ],
                          [
                            1,
                            "#f0f921"
                          ]
                        ],
                        "type": "histogram2d"
                      }
                    ],
                    "histogram2dcontour": [
                      {
                        "colorbar": {
                          "outlinewidth": 0,
                          "ticks": ""
                        },
                        "colorscale": [
                          [
                            0,
                            "#0d0887"
                          ],
                          [
                            0.1111111111111111,
                            "#46039f"
                          ],
                          [
                            0.2222222222222222,
                            "#7201a8"
                          ],
                          [
                            0.3333333333333333,
                            "#9c179e"
                          ],
                          [
                            0.4444444444444444,
                            "#bd3786"
                          ],
                          [
                            0.5555555555555556,
                            "#d8576b"
                          ],
                          [
                            0.6666666666666666,
                            "#ed7953"
                          ],
                          [
                            0.7777777777777778,
                            "#fb9f3a"
                          ],
                          [
                            0.8888888888888888,
                            "#fdca26"
                          ],
                          [
                            1,
                            "#f0f921"
                          ]
                        ],
                        "type": "histogram2dcontour"
                      }
                    ],
                    "mesh3d": [
                      {
                        "colorbar": {
                          "outlinewidth": 0,
                          "ticks": ""
                        },
                        "type": "mesh3d"
                      }
                    ],
                    "parcoords": [
                      {
                        "line": {
                          "colorbar": {
                            "outlinewidth": 0,
                            "ticks": ""
                          }
                        },
                        "type": "parcoords"
                      }
                    ],
                    "pie": [
                      {
                        "automargin": true,
                        "type": "pie"
                      }
                    ],
                    "scatter": [
                      {
                        "fillpattern": {
                          "fillmode": "overlay",
                          "size": 10,
                          "solidity": 0.2
                        },
                        "type": "scatter"
                      }
                    ],
                    "scatter3d": [
                      {
                        "line": {
                          "colorbar": {
                            "outlinewidth": 0,
                            "ticks": ""
                          }
                        },
                        "marker": {
                          "colorbar": {
                            "outlinewidth": 0,
                            "ticks": ""
                          }
                        },
                        "type": "scatter3d"
                      }
                    ],
                    "scattercarpet": [
                      {
                        "marker": {
                          "colorbar": {
                            "outlinewidth": 0,
                            "ticks": ""
                          }
                        },
                        "type": "scattercarpet"
                      }
                    ],
                    "scattergeo": [
                      {
                        "marker": {
                          "colorbar": {
                            "outlinewidth": 0,
                            "ticks": ""
                          }
                        },
                        "type": "scattergeo"
                      }
                    ],
                    "scattergl": [
                      {
                        "marker": {
                          "colorbar": {
                            "outlinewidth": 0,
                            "ticks": ""
                          }
                        },
                        "type": "scattergl"
                      }
                    ],
                    "scattermap": [
                      {
                        "marker": {
                          "colorbar": {
                            "outlinewidth": 0,
                            "ticks": ""
                          }
                        },
                        "type": "scattermap"
                      }
                    ],
                    "scattermapbox": [
                      {
                        "marker": {
                          "colorbar": {
                            "outlinewidth": 0,
                            "ticks": ""
                          }
                        },
                        "type": "scattermapbox"
                      }
                    ],
                    "scatterpolar": [
                      {
                        "marker": {
                          "colorbar": {
                            "outlinewidth": 0,
                            "ticks": ""
                          }
                        },
                        "type": "scatterpolar"
                      }
                    ],
                    "scatterpolargl": [
                      {
                        "marker": {
                          "colorbar": {
                            "outlinewidth": 0,
                            "ticks": ""
                          }
                        },
                        "type": "scatterpolargl"
                      }
                    ],
                    "scatterternary": [
                      {
                        "marker": {
                          "colorbar": {
                            "outlinewidth": 0,
                            "ticks": ""
                          }
                        },
                        "type": "scatterternary"
                      }
                    ],
                    "surface": [
                      {
                        "colorbar": {
                          "outlinewidth": 0,
                          "ticks": ""
                        },
                        "colorscale": [
                          [
                            0,
                            "#0d0887"
                          ],
                          [
                            0.1111111111111111,
                            "#46039f"
                          ],
                          [
                            0.2222222222222222,
                            "#7201a8"
                          ],
                          [
                            0.3333333333333333,
                            "#9c179e"
                          ],
                          [
                            0.4444444444444444,
                            "#bd3786"
                          ],
                          [
                            0.5555555555555556,
                            "#d8576b"
                          ],
                          [
                            0.6666666666666666,
                            "#ed7953"
                          ],
                          [
                            0.7777777777777778,
                            "#fb9f3a"
                          ],
                          [
                            0.8888888888888888,
                            "#fdca26"
                          ],
                          [
                            1,
                            "#f0f921"
                          ]
                        ],
                        "type": "surface"
                      }
                    ],
                    "table": [
                      {
                        "cells": {
                          "fill": {
                            "color": "#EBF0F8"
                          },
                          "line": {
                            "color": "white"
                          }
                        },
                        "header": {
                          "fill": {
                            "color": "#C8D4E3"
                          },
                          "line": {
                            "color": "white"
                          }
                        },
                        "type": "table"
                      }
                    ]
                  },
                  "layout": {
                    "annotationdefaults": {
                      "arrowcolor": "#2a3f5f",
                      "arrowhead": 0,
                      "arrowwidth": 1
                    },
                    "autotypenumbers": "strict",
                    "coloraxis": {
                      "colorbar": {
                        "outlinewidth": 0,
                        "ticks": ""
                      }
                    },
                    "colorscale": {
                      "diverging": [
                        [
                          0,
                          "#8e0152"
                        ],
                        [
                          0.1,
                          "#c51b7d"
                        ],
                        [
                          0.2,
                          "#de77ae"
                        ],
                        [
                          0.3,
                          "#f1b6da"
                        ],
                        [
                          0.4,
                          "#fde0ef"
                        ],
                        [
                          0.5,
                          "#f7f7f7"
                        ],
                        [
                          0.6,
                          "#e6f5d0"
                        ],
                        [
                          0.7,
                          "#b8e186"
                        ],
                        [
                          0.8,
                          "#7fbc41"
                        ],
                        [
                          0.9,
                          "#4d9221"
                        ],
                        [
                          1,
                          "#276419"
                        ]
                      ],
                      "sequential": [
                        [
                          0,
                          "#0d0887"
                        ],
                        [
                          0.1111111111111111,
                          "#46039f"
                        ],
                        [
                          0.2222222222222222,
                          "#7201a8"
                        ],
                        [
                          0.3333333333333333,
                          "#9c179e"
                        ],
                        [
                          0.4444444444444444,
                          "#bd3786"
                        ],
                        [
                          0.5555555555555556,
                          "#d8576b"
                        ],
                        [
                          0.6666666666666666,
                          "#ed7953"
                        ],
                        [
                          0.7777777777777778,
                          "#fb9f3a"
                        ],
                        [
                          0.8888888888888888,
                          "#fdca26"
                        ],
                        [
                          1,
                          "#f0f921"
                        ]
                      ],
                      "sequentialminus": [
                        [
                          0,
                          "#0d0887"
                        ],
                        [
                          0.1111111111111111,
                          "#46039f"
                        ],
                        [
                          0.2222222222222222,
                          "#7201a8"
                        ],
                        [
                          0.3333333333333333,
                          "#9c179e"
                        ],
                        [
                          0.4444444444444444,
                          "#bd3786"
                        ],
                        [
                          0.5555555555555556,
                          "#d8576b"
                        ],
                        [
                          0.6666666666666666,
                          "#ed7953"
                        ],
                        [
                          0.7777777777777778,
                          "#fb9f3a"
                        ],
                        [
                          0.8888888888888888,
                          "#fdca26"
                        ],
                        [
                          1,
                          "#f0f921"
                        ]
                      ]
                    },
                    "colorway": [
                      "#636efa",
                      "#EF553B",
                      "#00cc96",
                      "#ab63fa",
                      "#FFA15A",
                      "#19d3f3",
                      "#FF6692",
                      "#B6E880",
                      "#FF97FF",
                      "#FECB52"
                    ],
                    "font": {
                      "color": "#2a3f5f"
                    },
                    "geo": {
                      "bgcolor": "white",
                      "lakecolor": "white",
                      "landcolor": "#E5ECF6",
                      "showlakes": true,
                      "showland": true,
                      "subunitcolor": "white"
                    },
                    "hoverlabel": {
                      "align": "left"
                    },
                    "hovermode": "closest",
                    "mapbox": {
                      "style": "light"
                    },
                    "paper_bgcolor": "white",
                    "plot_bgcolor": "#E5ECF6",
                    "polar": {
                      "angularaxis": {
                        "gridcolor": "white",
                        "linecolor": "white",
                        "ticks": ""
                      },
                      "bgcolor": "#E5ECF6",
                      "radialaxis": {
                        "gridcolor": "white",
                        "linecolor": "white",
                        "ticks": ""
                      }
                    },
                    "scene": {
                      "xaxis": {
                        "backgroundcolor": "#E5ECF6",
                        "gridcolor": "white",
                        "gridwidth": 2,
                        "linecolor": "white",
                        "showbackground": true,
                        "ticks": "",
                        "zerolinecolor": "white"
                      },
                      "yaxis": {
                        "backgroundcolor": "#E5ECF6",
                        "gridcolor": "white",
                        "gridwidth": 2,
                        "linecolor": "white",
                        "showbackground": true,
                        "ticks": "",
                        "zerolinecolor": "white"
                      },
                      "zaxis": {
                        "backgroundcolor": "#E5ECF6",
                        "gridcolor": "white",
                        "gridwidth": 2,
                        "linecolor": "white",
                        "showbackground": true,
                        "ticks": "",
                        "zerolinecolor": "white"
                      }
                    },
                    "shapedefaults": {
                      "line": {
                        "color": "#2a3f5f"
                      }
                    },
                    "ternary": {
                      "aaxis": {
                        "gridcolor": "white",
                        "linecolor": "white",
                        "ticks": ""
                      },
                      "baxis": {
                        "gridcolor": "white",
                        "linecolor": "white",
                        "ticks": ""
                      },
                      "bgcolor": "#E5ECF6",
                      "caxis": {
                        "gridcolor": "white",
                        "linecolor": "white",
                        "ticks": ""
                      }
                    },
                    "title": {
                      "x": 0.05
                    },
                    "xaxis": {
                      "automargin": true,
                      "gridcolor": "white",
                      "linecolor": "white",
                      "ticks": "",
                      "title": {
                        "standoff": 15
                      },
                      "zerolinecolor": "white",
                      "zerolinewidth": 2
                    },
                    "yaxis": {
                      "automargin": true,
                      "gridcolor": "white",
                      "linecolor": "white",
                      "ticks": "",
                      "title": {
                        "standoff": 15
                      },
                      "zerolinecolor": "white",
                      "zerolinewidth": 2
                    }
                  }
                },
                "title": {
                  "text": "Optimization History Plot"
                },
                "xaxis": {
                  "title": {
                    "text": "Trial"
                  }
                },
                "yaxis": {
                  "title": {
                    "text": "Objective Value"
                  }
                }
              }
            }
          },
          "metadata": {},
          "output_type": "display_data"
        },
        {
          "data": {
            "application/vnd.plotly.v1+json": {
              "config": {
                "plotlyServerURL": "https://plot.ly"
              },
              "data": [
                {
                  "cliponaxis": false,
                  "hovertemplate": [
                    "learning_rate (FloatDistribution): 0.13599184116496676<extra></extra>",
                    "n_estimators (IntDistribution): 0.13999096290161026<extra></extra>",
                    "num_leaves (IntDistribution): 0.27942029334245566<extra></extra>",
                    "max_depth (IntDistribution): 0.44459690259096735<extra></extra>"
                  ],
                  "name": "Objective Value",
                  "orientation": "h",
                  "text": [
                    "0.14",
                    "0.14",
                    "0.28",
                    "0.44"
                  ],
                  "textposition": "outside",
                  "type": "bar",
                  "x": [
                    0.13599184116496676,
                    0.13999096290161026,
                    0.27942029334245566,
                    0.44459690259096735
                  ],
                  "y": [
                    "learning_rate",
                    "n_estimators",
                    "num_leaves",
                    "max_depth"
                  ]
                }
              ],
              "layout": {
                "template": {
                  "data": {
                    "bar": [
                      {
                        "error_x": {
                          "color": "#2a3f5f"
                        },
                        "error_y": {
                          "color": "#2a3f5f"
                        },
                        "marker": {
                          "line": {
                            "color": "#E5ECF6",
                            "width": 0.5
                          },
                          "pattern": {
                            "fillmode": "overlay",
                            "size": 10,
                            "solidity": 0.2
                          }
                        },
                        "type": "bar"
                      }
                    ],
                    "barpolar": [
                      {
                        "marker": {
                          "line": {
                            "color": "#E5ECF6",
                            "width": 0.5
                          },
                          "pattern": {
                            "fillmode": "overlay",
                            "size": 10,
                            "solidity": 0.2
                          }
                        },
                        "type": "barpolar"
                      }
                    ],
                    "carpet": [
                      {
                        "aaxis": {
                          "endlinecolor": "#2a3f5f",
                          "gridcolor": "white",
                          "linecolor": "white",
                          "minorgridcolor": "white",
                          "startlinecolor": "#2a3f5f"
                        },
                        "baxis": {
                          "endlinecolor": "#2a3f5f",
                          "gridcolor": "white",
                          "linecolor": "white",
                          "minorgridcolor": "white",
                          "startlinecolor": "#2a3f5f"
                        },
                        "type": "carpet"
                      }
                    ],
                    "choropleth": [
                      {
                        "colorbar": {
                          "outlinewidth": 0,
                          "ticks": ""
                        },
                        "type": "choropleth"
                      }
                    ],
                    "contour": [
                      {
                        "colorbar": {
                          "outlinewidth": 0,
                          "ticks": ""
                        },
                        "colorscale": [
                          [
                            0,
                            "#0d0887"
                          ],
                          [
                            0.1111111111111111,
                            "#46039f"
                          ],
                          [
                            0.2222222222222222,
                            "#7201a8"
                          ],
                          [
                            0.3333333333333333,
                            "#9c179e"
                          ],
                          [
                            0.4444444444444444,
                            "#bd3786"
                          ],
                          [
                            0.5555555555555556,
                            "#d8576b"
                          ],
                          [
                            0.6666666666666666,
                            "#ed7953"
                          ],
                          [
                            0.7777777777777778,
                            "#fb9f3a"
                          ],
                          [
                            0.8888888888888888,
                            "#fdca26"
                          ],
                          [
                            1,
                            "#f0f921"
                          ]
                        ],
                        "type": "contour"
                      }
                    ],
                    "contourcarpet": [
                      {
                        "colorbar": {
                          "outlinewidth": 0,
                          "ticks": ""
                        },
                        "type": "contourcarpet"
                      }
                    ],
                    "heatmap": [
                      {
                        "colorbar": {
                          "outlinewidth": 0,
                          "ticks": ""
                        },
                        "colorscale": [
                          [
                            0,
                            "#0d0887"
                          ],
                          [
                            0.1111111111111111,
                            "#46039f"
                          ],
                          [
                            0.2222222222222222,
                            "#7201a8"
                          ],
                          [
                            0.3333333333333333,
                            "#9c179e"
                          ],
                          [
                            0.4444444444444444,
                            "#bd3786"
                          ],
                          [
                            0.5555555555555556,
                            "#d8576b"
                          ],
                          [
                            0.6666666666666666,
                            "#ed7953"
                          ],
                          [
                            0.7777777777777778,
                            "#fb9f3a"
                          ],
                          [
                            0.8888888888888888,
                            "#fdca26"
                          ],
                          [
                            1,
                            "#f0f921"
                          ]
                        ],
                        "type": "heatmap"
                      }
                    ],
                    "histogram": [
                      {
                        "marker": {
                          "pattern": {
                            "fillmode": "overlay",
                            "size": 10,
                            "solidity": 0.2
                          }
                        },
                        "type": "histogram"
                      }
                    ],
                    "histogram2d": [
                      {
                        "colorbar": {
                          "outlinewidth": 0,
                          "ticks": ""
                        },
                        "colorscale": [
                          [
                            0,
                            "#0d0887"
                          ],
                          [
                            0.1111111111111111,
                            "#46039f"
                          ],
                          [
                            0.2222222222222222,
                            "#7201a8"
                          ],
                          [
                            0.3333333333333333,
                            "#9c179e"
                          ],
                          [
                            0.4444444444444444,
                            "#bd3786"
                          ],
                          [
                            0.5555555555555556,
                            "#d8576b"
                          ],
                          [
                            0.6666666666666666,
                            "#ed7953"
                          ],
                          [
                            0.7777777777777778,
                            "#fb9f3a"
                          ],
                          [
                            0.8888888888888888,
                            "#fdca26"
                          ],
                          [
                            1,
                            "#f0f921"
                          ]
                        ],
                        "type": "histogram2d"
                      }
                    ],
                    "histogram2dcontour": [
                      {
                        "colorbar": {
                          "outlinewidth": 0,
                          "ticks": ""
                        },
                        "colorscale": [
                          [
                            0,
                            "#0d0887"
                          ],
                          [
                            0.1111111111111111,
                            "#46039f"
                          ],
                          [
                            0.2222222222222222,
                            "#7201a8"
                          ],
                          [
                            0.3333333333333333,
                            "#9c179e"
                          ],
                          [
                            0.4444444444444444,
                            "#bd3786"
                          ],
                          [
                            0.5555555555555556,
                            "#d8576b"
                          ],
                          [
                            0.6666666666666666,
                            "#ed7953"
                          ],
                          [
                            0.7777777777777778,
                            "#fb9f3a"
                          ],
                          [
                            0.8888888888888888,
                            "#fdca26"
                          ],
                          [
                            1,
                            "#f0f921"
                          ]
                        ],
                        "type": "histogram2dcontour"
                      }
                    ],
                    "mesh3d": [
                      {
                        "colorbar": {
                          "outlinewidth": 0,
                          "ticks": ""
                        },
                        "type": "mesh3d"
                      }
                    ],
                    "parcoords": [
                      {
                        "line": {
                          "colorbar": {
                            "outlinewidth": 0,
                            "ticks": ""
                          }
                        },
                        "type": "parcoords"
                      }
                    ],
                    "pie": [
                      {
                        "automargin": true,
                        "type": "pie"
                      }
                    ],
                    "scatter": [
                      {
                        "fillpattern": {
                          "fillmode": "overlay",
                          "size": 10,
                          "solidity": 0.2
                        },
                        "type": "scatter"
                      }
                    ],
                    "scatter3d": [
                      {
                        "line": {
                          "colorbar": {
                            "outlinewidth": 0,
                            "ticks": ""
                          }
                        },
                        "marker": {
                          "colorbar": {
                            "outlinewidth": 0,
                            "ticks": ""
                          }
                        },
                        "type": "scatter3d"
                      }
                    ],
                    "scattercarpet": [
                      {
                        "marker": {
                          "colorbar": {
                            "outlinewidth": 0,
                            "ticks": ""
                          }
                        },
                        "type": "scattercarpet"
                      }
                    ],
                    "scattergeo": [
                      {
                        "marker": {
                          "colorbar": {
                            "outlinewidth": 0,
                            "ticks": ""
                          }
                        },
                        "type": "scattergeo"
                      }
                    ],
                    "scattergl": [
                      {
                        "marker": {
                          "colorbar": {
                            "outlinewidth": 0,
                            "ticks": ""
                          }
                        },
                        "type": "scattergl"
                      }
                    ],
                    "scattermap": [
                      {
                        "marker": {
                          "colorbar": {
                            "outlinewidth": 0,
                            "ticks": ""
                          }
                        },
                        "type": "scattermap"
                      }
                    ],
                    "scattermapbox": [
                      {
                        "marker": {
                          "colorbar": {
                            "outlinewidth": 0,
                            "ticks": ""
                          }
                        },
                        "type": "scattermapbox"
                      }
                    ],
                    "scatterpolar": [
                      {
                        "marker": {
                          "colorbar": {
                            "outlinewidth": 0,
                            "ticks": ""
                          }
                        },
                        "type": "scatterpolar"
                      }
                    ],
                    "scatterpolargl": [
                      {
                        "marker": {
                          "colorbar": {
                            "outlinewidth": 0,
                            "ticks": ""
                          }
                        },
                        "type": "scatterpolargl"
                      }
                    ],
                    "scatterternary": [
                      {
                        "marker": {
                          "colorbar": {
                            "outlinewidth": 0,
                            "ticks": ""
                          }
                        },
                        "type": "scatterternary"
                      }
                    ],
                    "surface": [
                      {
                        "colorbar": {
                          "outlinewidth": 0,
                          "ticks": ""
                        },
                        "colorscale": [
                          [
                            0,
                            "#0d0887"
                          ],
                          [
                            0.1111111111111111,
                            "#46039f"
                          ],
                          [
                            0.2222222222222222,
                            "#7201a8"
                          ],
                          [
                            0.3333333333333333,
                            "#9c179e"
                          ],
                          [
                            0.4444444444444444,
                            "#bd3786"
                          ],
                          [
                            0.5555555555555556,
                            "#d8576b"
                          ],
                          [
                            0.6666666666666666,
                            "#ed7953"
                          ],
                          [
                            0.7777777777777778,
                            "#fb9f3a"
                          ],
                          [
                            0.8888888888888888,
                            "#fdca26"
                          ],
                          [
                            1,
                            "#f0f921"
                          ]
                        ],
                        "type": "surface"
                      }
                    ],
                    "table": [
                      {
                        "cells": {
                          "fill": {
                            "color": "#EBF0F8"
                          },
                          "line": {
                            "color": "white"
                          }
                        },
                        "header": {
                          "fill": {
                            "color": "#C8D4E3"
                          },
                          "line": {
                            "color": "white"
                          }
                        },
                        "type": "table"
                      }
                    ]
                  },
                  "layout": {
                    "annotationdefaults": {
                      "arrowcolor": "#2a3f5f",
                      "arrowhead": 0,
                      "arrowwidth": 1
                    },
                    "autotypenumbers": "strict",
                    "coloraxis": {
                      "colorbar": {
                        "outlinewidth": 0,
                        "ticks": ""
                      }
                    },
                    "colorscale": {
                      "diverging": [
                        [
                          0,
                          "#8e0152"
                        ],
                        [
                          0.1,
                          "#c51b7d"
                        ],
                        [
                          0.2,
                          "#de77ae"
                        ],
                        [
                          0.3,
                          "#f1b6da"
                        ],
                        [
                          0.4,
                          "#fde0ef"
                        ],
                        [
                          0.5,
                          "#f7f7f7"
                        ],
                        [
                          0.6,
                          "#e6f5d0"
                        ],
                        [
                          0.7,
                          "#b8e186"
                        ],
                        [
                          0.8,
                          "#7fbc41"
                        ],
                        [
                          0.9,
                          "#4d9221"
                        ],
                        [
                          1,
                          "#276419"
                        ]
                      ],
                      "sequential": [
                        [
                          0,
                          "#0d0887"
                        ],
                        [
                          0.1111111111111111,
                          "#46039f"
                        ],
                        [
                          0.2222222222222222,
                          "#7201a8"
                        ],
                        [
                          0.3333333333333333,
                          "#9c179e"
                        ],
                        [
                          0.4444444444444444,
                          "#bd3786"
                        ],
                        [
                          0.5555555555555556,
                          "#d8576b"
                        ],
                        [
                          0.6666666666666666,
                          "#ed7953"
                        ],
                        [
                          0.7777777777777778,
                          "#fb9f3a"
                        ],
                        [
                          0.8888888888888888,
                          "#fdca26"
                        ],
                        [
                          1,
                          "#f0f921"
                        ]
                      ],
                      "sequentialminus": [
                        [
                          0,
                          "#0d0887"
                        ],
                        [
                          0.1111111111111111,
                          "#46039f"
                        ],
                        [
                          0.2222222222222222,
                          "#7201a8"
                        ],
                        [
                          0.3333333333333333,
                          "#9c179e"
                        ],
                        [
                          0.4444444444444444,
                          "#bd3786"
                        ],
                        [
                          0.5555555555555556,
                          "#d8576b"
                        ],
                        [
                          0.6666666666666666,
                          "#ed7953"
                        ],
                        [
                          0.7777777777777778,
                          "#fb9f3a"
                        ],
                        [
                          0.8888888888888888,
                          "#fdca26"
                        ],
                        [
                          1,
                          "#f0f921"
                        ]
                      ]
                    },
                    "colorway": [
                      "#636efa",
                      "#EF553B",
                      "#00cc96",
                      "#ab63fa",
                      "#FFA15A",
                      "#19d3f3",
                      "#FF6692",
                      "#B6E880",
                      "#FF97FF",
                      "#FECB52"
                    ],
                    "font": {
                      "color": "#2a3f5f"
                    },
                    "geo": {
                      "bgcolor": "white",
                      "lakecolor": "white",
                      "landcolor": "#E5ECF6",
                      "showlakes": true,
                      "showland": true,
                      "subunitcolor": "white"
                    },
                    "hoverlabel": {
                      "align": "left"
                    },
                    "hovermode": "closest",
                    "mapbox": {
                      "style": "light"
                    },
                    "paper_bgcolor": "white",
                    "plot_bgcolor": "#E5ECF6",
                    "polar": {
                      "angularaxis": {
                        "gridcolor": "white",
                        "linecolor": "white",
                        "ticks": ""
                      },
                      "bgcolor": "#E5ECF6",
                      "radialaxis": {
                        "gridcolor": "white",
                        "linecolor": "white",
                        "ticks": ""
                      }
                    },
                    "scene": {
                      "xaxis": {
                        "backgroundcolor": "#E5ECF6",
                        "gridcolor": "white",
                        "gridwidth": 2,
                        "linecolor": "white",
                        "showbackground": true,
                        "ticks": "",
                        "zerolinecolor": "white"
                      },
                      "yaxis": {
                        "backgroundcolor": "#E5ECF6",
                        "gridcolor": "white",
                        "gridwidth": 2,
                        "linecolor": "white",
                        "showbackground": true,
                        "ticks": "",
                        "zerolinecolor": "white"
                      },
                      "zaxis": {
                        "backgroundcolor": "#E5ECF6",
                        "gridcolor": "white",
                        "gridwidth": 2,
                        "linecolor": "white",
                        "showbackground": true,
                        "ticks": "",
                        "zerolinecolor": "white"
                      }
                    },
                    "shapedefaults": {
                      "line": {
                        "color": "#2a3f5f"
                      }
                    },
                    "ternary": {
                      "aaxis": {
                        "gridcolor": "white",
                        "linecolor": "white",
                        "ticks": ""
                      },
                      "baxis": {
                        "gridcolor": "white",
                        "linecolor": "white",
                        "ticks": ""
                      },
                      "bgcolor": "#E5ECF6",
                      "caxis": {
                        "gridcolor": "white",
                        "linecolor": "white",
                        "ticks": ""
                      }
                    },
                    "title": {
                      "x": 0.05
                    },
                    "xaxis": {
                      "automargin": true,
                      "gridcolor": "white",
                      "linecolor": "white",
                      "ticks": "",
                      "title": {
                        "standoff": 15
                      },
                      "zerolinecolor": "white",
                      "zerolinewidth": 2
                    },
                    "yaxis": {
                      "automargin": true,
                      "gridcolor": "white",
                      "linecolor": "white",
                      "ticks": "",
                      "title": {
                        "standoff": 15
                      },
                      "zerolinecolor": "white",
                      "zerolinewidth": 2
                    }
                  }
                },
                "title": {
                  "text": "Hyperparameter Importances"
                },
                "xaxis": {
                  "title": {
                    "text": "Hyperparameter Importance"
                  }
                },
                "yaxis": {
                  "title": {
                    "text": "Hyperparameter"
                  }
                }
              }
            }
          },
          "metadata": {},
          "output_type": "display_data"
        }
      ],
      "source": [
        "from optuna.visualization import plot_optimization_history, plot_param_importances\n",
        "\n",
        "plot_optimization_history(study_wide).show()\n",
        "\n",
        "plot_param_importances(study_wide).show()"
      ]
    },
    {
      "cell_type": "markdown",
      "id": "21030d51",
      "metadata": {},
      "source": [
        "С одной стороны, это позволяет найти более оптимальные значения, выходящие за пределы исходного пространства поиска. С другой стороны, широкие диапазоны увеличивают пространство поиска, что затрудняет сходимость и требует большего количества итераций для достижения оптимального результата. Качество чуть хуже"
      ]
    },
    {
      "cell_type": "markdown",
      "id": "e6b2b84f",
      "metadata": {},
      "source": [
        "Узкое пространство поиска"
      ]
    },
    {
      "cell_type": "code",
      "execution_count": 40,
      "id": "e52e8d7e",
      "metadata": {},
      "outputs": [
        {
          "name": "stderr",
          "output_type": "stream",
          "text": [
            "[I 2025-09-13 20:04:20,416] A new study created in memory with name: no-name-19e51b44-5cca-4b17-bf63-c46f3ab45a6b\n",
            "c:\\Users\\Лиана\\OneDrive\\Desktop\\ITMO\\AutoML-ITMO\\.venv\\Lib\\site-packages\\sklearn\\utils\\validation.py:2749: UserWarning:\n",
            "\n",
            "X does not have valid feature names, but LGBMClassifier was fitted with feature names\n",
            "\n",
            "[I 2025-09-13 20:04:50,173] Trial 0 finished with value: 0.7503553210786795 and parameters: {'num_leaves': 138, 'max_depth': 7, 'learning_rate': 0.04345147698056732, 'n_estimators': 580}. Best is trial 0 with value: 0.7503553210786795.\n",
            "c:\\Users\\Лиана\\OneDrive\\Desktop\\ITMO\\AutoML-ITMO\\.venv\\Lib\\site-packages\\sklearn\\utils\\validation.py:2749: UserWarning:\n",
            "\n",
            "X does not have valid feature names, but LGBMClassifier was fitted with feature names\n",
            "\n",
            "[I 2025-09-13 20:05:15,527] Trial 1 finished with value: 0.7489454231401063 and parameters: {'num_leaves': 144, 'max_depth': 7, 'learning_rate': 0.05095238224429107, 'n_estimators': 580}. Best is trial 0 with value: 0.7503553210786795.\n",
            "c:\\Users\\Лиана\\OneDrive\\Desktop\\ITMO\\AutoML-ITMO\\.venv\\Lib\\site-packages\\sklearn\\utils\\validation.py:2749: UserWarning:\n",
            "\n",
            "X does not have valid feature names, but LGBMClassifier was fitted with feature names\n",
            "\n",
            "[I 2025-09-13 20:05:36,719] Trial 2 finished with value: 0.7496899387009475 and parameters: {'num_leaves': 106, 'max_depth': 7, 'learning_rate': 0.05937058307340898, 'n_estimators': 406}. Best is trial 0 with value: 0.7503553210786795.\n",
            "c:\\Users\\Лиана\\OneDrive\\Desktop\\ITMO\\AutoML-ITMO\\.venv\\Lib\\site-packages\\sklearn\\utils\\validation.py:2749: UserWarning:\n",
            "\n",
            "X does not have valid feature names, but LGBMClassifier was fitted with feature names\n",
            "\n",
            "[I 2025-09-13 20:05:53,738] Trial 3 finished with value: 0.7528056793280444 and parameters: {'num_leaves': 125, 'max_depth': 5, 'learning_rate': 0.04943428181353279, 'n_estimators': 467}. Best is trial 3 with value: 0.7528056793280444.\n",
            "c:\\Users\\Лиана\\OneDrive\\Desktop\\ITMO\\AutoML-ITMO\\.venv\\Lib\\site-packages\\sklearn\\utils\\validation.py:2749: UserWarning:\n",
            "\n",
            "X does not have valid feature names, but LGBMClassifier was fitted with feature names\n",
            "\n",
            "[I 2025-09-13 20:06:17,949] Trial 4 finished with value: 0.7503198059406638 and parameters: {'num_leaves': 118, 'max_depth': 7, 'learning_rate': 0.04792785567850761, 'n_estimators': 514}. Best is trial 3 with value: 0.7528056793280444.\n",
            "c:\\Users\\Лиана\\OneDrive\\Desktop\\ITMO\\AutoML-ITMO\\.venv\\Lib\\site-packages\\sklearn\\utils\\validation.py:2749: UserWarning:\n",
            "\n",
            "X does not have valid feature names, but LGBMClassifier was fitted with feature names\n",
            "\n",
            "[I 2025-09-13 20:06:38,943] Trial 5 finished with value: 0.7527349284626017 and parameters: {'num_leaves': 111, 'max_depth': 6, 'learning_rate': 0.04834225154348815, 'n_estimators': 543}. Best is trial 3 with value: 0.7528056793280444.\n",
            "c:\\Users\\Лиана\\OneDrive\\Desktop\\ITMO\\AutoML-ITMO\\.venv\\Lib\\site-packages\\sklearn\\utils\\validation.py:2749: UserWarning:\n",
            "\n",
            "X does not have valid feature names, but LGBMClassifier was fitted with feature names\n",
            "\n",
            "[I 2025-09-13 20:07:03,494] Trial 6 finished with value: 0.7514488567726325 and parameters: {'num_leaves': 113, 'max_depth': 6, 'learning_rate': 0.05242419120162436, 'n_estimators': 585}. Best is trial 3 with value: 0.7528056793280444.\n",
            "c:\\Users\\Лиана\\OneDrive\\Desktop\\ITMO\\AutoML-ITMO\\.venv\\Lib\\site-packages\\sklearn\\utils\\validation.py:2749: UserWarning:\n",
            "\n",
            "X does not have valid feature names, but LGBMClassifier was fitted with feature names\n",
            "\n",
            "[I 2025-09-13 20:07:27,385] Trial 7 finished with value: 0.7496333146454481 and parameters: {'num_leaves': 111, 'max_depth': 7, 'learning_rate': 0.051696625199062776, 'n_estimators': 484}. Best is trial 3 with value: 0.7528056793280444.\n",
            "c:\\Users\\Лиана\\OneDrive\\Desktop\\ITMO\\AutoML-ITMO\\.venv\\Lib\\site-packages\\sklearn\\utils\\validation.py:2749: UserWarning:\n",
            "\n",
            "X does not have valid feature names, but LGBMClassifier was fitted with feature names\n",
            "\n",
            "[I 2025-09-13 20:07:44,381] Trial 8 finished with value: 0.7529595840476128 and parameters: {'num_leaves': 117, 'max_depth': 5, 'learning_rate': 0.04571416446155789, 'n_estimators': 504}. Best is trial 8 with value: 0.7529595840476128.\n",
            "c:\\Users\\Лиана\\OneDrive\\Desktop\\ITMO\\AutoML-ITMO\\.venv\\Lib\\site-packages\\sklearn\\utils\\validation.py:2749: UserWarning:\n",
            "\n",
            "X does not have valid feature names, but LGBMClassifier was fitted with feature names\n",
            "\n",
            "[I 2025-09-13 20:08:04,995] Trial 9 finished with value: 0.7528546851038715 and parameters: {'num_leaves': 139, 'max_depth': 5, 'learning_rate': 0.04298877471680942, 'n_estimators': 566}. Best is trial 8 with value: 0.7529595840476128.\n",
            "c:\\Users\\Лиана\\OneDrive\\Desktop\\ITMO\\AutoML-ITMO\\.venv\\Lib\\site-packages\\sklearn\\utils\\validation.py:2749: UserWarning:\n",
            "\n",
            "X does not have valid feature names, but LGBMClassifier was fitted with feature names\n",
            "\n",
            "[I 2025-09-13 20:08:21,525] Trial 10 finished with value: 0.7529166811041959 and parameters: {'num_leaves': 125, 'max_depth': 5, 'learning_rate': 0.040215615851049574, 'n_estimators': 435}. Best is trial 8 with value: 0.7529595840476128.\n",
            "c:\\Users\\Лиана\\OneDrive\\Desktop\\ITMO\\AutoML-ITMO\\.venv\\Lib\\site-packages\\sklearn\\utils\\validation.py:2749: UserWarning:\n",
            "\n",
            "X does not have valid feature names, but LGBMClassifier was fitted with feature names\n",
            "\n",
            "[I 2025-09-13 20:08:37,851] Trial 11 finished with value: 0.7534617322335713 and parameters: {'num_leaves': 126, 'max_depth': 5, 'learning_rate': 0.040780615376354676, 'n_estimators': 436}. Best is trial 11 with value: 0.7534617322335713.\n",
            "c:\\Users\\Лиана\\OneDrive\\Desktop\\ITMO\\AutoML-ITMO\\.venv\\Lib\\site-packages\\sklearn\\utils\\validation.py:2749: UserWarning:\n",
            "\n",
            "X does not have valid feature names, but LGBMClassifier was fitted with feature names\n",
            "\n",
            "[I 2025-09-13 20:08:55,940] Trial 12 finished with value: 0.7525920533576353 and parameters: {'num_leaves': 100, 'max_depth': 5, 'learning_rate': 0.04397386013185653, 'n_estimators': 518}. Best is trial 11 with value: 0.7534617322335713.\n",
            "c:\\Users\\Лиана\\OneDrive\\Desktop\\ITMO\\AutoML-ITMO\\.venv\\Lib\\site-packages\\sklearn\\utils\\validation.py:2749: UserWarning:\n",
            "\n",
            "X does not have valid feature names, but LGBMClassifier was fitted with feature names\n",
            "\n",
            "[I 2025-09-13 20:09:14,738] Trial 13 finished with value: 0.7532958128586804 and parameters: {'num_leaves': 132, 'max_depth': 6, 'learning_rate': 0.0401249095264172, 'n_estimators': 458}. Best is trial 11 with value: 0.7534617322335713.\n",
            "c:\\Users\\Лиана\\OneDrive\\Desktop\\ITMO\\AutoML-ITMO\\.venv\\Lib\\site-packages\\sklearn\\utils\\validation.py:2749: UserWarning:\n",
            "\n",
            "X does not have valid feature names, but LGBMClassifier was fitted with feature names\n",
            "\n",
            "[I 2025-09-13 20:09:34,146] Trial 14 finished with value: 0.7532812961367855 and parameters: {'num_leaves': 133, 'max_depth': 6, 'learning_rate': 0.040004480681454825, 'n_estimators': 448}. Best is trial 11 with value: 0.7534617322335713.\n"
          ]
        }
      ],
      "source": [
        "def boost_objective_narrow(trial, X_tr, X_val, y_tr, y_val):\n",
        "    params = {\n",
        "        \"objective\": \"binary\",\n",
        "        \"metric\": \"auc\",\n",
        "        \"verbosity\": -1,\n",
        "        \"num_leaves\": trial.suggest_int(\"num_leaves\", 100, 150),\n",
        "        \"max_depth\": trial.suggest_int(\"max_depth\", 5, 7),\n",
        "        \"learning_rate\": trial.suggest_float(\"learning_rate\", 0.04, 0.06),\n",
        "        \"n_estimators\": trial.suggest_int(\"n_estimators\", 400, 600),\n",
        "        \"random_state\": 42,\n",
        "        \"n_jobs\": -1\n",
        "    }\n",
        "    \n",
        "    model = lgb.LGBMClassifier(**params)\n",
        "    model.fit(X_tr, y_tr, eval_set=[(X_val, y_val)], eval_metric=\"auc\")\n",
        "    \n",
        "    y_pred_proba = model.predict_proba(X_val)[:, 1]\n",
        "    return roc_auc_score(y_val, y_pred_proba)\n",
        "\n",
        "study_narrow = optuna.create_study(direction=\"maximize\")\n",
        "study_narrow.optimize(lambda trial: boost_objective_narrow(trial, X_tr, X_tst, y_tr, y_tst), timeout=300)"
      ]
    },
    {
      "cell_type": "code",
      "execution_count": 41,
      "id": "34b4fb7f",
      "metadata": {},
      "outputs": [
        {
          "data": {
            "application/vnd.plotly.v1+json": {
              "config": {
                "plotlyServerURL": "https://plot.ly"
              },
              "data": [
                {
                  "mode": "markers",
                  "name": "Objective Value",
                  "type": "scatter",
                  "x": [
                    0,
                    1,
                    2,
                    3,
                    4,
                    5,
                    6,
                    7,
                    8,
                    9,
                    10,
                    11,
                    12,
                    13,
                    14
                  ],
                  "y": [
                    0.7503553210786795,
                    0.7489454231401063,
                    0.7496899387009475,
                    0.7528056793280444,
                    0.7503198059406638,
                    0.7527349284626017,
                    0.7514488567726325,
                    0.7496333146454481,
                    0.7529595840476128,
                    0.7528546851038715,
                    0.7529166811041959,
                    0.7534617322335713,
                    0.7525920533576353,
                    0.7532958128586804,
                    0.7532812961367855
                  ]
                },
                {
                  "mode": "lines",
                  "name": "Best Value",
                  "type": "scatter",
                  "x": [
                    0,
                    1,
                    2,
                    3,
                    4,
                    5,
                    6,
                    7,
                    8,
                    9,
                    10,
                    11,
                    12,
                    13,
                    14
                  ],
                  "y": [
                    0.7503553210786795,
                    0.7503553210786795,
                    0.7503553210786795,
                    0.7528056793280444,
                    0.7528056793280444,
                    0.7528056793280444,
                    0.7528056793280444,
                    0.7528056793280444,
                    0.7529595840476128,
                    0.7529595840476128,
                    0.7529595840476128,
                    0.7534617322335713,
                    0.7534617322335713,
                    0.7534617322335713,
                    0.7534617322335713
                  ]
                },
                {
                  "marker": {
                    "color": "#cccccc"
                  },
                  "mode": "markers",
                  "name": "Infeasible Trial",
                  "showlegend": false,
                  "type": "scatter",
                  "x": [],
                  "y": []
                }
              ],
              "layout": {
                "template": {
                  "data": {
                    "bar": [
                      {
                        "error_x": {
                          "color": "#2a3f5f"
                        },
                        "error_y": {
                          "color": "#2a3f5f"
                        },
                        "marker": {
                          "line": {
                            "color": "#E5ECF6",
                            "width": 0.5
                          },
                          "pattern": {
                            "fillmode": "overlay",
                            "size": 10,
                            "solidity": 0.2
                          }
                        },
                        "type": "bar"
                      }
                    ],
                    "barpolar": [
                      {
                        "marker": {
                          "line": {
                            "color": "#E5ECF6",
                            "width": 0.5
                          },
                          "pattern": {
                            "fillmode": "overlay",
                            "size": 10,
                            "solidity": 0.2
                          }
                        },
                        "type": "barpolar"
                      }
                    ],
                    "carpet": [
                      {
                        "aaxis": {
                          "endlinecolor": "#2a3f5f",
                          "gridcolor": "white",
                          "linecolor": "white",
                          "minorgridcolor": "white",
                          "startlinecolor": "#2a3f5f"
                        },
                        "baxis": {
                          "endlinecolor": "#2a3f5f",
                          "gridcolor": "white",
                          "linecolor": "white",
                          "minorgridcolor": "white",
                          "startlinecolor": "#2a3f5f"
                        },
                        "type": "carpet"
                      }
                    ],
                    "choropleth": [
                      {
                        "colorbar": {
                          "outlinewidth": 0,
                          "ticks": ""
                        },
                        "type": "choropleth"
                      }
                    ],
                    "contour": [
                      {
                        "colorbar": {
                          "outlinewidth": 0,
                          "ticks": ""
                        },
                        "colorscale": [
                          [
                            0,
                            "#0d0887"
                          ],
                          [
                            0.1111111111111111,
                            "#46039f"
                          ],
                          [
                            0.2222222222222222,
                            "#7201a8"
                          ],
                          [
                            0.3333333333333333,
                            "#9c179e"
                          ],
                          [
                            0.4444444444444444,
                            "#bd3786"
                          ],
                          [
                            0.5555555555555556,
                            "#d8576b"
                          ],
                          [
                            0.6666666666666666,
                            "#ed7953"
                          ],
                          [
                            0.7777777777777778,
                            "#fb9f3a"
                          ],
                          [
                            0.8888888888888888,
                            "#fdca26"
                          ],
                          [
                            1,
                            "#f0f921"
                          ]
                        ],
                        "type": "contour"
                      }
                    ],
                    "contourcarpet": [
                      {
                        "colorbar": {
                          "outlinewidth": 0,
                          "ticks": ""
                        },
                        "type": "contourcarpet"
                      }
                    ],
                    "heatmap": [
                      {
                        "colorbar": {
                          "outlinewidth": 0,
                          "ticks": ""
                        },
                        "colorscale": [
                          [
                            0,
                            "#0d0887"
                          ],
                          [
                            0.1111111111111111,
                            "#46039f"
                          ],
                          [
                            0.2222222222222222,
                            "#7201a8"
                          ],
                          [
                            0.3333333333333333,
                            "#9c179e"
                          ],
                          [
                            0.4444444444444444,
                            "#bd3786"
                          ],
                          [
                            0.5555555555555556,
                            "#d8576b"
                          ],
                          [
                            0.6666666666666666,
                            "#ed7953"
                          ],
                          [
                            0.7777777777777778,
                            "#fb9f3a"
                          ],
                          [
                            0.8888888888888888,
                            "#fdca26"
                          ],
                          [
                            1,
                            "#f0f921"
                          ]
                        ],
                        "type": "heatmap"
                      }
                    ],
                    "histogram": [
                      {
                        "marker": {
                          "pattern": {
                            "fillmode": "overlay",
                            "size": 10,
                            "solidity": 0.2
                          }
                        },
                        "type": "histogram"
                      }
                    ],
                    "histogram2d": [
                      {
                        "colorbar": {
                          "outlinewidth": 0,
                          "ticks": ""
                        },
                        "colorscale": [
                          [
                            0,
                            "#0d0887"
                          ],
                          [
                            0.1111111111111111,
                            "#46039f"
                          ],
                          [
                            0.2222222222222222,
                            "#7201a8"
                          ],
                          [
                            0.3333333333333333,
                            "#9c179e"
                          ],
                          [
                            0.4444444444444444,
                            "#bd3786"
                          ],
                          [
                            0.5555555555555556,
                            "#d8576b"
                          ],
                          [
                            0.6666666666666666,
                            "#ed7953"
                          ],
                          [
                            0.7777777777777778,
                            "#fb9f3a"
                          ],
                          [
                            0.8888888888888888,
                            "#fdca26"
                          ],
                          [
                            1,
                            "#f0f921"
                          ]
                        ],
                        "type": "histogram2d"
                      }
                    ],
                    "histogram2dcontour": [
                      {
                        "colorbar": {
                          "outlinewidth": 0,
                          "ticks": ""
                        },
                        "colorscale": [
                          [
                            0,
                            "#0d0887"
                          ],
                          [
                            0.1111111111111111,
                            "#46039f"
                          ],
                          [
                            0.2222222222222222,
                            "#7201a8"
                          ],
                          [
                            0.3333333333333333,
                            "#9c179e"
                          ],
                          [
                            0.4444444444444444,
                            "#bd3786"
                          ],
                          [
                            0.5555555555555556,
                            "#d8576b"
                          ],
                          [
                            0.6666666666666666,
                            "#ed7953"
                          ],
                          [
                            0.7777777777777778,
                            "#fb9f3a"
                          ],
                          [
                            0.8888888888888888,
                            "#fdca26"
                          ],
                          [
                            1,
                            "#f0f921"
                          ]
                        ],
                        "type": "histogram2dcontour"
                      }
                    ],
                    "mesh3d": [
                      {
                        "colorbar": {
                          "outlinewidth": 0,
                          "ticks": ""
                        },
                        "type": "mesh3d"
                      }
                    ],
                    "parcoords": [
                      {
                        "line": {
                          "colorbar": {
                            "outlinewidth": 0,
                            "ticks": ""
                          }
                        },
                        "type": "parcoords"
                      }
                    ],
                    "pie": [
                      {
                        "automargin": true,
                        "type": "pie"
                      }
                    ],
                    "scatter": [
                      {
                        "fillpattern": {
                          "fillmode": "overlay",
                          "size": 10,
                          "solidity": 0.2
                        },
                        "type": "scatter"
                      }
                    ],
                    "scatter3d": [
                      {
                        "line": {
                          "colorbar": {
                            "outlinewidth": 0,
                            "ticks": ""
                          }
                        },
                        "marker": {
                          "colorbar": {
                            "outlinewidth": 0,
                            "ticks": ""
                          }
                        },
                        "type": "scatter3d"
                      }
                    ],
                    "scattercarpet": [
                      {
                        "marker": {
                          "colorbar": {
                            "outlinewidth": 0,
                            "ticks": ""
                          }
                        },
                        "type": "scattercarpet"
                      }
                    ],
                    "scattergeo": [
                      {
                        "marker": {
                          "colorbar": {
                            "outlinewidth": 0,
                            "ticks": ""
                          }
                        },
                        "type": "scattergeo"
                      }
                    ],
                    "scattergl": [
                      {
                        "marker": {
                          "colorbar": {
                            "outlinewidth": 0,
                            "ticks": ""
                          }
                        },
                        "type": "scattergl"
                      }
                    ],
                    "scattermap": [
                      {
                        "marker": {
                          "colorbar": {
                            "outlinewidth": 0,
                            "ticks": ""
                          }
                        },
                        "type": "scattermap"
                      }
                    ],
                    "scattermapbox": [
                      {
                        "marker": {
                          "colorbar": {
                            "outlinewidth": 0,
                            "ticks": ""
                          }
                        },
                        "type": "scattermapbox"
                      }
                    ],
                    "scatterpolar": [
                      {
                        "marker": {
                          "colorbar": {
                            "outlinewidth": 0,
                            "ticks": ""
                          }
                        },
                        "type": "scatterpolar"
                      }
                    ],
                    "scatterpolargl": [
                      {
                        "marker": {
                          "colorbar": {
                            "outlinewidth": 0,
                            "ticks": ""
                          }
                        },
                        "type": "scatterpolargl"
                      }
                    ],
                    "scatterternary": [
                      {
                        "marker": {
                          "colorbar": {
                            "outlinewidth": 0,
                            "ticks": ""
                          }
                        },
                        "type": "scatterternary"
                      }
                    ],
                    "surface": [
                      {
                        "colorbar": {
                          "outlinewidth": 0,
                          "ticks": ""
                        },
                        "colorscale": [
                          [
                            0,
                            "#0d0887"
                          ],
                          [
                            0.1111111111111111,
                            "#46039f"
                          ],
                          [
                            0.2222222222222222,
                            "#7201a8"
                          ],
                          [
                            0.3333333333333333,
                            "#9c179e"
                          ],
                          [
                            0.4444444444444444,
                            "#bd3786"
                          ],
                          [
                            0.5555555555555556,
                            "#d8576b"
                          ],
                          [
                            0.6666666666666666,
                            "#ed7953"
                          ],
                          [
                            0.7777777777777778,
                            "#fb9f3a"
                          ],
                          [
                            0.8888888888888888,
                            "#fdca26"
                          ],
                          [
                            1,
                            "#f0f921"
                          ]
                        ],
                        "type": "surface"
                      }
                    ],
                    "table": [
                      {
                        "cells": {
                          "fill": {
                            "color": "#EBF0F8"
                          },
                          "line": {
                            "color": "white"
                          }
                        },
                        "header": {
                          "fill": {
                            "color": "#C8D4E3"
                          },
                          "line": {
                            "color": "white"
                          }
                        },
                        "type": "table"
                      }
                    ]
                  },
                  "layout": {
                    "annotationdefaults": {
                      "arrowcolor": "#2a3f5f",
                      "arrowhead": 0,
                      "arrowwidth": 1
                    },
                    "autotypenumbers": "strict",
                    "coloraxis": {
                      "colorbar": {
                        "outlinewidth": 0,
                        "ticks": ""
                      }
                    },
                    "colorscale": {
                      "diverging": [
                        [
                          0,
                          "#8e0152"
                        ],
                        [
                          0.1,
                          "#c51b7d"
                        ],
                        [
                          0.2,
                          "#de77ae"
                        ],
                        [
                          0.3,
                          "#f1b6da"
                        ],
                        [
                          0.4,
                          "#fde0ef"
                        ],
                        [
                          0.5,
                          "#f7f7f7"
                        ],
                        [
                          0.6,
                          "#e6f5d0"
                        ],
                        [
                          0.7,
                          "#b8e186"
                        ],
                        [
                          0.8,
                          "#7fbc41"
                        ],
                        [
                          0.9,
                          "#4d9221"
                        ],
                        [
                          1,
                          "#276419"
                        ]
                      ],
                      "sequential": [
                        [
                          0,
                          "#0d0887"
                        ],
                        [
                          0.1111111111111111,
                          "#46039f"
                        ],
                        [
                          0.2222222222222222,
                          "#7201a8"
                        ],
                        [
                          0.3333333333333333,
                          "#9c179e"
                        ],
                        [
                          0.4444444444444444,
                          "#bd3786"
                        ],
                        [
                          0.5555555555555556,
                          "#d8576b"
                        ],
                        [
                          0.6666666666666666,
                          "#ed7953"
                        ],
                        [
                          0.7777777777777778,
                          "#fb9f3a"
                        ],
                        [
                          0.8888888888888888,
                          "#fdca26"
                        ],
                        [
                          1,
                          "#f0f921"
                        ]
                      ],
                      "sequentialminus": [
                        [
                          0,
                          "#0d0887"
                        ],
                        [
                          0.1111111111111111,
                          "#46039f"
                        ],
                        [
                          0.2222222222222222,
                          "#7201a8"
                        ],
                        [
                          0.3333333333333333,
                          "#9c179e"
                        ],
                        [
                          0.4444444444444444,
                          "#bd3786"
                        ],
                        [
                          0.5555555555555556,
                          "#d8576b"
                        ],
                        [
                          0.6666666666666666,
                          "#ed7953"
                        ],
                        [
                          0.7777777777777778,
                          "#fb9f3a"
                        ],
                        [
                          0.8888888888888888,
                          "#fdca26"
                        ],
                        [
                          1,
                          "#f0f921"
                        ]
                      ]
                    },
                    "colorway": [
                      "#636efa",
                      "#EF553B",
                      "#00cc96",
                      "#ab63fa",
                      "#FFA15A",
                      "#19d3f3",
                      "#FF6692",
                      "#B6E880",
                      "#FF97FF",
                      "#FECB52"
                    ],
                    "font": {
                      "color": "#2a3f5f"
                    },
                    "geo": {
                      "bgcolor": "white",
                      "lakecolor": "white",
                      "landcolor": "#E5ECF6",
                      "showlakes": true,
                      "showland": true,
                      "subunitcolor": "white"
                    },
                    "hoverlabel": {
                      "align": "left"
                    },
                    "hovermode": "closest",
                    "mapbox": {
                      "style": "light"
                    },
                    "paper_bgcolor": "white",
                    "plot_bgcolor": "#E5ECF6",
                    "polar": {
                      "angularaxis": {
                        "gridcolor": "white",
                        "linecolor": "white",
                        "ticks": ""
                      },
                      "bgcolor": "#E5ECF6",
                      "radialaxis": {
                        "gridcolor": "white",
                        "linecolor": "white",
                        "ticks": ""
                      }
                    },
                    "scene": {
                      "xaxis": {
                        "backgroundcolor": "#E5ECF6",
                        "gridcolor": "white",
                        "gridwidth": 2,
                        "linecolor": "white",
                        "showbackground": true,
                        "ticks": "",
                        "zerolinecolor": "white"
                      },
                      "yaxis": {
                        "backgroundcolor": "#E5ECF6",
                        "gridcolor": "white",
                        "gridwidth": 2,
                        "linecolor": "white",
                        "showbackground": true,
                        "ticks": "",
                        "zerolinecolor": "white"
                      },
                      "zaxis": {
                        "backgroundcolor": "#E5ECF6",
                        "gridcolor": "white",
                        "gridwidth": 2,
                        "linecolor": "white",
                        "showbackground": true,
                        "ticks": "",
                        "zerolinecolor": "white"
                      }
                    },
                    "shapedefaults": {
                      "line": {
                        "color": "#2a3f5f"
                      }
                    },
                    "ternary": {
                      "aaxis": {
                        "gridcolor": "white",
                        "linecolor": "white",
                        "ticks": ""
                      },
                      "baxis": {
                        "gridcolor": "white",
                        "linecolor": "white",
                        "ticks": ""
                      },
                      "bgcolor": "#E5ECF6",
                      "caxis": {
                        "gridcolor": "white",
                        "linecolor": "white",
                        "ticks": ""
                      }
                    },
                    "title": {
                      "x": 0.05
                    },
                    "xaxis": {
                      "automargin": true,
                      "gridcolor": "white",
                      "linecolor": "white",
                      "ticks": "",
                      "title": {
                        "standoff": 15
                      },
                      "zerolinecolor": "white",
                      "zerolinewidth": 2
                    },
                    "yaxis": {
                      "automargin": true,
                      "gridcolor": "white",
                      "linecolor": "white",
                      "ticks": "",
                      "title": {
                        "standoff": 15
                      },
                      "zerolinecolor": "white",
                      "zerolinewidth": 2
                    }
                  }
                },
                "title": {
                  "text": "Optimization History Plot"
                },
                "xaxis": {
                  "title": {
                    "text": "Trial"
                  }
                },
                "yaxis": {
                  "title": {
                    "text": "Objective Value"
                  }
                }
              }
            }
          },
          "metadata": {},
          "output_type": "display_data"
        },
        {
          "data": {
            "application/vnd.plotly.v1+json": {
              "config": {
                "plotlyServerURL": "https://plot.ly"
              },
              "data": [
                {
                  "cliponaxis": false,
                  "hovertemplate": [
                    "num_leaves (IntDistribution): 0.03965674781684821<extra></extra>",
                    "learning_rate (FloatDistribution): 0.05300292279759931<extra></extra>",
                    "n_estimators (IntDistribution): 0.0760666905638878<extra></extra>",
                    "max_depth (IntDistribution): 0.8312736388216646<extra></extra>"
                  ],
                  "name": "Objective Value",
                  "orientation": "h",
                  "text": [
                    "0.04",
                    "0.05",
                    "0.08",
                    "0.83"
                  ],
                  "textposition": "outside",
                  "type": "bar",
                  "x": [
                    0.03965674781684821,
                    0.05300292279759931,
                    0.0760666905638878,
                    0.8312736388216646
                  ],
                  "y": [
                    "num_leaves",
                    "learning_rate",
                    "n_estimators",
                    "max_depth"
                  ]
                }
              ],
              "layout": {
                "template": {
                  "data": {
                    "bar": [
                      {
                        "error_x": {
                          "color": "#2a3f5f"
                        },
                        "error_y": {
                          "color": "#2a3f5f"
                        },
                        "marker": {
                          "line": {
                            "color": "#E5ECF6",
                            "width": 0.5
                          },
                          "pattern": {
                            "fillmode": "overlay",
                            "size": 10,
                            "solidity": 0.2
                          }
                        },
                        "type": "bar"
                      }
                    ],
                    "barpolar": [
                      {
                        "marker": {
                          "line": {
                            "color": "#E5ECF6",
                            "width": 0.5
                          },
                          "pattern": {
                            "fillmode": "overlay",
                            "size": 10,
                            "solidity": 0.2
                          }
                        },
                        "type": "barpolar"
                      }
                    ],
                    "carpet": [
                      {
                        "aaxis": {
                          "endlinecolor": "#2a3f5f",
                          "gridcolor": "white",
                          "linecolor": "white",
                          "minorgridcolor": "white",
                          "startlinecolor": "#2a3f5f"
                        },
                        "baxis": {
                          "endlinecolor": "#2a3f5f",
                          "gridcolor": "white",
                          "linecolor": "white",
                          "minorgridcolor": "white",
                          "startlinecolor": "#2a3f5f"
                        },
                        "type": "carpet"
                      }
                    ],
                    "choropleth": [
                      {
                        "colorbar": {
                          "outlinewidth": 0,
                          "ticks": ""
                        },
                        "type": "choropleth"
                      }
                    ],
                    "contour": [
                      {
                        "colorbar": {
                          "outlinewidth": 0,
                          "ticks": ""
                        },
                        "colorscale": [
                          [
                            0,
                            "#0d0887"
                          ],
                          [
                            0.1111111111111111,
                            "#46039f"
                          ],
                          [
                            0.2222222222222222,
                            "#7201a8"
                          ],
                          [
                            0.3333333333333333,
                            "#9c179e"
                          ],
                          [
                            0.4444444444444444,
                            "#bd3786"
                          ],
                          [
                            0.5555555555555556,
                            "#d8576b"
                          ],
                          [
                            0.6666666666666666,
                            "#ed7953"
                          ],
                          [
                            0.7777777777777778,
                            "#fb9f3a"
                          ],
                          [
                            0.8888888888888888,
                            "#fdca26"
                          ],
                          [
                            1,
                            "#f0f921"
                          ]
                        ],
                        "type": "contour"
                      }
                    ],
                    "contourcarpet": [
                      {
                        "colorbar": {
                          "outlinewidth": 0,
                          "ticks": ""
                        },
                        "type": "contourcarpet"
                      }
                    ],
                    "heatmap": [
                      {
                        "colorbar": {
                          "outlinewidth": 0,
                          "ticks": ""
                        },
                        "colorscale": [
                          [
                            0,
                            "#0d0887"
                          ],
                          [
                            0.1111111111111111,
                            "#46039f"
                          ],
                          [
                            0.2222222222222222,
                            "#7201a8"
                          ],
                          [
                            0.3333333333333333,
                            "#9c179e"
                          ],
                          [
                            0.4444444444444444,
                            "#bd3786"
                          ],
                          [
                            0.5555555555555556,
                            "#d8576b"
                          ],
                          [
                            0.6666666666666666,
                            "#ed7953"
                          ],
                          [
                            0.7777777777777778,
                            "#fb9f3a"
                          ],
                          [
                            0.8888888888888888,
                            "#fdca26"
                          ],
                          [
                            1,
                            "#f0f921"
                          ]
                        ],
                        "type": "heatmap"
                      }
                    ],
                    "histogram": [
                      {
                        "marker": {
                          "pattern": {
                            "fillmode": "overlay",
                            "size": 10,
                            "solidity": 0.2
                          }
                        },
                        "type": "histogram"
                      }
                    ],
                    "histogram2d": [
                      {
                        "colorbar": {
                          "outlinewidth": 0,
                          "ticks": ""
                        },
                        "colorscale": [
                          [
                            0,
                            "#0d0887"
                          ],
                          [
                            0.1111111111111111,
                            "#46039f"
                          ],
                          [
                            0.2222222222222222,
                            "#7201a8"
                          ],
                          [
                            0.3333333333333333,
                            "#9c179e"
                          ],
                          [
                            0.4444444444444444,
                            "#bd3786"
                          ],
                          [
                            0.5555555555555556,
                            "#d8576b"
                          ],
                          [
                            0.6666666666666666,
                            "#ed7953"
                          ],
                          [
                            0.7777777777777778,
                            "#fb9f3a"
                          ],
                          [
                            0.8888888888888888,
                            "#fdca26"
                          ],
                          [
                            1,
                            "#f0f921"
                          ]
                        ],
                        "type": "histogram2d"
                      }
                    ],
                    "histogram2dcontour": [
                      {
                        "colorbar": {
                          "outlinewidth": 0,
                          "ticks": ""
                        },
                        "colorscale": [
                          [
                            0,
                            "#0d0887"
                          ],
                          [
                            0.1111111111111111,
                            "#46039f"
                          ],
                          [
                            0.2222222222222222,
                            "#7201a8"
                          ],
                          [
                            0.3333333333333333,
                            "#9c179e"
                          ],
                          [
                            0.4444444444444444,
                            "#bd3786"
                          ],
                          [
                            0.5555555555555556,
                            "#d8576b"
                          ],
                          [
                            0.6666666666666666,
                            "#ed7953"
                          ],
                          [
                            0.7777777777777778,
                            "#fb9f3a"
                          ],
                          [
                            0.8888888888888888,
                            "#fdca26"
                          ],
                          [
                            1,
                            "#f0f921"
                          ]
                        ],
                        "type": "histogram2dcontour"
                      }
                    ],
                    "mesh3d": [
                      {
                        "colorbar": {
                          "outlinewidth": 0,
                          "ticks": ""
                        },
                        "type": "mesh3d"
                      }
                    ],
                    "parcoords": [
                      {
                        "line": {
                          "colorbar": {
                            "outlinewidth": 0,
                            "ticks": ""
                          }
                        },
                        "type": "parcoords"
                      }
                    ],
                    "pie": [
                      {
                        "automargin": true,
                        "type": "pie"
                      }
                    ],
                    "scatter": [
                      {
                        "fillpattern": {
                          "fillmode": "overlay",
                          "size": 10,
                          "solidity": 0.2
                        },
                        "type": "scatter"
                      }
                    ],
                    "scatter3d": [
                      {
                        "line": {
                          "colorbar": {
                            "outlinewidth": 0,
                            "ticks": ""
                          }
                        },
                        "marker": {
                          "colorbar": {
                            "outlinewidth": 0,
                            "ticks": ""
                          }
                        },
                        "type": "scatter3d"
                      }
                    ],
                    "scattercarpet": [
                      {
                        "marker": {
                          "colorbar": {
                            "outlinewidth": 0,
                            "ticks": ""
                          }
                        },
                        "type": "scattercarpet"
                      }
                    ],
                    "scattergeo": [
                      {
                        "marker": {
                          "colorbar": {
                            "outlinewidth": 0,
                            "ticks": ""
                          }
                        },
                        "type": "scattergeo"
                      }
                    ],
                    "scattergl": [
                      {
                        "marker": {
                          "colorbar": {
                            "outlinewidth": 0,
                            "ticks": ""
                          }
                        },
                        "type": "scattergl"
                      }
                    ],
                    "scattermap": [
                      {
                        "marker": {
                          "colorbar": {
                            "outlinewidth": 0,
                            "ticks": ""
                          }
                        },
                        "type": "scattermap"
                      }
                    ],
                    "scattermapbox": [
                      {
                        "marker": {
                          "colorbar": {
                            "outlinewidth": 0,
                            "ticks": ""
                          }
                        },
                        "type": "scattermapbox"
                      }
                    ],
                    "scatterpolar": [
                      {
                        "marker": {
                          "colorbar": {
                            "outlinewidth": 0,
                            "ticks": ""
                          }
                        },
                        "type": "scatterpolar"
                      }
                    ],
                    "scatterpolargl": [
                      {
                        "marker": {
                          "colorbar": {
                            "outlinewidth": 0,
                            "ticks": ""
                          }
                        },
                        "type": "scatterpolargl"
                      }
                    ],
                    "scatterternary": [
                      {
                        "marker": {
                          "colorbar": {
                            "outlinewidth": 0,
                            "ticks": ""
                          }
                        },
                        "type": "scatterternary"
                      }
                    ],
                    "surface": [
                      {
                        "colorbar": {
                          "outlinewidth": 0,
                          "ticks": ""
                        },
                        "colorscale": [
                          [
                            0,
                            "#0d0887"
                          ],
                          [
                            0.1111111111111111,
                            "#46039f"
                          ],
                          [
                            0.2222222222222222,
                            "#7201a8"
                          ],
                          [
                            0.3333333333333333,
                            "#9c179e"
                          ],
                          [
                            0.4444444444444444,
                            "#bd3786"
                          ],
                          [
                            0.5555555555555556,
                            "#d8576b"
                          ],
                          [
                            0.6666666666666666,
                            "#ed7953"
                          ],
                          [
                            0.7777777777777778,
                            "#fb9f3a"
                          ],
                          [
                            0.8888888888888888,
                            "#fdca26"
                          ],
                          [
                            1,
                            "#f0f921"
                          ]
                        ],
                        "type": "surface"
                      }
                    ],
                    "table": [
                      {
                        "cells": {
                          "fill": {
                            "color": "#EBF0F8"
                          },
                          "line": {
                            "color": "white"
                          }
                        },
                        "header": {
                          "fill": {
                            "color": "#C8D4E3"
                          },
                          "line": {
                            "color": "white"
                          }
                        },
                        "type": "table"
                      }
                    ]
                  },
                  "layout": {
                    "annotationdefaults": {
                      "arrowcolor": "#2a3f5f",
                      "arrowhead": 0,
                      "arrowwidth": 1
                    },
                    "autotypenumbers": "strict",
                    "coloraxis": {
                      "colorbar": {
                        "outlinewidth": 0,
                        "ticks": ""
                      }
                    },
                    "colorscale": {
                      "diverging": [
                        [
                          0,
                          "#8e0152"
                        ],
                        [
                          0.1,
                          "#c51b7d"
                        ],
                        [
                          0.2,
                          "#de77ae"
                        ],
                        [
                          0.3,
                          "#f1b6da"
                        ],
                        [
                          0.4,
                          "#fde0ef"
                        ],
                        [
                          0.5,
                          "#f7f7f7"
                        ],
                        [
                          0.6,
                          "#e6f5d0"
                        ],
                        [
                          0.7,
                          "#b8e186"
                        ],
                        [
                          0.8,
                          "#7fbc41"
                        ],
                        [
                          0.9,
                          "#4d9221"
                        ],
                        [
                          1,
                          "#276419"
                        ]
                      ],
                      "sequential": [
                        [
                          0,
                          "#0d0887"
                        ],
                        [
                          0.1111111111111111,
                          "#46039f"
                        ],
                        [
                          0.2222222222222222,
                          "#7201a8"
                        ],
                        [
                          0.3333333333333333,
                          "#9c179e"
                        ],
                        [
                          0.4444444444444444,
                          "#bd3786"
                        ],
                        [
                          0.5555555555555556,
                          "#d8576b"
                        ],
                        [
                          0.6666666666666666,
                          "#ed7953"
                        ],
                        [
                          0.7777777777777778,
                          "#fb9f3a"
                        ],
                        [
                          0.8888888888888888,
                          "#fdca26"
                        ],
                        [
                          1,
                          "#f0f921"
                        ]
                      ],
                      "sequentialminus": [
                        [
                          0,
                          "#0d0887"
                        ],
                        [
                          0.1111111111111111,
                          "#46039f"
                        ],
                        [
                          0.2222222222222222,
                          "#7201a8"
                        ],
                        [
                          0.3333333333333333,
                          "#9c179e"
                        ],
                        [
                          0.4444444444444444,
                          "#bd3786"
                        ],
                        [
                          0.5555555555555556,
                          "#d8576b"
                        ],
                        [
                          0.6666666666666666,
                          "#ed7953"
                        ],
                        [
                          0.7777777777777778,
                          "#fb9f3a"
                        ],
                        [
                          0.8888888888888888,
                          "#fdca26"
                        ],
                        [
                          1,
                          "#f0f921"
                        ]
                      ]
                    },
                    "colorway": [
                      "#636efa",
                      "#EF553B",
                      "#00cc96",
                      "#ab63fa",
                      "#FFA15A",
                      "#19d3f3",
                      "#FF6692",
                      "#B6E880",
                      "#FF97FF",
                      "#FECB52"
                    ],
                    "font": {
                      "color": "#2a3f5f"
                    },
                    "geo": {
                      "bgcolor": "white",
                      "lakecolor": "white",
                      "landcolor": "#E5ECF6",
                      "showlakes": true,
                      "showland": true,
                      "subunitcolor": "white"
                    },
                    "hoverlabel": {
                      "align": "left"
                    },
                    "hovermode": "closest",
                    "mapbox": {
                      "style": "light"
                    },
                    "paper_bgcolor": "white",
                    "plot_bgcolor": "#E5ECF6",
                    "polar": {
                      "angularaxis": {
                        "gridcolor": "white",
                        "linecolor": "white",
                        "ticks": ""
                      },
                      "bgcolor": "#E5ECF6",
                      "radialaxis": {
                        "gridcolor": "white",
                        "linecolor": "white",
                        "ticks": ""
                      }
                    },
                    "scene": {
                      "xaxis": {
                        "backgroundcolor": "#E5ECF6",
                        "gridcolor": "white",
                        "gridwidth": 2,
                        "linecolor": "white",
                        "showbackground": true,
                        "ticks": "",
                        "zerolinecolor": "white"
                      },
                      "yaxis": {
                        "backgroundcolor": "#E5ECF6",
                        "gridcolor": "white",
                        "gridwidth": 2,
                        "linecolor": "white",
                        "showbackground": true,
                        "ticks": "",
                        "zerolinecolor": "white"
                      },
                      "zaxis": {
                        "backgroundcolor": "#E5ECF6",
                        "gridcolor": "white",
                        "gridwidth": 2,
                        "linecolor": "white",
                        "showbackground": true,
                        "ticks": "",
                        "zerolinecolor": "white"
                      }
                    },
                    "shapedefaults": {
                      "line": {
                        "color": "#2a3f5f"
                      }
                    },
                    "ternary": {
                      "aaxis": {
                        "gridcolor": "white",
                        "linecolor": "white",
                        "ticks": ""
                      },
                      "baxis": {
                        "gridcolor": "white",
                        "linecolor": "white",
                        "ticks": ""
                      },
                      "bgcolor": "#E5ECF6",
                      "caxis": {
                        "gridcolor": "white",
                        "linecolor": "white",
                        "ticks": ""
                      }
                    },
                    "title": {
                      "x": 0.05
                    },
                    "xaxis": {
                      "automargin": true,
                      "gridcolor": "white",
                      "linecolor": "white",
                      "ticks": "",
                      "title": {
                        "standoff": 15
                      },
                      "zerolinecolor": "white",
                      "zerolinewidth": 2
                    },
                    "yaxis": {
                      "automargin": true,
                      "gridcolor": "white",
                      "linecolor": "white",
                      "ticks": "",
                      "title": {
                        "standoff": 15
                      },
                      "zerolinecolor": "white",
                      "zerolinewidth": 2
                    }
                  }
                },
                "title": {
                  "text": "Hyperparameter Importances"
                },
                "xaxis": {
                  "title": {
                    "text": "Hyperparameter Importance"
                  }
                },
                "yaxis": {
                  "title": {
                    "text": "Hyperparameter"
                  }
                }
              }
            }
          },
          "metadata": {},
          "output_type": "display_data"
        }
      ],
      "source": [
        "from optuna.visualization import plot_optimization_history, plot_param_importances\n",
        "\n",
        "plot_optimization_history(study_narrow).show()\n",
        "\n",
        "plot_param_importances(study_narrow).show()"
      ]
    },
    {
      "cell_type": "markdown",
      "id": "0e68fccf",
      "metadata": {},
      "source": [
        "Качество чуть хуже, но при этом конкретная область исследуется лучше, качество стабильно растёт от итерации к итерации"
      ]
    },
    {
      "cell_type": "markdown",
      "id": "ec40a8b1",
      "metadata": {},
      "source": [
        "разное число параметров"
      ]
    },
    {
      "cell_type": "code",
      "execution_count": 42,
      "id": "a35a0b00",
      "metadata": {},
      "outputs": [],
      "source": [
        "import optuna\n",
        "from sklearn.linear_model import LogisticRegression\n",
        "from sklearn.metrics import roc_auc_score\n",
        "import lightgbm as lgb\n",
        "\n",
        "\n",
        "def logreg_objective(trial, X_tr, X_val, y_tr, y_val):\n",
        "    solver = trial.suggest_categorical(\"solver\", [\"newton-cg\", \"lbfgs\", \"liblinear\", \"sag\", \"saga\"])\n",
        "    C = trial.suggest_float(\"C\", 1e-4, 100, log=True)\n",
        "    max_iter = trial.suggest_int(\"max_iter\", 50, 1000)\n",
        "    \n",
        "    model = LogisticRegression(solver=solver, C=C, max_iter=max_iter, random_state=42)\n",
        "    model.fit(X_tr, y_tr)\n",
        "    \n",
        "    y_pred_proba = model.predict_proba(X_val)[:, 1]\n",
        "    return roc_auc_score(y_val, y_pred_proba)"
      ]
    },
    {
      "cell_type": "code",
      "execution_count": 43,
      "id": "1021892b",
      "metadata": {},
      "outputs": [],
      "source": [
        "def lgb_objective(trial, X_tr, X_val, y_tr, y_val):\n",
        "    params = {\n",
        "        \"objective\": \"binary\",\n",
        "        \"metric\": \"auc\",\n",
        "        \"verbosity\": -1,\n",
        "        \"num_leaves\": trial.suggest_int(\"num_leaves\", 16, 256, log=True),\n",
        "        \"max_depth\": trial.suggest_int(\"max_depth\", 4, 12),\n",
        "        \"learning_rate\": trial.suggest_float(\"learning_rate\", 1e-3, 0.1, log=True),\n",
        "        \"n_estimators\": trial.suggest_int(\"n_estimators\", 50, 1000, log=True),\n",
        "        \"min_child_samples\": trial.suggest_int(\"min_child_samples\", 5, 50),\n",
        "        \"subsample\": trial.suggest_float(\"subsample\", 0.5, 1.0),\n",
        "        \"colsample_bytree\": trial.suggest_float(\"colsample_bytree\", 0.5, 1.0),\n",
        "        \"random_state\": 42,\n",
        "        \"n_jobs\": -1\n",
        "    }\n",
        "    \n",
        "    model = lgb.LGBMClassifier(**params)\n",
        "    model.fit(X_tr, y_tr, eval_set=[(X_val, y_val)], eval_metric=\"auc\")\n",
        "    \n",
        "    y_pred_proba = model.predict_proba(X_val)[:, 1]\n",
        "    return roc_auc_score(y_val, y_pred_proba)"
      ]
    },
    {
      "cell_type": "code",
      "execution_count": 44,
      "id": "a195a279",
      "metadata": {},
      "outputs": [
        {
          "name": "stderr",
          "output_type": "stream",
          "text": [
            "[I 2025-09-13 20:09:34,591] A new study created in memory with name: no-name-b910488b-3297-4f15-9072-4c9004b63f20\n",
            "[I 2025-09-13 20:09:41,789] Trial 0 finished with value: 0.7354161209017511 and parameters: {'solver': 'newton-cg', 'C': 0.03938732528348374, 'max_iter': 496}. Best is trial 0 with value: 0.7354161209017511.\n",
            "c:\\Users\\Лиана\\OneDrive\\Desktop\\ITMO\\AutoML-ITMO\\.venv\\Lib\\site-packages\\sklearn\\linear_model\\_sag.py:348: ConvergenceWarning:\n",
            "\n",
            "The max_iter was reached which means the coef_ did not converge\n",
            "\n",
            "[I 2025-09-13 20:13:14,226] Trial 1 finished with value: 0.7349961809939709 and parameters: {'solver': 'saga', 'C': 0.19853691461576983, 'max_iter': 533}. Best is trial 0 with value: 0.7354161209017511.\n",
            "[I 2025-09-13 20:13:44,532] Trial 2 finished with value: 0.7380310472521981 and parameters: {'solver': 'newton-cg', 'C': 69.14509761234169, 'max_iter': 622}. Best is trial 2 with value: 0.7380310472521981.\n",
            "c:\\Users\\Лиана\\OneDrive\\Desktop\\ITMO\\AutoML-ITMO\\.venv\\Lib\\site-packages\\sklearn\\linear_model\\_sag.py:348: ConvergenceWarning:\n",
            "\n",
            "The max_iter was reached which means the coef_ did not converge\n",
            "\n",
            "[I 2025-09-13 20:17:12,439] Trial 3 finished with value: 0.7353638616500837 and parameters: {'solver': 'sag', 'C': 0.15210773460239096, 'max_iter': 650}. Best is trial 2 with value: 0.7380310472521981.\n"
          ]
        }
      ],
      "source": [
        "study_lr = optuna.create_study(direction=\"maximize\")\n",
        "study_lr.optimize(lambda trial: logreg_objective(trial, X_tr, X_tst, y_tr, y_tst), timeout=300)"
      ]
    },
    {
      "cell_type": "code",
      "execution_count": 47,
      "id": "613b06d4",
      "metadata": {},
      "outputs": [
        {
          "data": {
            "application/vnd.plotly.v1+json": {
              "config": {
                "plotlyServerURL": "https://plot.ly"
              },
              "data": [
                {
                  "mode": "markers",
                  "name": "Objective Value",
                  "type": "scatter",
                  "x": [
                    0,
                    1,
                    2,
                    3
                  ],
                  "y": [
                    0.7354161209017511,
                    0.7349961809939709,
                    0.7380310472521981,
                    0.7353638616500837
                  ]
                },
                {
                  "mode": "lines",
                  "name": "Best Value",
                  "type": "scatter",
                  "x": [
                    0,
                    1,
                    2,
                    3
                  ],
                  "y": [
                    0.7354161209017511,
                    0.7354161209017511,
                    0.7380310472521981,
                    0.7380310472521981
                  ]
                },
                {
                  "marker": {
                    "color": "#cccccc"
                  },
                  "mode": "markers",
                  "name": "Infeasible Trial",
                  "showlegend": false,
                  "type": "scatter",
                  "x": [],
                  "y": []
                }
              ],
              "layout": {
                "template": {
                  "data": {
                    "bar": [
                      {
                        "error_x": {
                          "color": "#2a3f5f"
                        },
                        "error_y": {
                          "color": "#2a3f5f"
                        },
                        "marker": {
                          "line": {
                            "color": "#E5ECF6",
                            "width": 0.5
                          },
                          "pattern": {
                            "fillmode": "overlay",
                            "size": 10,
                            "solidity": 0.2
                          }
                        },
                        "type": "bar"
                      }
                    ],
                    "barpolar": [
                      {
                        "marker": {
                          "line": {
                            "color": "#E5ECF6",
                            "width": 0.5
                          },
                          "pattern": {
                            "fillmode": "overlay",
                            "size": 10,
                            "solidity": 0.2
                          }
                        },
                        "type": "barpolar"
                      }
                    ],
                    "carpet": [
                      {
                        "aaxis": {
                          "endlinecolor": "#2a3f5f",
                          "gridcolor": "white",
                          "linecolor": "white",
                          "minorgridcolor": "white",
                          "startlinecolor": "#2a3f5f"
                        },
                        "baxis": {
                          "endlinecolor": "#2a3f5f",
                          "gridcolor": "white",
                          "linecolor": "white",
                          "minorgridcolor": "white",
                          "startlinecolor": "#2a3f5f"
                        },
                        "type": "carpet"
                      }
                    ],
                    "choropleth": [
                      {
                        "colorbar": {
                          "outlinewidth": 0,
                          "ticks": ""
                        },
                        "type": "choropleth"
                      }
                    ],
                    "contour": [
                      {
                        "colorbar": {
                          "outlinewidth": 0,
                          "ticks": ""
                        },
                        "colorscale": [
                          [
                            0,
                            "#0d0887"
                          ],
                          [
                            0.1111111111111111,
                            "#46039f"
                          ],
                          [
                            0.2222222222222222,
                            "#7201a8"
                          ],
                          [
                            0.3333333333333333,
                            "#9c179e"
                          ],
                          [
                            0.4444444444444444,
                            "#bd3786"
                          ],
                          [
                            0.5555555555555556,
                            "#d8576b"
                          ],
                          [
                            0.6666666666666666,
                            "#ed7953"
                          ],
                          [
                            0.7777777777777778,
                            "#fb9f3a"
                          ],
                          [
                            0.8888888888888888,
                            "#fdca26"
                          ],
                          [
                            1,
                            "#f0f921"
                          ]
                        ],
                        "type": "contour"
                      }
                    ],
                    "contourcarpet": [
                      {
                        "colorbar": {
                          "outlinewidth": 0,
                          "ticks": ""
                        },
                        "type": "contourcarpet"
                      }
                    ],
                    "heatmap": [
                      {
                        "colorbar": {
                          "outlinewidth": 0,
                          "ticks": ""
                        },
                        "colorscale": [
                          [
                            0,
                            "#0d0887"
                          ],
                          [
                            0.1111111111111111,
                            "#46039f"
                          ],
                          [
                            0.2222222222222222,
                            "#7201a8"
                          ],
                          [
                            0.3333333333333333,
                            "#9c179e"
                          ],
                          [
                            0.4444444444444444,
                            "#bd3786"
                          ],
                          [
                            0.5555555555555556,
                            "#d8576b"
                          ],
                          [
                            0.6666666666666666,
                            "#ed7953"
                          ],
                          [
                            0.7777777777777778,
                            "#fb9f3a"
                          ],
                          [
                            0.8888888888888888,
                            "#fdca26"
                          ],
                          [
                            1,
                            "#f0f921"
                          ]
                        ],
                        "type": "heatmap"
                      }
                    ],
                    "histogram": [
                      {
                        "marker": {
                          "pattern": {
                            "fillmode": "overlay",
                            "size": 10,
                            "solidity": 0.2
                          }
                        },
                        "type": "histogram"
                      }
                    ],
                    "histogram2d": [
                      {
                        "colorbar": {
                          "outlinewidth": 0,
                          "ticks": ""
                        },
                        "colorscale": [
                          [
                            0,
                            "#0d0887"
                          ],
                          [
                            0.1111111111111111,
                            "#46039f"
                          ],
                          [
                            0.2222222222222222,
                            "#7201a8"
                          ],
                          [
                            0.3333333333333333,
                            "#9c179e"
                          ],
                          [
                            0.4444444444444444,
                            "#bd3786"
                          ],
                          [
                            0.5555555555555556,
                            "#d8576b"
                          ],
                          [
                            0.6666666666666666,
                            "#ed7953"
                          ],
                          [
                            0.7777777777777778,
                            "#fb9f3a"
                          ],
                          [
                            0.8888888888888888,
                            "#fdca26"
                          ],
                          [
                            1,
                            "#f0f921"
                          ]
                        ],
                        "type": "histogram2d"
                      }
                    ],
                    "histogram2dcontour": [
                      {
                        "colorbar": {
                          "outlinewidth": 0,
                          "ticks": ""
                        },
                        "colorscale": [
                          [
                            0,
                            "#0d0887"
                          ],
                          [
                            0.1111111111111111,
                            "#46039f"
                          ],
                          [
                            0.2222222222222222,
                            "#7201a8"
                          ],
                          [
                            0.3333333333333333,
                            "#9c179e"
                          ],
                          [
                            0.4444444444444444,
                            "#bd3786"
                          ],
                          [
                            0.5555555555555556,
                            "#d8576b"
                          ],
                          [
                            0.6666666666666666,
                            "#ed7953"
                          ],
                          [
                            0.7777777777777778,
                            "#fb9f3a"
                          ],
                          [
                            0.8888888888888888,
                            "#fdca26"
                          ],
                          [
                            1,
                            "#f0f921"
                          ]
                        ],
                        "type": "histogram2dcontour"
                      }
                    ],
                    "mesh3d": [
                      {
                        "colorbar": {
                          "outlinewidth": 0,
                          "ticks": ""
                        },
                        "type": "mesh3d"
                      }
                    ],
                    "parcoords": [
                      {
                        "line": {
                          "colorbar": {
                            "outlinewidth": 0,
                            "ticks": ""
                          }
                        },
                        "type": "parcoords"
                      }
                    ],
                    "pie": [
                      {
                        "automargin": true,
                        "type": "pie"
                      }
                    ],
                    "scatter": [
                      {
                        "fillpattern": {
                          "fillmode": "overlay",
                          "size": 10,
                          "solidity": 0.2
                        },
                        "type": "scatter"
                      }
                    ],
                    "scatter3d": [
                      {
                        "line": {
                          "colorbar": {
                            "outlinewidth": 0,
                            "ticks": ""
                          }
                        },
                        "marker": {
                          "colorbar": {
                            "outlinewidth": 0,
                            "ticks": ""
                          }
                        },
                        "type": "scatter3d"
                      }
                    ],
                    "scattercarpet": [
                      {
                        "marker": {
                          "colorbar": {
                            "outlinewidth": 0,
                            "ticks": ""
                          }
                        },
                        "type": "scattercarpet"
                      }
                    ],
                    "scattergeo": [
                      {
                        "marker": {
                          "colorbar": {
                            "outlinewidth": 0,
                            "ticks": ""
                          }
                        },
                        "type": "scattergeo"
                      }
                    ],
                    "scattergl": [
                      {
                        "marker": {
                          "colorbar": {
                            "outlinewidth": 0,
                            "ticks": ""
                          }
                        },
                        "type": "scattergl"
                      }
                    ],
                    "scattermap": [
                      {
                        "marker": {
                          "colorbar": {
                            "outlinewidth": 0,
                            "ticks": ""
                          }
                        },
                        "type": "scattermap"
                      }
                    ],
                    "scattermapbox": [
                      {
                        "marker": {
                          "colorbar": {
                            "outlinewidth": 0,
                            "ticks": ""
                          }
                        },
                        "type": "scattermapbox"
                      }
                    ],
                    "scatterpolar": [
                      {
                        "marker": {
                          "colorbar": {
                            "outlinewidth": 0,
                            "ticks": ""
                          }
                        },
                        "type": "scatterpolar"
                      }
                    ],
                    "scatterpolargl": [
                      {
                        "marker": {
                          "colorbar": {
                            "outlinewidth": 0,
                            "ticks": ""
                          }
                        },
                        "type": "scatterpolargl"
                      }
                    ],
                    "scatterternary": [
                      {
                        "marker": {
                          "colorbar": {
                            "outlinewidth": 0,
                            "ticks": ""
                          }
                        },
                        "type": "scatterternary"
                      }
                    ],
                    "surface": [
                      {
                        "colorbar": {
                          "outlinewidth": 0,
                          "ticks": ""
                        },
                        "colorscale": [
                          [
                            0,
                            "#0d0887"
                          ],
                          [
                            0.1111111111111111,
                            "#46039f"
                          ],
                          [
                            0.2222222222222222,
                            "#7201a8"
                          ],
                          [
                            0.3333333333333333,
                            "#9c179e"
                          ],
                          [
                            0.4444444444444444,
                            "#bd3786"
                          ],
                          [
                            0.5555555555555556,
                            "#d8576b"
                          ],
                          [
                            0.6666666666666666,
                            "#ed7953"
                          ],
                          [
                            0.7777777777777778,
                            "#fb9f3a"
                          ],
                          [
                            0.8888888888888888,
                            "#fdca26"
                          ],
                          [
                            1,
                            "#f0f921"
                          ]
                        ],
                        "type": "surface"
                      }
                    ],
                    "table": [
                      {
                        "cells": {
                          "fill": {
                            "color": "#EBF0F8"
                          },
                          "line": {
                            "color": "white"
                          }
                        },
                        "header": {
                          "fill": {
                            "color": "#C8D4E3"
                          },
                          "line": {
                            "color": "white"
                          }
                        },
                        "type": "table"
                      }
                    ]
                  },
                  "layout": {
                    "annotationdefaults": {
                      "arrowcolor": "#2a3f5f",
                      "arrowhead": 0,
                      "arrowwidth": 1
                    },
                    "autotypenumbers": "strict",
                    "coloraxis": {
                      "colorbar": {
                        "outlinewidth": 0,
                        "ticks": ""
                      }
                    },
                    "colorscale": {
                      "diverging": [
                        [
                          0,
                          "#8e0152"
                        ],
                        [
                          0.1,
                          "#c51b7d"
                        ],
                        [
                          0.2,
                          "#de77ae"
                        ],
                        [
                          0.3,
                          "#f1b6da"
                        ],
                        [
                          0.4,
                          "#fde0ef"
                        ],
                        [
                          0.5,
                          "#f7f7f7"
                        ],
                        [
                          0.6,
                          "#e6f5d0"
                        ],
                        [
                          0.7,
                          "#b8e186"
                        ],
                        [
                          0.8,
                          "#7fbc41"
                        ],
                        [
                          0.9,
                          "#4d9221"
                        ],
                        [
                          1,
                          "#276419"
                        ]
                      ],
                      "sequential": [
                        [
                          0,
                          "#0d0887"
                        ],
                        [
                          0.1111111111111111,
                          "#46039f"
                        ],
                        [
                          0.2222222222222222,
                          "#7201a8"
                        ],
                        [
                          0.3333333333333333,
                          "#9c179e"
                        ],
                        [
                          0.4444444444444444,
                          "#bd3786"
                        ],
                        [
                          0.5555555555555556,
                          "#d8576b"
                        ],
                        [
                          0.6666666666666666,
                          "#ed7953"
                        ],
                        [
                          0.7777777777777778,
                          "#fb9f3a"
                        ],
                        [
                          0.8888888888888888,
                          "#fdca26"
                        ],
                        [
                          1,
                          "#f0f921"
                        ]
                      ],
                      "sequentialminus": [
                        [
                          0,
                          "#0d0887"
                        ],
                        [
                          0.1111111111111111,
                          "#46039f"
                        ],
                        [
                          0.2222222222222222,
                          "#7201a8"
                        ],
                        [
                          0.3333333333333333,
                          "#9c179e"
                        ],
                        [
                          0.4444444444444444,
                          "#bd3786"
                        ],
                        [
                          0.5555555555555556,
                          "#d8576b"
                        ],
                        [
                          0.6666666666666666,
                          "#ed7953"
                        ],
                        [
                          0.7777777777777778,
                          "#fb9f3a"
                        ],
                        [
                          0.8888888888888888,
                          "#fdca26"
                        ],
                        [
                          1,
                          "#f0f921"
                        ]
                      ]
                    },
                    "colorway": [
                      "#636efa",
                      "#EF553B",
                      "#00cc96",
                      "#ab63fa",
                      "#FFA15A",
                      "#19d3f3",
                      "#FF6692",
                      "#B6E880",
                      "#FF97FF",
                      "#FECB52"
                    ],
                    "font": {
                      "color": "#2a3f5f"
                    },
                    "geo": {
                      "bgcolor": "white",
                      "lakecolor": "white",
                      "landcolor": "#E5ECF6",
                      "showlakes": true,
                      "showland": true,
                      "subunitcolor": "white"
                    },
                    "hoverlabel": {
                      "align": "left"
                    },
                    "hovermode": "closest",
                    "mapbox": {
                      "style": "light"
                    },
                    "paper_bgcolor": "white",
                    "plot_bgcolor": "#E5ECF6",
                    "polar": {
                      "angularaxis": {
                        "gridcolor": "white",
                        "linecolor": "white",
                        "ticks": ""
                      },
                      "bgcolor": "#E5ECF6",
                      "radialaxis": {
                        "gridcolor": "white",
                        "linecolor": "white",
                        "ticks": ""
                      }
                    },
                    "scene": {
                      "xaxis": {
                        "backgroundcolor": "#E5ECF6",
                        "gridcolor": "white",
                        "gridwidth": 2,
                        "linecolor": "white",
                        "showbackground": true,
                        "ticks": "",
                        "zerolinecolor": "white"
                      },
                      "yaxis": {
                        "backgroundcolor": "#E5ECF6",
                        "gridcolor": "white",
                        "gridwidth": 2,
                        "linecolor": "white",
                        "showbackground": true,
                        "ticks": "",
                        "zerolinecolor": "white"
                      },
                      "zaxis": {
                        "backgroundcolor": "#E5ECF6",
                        "gridcolor": "white",
                        "gridwidth": 2,
                        "linecolor": "white",
                        "showbackground": true,
                        "ticks": "",
                        "zerolinecolor": "white"
                      }
                    },
                    "shapedefaults": {
                      "line": {
                        "color": "#2a3f5f"
                      }
                    },
                    "ternary": {
                      "aaxis": {
                        "gridcolor": "white",
                        "linecolor": "white",
                        "ticks": ""
                      },
                      "baxis": {
                        "gridcolor": "white",
                        "linecolor": "white",
                        "ticks": ""
                      },
                      "bgcolor": "#E5ECF6",
                      "caxis": {
                        "gridcolor": "white",
                        "linecolor": "white",
                        "ticks": ""
                      }
                    },
                    "title": {
                      "x": 0.05
                    },
                    "xaxis": {
                      "automargin": true,
                      "gridcolor": "white",
                      "linecolor": "white",
                      "ticks": "",
                      "title": {
                        "standoff": 15
                      },
                      "zerolinecolor": "white",
                      "zerolinewidth": 2
                    },
                    "yaxis": {
                      "automargin": true,
                      "gridcolor": "white",
                      "linecolor": "white",
                      "ticks": "",
                      "title": {
                        "standoff": 15
                      },
                      "zerolinecolor": "white",
                      "zerolinewidth": 2
                    }
                  }
                },
                "title": {
                  "text": "Optimization History Plot"
                },
                "xaxis": {
                  "title": {
                    "text": "Trial"
                  }
                },
                "yaxis": {
                  "title": {
                    "text": "Objective Value"
                  }
                }
              }
            }
          },
          "metadata": {},
          "output_type": "display_data"
        },
        {
          "data": {
            "application/vnd.plotly.v1+json": {
              "config": {
                "plotlyServerURL": "https://plot.ly"
              },
              "data": [
                {
                  "cliponaxis": false,
                  "hovertemplate": [
                    "max_iter (IntDistribution): 0.12515010127430112<extra></extra>",
                    "solver (CategoricalDistribution): 0.23513078887386432<extra></extra>",
                    "C (FloatDistribution): 0.6397191098518346<extra></extra>"
                  ],
                  "name": "Objective Value",
                  "orientation": "h",
                  "text": [
                    "0.13",
                    "0.24",
                    "0.64"
                  ],
                  "textposition": "outside",
                  "type": "bar",
                  "x": [
                    0.12515010127430112,
                    0.23513078887386432,
                    0.6397191098518346
                  ],
                  "y": [
                    "max_iter",
                    "solver",
                    "C"
                  ]
                }
              ],
              "layout": {
                "template": {
                  "data": {
                    "bar": [
                      {
                        "error_x": {
                          "color": "#2a3f5f"
                        },
                        "error_y": {
                          "color": "#2a3f5f"
                        },
                        "marker": {
                          "line": {
                            "color": "#E5ECF6",
                            "width": 0.5
                          },
                          "pattern": {
                            "fillmode": "overlay",
                            "size": 10,
                            "solidity": 0.2
                          }
                        },
                        "type": "bar"
                      }
                    ],
                    "barpolar": [
                      {
                        "marker": {
                          "line": {
                            "color": "#E5ECF6",
                            "width": 0.5
                          },
                          "pattern": {
                            "fillmode": "overlay",
                            "size": 10,
                            "solidity": 0.2
                          }
                        },
                        "type": "barpolar"
                      }
                    ],
                    "carpet": [
                      {
                        "aaxis": {
                          "endlinecolor": "#2a3f5f",
                          "gridcolor": "white",
                          "linecolor": "white",
                          "minorgridcolor": "white",
                          "startlinecolor": "#2a3f5f"
                        },
                        "baxis": {
                          "endlinecolor": "#2a3f5f",
                          "gridcolor": "white",
                          "linecolor": "white",
                          "minorgridcolor": "white",
                          "startlinecolor": "#2a3f5f"
                        },
                        "type": "carpet"
                      }
                    ],
                    "choropleth": [
                      {
                        "colorbar": {
                          "outlinewidth": 0,
                          "ticks": ""
                        },
                        "type": "choropleth"
                      }
                    ],
                    "contour": [
                      {
                        "colorbar": {
                          "outlinewidth": 0,
                          "ticks": ""
                        },
                        "colorscale": [
                          [
                            0,
                            "#0d0887"
                          ],
                          [
                            0.1111111111111111,
                            "#46039f"
                          ],
                          [
                            0.2222222222222222,
                            "#7201a8"
                          ],
                          [
                            0.3333333333333333,
                            "#9c179e"
                          ],
                          [
                            0.4444444444444444,
                            "#bd3786"
                          ],
                          [
                            0.5555555555555556,
                            "#d8576b"
                          ],
                          [
                            0.6666666666666666,
                            "#ed7953"
                          ],
                          [
                            0.7777777777777778,
                            "#fb9f3a"
                          ],
                          [
                            0.8888888888888888,
                            "#fdca26"
                          ],
                          [
                            1,
                            "#f0f921"
                          ]
                        ],
                        "type": "contour"
                      }
                    ],
                    "contourcarpet": [
                      {
                        "colorbar": {
                          "outlinewidth": 0,
                          "ticks": ""
                        },
                        "type": "contourcarpet"
                      }
                    ],
                    "heatmap": [
                      {
                        "colorbar": {
                          "outlinewidth": 0,
                          "ticks": ""
                        },
                        "colorscale": [
                          [
                            0,
                            "#0d0887"
                          ],
                          [
                            0.1111111111111111,
                            "#46039f"
                          ],
                          [
                            0.2222222222222222,
                            "#7201a8"
                          ],
                          [
                            0.3333333333333333,
                            "#9c179e"
                          ],
                          [
                            0.4444444444444444,
                            "#bd3786"
                          ],
                          [
                            0.5555555555555556,
                            "#d8576b"
                          ],
                          [
                            0.6666666666666666,
                            "#ed7953"
                          ],
                          [
                            0.7777777777777778,
                            "#fb9f3a"
                          ],
                          [
                            0.8888888888888888,
                            "#fdca26"
                          ],
                          [
                            1,
                            "#f0f921"
                          ]
                        ],
                        "type": "heatmap"
                      }
                    ],
                    "histogram": [
                      {
                        "marker": {
                          "pattern": {
                            "fillmode": "overlay",
                            "size": 10,
                            "solidity": 0.2
                          }
                        },
                        "type": "histogram"
                      }
                    ],
                    "histogram2d": [
                      {
                        "colorbar": {
                          "outlinewidth": 0,
                          "ticks": ""
                        },
                        "colorscale": [
                          [
                            0,
                            "#0d0887"
                          ],
                          [
                            0.1111111111111111,
                            "#46039f"
                          ],
                          [
                            0.2222222222222222,
                            "#7201a8"
                          ],
                          [
                            0.3333333333333333,
                            "#9c179e"
                          ],
                          [
                            0.4444444444444444,
                            "#bd3786"
                          ],
                          [
                            0.5555555555555556,
                            "#d8576b"
                          ],
                          [
                            0.6666666666666666,
                            "#ed7953"
                          ],
                          [
                            0.7777777777777778,
                            "#fb9f3a"
                          ],
                          [
                            0.8888888888888888,
                            "#fdca26"
                          ],
                          [
                            1,
                            "#f0f921"
                          ]
                        ],
                        "type": "histogram2d"
                      }
                    ],
                    "histogram2dcontour": [
                      {
                        "colorbar": {
                          "outlinewidth": 0,
                          "ticks": ""
                        },
                        "colorscale": [
                          [
                            0,
                            "#0d0887"
                          ],
                          [
                            0.1111111111111111,
                            "#46039f"
                          ],
                          [
                            0.2222222222222222,
                            "#7201a8"
                          ],
                          [
                            0.3333333333333333,
                            "#9c179e"
                          ],
                          [
                            0.4444444444444444,
                            "#bd3786"
                          ],
                          [
                            0.5555555555555556,
                            "#d8576b"
                          ],
                          [
                            0.6666666666666666,
                            "#ed7953"
                          ],
                          [
                            0.7777777777777778,
                            "#fb9f3a"
                          ],
                          [
                            0.8888888888888888,
                            "#fdca26"
                          ],
                          [
                            1,
                            "#f0f921"
                          ]
                        ],
                        "type": "histogram2dcontour"
                      }
                    ],
                    "mesh3d": [
                      {
                        "colorbar": {
                          "outlinewidth": 0,
                          "ticks": ""
                        },
                        "type": "mesh3d"
                      }
                    ],
                    "parcoords": [
                      {
                        "line": {
                          "colorbar": {
                            "outlinewidth": 0,
                            "ticks": ""
                          }
                        },
                        "type": "parcoords"
                      }
                    ],
                    "pie": [
                      {
                        "automargin": true,
                        "type": "pie"
                      }
                    ],
                    "scatter": [
                      {
                        "fillpattern": {
                          "fillmode": "overlay",
                          "size": 10,
                          "solidity": 0.2
                        },
                        "type": "scatter"
                      }
                    ],
                    "scatter3d": [
                      {
                        "line": {
                          "colorbar": {
                            "outlinewidth": 0,
                            "ticks": ""
                          }
                        },
                        "marker": {
                          "colorbar": {
                            "outlinewidth": 0,
                            "ticks": ""
                          }
                        },
                        "type": "scatter3d"
                      }
                    ],
                    "scattercarpet": [
                      {
                        "marker": {
                          "colorbar": {
                            "outlinewidth": 0,
                            "ticks": ""
                          }
                        },
                        "type": "scattercarpet"
                      }
                    ],
                    "scattergeo": [
                      {
                        "marker": {
                          "colorbar": {
                            "outlinewidth": 0,
                            "ticks": ""
                          }
                        },
                        "type": "scattergeo"
                      }
                    ],
                    "scattergl": [
                      {
                        "marker": {
                          "colorbar": {
                            "outlinewidth": 0,
                            "ticks": ""
                          }
                        },
                        "type": "scattergl"
                      }
                    ],
                    "scattermap": [
                      {
                        "marker": {
                          "colorbar": {
                            "outlinewidth": 0,
                            "ticks": ""
                          }
                        },
                        "type": "scattermap"
                      }
                    ],
                    "scattermapbox": [
                      {
                        "marker": {
                          "colorbar": {
                            "outlinewidth": 0,
                            "ticks": ""
                          }
                        },
                        "type": "scattermapbox"
                      }
                    ],
                    "scatterpolar": [
                      {
                        "marker": {
                          "colorbar": {
                            "outlinewidth": 0,
                            "ticks": ""
                          }
                        },
                        "type": "scatterpolar"
                      }
                    ],
                    "scatterpolargl": [
                      {
                        "marker": {
                          "colorbar": {
                            "outlinewidth": 0,
                            "ticks": ""
                          }
                        },
                        "type": "scatterpolargl"
                      }
                    ],
                    "scatterternary": [
                      {
                        "marker": {
                          "colorbar": {
                            "outlinewidth": 0,
                            "ticks": ""
                          }
                        },
                        "type": "scatterternary"
                      }
                    ],
                    "surface": [
                      {
                        "colorbar": {
                          "outlinewidth": 0,
                          "ticks": ""
                        },
                        "colorscale": [
                          [
                            0,
                            "#0d0887"
                          ],
                          [
                            0.1111111111111111,
                            "#46039f"
                          ],
                          [
                            0.2222222222222222,
                            "#7201a8"
                          ],
                          [
                            0.3333333333333333,
                            "#9c179e"
                          ],
                          [
                            0.4444444444444444,
                            "#bd3786"
                          ],
                          [
                            0.5555555555555556,
                            "#d8576b"
                          ],
                          [
                            0.6666666666666666,
                            "#ed7953"
                          ],
                          [
                            0.7777777777777778,
                            "#fb9f3a"
                          ],
                          [
                            0.8888888888888888,
                            "#fdca26"
                          ],
                          [
                            1,
                            "#f0f921"
                          ]
                        ],
                        "type": "surface"
                      }
                    ],
                    "table": [
                      {
                        "cells": {
                          "fill": {
                            "color": "#EBF0F8"
                          },
                          "line": {
                            "color": "white"
                          }
                        },
                        "header": {
                          "fill": {
                            "color": "#C8D4E3"
                          },
                          "line": {
                            "color": "white"
                          }
                        },
                        "type": "table"
                      }
                    ]
                  },
                  "layout": {
                    "annotationdefaults": {
                      "arrowcolor": "#2a3f5f",
                      "arrowhead": 0,
                      "arrowwidth": 1
                    },
                    "autotypenumbers": "strict",
                    "coloraxis": {
                      "colorbar": {
                        "outlinewidth": 0,
                        "ticks": ""
                      }
                    },
                    "colorscale": {
                      "diverging": [
                        [
                          0,
                          "#8e0152"
                        ],
                        [
                          0.1,
                          "#c51b7d"
                        ],
                        [
                          0.2,
                          "#de77ae"
                        ],
                        [
                          0.3,
                          "#f1b6da"
                        ],
                        [
                          0.4,
                          "#fde0ef"
                        ],
                        [
                          0.5,
                          "#f7f7f7"
                        ],
                        [
                          0.6,
                          "#e6f5d0"
                        ],
                        [
                          0.7,
                          "#b8e186"
                        ],
                        [
                          0.8,
                          "#7fbc41"
                        ],
                        [
                          0.9,
                          "#4d9221"
                        ],
                        [
                          1,
                          "#276419"
                        ]
                      ],
                      "sequential": [
                        [
                          0,
                          "#0d0887"
                        ],
                        [
                          0.1111111111111111,
                          "#46039f"
                        ],
                        [
                          0.2222222222222222,
                          "#7201a8"
                        ],
                        [
                          0.3333333333333333,
                          "#9c179e"
                        ],
                        [
                          0.4444444444444444,
                          "#bd3786"
                        ],
                        [
                          0.5555555555555556,
                          "#d8576b"
                        ],
                        [
                          0.6666666666666666,
                          "#ed7953"
                        ],
                        [
                          0.7777777777777778,
                          "#fb9f3a"
                        ],
                        [
                          0.8888888888888888,
                          "#fdca26"
                        ],
                        [
                          1,
                          "#f0f921"
                        ]
                      ],
                      "sequentialminus": [
                        [
                          0,
                          "#0d0887"
                        ],
                        [
                          0.1111111111111111,
                          "#46039f"
                        ],
                        [
                          0.2222222222222222,
                          "#7201a8"
                        ],
                        [
                          0.3333333333333333,
                          "#9c179e"
                        ],
                        [
                          0.4444444444444444,
                          "#bd3786"
                        ],
                        [
                          0.5555555555555556,
                          "#d8576b"
                        ],
                        [
                          0.6666666666666666,
                          "#ed7953"
                        ],
                        [
                          0.7777777777777778,
                          "#fb9f3a"
                        ],
                        [
                          0.8888888888888888,
                          "#fdca26"
                        ],
                        [
                          1,
                          "#f0f921"
                        ]
                      ]
                    },
                    "colorway": [
                      "#636efa",
                      "#EF553B",
                      "#00cc96",
                      "#ab63fa",
                      "#FFA15A",
                      "#19d3f3",
                      "#FF6692",
                      "#B6E880",
                      "#FF97FF",
                      "#FECB52"
                    ],
                    "font": {
                      "color": "#2a3f5f"
                    },
                    "geo": {
                      "bgcolor": "white",
                      "lakecolor": "white",
                      "landcolor": "#E5ECF6",
                      "showlakes": true,
                      "showland": true,
                      "subunitcolor": "white"
                    },
                    "hoverlabel": {
                      "align": "left"
                    },
                    "hovermode": "closest",
                    "mapbox": {
                      "style": "light"
                    },
                    "paper_bgcolor": "white",
                    "plot_bgcolor": "#E5ECF6",
                    "polar": {
                      "angularaxis": {
                        "gridcolor": "white",
                        "linecolor": "white",
                        "ticks": ""
                      },
                      "bgcolor": "#E5ECF6",
                      "radialaxis": {
                        "gridcolor": "white",
                        "linecolor": "white",
                        "ticks": ""
                      }
                    },
                    "scene": {
                      "xaxis": {
                        "backgroundcolor": "#E5ECF6",
                        "gridcolor": "white",
                        "gridwidth": 2,
                        "linecolor": "white",
                        "showbackground": true,
                        "ticks": "",
                        "zerolinecolor": "white"
                      },
                      "yaxis": {
                        "backgroundcolor": "#E5ECF6",
                        "gridcolor": "white",
                        "gridwidth": 2,
                        "linecolor": "white",
                        "showbackground": true,
                        "ticks": "",
                        "zerolinecolor": "white"
                      },
                      "zaxis": {
                        "backgroundcolor": "#E5ECF6",
                        "gridcolor": "white",
                        "gridwidth": 2,
                        "linecolor": "white",
                        "showbackground": true,
                        "ticks": "",
                        "zerolinecolor": "white"
                      }
                    },
                    "shapedefaults": {
                      "line": {
                        "color": "#2a3f5f"
                      }
                    },
                    "ternary": {
                      "aaxis": {
                        "gridcolor": "white",
                        "linecolor": "white",
                        "ticks": ""
                      },
                      "baxis": {
                        "gridcolor": "white",
                        "linecolor": "white",
                        "ticks": ""
                      },
                      "bgcolor": "#E5ECF6",
                      "caxis": {
                        "gridcolor": "white",
                        "linecolor": "white",
                        "ticks": ""
                      }
                    },
                    "title": {
                      "x": 0.05
                    },
                    "xaxis": {
                      "automargin": true,
                      "gridcolor": "white",
                      "linecolor": "white",
                      "ticks": "",
                      "title": {
                        "standoff": 15
                      },
                      "zerolinecolor": "white",
                      "zerolinewidth": 2
                    },
                    "yaxis": {
                      "automargin": true,
                      "gridcolor": "white",
                      "linecolor": "white",
                      "ticks": "",
                      "title": {
                        "standoff": 15
                      },
                      "zerolinecolor": "white",
                      "zerolinewidth": 2
                    }
                  }
                },
                "title": {
                  "text": "Hyperparameter Importances"
                },
                "xaxis": {
                  "title": {
                    "text": "Hyperparameter Importance"
                  }
                },
                "yaxis": {
                  "title": {
                    "text": "Hyperparameter"
                  }
                }
              }
            }
          },
          "metadata": {},
          "output_type": "display_data"
        }
      ],
      "source": [
        "from optuna.visualization import plot_optimization_history, plot_param_importances\n",
        "\n",
        "plot_optimization_history(study_lr).show()\n",
        "\n",
        "plot_param_importances(study_lr).show()"
      ]
    },
    {
      "cell_type": "markdown",
      "id": "2b99751d",
      "metadata": {},
      "source": [
        "Очень медленная скорость сходимости и низкое качество из-за этого"
      ]
    },
    {
      "cell_type": "code",
      "execution_count": 45,
      "id": "0d49e060",
      "metadata": {},
      "outputs": [
        {
          "name": "stderr",
          "output_type": "stream",
          "text": [
            "[I 2025-09-13 20:17:12,452] A new study created in memory with name: no-name-597675fb-90bc-4932-a833-5607a510b69e\n",
            "c:\\Users\\Лиана\\OneDrive\\Desktop\\ITMO\\AutoML-ITMO\\.venv\\Lib\\site-packages\\sklearn\\utils\\validation.py:2749: UserWarning:\n",
            "\n",
            "X does not have valid feature names, but LGBMClassifier was fitted with feature names\n",
            "\n",
            "[I 2025-09-13 20:17:16,179] Trial 0 finished with value: 0.7293032999574491 and parameters: {'num_leaves': 156, 'max_depth': 5, 'learning_rate': 0.0048283711914678795, 'n_estimators': 58, 'min_child_samples': 21, 'subsample': 0.7648025809477998, 'colsample_bytree': 0.6363286499473447}. Best is trial 0 with value: 0.7293032999574491.\n",
            "c:\\Users\\Лиана\\OneDrive\\Desktop\\ITMO\\AutoML-ITMO\\.venv\\Lib\\site-packages\\sklearn\\utils\\validation.py:2749: UserWarning:\n",
            "\n",
            "X does not have valid feature names, but LGBMClassifier was fitted with feature names\n",
            "\n",
            "[I 2025-09-13 20:17:21,837] Trial 1 finished with value: 0.7352396533824822 and parameters: {'num_leaves': 18, 'max_depth': 8, 'learning_rate': 0.00948425279902483, 'n_estimators': 143, 'min_child_samples': 22, 'subsample': 0.6879867700440301, 'colsample_bytree': 0.6403295991037916}. Best is trial 1 with value: 0.7352396533824822.\n",
            "c:\\Users\\Лиана\\OneDrive\\Desktop\\ITMO\\AutoML-ITMO\\.venv\\Lib\\site-packages\\sklearn\\utils\\validation.py:2749: UserWarning:\n",
            "\n",
            "X does not have valid feature names, but LGBMClassifier was fitted with feature names\n",
            "\n",
            "[I 2025-09-13 20:17:38,426] Trial 2 finished with value: 0.7483517340465828 and parameters: {'num_leaves': 57, 'max_depth': 9, 'learning_rate': 0.008007936076143937, 'n_estimators': 426, 'min_child_samples': 14, 'subsample': 0.7905824893633226, 'colsample_bytree': 0.5080445921068617}. Best is trial 2 with value: 0.7483517340465828.\n",
            "c:\\Users\\Лиана\\OneDrive\\Desktop\\ITMO\\AutoML-ITMO\\.venv\\Lib\\site-packages\\sklearn\\utils\\validation.py:2749: UserWarning:\n",
            "\n",
            "X does not have valid feature names, but LGBMClassifier was fitted with feature names\n",
            "\n",
            "[I 2025-09-13 20:18:10,530] Trial 3 finished with value: 0.7433175508446369 and parameters: {'num_leaves': 46, 'max_depth': 11, 'learning_rate': 0.003522966511960841, 'n_estimators': 692, 'min_child_samples': 47, 'subsample': 0.9543109626028907, 'colsample_bytree': 0.8746317208050869}. Best is trial 2 with value: 0.7483517340465828.\n",
            "c:\\Users\\Лиана\\OneDrive\\Desktop\\ITMO\\AutoML-ITMO\\.venv\\Lib\\site-packages\\sklearn\\utils\\validation.py:2749: UserWarning:\n",
            "\n",
            "X does not have valid feature names, but LGBMClassifier was fitted with feature names\n",
            "\n",
            "[I 2025-09-13 20:18:20,924] Trial 4 finished with value: 0.748439186403723 and parameters: {'num_leaves': 172, 'max_depth': 9, 'learning_rate': 0.05823651772838593, 'n_estimators': 160, 'min_child_samples': 19, 'subsample': 0.6269147230436072, 'colsample_bytree': 0.7149455951688926}. Best is trial 4 with value: 0.748439186403723.\n",
            "c:\\Users\\Лиана\\OneDrive\\Desktop\\ITMO\\AutoML-ITMO\\.venv\\Lib\\site-packages\\sklearn\\utils\\validation.py:2749: UserWarning:\n",
            "\n",
            "X does not have valid feature names, but LGBMClassifier was fitted with feature names\n",
            "\n",
            "[I 2025-09-13 20:19:15,685] Trial 5 finished with value: 0.7518944929830451 and parameters: {'num_leaves': 225, 'max_depth': 10, 'learning_rate': 0.01191454076450599, 'n_estimators': 936, 'min_child_samples': 42, 'subsample': 0.6882412145061962, 'colsample_bytree': 0.7514757050753155}. Best is trial 5 with value: 0.7518944929830451.\n",
            "c:\\Users\\Лиана\\OneDrive\\Desktop\\ITMO\\AutoML-ITMO\\.venv\\Lib\\site-packages\\sklearn\\utils\\validation.py:2749: UserWarning:\n",
            "\n",
            "X does not have valid feature names, but LGBMClassifier was fitted with feature names\n",
            "\n",
            "[I 2025-09-13 20:19:22,155] Trial 6 finished with value: 0.7367661342053258 and parameters: {'num_leaves': 121, 'max_depth': 12, 'learning_rate': 0.0030476671579357647, 'n_estimators': 86, 'min_child_samples': 31, 'subsample': 0.6853864082644497, 'colsample_bytree': 0.7191123713314538}. Best is trial 5 with value: 0.7518944929830451.\n",
            "c:\\Users\\Лиана\\OneDrive\\Desktop\\ITMO\\AutoML-ITMO\\.venv\\Lib\\site-packages\\sklearn\\utils\\validation.py:2749: UserWarning:\n",
            "\n",
            "X does not have valid feature names, but LGBMClassifier was fitted with feature names\n",
            "\n",
            "[I 2025-09-13 20:19:25,869] Trial 7 finished with value: 0.7481587371020244 and parameters: {'num_leaves': 47, 'max_depth': 12, 'learning_rate': 0.07453627110180155, 'n_estimators': 54, 'min_child_samples': 37, 'subsample': 0.5348904055824716, 'colsample_bytree': 0.6103050882482546}. Best is trial 5 with value: 0.7518944929830451.\n",
            "c:\\Users\\Лиана\\OneDrive\\Desktop\\ITMO\\AutoML-ITMO\\.venv\\Lib\\site-packages\\sklearn\\utils\\validation.py:2749: UserWarning:\n",
            "\n",
            "X does not have valid feature names, but LGBMClassifier was fitted with feature names\n",
            "\n",
            "[I 2025-09-13 20:19:54,724] Trial 8 finished with value: 0.7531879130136429 and parameters: {'num_leaves': 73, 'max_depth': 8, 'learning_rate': 0.01623350135722783, 'n_estimators': 843, 'min_child_samples': 11, 'subsample': 0.9187400788934401, 'colsample_bytree': 0.628575840136818}. Best is trial 8 with value: 0.7531879130136429.\n",
            "c:\\Users\\Лиана\\OneDrive\\Desktop\\ITMO\\AutoML-ITMO\\.venv\\Lib\\site-packages\\sklearn\\utils\\validation.py:2749: UserWarning:\n",
            "\n",
            "X does not have valid feature names, but LGBMClassifier was fitted with feature names\n",
            "\n",
            "[I 2025-09-13 20:20:20,652] Trial 9 finished with value: 0.7482755891360428 and parameters: {'num_leaves': 170, 'max_depth': 12, 'learning_rate': 0.03521577875034213, 'n_estimators': 488, 'min_child_samples': 17, 'subsample': 0.8303414183276743, 'colsample_bytree': 0.7600701872702232}. Best is trial 8 with value: 0.7531879130136429.\n",
            "c:\\Users\\Лиана\\OneDrive\\Desktop\\ITMO\\AutoML-ITMO\\.venv\\Lib\\site-packages\\sklearn\\utils\\validation.py:2749: UserWarning:\n",
            "\n",
            "X does not have valid feature names, but LGBMClassifier was fitted with feature names\n",
            "\n",
            "[I 2025-09-13 20:20:31,545] Trial 10 finished with value: 0.7195418447744735 and parameters: {'num_leaves': 25, 'max_depth': 6, 'learning_rate': 0.0012103019217956246, 'n_estimators': 295, 'min_child_samples': 5, 'subsample': 0.999094176174384, 'colsample_bytree': 0.9820686287241233}. Best is trial 8 with value: 0.7531879130136429.\n",
            "c:\\Users\\Лиана\\OneDrive\\Desktop\\ITMO\\AutoML-ITMO\\.venv\\Lib\\site-packages\\sklearn\\utils\\validation.py:2749: UserWarning:\n",
            "\n",
            "X does not have valid feature names, but LGBMClassifier was fitted with feature names\n",
            "\n",
            "[I 2025-09-13 20:21:02,964] Trial 11 finished with value: 0.7519385198831812 and parameters: {'num_leaves': 94, 'max_depth': 7, 'learning_rate': 0.02675723228862387, 'n_estimators': 924, 'min_child_samples': 50, 'subsample': 0.8841512841463978, 'colsample_bytree': 0.8220010201075096}. Best is trial 8 with value: 0.7531879130136429.\n",
            "c:\\Users\\Лиана\\OneDrive\\Desktop\\ITMO\\AutoML-ITMO\\.venv\\Lib\\site-packages\\sklearn\\utils\\validation.py:2749: UserWarning:\n",
            "\n",
            "X does not have valid feature names, but LGBMClassifier was fitted with feature names\n",
            "\n",
            "[I 2025-09-13 20:21:37,620] Trial 12 finished with value: 0.751178666733178 and parameters: {'num_leaves': 93, 'max_depth': 7, 'learning_rate': 0.025716480711310764, 'n_estimators': 985, 'min_child_samples': 5, 'subsample': 0.8800064583625425, 'colsample_bytree': 0.8740980026226665}. Best is trial 8 with value: 0.7531879130136429.\n",
            "c:\\Users\\Лиана\\OneDrive\\Desktop\\ITMO\\AutoML-ITMO\\.venv\\Lib\\site-packages\\sklearn\\utils\\validation.py:2749: UserWarning:\n",
            "\n",
            "X does not have valid feature names, but LGBMClassifier was fitted with feature names\n",
            "\n",
            "[I 2025-09-13 20:21:51,654] Trial 13 finished with value: 0.7507924881489262 and parameters: {'num_leaves': 80, 'max_depth': 4, 'learning_rate': 0.020914544774964367, 'n_estimators': 550, 'min_child_samples': 50, 'subsample': 0.8978702948720636, 'colsample_bytree': 0.8627187685543625}. Best is trial 8 with value: 0.7531879130136429.\n",
            "c:\\Users\\Лиана\\OneDrive\\Desktop\\ITMO\\AutoML-ITMO\\.venv\\Lib\\site-packages\\sklearn\\utils\\validation.py:2749: UserWarning:\n",
            "\n",
            "X does not have valid feature names, but LGBMClassifier was fitted with feature names\n",
            "\n",
            "[I 2025-09-13 20:22:04,714] Trial 14 finished with value: 0.7512857283464489 and parameters: {'num_leaves': 37, 'max_depth': 7, 'learning_rate': 0.016626205756302925, 'n_estimators': 386, 'min_child_samples': 32, 'subsample': 0.9014855861356615, 'colsample_bytree': 0.524980612468088}. Best is trial 8 with value: 0.7531879130136429.\n",
            "c:\\Users\\Лиана\\OneDrive\\Desktop\\ITMO\\AutoML-ITMO\\.venv\\Lib\\site-packages\\sklearn\\utils\\validation.py:2749: UserWarning:\n",
            "\n",
            "X does not have valid feature names, but LGBMClassifier was fitted with feature names\n",
            "\n",
            "[I 2025-09-13 20:22:16,102] Trial 15 finished with value: 0.751409493030008 and parameters: {'num_leaves': 85, 'max_depth': 7, 'learning_rate': 0.04274515507457456, 'n_estimators': 250, 'min_child_samples': 12, 'subsample': 0.8522831408599182, 'colsample_bytree': 0.8072533952689451}. Best is trial 8 with value: 0.7531879130136429.\n"
          ]
        }
      ],
      "source": [
        "study_lgb = optuna.create_study(direction=\"maximize\")\n",
        "study_lgb.optimize(lambda trial: lgb_objective(trial, X_tr, X_tst, y_tr, y_tst), timeout=300)"
      ]
    },
    {
      "cell_type": "code",
      "execution_count": 46,
      "id": "0f248ef6",
      "metadata": {},
      "outputs": [
        {
          "data": {
            "application/vnd.plotly.v1+json": {
              "config": {
                "plotlyServerURL": "https://plot.ly"
              },
              "data": [
                {
                  "mode": "markers",
                  "name": "Objective Value",
                  "type": "scatter",
                  "x": [
                    0,
                    1,
                    2,
                    3,
                    4,
                    5,
                    6,
                    7,
                    8,
                    9,
                    10,
                    11,
                    12,
                    13,
                    14,
                    15
                  ],
                  "y": [
                    0.7293032999574491,
                    0.7352396533824822,
                    0.7483517340465828,
                    0.7433175508446369,
                    0.748439186403723,
                    0.7518944929830451,
                    0.7367661342053258,
                    0.7481587371020244,
                    0.7531879130136429,
                    0.7482755891360428,
                    0.7195418447744735,
                    0.7519385198831812,
                    0.751178666733178,
                    0.7507924881489262,
                    0.7512857283464489,
                    0.751409493030008
                  ]
                },
                {
                  "mode": "lines",
                  "name": "Best Value",
                  "type": "scatter",
                  "x": [
                    0,
                    1,
                    2,
                    3,
                    4,
                    5,
                    6,
                    7,
                    8,
                    9,
                    10,
                    11,
                    12,
                    13,
                    14,
                    15
                  ],
                  "y": [
                    0.7293032999574491,
                    0.7352396533824822,
                    0.7483517340465828,
                    0.7483517340465828,
                    0.748439186403723,
                    0.7518944929830451,
                    0.7518944929830451,
                    0.7518944929830451,
                    0.7531879130136429,
                    0.7531879130136429,
                    0.7531879130136429,
                    0.7531879130136429,
                    0.7531879130136429,
                    0.7531879130136429,
                    0.7531879130136429,
                    0.7531879130136429
                  ]
                },
                {
                  "marker": {
                    "color": "#cccccc"
                  },
                  "mode": "markers",
                  "name": "Infeasible Trial",
                  "showlegend": false,
                  "type": "scatter",
                  "x": [],
                  "y": []
                }
              ],
              "layout": {
                "template": {
                  "data": {
                    "bar": [
                      {
                        "error_x": {
                          "color": "#2a3f5f"
                        },
                        "error_y": {
                          "color": "#2a3f5f"
                        },
                        "marker": {
                          "line": {
                            "color": "#E5ECF6",
                            "width": 0.5
                          },
                          "pattern": {
                            "fillmode": "overlay",
                            "size": 10,
                            "solidity": 0.2
                          }
                        },
                        "type": "bar"
                      }
                    ],
                    "barpolar": [
                      {
                        "marker": {
                          "line": {
                            "color": "#E5ECF6",
                            "width": 0.5
                          },
                          "pattern": {
                            "fillmode": "overlay",
                            "size": 10,
                            "solidity": 0.2
                          }
                        },
                        "type": "barpolar"
                      }
                    ],
                    "carpet": [
                      {
                        "aaxis": {
                          "endlinecolor": "#2a3f5f",
                          "gridcolor": "white",
                          "linecolor": "white",
                          "minorgridcolor": "white",
                          "startlinecolor": "#2a3f5f"
                        },
                        "baxis": {
                          "endlinecolor": "#2a3f5f",
                          "gridcolor": "white",
                          "linecolor": "white",
                          "minorgridcolor": "white",
                          "startlinecolor": "#2a3f5f"
                        },
                        "type": "carpet"
                      }
                    ],
                    "choropleth": [
                      {
                        "colorbar": {
                          "outlinewidth": 0,
                          "ticks": ""
                        },
                        "type": "choropleth"
                      }
                    ],
                    "contour": [
                      {
                        "colorbar": {
                          "outlinewidth": 0,
                          "ticks": ""
                        },
                        "colorscale": [
                          [
                            0,
                            "#0d0887"
                          ],
                          [
                            0.1111111111111111,
                            "#46039f"
                          ],
                          [
                            0.2222222222222222,
                            "#7201a8"
                          ],
                          [
                            0.3333333333333333,
                            "#9c179e"
                          ],
                          [
                            0.4444444444444444,
                            "#bd3786"
                          ],
                          [
                            0.5555555555555556,
                            "#d8576b"
                          ],
                          [
                            0.6666666666666666,
                            "#ed7953"
                          ],
                          [
                            0.7777777777777778,
                            "#fb9f3a"
                          ],
                          [
                            0.8888888888888888,
                            "#fdca26"
                          ],
                          [
                            1,
                            "#f0f921"
                          ]
                        ],
                        "type": "contour"
                      }
                    ],
                    "contourcarpet": [
                      {
                        "colorbar": {
                          "outlinewidth": 0,
                          "ticks": ""
                        },
                        "type": "contourcarpet"
                      }
                    ],
                    "heatmap": [
                      {
                        "colorbar": {
                          "outlinewidth": 0,
                          "ticks": ""
                        },
                        "colorscale": [
                          [
                            0,
                            "#0d0887"
                          ],
                          [
                            0.1111111111111111,
                            "#46039f"
                          ],
                          [
                            0.2222222222222222,
                            "#7201a8"
                          ],
                          [
                            0.3333333333333333,
                            "#9c179e"
                          ],
                          [
                            0.4444444444444444,
                            "#bd3786"
                          ],
                          [
                            0.5555555555555556,
                            "#d8576b"
                          ],
                          [
                            0.6666666666666666,
                            "#ed7953"
                          ],
                          [
                            0.7777777777777778,
                            "#fb9f3a"
                          ],
                          [
                            0.8888888888888888,
                            "#fdca26"
                          ],
                          [
                            1,
                            "#f0f921"
                          ]
                        ],
                        "type": "heatmap"
                      }
                    ],
                    "histogram": [
                      {
                        "marker": {
                          "pattern": {
                            "fillmode": "overlay",
                            "size": 10,
                            "solidity": 0.2
                          }
                        },
                        "type": "histogram"
                      }
                    ],
                    "histogram2d": [
                      {
                        "colorbar": {
                          "outlinewidth": 0,
                          "ticks": ""
                        },
                        "colorscale": [
                          [
                            0,
                            "#0d0887"
                          ],
                          [
                            0.1111111111111111,
                            "#46039f"
                          ],
                          [
                            0.2222222222222222,
                            "#7201a8"
                          ],
                          [
                            0.3333333333333333,
                            "#9c179e"
                          ],
                          [
                            0.4444444444444444,
                            "#bd3786"
                          ],
                          [
                            0.5555555555555556,
                            "#d8576b"
                          ],
                          [
                            0.6666666666666666,
                            "#ed7953"
                          ],
                          [
                            0.7777777777777778,
                            "#fb9f3a"
                          ],
                          [
                            0.8888888888888888,
                            "#fdca26"
                          ],
                          [
                            1,
                            "#f0f921"
                          ]
                        ],
                        "type": "histogram2d"
                      }
                    ],
                    "histogram2dcontour": [
                      {
                        "colorbar": {
                          "outlinewidth": 0,
                          "ticks": ""
                        },
                        "colorscale": [
                          [
                            0,
                            "#0d0887"
                          ],
                          [
                            0.1111111111111111,
                            "#46039f"
                          ],
                          [
                            0.2222222222222222,
                            "#7201a8"
                          ],
                          [
                            0.3333333333333333,
                            "#9c179e"
                          ],
                          [
                            0.4444444444444444,
                            "#bd3786"
                          ],
                          [
                            0.5555555555555556,
                            "#d8576b"
                          ],
                          [
                            0.6666666666666666,
                            "#ed7953"
                          ],
                          [
                            0.7777777777777778,
                            "#fb9f3a"
                          ],
                          [
                            0.8888888888888888,
                            "#fdca26"
                          ],
                          [
                            1,
                            "#f0f921"
                          ]
                        ],
                        "type": "histogram2dcontour"
                      }
                    ],
                    "mesh3d": [
                      {
                        "colorbar": {
                          "outlinewidth": 0,
                          "ticks": ""
                        },
                        "type": "mesh3d"
                      }
                    ],
                    "parcoords": [
                      {
                        "line": {
                          "colorbar": {
                            "outlinewidth": 0,
                            "ticks": ""
                          }
                        },
                        "type": "parcoords"
                      }
                    ],
                    "pie": [
                      {
                        "automargin": true,
                        "type": "pie"
                      }
                    ],
                    "scatter": [
                      {
                        "fillpattern": {
                          "fillmode": "overlay",
                          "size": 10,
                          "solidity": 0.2
                        },
                        "type": "scatter"
                      }
                    ],
                    "scatter3d": [
                      {
                        "line": {
                          "colorbar": {
                            "outlinewidth": 0,
                            "ticks": ""
                          }
                        },
                        "marker": {
                          "colorbar": {
                            "outlinewidth": 0,
                            "ticks": ""
                          }
                        },
                        "type": "scatter3d"
                      }
                    ],
                    "scattercarpet": [
                      {
                        "marker": {
                          "colorbar": {
                            "outlinewidth": 0,
                            "ticks": ""
                          }
                        },
                        "type": "scattercarpet"
                      }
                    ],
                    "scattergeo": [
                      {
                        "marker": {
                          "colorbar": {
                            "outlinewidth": 0,
                            "ticks": ""
                          }
                        },
                        "type": "scattergeo"
                      }
                    ],
                    "scattergl": [
                      {
                        "marker": {
                          "colorbar": {
                            "outlinewidth": 0,
                            "ticks": ""
                          }
                        },
                        "type": "scattergl"
                      }
                    ],
                    "scattermap": [
                      {
                        "marker": {
                          "colorbar": {
                            "outlinewidth": 0,
                            "ticks": ""
                          }
                        },
                        "type": "scattermap"
                      }
                    ],
                    "scattermapbox": [
                      {
                        "marker": {
                          "colorbar": {
                            "outlinewidth": 0,
                            "ticks": ""
                          }
                        },
                        "type": "scattermapbox"
                      }
                    ],
                    "scatterpolar": [
                      {
                        "marker": {
                          "colorbar": {
                            "outlinewidth": 0,
                            "ticks": ""
                          }
                        },
                        "type": "scatterpolar"
                      }
                    ],
                    "scatterpolargl": [
                      {
                        "marker": {
                          "colorbar": {
                            "outlinewidth": 0,
                            "ticks": ""
                          }
                        },
                        "type": "scatterpolargl"
                      }
                    ],
                    "scatterternary": [
                      {
                        "marker": {
                          "colorbar": {
                            "outlinewidth": 0,
                            "ticks": ""
                          }
                        },
                        "type": "scatterternary"
                      }
                    ],
                    "surface": [
                      {
                        "colorbar": {
                          "outlinewidth": 0,
                          "ticks": ""
                        },
                        "colorscale": [
                          [
                            0,
                            "#0d0887"
                          ],
                          [
                            0.1111111111111111,
                            "#46039f"
                          ],
                          [
                            0.2222222222222222,
                            "#7201a8"
                          ],
                          [
                            0.3333333333333333,
                            "#9c179e"
                          ],
                          [
                            0.4444444444444444,
                            "#bd3786"
                          ],
                          [
                            0.5555555555555556,
                            "#d8576b"
                          ],
                          [
                            0.6666666666666666,
                            "#ed7953"
                          ],
                          [
                            0.7777777777777778,
                            "#fb9f3a"
                          ],
                          [
                            0.8888888888888888,
                            "#fdca26"
                          ],
                          [
                            1,
                            "#f0f921"
                          ]
                        ],
                        "type": "surface"
                      }
                    ],
                    "table": [
                      {
                        "cells": {
                          "fill": {
                            "color": "#EBF0F8"
                          },
                          "line": {
                            "color": "white"
                          }
                        },
                        "header": {
                          "fill": {
                            "color": "#C8D4E3"
                          },
                          "line": {
                            "color": "white"
                          }
                        },
                        "type": "table"
                      }
                    ]
                  },
                  "layout": {
                    "annotationdefaults": {
                      "arrowcolor": "#2a3f5f",
                      "arrowhead": 0,
                      "arrowwidth": 1
                    },
                    "autotypenumbers": "strict",
                    "coloraxis": {
                      "colorbar": {
                        "outlinewidth": 0,
                        "ticks": ""
                      }
                    },
                    "colorscale": {
                      "diverging": [
                        [
                          0,
                          "#8e0152"
                        ],
                        [
                          0.1,
                          "#c51b7d"
                        ],
                        [
                          0.2,
                          "#de77ae"
                        ],
                        [
                          0.3,
                          "#f1b6da"
                        ],
                        [
                          0.4,
                          "#fde0ef"
                        ],
                        [
                          0.5,
                          "#f7f7f7"
                        ],
                        [
                          0.6,
                          "#e6f5d0"
                        ],
                        [
                          0.7,
                          "#b8e186"
                        ],
                        [
                          0.8,
                          "#7fbc41"
                        ],
                        [
                          0.9,
                          "#4d9221"
                        ],
                        [
                          1,
                          "#276419"
                        ]
                      ],
                      "sequential": [
                        [
                          0,
                          "#0d0887"
                        ],
                        [
                          0.1111111111111111,
                          "#46039f"
                        ],
                        [
                          0.2222222222222222,
                          "#7201a8"
                        ],
                        [
                          0.3333333333333333,
                          "#9c179e"
                        ],
                        [
                          0.4444444444444444,
                          "#bd3786"
                        ],
                        [
                          0.5555555555555556,
                          "#d8576b"
                        ],
                        [
                          0.6666666666666666,
                          "#ed7953"
                        ],
                        [
                          0.7777777777777778,
                          "#fb9f3a"
                        ],
                        [
                          0.8888888888888888,
                          "#fdca26"
                        ],
                        [
                          1,
                          "#f0f921"
                        ]
                      ],
                      "sequentialminus": [
                        [
                          0,
                          "#0d0887"
                        ],
                        [
                          0.1111111111111111,
                          "#46039f"
                        ],
                        [
                          0.2222222222222222,
                          "#7201a8"
                        ],
                        [
                          0.3333333333333333,
                          "#9c179e"
                        ],
                        [
                          0.4444444444444444,
                          "#bd3786"
                        ],
                        [
                          0.5555555555555556,
                          "#d8576b"
                        ],
                        [
                          0.6666666666666666,
                          "#ed7953"
                        ],
                        [
                          0.7777777777777778,
                          "#fb9f3a"
                        ],
                        [
                          0.8888888888888888,
                          "#fdca26"
                        ],
                        [
                          1,
                          "#f0f921"
                        ]
                      ]
                    },
                    "colorway": [
                      "#636efa",
                      "#EF553B",
                      "#00cc96",
                      "#ab63fa",
                      "#FFA15A",
                      "#19d3f3",
                      "#FF6692",
                      "#B6E880",
                      "#FF97FF",
                      "#FECB52"
                    ],
                    "font": {
                      "color": "#2a3f5f"
                    },
                    "geo": {
                      "bgcolor": "white",
                      "lakecolor": "white",
                      "landcolor": "#E5ECF6",
                      "showlakes": true,
                      "showland": true,
                      "subunitcolor": "white"
                    },
                    "hoverlabel": {
                      "align": "left"
                    },
                    "hovermode": "closest",
                    "mapbox": {
                      "style": "light"
                    },
                    "paper_bgcolor": "white",
                    "plot_bgcolor": "#E5ECF6",
                    "polar": {
                      "angularaxis": {
                        "gridcolor": "white",
                        "linecolor": "white",
                        "ticks": ""
                      },
                      "bgcolor": "#E5ECF6",
                      "radialaxis": {
                        "gridcolor": "white",
                        "linecolor": "white",
                        "ticks": ""
                      }
                    },
                    "scene": {
                      "xaxis": {
                        "backgroundcolor": "#E5ECF6",
                        "gridcolor": "white",
                        "gridwidth": 2,
                        "linecolor": "white",
                        "showbackground": true,
                        "ticks": "",
                        "zerolinecolor": "white"
                      },
                      "yaxis": {
                        "backgroundcolor": "#E5ECF6",
                        "gridcolor": "white",
                        "gridwidth": 2,
                        "linecolor": "white",
                        "showbackground": true,
                        "ticks": "",
                        "zerolinecolor": "white"
                      },
                      "zaxis": {
                        "backgroundcolor": "#E5ECF6",
                        "gridcolor": "white",
                        "gridwidth": 2,
                        "linecolor": "white",
                        "showbackground": true,
                        "ticks": "",
                        "zerolinecolor": "white"
                      }
                    },
                    "shapedefaults": {
                      "line": {
                        "color": "#2a3f5f"
                      }
                    },
                    "ternary": {
                      "aaxis": {
                        "gridcolor": "white",
                        "linecolor": "white",
                        "ticks": ""
                      },
                      "baxis": {
                        "gridcolor": "white",
                        "linecolor": "white",
                        "ticks": ""
                      },
                      "bgcolor": "#E5ECF6",
                      "caxis": {
                        "gridcolor": "white",
                        "linecolor": "white",
                        "ticks": ""
                      }
                    },
                    "title": {
                      "x": 0.05
                    },
                    "xaxis": {
                      "automargin": true,
                      "gridcolor": "white",
                      "linecolor": "white",
                      "ticks": "",
                      "title": {
                        "standoff": 15
                      },
                      "zerolinecolor": "white",
                      "zerolinewidth": 2
                    },
                    "yaxis": {
                      "automargin": true,
                      "gridcolor": "white",
                      "linecolor": "white",
                      "ticks": "",
                      "title": {
                        "standoff": 15
                      },
                      "zerolinecolor": "white",
                      "zerolinewidth": 2
                    }
                  }
                },
                "title": {
                  "text": "Optimization History Plot"
                },
                "xaxis": {
                  "title": {
                    "text": "Trial"
                  }
                },
                "yaxis": {
                  "title": {
                    "text": "Objective Value"
                  }
                }
              }
            }
          },
          "metadata": {},
          "output_type": "display_data"
        },
        {
          "data": {
            "application/vnd.plotly.v1+json": {
              "config": {
                "plotlyServerURL": "https://plot.ly"
              },
              "data": [
                {
                  "cliponaxis": false,
                  "hovertemplate": [
                    "min_child_samples (IntDistribution): 0.0034613630900814526<extra></extra>",
                    "colsample_bytree (FloatDistribution): 0.026427891535478764<extra></extra>",
                    "subsample (FloatDistribution): 0.04029993345853877<extra></extra>",
                    "num_leaves (IntDistribution): 0.10556207669964822<extra></extra>",
                    "max_depth (IntDistribution): 0.13326056839573483<extra></extra>",
                    "n_estimators (IntDistribution): 0.1710543233144362<extra></extra>",
                    "learning_rate (FloatDistribution): 0.5199338435060816<extra></extra>"
                  ],
                  "name": "Objective Value",
                  "orientation": "h",
                  "text": [
                    "<0.01",
                    "0.03",
                    "0.04",
                    "0.11",
                    "0.13",
                    "0.17",
                    "0.52"
                  ],
                  "textposition": "outside",
                  "type": "bar",
                  "x": [
                    0.0034613630900814526,
                    0.026427891535478764,
                    0.04029993345853877,
                    0.10556207669964822,
                    0.13326056839573483,
                    0.1710543233144362,
                    0.5199338435060816
                  ],
                  "y": [
                    "min_child_samples",
                    "colsample_bytree",
                    "subsample",
                    "num_leaves",
                    "max_depth",
                    "n_estimators",
                    "learning_rate"
                  ]
                }
              ],
              "layout": {
                "template": {
                  "data": {
                    "bar": [
                      {
                        "error_x": {
                          "color": "#2a3f5f"
                        },
                        "error_y": {
                          "color": "#2a3f5f"
                        },
                        "marker": {
                          "line": {
                            "color": "#E5ECF6",
                            "width": 0.5
                          },
                          "pattern": {
                            "fillmode": "overlay",
                            "size": 10,
                            "solidity": 0.2
                          }
                        },
                        "type": "bar"
                      }
                    ],
                    "barpolar": [
                      {
                        "marker": {
                          "line": {
                            "color": "#E5ECF6",
                            "width": 0.5
                          },
                          "pattern": {
                            "fillmode": "overlay",
                            "size": 10,
                            "solidity": 0.2
                          }
                        },
                        "type": "barpolar"
                      }
                    ],
                    "carpet": [
                      {
                        "aaxis": {
                          "endlinecolor": "#2a3f5f",
                          "gridcolor": "white",
                          "linecolor": "white",
                          "minorgridcolor": "white",
                          "startlinecolor": "#2a3f5f"
                        },
                        "baxis": {
                          "endlinecolor": "#2a3f5f",
                          "gridcolor": "white",
                          "linecolor": "white",
                          "minorgridcolor": "white",
                          "startlinecolor": "#2a3f5f"
                        },
                        "type": "carpet"
                      }
                    ],
                    "choropleth": [
                      {
                        "colorbar": {
                          "outlinewidth": 0,
                          "ticks": ""
                        },
                        "type": "choropleth"
                      }
                    ],
                    "contour": [
                      {
                        "colorbar": {
                          "outlinewidth": 0,
                          "ticks": ""
                        },
                        "colorscale": [
                          [
                            0,
                            "#0d0887"
                          ],
                          [
                            0.1111111111111111,
                            "#46039f"
                          ],
                          [
                            0.2222222222222222,
                            "#7201a8"
                          ],
                          [
                            0.3333333333333333,
                            "#9c179e"
                          ],
                          [
                            0.4444444444444444,
                            "#bd3786"
                          ],
                          [
                            0.5555555555555556,
                            "#d8576b"
                          ],
                          [
                            0.6666666666666666,
                            "#ed7953"
                          ],
                          [
                            0.7777777777777778,
                            "#fb9f3a"
                          ],
                          [
                            0.8888888888888888,
                            "#fdca26"
                          ],
                          [
                            1,
                            "#f0f921"
                          ]
                        ],
                        "type": "contour"
                      }
                    ],
                    "contourcarpet": [
                      {
                        "colorbar": {
                          "outlinewidth": 0,
                          "ticks": ""
                        },
                        "type": "contourcarpet"
                      }
                    ],
                    "heatmap": [
                      {
                        "colorbar": {
                          "outlinewidth": 0,
                          "ticks": ""
                        },
                        "colorscale": [
                          [
                            0,
                            "#0d0887"
                          ],
                          [
                            0.1111111111111111,
                            "#46039f"
                          ],
                          [
                            0.2222222222222222,
                            "#7201a8"
                          ],
                          [
                            0.3333333333333333,
                            "#9c179e"
                          ],
                          [
                            0.4444444444444444,
                            "#bd3786"
                          ],
                          [
                            0.5555555555555556,
                            "#d8576b"
                          ],
                          [
                            0.6666666666666666,
                            "#ed7953"
                          ],
                          [
                            0.7777777777777778,
                            "#fb9f3a"
                          ],
                          [
                            0.8888888888888888,
                            "#fdca26"
                          ],
                          [
                            1,
                            "#f0f921"
                          ]
                        ],
                        "type": "heatmap"
                      }
                    ],
                    "histogram": [
                      {
                        "marker": {
                          "pattern": {
                            "fillmode": "overlay",
                            "size": 10,
                            "solidity": 0.2
                          }
                        },
                        "type": "histogram"
                      }
                    ],
                    "histogram2d": [
                      {
                        "colorbar": {
                          "outlinewidth": 0,
                          "ticks": ""
                        },
                        "colorscale": [
                          [
                            0,
                            "#0d0887"
                          ],
                          [
                            0.1111111111111111,
                            "#46039f"
                          ],
                          [
                            0.2222222222222222,
                            "#7201a8"
                          ],
                          [
                            0.3333333333333333,
                            "#9c179e"
                          ],
                          [
                            0.4444444444444444,
                            "#bd3786"
                          ],
                          [
                            0.5555555555555556,
                            "#d8576b"
                          ],
                          [
                            0.6666666666666666,
                            "#ed7953"
                          ],
                          [
                            0.7777777777777778,
                            "#fb9f3a"
                          ],
                          [
                            0.8888888888888888,
                            "#fdca26"
                          ],
                          [
                            1,
                            "#f0f921"
                          ]
                        ],
                        "type": "histogram2d"
                      }
                    ],
                    "histogram2dcontour": [
                      {
                        "colorbar": {
                          "outlinewidth": 0,
                          "ticks": ""
                        },
                        "colorscale": [
                          [
                            0,
                            "#0d0887"
                          ],
                          [
                            0.1111111111111111,
                            "#46039f"
                          ],
                          [
                            0.2222222222222222,
                            "#7201a8"
                          ],
                          [
                            0.3333333333333333,
                            "#9c179e"
                          ],
                          [
                            0.4444444444444444,
                            "#bd3786"
                          ],
                          [
                            0.5555555555555556,
                            "#d8576b"
                          ],
                          [
                            0.6666666666666666,
                            "#ed7953"
                          ],
                          [
                            0.7777777777777778,
                            "#fb9f3a"
                          ],
                          [
                            0.8888888888888888,
                            "#fdca26"
                          ],
                          [
                            1,
                            "#f0f921"
                          ]
                        ],
                        "type": "histogram2dcontour"
                      }
                    ],
                    "mesh3d": [
                      {
                        "colorbar": {
                          "outlinewidth": 0,
                          "ticks": ""
                        },
                        "type": "mesh3d"
                      }
                    ],
                    "parcoords": [
                      {
                        "line": {
                          "colorbar": {
                            "outlinewidth": 0,
                            "ticks": ""
                          }
                        },
                        "type": "parcoords"
                      }
                    ],
                    "pie": [
                      {
                        "automargin": true,
                        "type": "pie"
                      }
                    ],
                    "scatter": [
                      {
                        "fillpattern": {
                          "fillmode": "overlay",
                          "size": 10,
                          "solidity": 0.2
                        },
                        "type": "scatter"
                      }
                    ],
                    "scatter3d": [
                      {
                        "line": {
                          "colorbar": {
                            "outlinewidth": 0,
                            "ticks": ""
                          }
                        },
                        "marker": {
                          "colorbar": {
                            "outlinewidth": 0,
                            "ticks": ""
                          }
                        },
                        "type": "scatter3d"
                      }
                    ],
                    "scattercarpet": [
                      {
                        "marker": {
                          "colorbar": {
                            "outlinewidth": 0,
                            "ticks": ""
                          }
                        },
                        "type": "scattercarpet"
                      }
                    ],
                    "scattergeo": [
                      {
                        "marker": {
                          "colorbar": {
                            "outlinewidth": 0,
                            "ticks": ""
                          }
                        },
                        "type": "scattergeo"
                      }
                    ],
                    "scattergl": [
                      {
                        "marker": {
                          "colorbar": {
                            "outlinewidth": 0,
                            "ticks": ""
                          }
                        },
                        "type": "scattergl"
                      }
                    ],
                    "scattermap": [
                      {
                        "marker": {
                          "colorbar": {
                            "outlinewidth": 0,
                            "ticks": ""
                          }
                        },
                        "type": "scattermap"
                      }
                    ],
                    "scattermapbox": [
                      {
                        "marker": {
                          "colorbar": {
                            "outlinewidth": 0,
                            "ticks": ""
                          }
                        },
                        "type": "scattermapbox"
                      }
                    ],
                    "scatterpolar": [
                      {
                        "marker": {
                          "colorbar": {
                            "outlinewidth": 0,
                            "ticks": ""
                          }
                        },
                        "type": "scatterpolar"
                      }
                    ],
                    "scatterpolargl": [
                      {
                        "marker": {
                          "colorbar": {
                            "outlinewidth": 0,
                            "ticks": ""
                          }
                        },
                        "type": "scatterpolargl"
                      }
                    ],
                    "scatterternary": [
                      {
                        "marker": {
                          "colorbar": {
                            "outlinewidth": 0,
                            "ticks": ""
                          }
                        },
                        "type": "scatterternary"
                      }
                    ],
                    "surface": [
                      {
                        "colorbar": {
                          "outlinewidth": 0,
                          "ticks": ""
                        },
                        "colorscale": [
                          [
                            0,
                            "#0d0887"
                          ],
                          [
                            0.1111111111111111,
                            "#46039f"
                          ],
                          [
                            0.2222222222222222,
                            "#7201a8"
                          ],
                          [
                            0.3333333333333333,
                            "#9c179e"
                          ],
                          [
                            0.4444444444444444,
                            "#bd3786"
                          ],
                          [
                            0.5555555555555556,
                            "#d8576b"
                          ],
                          [
                            0.6666666666666666,
                            "#ed7953"
                          ],
                          [
                            0.7777777777777778,
                            "#fb9f3a"
                          ],
                          [
                            0.8888888888888888,
                            "#fdca26"
                          ],
                          [
                            1,
                            "#f0f921"
                          ]
                        ],
                        "type": "surface"
                      }
                    ],
                    "table": [
                      {
                        "cells": {
                          "fill": {
                            "color": "#EBF0F8"
                          },
                          "line": {
                            "color": "white"
                          }
                        },
                        "header": {
                          "fill": {
                            "color": "#C8D4E3"
                          },
                          "line": {
                            "color": "white"
                          }
                        },
                        "type": "table"
                      }
                    ]
                  },
                  "layout": {
                    "annotationdefaults": {
                      "arrowcolor": "#2a3f5f",
                      "arrowhead": 0,
                      "arrowwidth": 1
                    },
                    "autotypenumbers": "strict",
                    "coloraxis": {
                      "colorbar": {
                        "outlinewidth": 0,
                        "ticks": ""
                      }
                    },
                    "colorscale": {
                      "diverging": [
                        [
                          0,
                          "#8e0152"
                        ],
                        [
                          0.1,
                          "#c51b7d"
                        ],
                        [
                          0.2,
                          "#de77ae"
                        ],
                        [
                          0.3,
                          "#f1b6da"
                        ],
                        [
                          0.4,
                          "#fde0ef"
                        ],
                        [
                          0.5,
                          "#f7f7f7"
                        ],
                        [
                          0.6,
                          "#e6f5d0"
                        ],
                        [
                          0.7,
                          "#b8e186"
                        ],
                        [
                          0.8,
                          "#7fbc41"
                        ],
                        [
                          0.9,
                          "#4d9221"
                        ],
                        [
                          1,
                          "#276419"
                        ]
                      ],
                      "sequential": [
                        [
                          0,
                          "#0d0887"
                        ],
                        [
                          0.1111111111111111,
                          "#46039f"
                        ],
                        [
                          0.2222222222222222,
                          "#7201a8"
                        ],
                        [
                          0.3333333333333333,
                          "#9c179e"
                        ],
                        [
                          0.4444444444444444,
                          "#bd3786"
                        ],
                        [
                          0.5555555555555556,
                          "#d8576b"
                        ],
                        [
                          0.6666666666666666,
                          "#ed7953"
                        ],
                        [
                          0.7777777777777778,
                          "#fb9f3a"
                        ],
                        [
                          0.8888888888888888,
                          "#fdca26"
                        ],
                        [
                          1,
                          "#f0f921"
                        ]
                      ],
                      "sequentialminus": [
                        [
                          0,
                          "#0d0887"
                        ],
                        [
                          0.1111111111111111,
                          "#46039f"
                        ],
                        [
                          0.2222222222222222,
                          "#7201a8"
                        ],
                        [
                          0.3333333333333333,
                          "#9c179e"
                        ],
                        [
                          0.4444444444444444,
                          "#bd3786"
                        ],
                        [
                          0.5555555555555556,
                          "#d8576b"
                        ],
                        [
                          0.6666666666666666,
                          "#ed7953"
                        ],
                        [
                          0.7777777777777778,
                          "#fb9f3a"
                        ],
                        [
                          0.8888888888888888,
                          "#fdca26"
                        ],
                        [
                          1,
                          "#f0f921"
                        ]
                      ]
                    },
                    "colorway": [
                      "#636efa",
                      "#EF553B",
                      "#00cc96",
                      "#ab63fa",
                      "#FFA15A",
                      "#19d3f3",
                      "#FF6692",
                      "#B6E880",
                      "#FF97FF",
                      "#FECB52"
                    ],
                    "font": {
                      "color": "#2a3f5f"
                    },
                    "geo": {
                      "bgcolor": "white",
                      "lakecolor": "white",
                      "landcolor": "#E5ECF6",
                      "showlakes": true,
                      "showland": true,
                      "subunitcolor": "white"
                    },
                    "hoverlabel": {
                      "align": "left"
                    },
                    "hovermode": "closest",
                    "mapbox": {
                      "style": "light"
                    },
                    "paper_bgcolor": "white",
                    "plot_bgcolor": "#E5ECF6",
                    "polar": {
                      "angularaxis": {
                        "gridcolor": "white",
                        "linecolor": "white",
                        "ticks": ""
                      },
                      "bgcolor": "#E5ECF6",
                      "radialaxis": {
                        "gridcolor": "white",
                        "linecolor": "white",
                        "ticks": ""
                      }
                    },
                    "scene": {
                      "xaxis": {
                        "backgroundcolor": "#E5ECF6",
                        "gridcolor": "white",
                        "gridwidth": 2,
                        "linecolor": "white",
                        "showbackground": true,
                        "ticks": "",
                        "zerolinecolor": "white"
                      },
                      "yaxis": {
                        "backgroundcolor": "#E5ECF6",
                        "gridcolor": "white",
                        "gridwidth": 2,
                        "linecolor": "white",
                        "showbackground": true,
                        "ticks": "",
                        "zerolinecolor": "white"
                      },
                      "zaxis": {
                        "backgroundcolor": "#E5ECF6",
                        "gridcolor": "white",
                        "gridwidth": 2,
                        "linecolor": "white",
                        "showbackground": true,
                        "ticks": "",
                        "zerolinecolor": "white"
                      }
                    },
                    "shapedefaults": {
                      "line": {
                        "color": "#2a3f5f"
                      }
                    },
                    "ternary": {
                      "aaxis": {
                        "gridcolor": "white",
                        "linecolor": "white",
                        "ticks": ""
                      },
                      "baxis": {
                        "gridcolor": "white",
                        "linecolor": "white",
                        "ticks": ""
                      },
                      "bgcolor": "#E5ECF6",
                      "caxis": {
                        "gridcolor": "white",
                        "linecolor": "white",
                        "ticks": ""
                      }
                    },
                    "title": {
                      "x": 0.05
                    },
                    "xaxis": {
                      "automargin": true,
                      "gridcolor": "white",
                      "linecolor": "white",
                      "ticks": "",
                      "title": {
                        "standoff": 15
                      },
                      "zerolinecolor": "white",
                      "zerolinewidth": 2
                    },
                    "yaxis": {
                      "automargin": true,
                      "gridcolor": "white",
                      "linecolor": "white",
                      "ticks": "",
                      "title": {
                        "standoff": 15
                      },
                      "zerolinecolor": "white",
                      "zerolinewidth": 2
                    }
                  }
                },
                "title": {
                  "text": "Hyperparameter Importances"
                },
                "xaxis": {
                  "title": {
                    "text": "Hyperparameter Importance"
                  }
                },
                "yaxis": {
                  "title": {
                    "text": "Hyperparameter"
                  }
                }
              }
            }
          },
          "metadata": {},
          "output_type": "display_data"
        }
      ],
      "source": [
        "from optuna.visualization import plot_optimization_history, plot_param_importances\n",
        "\n",
        "plot_optimization_history(study_lgb).show()\n",
        "\n",
        "plot_param_importances(study_lgb).show()"
      ]
    },
    {
      "cell_type": "code",
      "execution_count": null,
      "id": "a65a766c",
      "metadata": {},
      "outputs": [],
      "source": []
    }
  ],
  "metadata": {
    "colab": {
      "provenance": []
    },
    "kernelspec": {
      "display_name": ".venv",
      "language": "python",
      "name": "python3"
    },
    "language_info": {
      "codemirror_mode": {
        "name": "ipython",
        "version": 3
      },
      "file_extension": ".py",
      "mimetype": "text/x-python",
      "name": "python",
      "nbconvert_exporter": "python",
      "pygments_lexer": "ipython3",
      "version": "3.12.4"
    }
  },
  "nbformat": 4,
  "nbformat_minor": 5
}
